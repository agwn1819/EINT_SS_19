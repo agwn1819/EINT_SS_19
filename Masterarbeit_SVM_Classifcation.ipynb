{
  "cells": [
    {
      "cell_type": "markdown",
      "metadata": {
        "id": "view-in-github",
        "colab_type": "text"
      },
      "source": [
        "<a href=\"https://colab.research.google.com/github/agwn1819/EINT_SS_19/blob/master/Masterarbeit_SVM_Classifcation.ipynb\" target=\"_parent\"><img src=\"https://colab.research.google.com/assets/colab-badge.svg\" alt=\"Open In Colab\"/></a>"
      ]
    },
    {
      "cell_type": "markdown",
      "metadata": {
        "id": "8OVzWdujtA-B"
      },
      "source": [
        "# Masterabeit : Konzeptionierung und Implementierung einer passiven Authentifizierung zum Lernen und Auswerten von passiv-erhobenen Smartphone-Sensoren, unter Berücksichtigung der DSGVO\n",
        "## Vergleiche von unterschiedlieche Algrithmen:\n",
        "## Überwachenes Lernen\n",
        "## Unübewachenes Lernen\n",
        "## Deep Learning oder Vertiefen Lernen\n",
        "\n",
        "## Auto: Armel Wonga, 30.10.2022\n"
      ]
    },
    {
      "cell_type": "markdown",
      "source": [
        "# Aufbereiten der Sensordaten"
      ],
      "metadata": {
        "id": "tUphymv1Dll9"
      }
    },
    {
      "cell_type": "markdown",
      "source": [
        "## Importieren von Bib"
      ],
      "metadata": {
        "id": "7iXhLTyGDyVO"
      }
    },
    {
      "cell_type": "code",
      "execution_count": 749,
      "metadata": {
        "id": "ff2n4EsUsB15"
      },
      "outputs": [],
      "source": [
        "#### import Library\n",
        "import numpy as np\n",
        "import pandas as pd\n",
        "import glob, os\n",
        "import itertools\n",
        "from itertools import *\n",
        "import time\n",
        "import datetime\n",
        "\n",
        "# library for Feature-Engineering\n",
        "from scipy.signal import find_peaks\n",
        "from scipy import stats\n",
        "import warnings\n",
        "warnings.filterwarnings('ignore')\n",
        "\n",
        "# Plotting a Pairplot with sns\n",
        "import seaborn as sns\n",
        "import matplotlib.pyplot as plt \n",
        "%matplotlib inline\n",
        "from datetime import datetime\n",
        "\n",
        "# import SVC classifier\n",
        "from sklearn.svm import SVC\n",
        "## Import data Processing module\n",
        "from sklearn import preprocessing\n",
        "from sklearn.preprocessing import OneHotEncoder\n",
        "from sklearn.model_selection import train_test_split\n",
        "\n",
        "# import metrics to compute accuracy (Evaluate)\n",
        "from sklearn.metrics import accuracy_score, confusion_matrix,classification_report\n",
        "from sklearn.model_selection import cross_val_score, GridSearchCV\n",
        "# from sklearn.inspection import \n",
        "# DecisionBoundaryDisplay"
      ]
    },
    {
      "cell_type": "markdown",
      "metadata": {
        "id": "HZBcf70qtKF0"
      },
      "source": [
        "##  Importieren von Datensätzen"
      ]
    },
    {
      "cell_type": "code",
      "execution_count": 750,
      "metadata": {
        "id": "5MqEFf4otL0O"
      },
      "outputs": [],
      "source": [
        "path_dir_riskuser_1 = \"/content/drive/MyDrive/Masterarbeit_2021-2022/datasets/Test_Person_1_20B_Rechte_Hand_Raw_data_riskUser/\" # Rechte Hand\n",
        "path_dir_riskuser_2 = \"/content/drive/MyDrive/Masterarbeit_2021-2022/datasets/Test_P1_Stehen_RechterHand/\" # Rechte Hand\n",
        "path_dir_riskuser_3 = \"/content/drive/MyDrive/Masterarbeit_2021-2022/datasets/Test_P1_Stehen_LinkerHand/\"  # Linke Hand\n",
        "path_dir_normalUser_RH = \"/content/drive/MyDrive/Masterarbeit_2021-2022/datasets/Test_Person_2_20B_Linke_Hand_Raw_data_NormalUser/\" # Rechte Hand\n",
        "path_dir_normalUser_LH = \"/content/drive/MyDrive/Masterarbeit_2021-2022/datasets/Test_Person_2_20B_Rechte_Hand_Raw_data_NormalUser/\"  # Linke Hand"
      ]
    },
    {
      "cell_type": "markdown",
      "metadata": {
        "id": "EYq1fLMZtc8l"
      },
      "source": [
        "## Erzeugen den Datensätze für den legitmeren User\n",
        "#### sensordaten von linker Hand und Rechter Hand Bewegungen."
      ]
    },
    {
      "cell_type": "code",
      "source": [
        "def concatenateSensorsData_nU(dataPath, classes):\n",
        "    #global df_GyroSensors\n",
        "    sensors_files = glob.glob(dataPath + \"*.csv\")\n",
        "    for filename in os.listdir(dataPath):\n",
        "        sensor_file = os.sep.join([dataPath, filename])\n",
        "        basename = os.path.basename(sensor_file)\n",
        "        if  basename == \"SensorDataAccel.csv\":\n",
        "            headers = ['Accelerometer_X', 'Accelerometer_Y', 'Accelerometer_Z', 'Timestamps']\n",
        "            # read_csv as pandas data frame\n",
        "            df_AccelSensors = pd.read_csv(sensor_file, names=headers)\n",
        "            #  add the features classes of the sensors_files\n",
        "            df_AccelSensors['classes'] = pd.Series([classes for x in range(len(df_AccelSensors.index))])\n",
        "            # print(df_AccelSensors.head(10))\n",
        "\n",
        "        if  basename == \"SensorDataGrav.csv\":\n",
        "            #print(sensor_file)\n",
        "            headers = ['Gravity_X', 'Gravity_Y', 'Gravity_Z', 'Timestamps']\n",
        "            # read_csv as pandas data frame\n",
        "            df_GravSensors = pd.read_csv( sensor_file, names=headers)\n",
        "            #  add the features classes of the sensors_files\n",
        "            df_GravSensors['classes'] = pd.Series([classes for x in range(len(df_GravSensors.index))])\n",
        "            #print(df_GravSensors.head(10))\n",
        "\n",
        "        if  basename == \"SensorDataGyros.csv\":\n",
        "            #print(sensor_file)\n",
        "            headers = ['Gyroscope_X', 'Gyroscope_Y', 'Gyroscope_Z', 'Timestamps']\n",
        "            # read_csv as pandas data frame\n",
        "            df_GyroSensors = pd.read_csv( sensor_file, names=headers)\n",
        "            #  add the features classes of the sensors_files\n",
        "            df_GyroSensors['classes'] = pd.Series([classes for x in range(len(df_GyroSensors.index))])\n",
        "            #print(df_GyroSensors)\n",
        "    df = pd.concat([df_GyroSensors, df_GravSensors, df_AccelSensors], axis=1)\n",
        "    # # Drop duplicate columns\n",
        "    # # Use groupby() to drop duplicate columns\n",
        "    df = df.T.groupby(level=0).first().T\n",
        "    # print(df)\n",
        "    # print(\"len of Data: {}\".format(df.shape))\n",
        "    return  df\n",
        "    #df.to_csv('df_highRiskUsers.csv')\n",
        "    #df.to_csv('df_mediumRiskUsers.csv')\n",
        "    #df.to_csv('df_normalUsers.csv')\n",
        "\n",
        "# Label an datensatz setzen\n",
        "classes = 'legitimeruser'\n",
        "df_LH = concatenateSensorsData_nU(path_dir_normalUser_RH,classes)\n",
        "df_RH = concatenateSensorsData_nU(path_dir_normalUser_LH, classes)\n",
        "\n",
        "# Verkettung der Datensätze\n",
        "df_sensordata_LU = pd.concat([df_LH, df_RH])\n",
        "df_sensordata_LU"
      ],
      "metadata": {
        "colab": {
          "base_uri": "https://localhost:8080/",
          "height": 0
        },
        "id": "ADHghEB24K64",
        "outputId": "8788cbb7-fbff-44e2-c8c9-45bfba7c49e1"
      },
      "execution_count": 751,
      "outputs": [
        {
          "output_type": "execute_result",
          "data": {
            "text/plain": [
              "    Accelerometer_X Accelerometer_Y Accelerometer_Z Gravity_X Gravity_Y  \\\n",
              "0              0.03           -0.01             0.0       0.0      0.04   \n",
              "1              0.02           -0.01             0.0      0.01      0.03   \n",
              "2              -0.0             0.0             0.0      0.01      0.03   \n",
              "3              -0.0             0.0             0.0      0.01      0.03   \n",
              "4               0.0            -0.0             0.0      0.01      0.04   \n",
              "..              ...             ...             ...       ...       ...   \n",
              "170           -0.51            1.11            0.51      0.51      3.36   \n",
              "171           -0.68           -0.09            1.84      0.59      3.36   \n",
              "172           -1.03           -1.38            1.88      1.34      4.17   \n",
              "173           -0.84            -1.5             0.4      1.43      4.71   \n",
              "174            0.66           -0.08           -0.05      1.53      4.67   \n",
              "\n",
              "    Gravity_Z Gyroscope_X Gyroscope_Y Gyroscope_Z                Timestamps  \\\n",
              "0        9.81        0.87        1.71        -0.0  13772928377d 10h 19m 26s   \n",
              "1        9.81        0.08        0.14        0.12   13772930652d 22h 8m 38s   \n",
              "2        9.81       -0.07        -0.1        0.05   13772932928d 9h 30m 56s   \n",
              "3        9.81       -0.03       -0.02        0.04  13772935203d 21h 19m 16s   \n",
              "4        9.81        0.06        0.11        0.03   13772937479d 8h 39m 49s   \n",
              "..        ...         ...         ...         ...                       ...   \n",
              "170       9.2      -12.99       -4.22        6.66           803663391998854   \n",
              "171      9.19        6.52        0.52       11.58           803663588532031   \n",
              "172      8.78       28.91      -11.84       34.16           803663785066926   \n",
              "173      8.48       21.57       -2.69        2.46           803663981600156   \n",
              "174      8.49       -2.19        1.73        5.55           803664178135104   \n",
              "\n",
              "           classes  \n",
              "0    legitimeruser  \n",
              "1    legitimeruser  \n",
              "2    legitimeruser  \n",
              "3    legitimeruser  \n",
              "4    legitimeruser  \n",
              "..             ...  \n",
              "170  legitimeruser  \n",
              "171  legitimeruser  \n",
              "172  legitimeruser  \n",
              "173  legitimeruser  \n",
              "174  legitimeruser  \n",
              "\n",
              "[617 rows x 11 columns]"
            ],
            "text/html": [
              "\n",
              "  <div id=\"df-eeb4a987-6935-4cbf-a7b9-4b8b357f9d10\">\n",
              "    <div class=\"colab-df-container\">\n",
              "      <div>\n",
              "<style scoped>\n",
              "    .dataframe tbody tr th:only-of-type {\n",
              "        vertical-align: middle;\n",
              "    }\n",
              "\n",
              "    .dataframe tbody tr th {\n",
              "        vertical-align: top;\n",
              "    }\n",
              "\n",
              "    .dataframe thead th {\n",
              "        text-align: right;\n",
              "    }\n",
              "</style>\n",
              "<table border=\"1\" class=\"dataframe\">\n",
              "  <thead>\n",
              "    <tr style=\"text-align: right;\">\n",
              "      <th></th>\n",
              "      <th>Accelerometer_X</th>\n",
              "      <th>Accelerometer_Y</th>\n",
              "      <th>Accelerometer_Z</th>\n",
              "      <th>Gravity_X</th>\n",
              "      <th>Gravity_Y</th>\n",
              "      <th>Gravity_Z</th>\n",
              "      <th>Gyroscope_X</th>\n",
              "      <th>Gyroscope_Y</th>\n",
              "      <th>Gyroscope_Z</th>\n",
              "      <th>Timestamps</th>\n",
              "      <th>classes</th>\n",
              "    </tr>\n",
              "  </thead>\n",
              "  <tbody>\n",
              "    <tr>\n",
              "      <th>0</th>\n",
              "      <td>0.03</td>\n",
              "      <td>-0.01</td>\n",
              "      <td>0.0</td>\n",
              "      <td>0.0</td>\n",
              "      <td>0.04</td>\n",
              "      <td>9.81</td>\n",
              "      <td>0.87</td>\n",
              "      <td>1.71</td>\n",
              "      <td>-0.0</td>\n",
              "      <td>13772928377d 10h 19m 26s</td>\n",
              "      <td>legitimeruser</td>\n",
              "    </tr>\n",
              "    <tr>\n",
              "      <th>1</th>\n",
              "      <td>0.02</td>\n",
              "      <td>-0.01</td>\n",
              "      <td>0.0</td>\n",
              "      <td>0.01</td>\n",
              "      <td>0.03</td>\n",
              "      <td>9.81</td>\n",
              "      <td>0.08</td>\n",
              "      <td>0.14</td>\n",
              "      <td>0.12</td>\n",
              "      <td>13772930652d 22h 8m 38s</td>\n",
              "      <td>legitimeruser</td>\n",
              "    </tr>\n",
              "    <tr>\n",
              "      <th>2</th>\n",
              "      <td>-0.0</td>\n",
              "      <td>0.0</td>\n",
              "      <td>0.0</td>\n",
              "      <td>0.01</td>\n",
              "      <td>0.03</td>\n",
              "      <td>9.81</td>\n",
              "      <td>-0.07</td>\n",
              "      <td>-0.1</td>\n",
              "      <td>0.05</td>\n",
              "      <td>13772932928d 9h 30m 56s</td>\n",
              "      <td>legitimeruser</td>\n",
              "    </tr>\n",
              "    <tr>\n",
              "      <th>3</th>\n",
              "      <td>-0.0</td>\n",
              "      <td>0.0</td>\n",
              "      <td>0.0</td>\n",
              "      <td>0.01</td>\n",
              "      <td>0.03</td>\n",
              "      <td>9.81</td>\n",
              "      <td>-0.03</td>\n",
              "      <td>-0.02</td>\n",
              "      <td>0.04</td>\n",
              "      <td>13772935203d 21h 19m 16s</td>\n",
              "      <td>legitimeruser</td>\n",
              "    </tr>\n",
              "    <tr>\n",
              "      <th>4</th>\n",
              "      <td>0.0</td>\n",
              "      <td>-0.0</td>\n",
              "      <td>0.0</td>\n",
              "      <td>0.01</td>\n",
              "      <td>0.04</td>\n",
              "      <td>9.81</td>\n",
              "      <td>0.06</td>\n",
              "      <td>0.11</td>\n",
              "      <td>0.03</td>\n",
              "      <td>13772937479d 8h 39m 49s</td>\n",
              "      <td>legitimeruser</td>\n",
              "    </tr>\n",
              "    <tr>\n",
              "      <th>...</th>\n",
              "      <td>...</td>\n",
              "      <td>...</td>\n",
              "      <td>...</td>\n",
              "      <td>...</td>\n",
              "      <td>...</td>\n",
              "      <td>...</td>\n",
              "      <td>...</td>\n",
              "      <td>...</td>\n",
              "      <td>...</td>\n",
              "      <td>...</td>\n",
              "      <td>...</td>\n",
              "    </tr>\n",
              "    <tr>\n",
              "      <th>170</th>\n",
              "      <td>-0.51</td>\n",
              "      <td>1.11</td>\n",
              "      <td>0.51</td>\n",
              "      <td>0.51</td>\n",
              "      <td>3.36</td>\n",
              "      <td>9.2</td>\n",
              "      <td>-12.99</td>\n",
              "      <td>-4.22</td>\n",
              "      <td>6.66</td>\n",
              "      <td>803663391998854</td>\n",
              "      <td>legitimeruser</td>\n",
              "    </tr>\n",
              "    <tr>\n",
              "      <th>171</th>\n",
              "      <td>-0.68</td>\n",
              "      <td>-0.09</td>\n",
              "      <td>1.84</td>\n",
              "      <td>0.59</td>\n",
              "      <td>3.36</td>\n",
              "      <td>9.19</td>\n",
              "      <td>6.52</td>\n",
              "      <td>0.52</td>\n",
              "      <td>11.58</td>\n",
              "      <td>803663588532031</td>\n",
              "      <td>legitimeruser</td>\n",
              "    </tr>\n",
              "    <tr>\n",
              "      <th>172</th>\n",
              "      <td>-1.03</td>\n",
              "      <td>-1.38</td>\n",
              "      <td>1.88</td>\n",
              "      <td>1.34</td>\n",
              "      <td>4.17</td>\n",
              "      <td>8.78</td>\n",
              "      <td>28.91</td>\n",
              "      <td>-11.84</td>\n",
              "      <td>34.16</td>\n",
              "      <td>803663785066926</td>\n",
              "      <td>legitimeruser</td>\n",
              "    </tr>\n",
              "    <tr>\n",
              "      <th>173</th>\n",
              "      <td>-0.84</td>\n",
              "      <td>-1.5</td>\n",
              "      <td>0.4</td>\n",
              "      <td>1.43</td>\n",
              "      <td>4.71</td>\n",
              "      <td>8.48</td>\n",
              "      <td>21.57</td>\n",
              "      <td>-2.69</td>\n",
              "      <td>2.46</td>\n",
              "      <td>803663981600156</td>\n",
              "      <td>legitimeruser</td>\n",
              "    </tr>\n",
              "    <tr>\n",
              "      <th>174</th>\n",
              "      <td>0.66</td>\n",
              "      <td>-0.08</td>\n",
              "      <td>-0.05</td>\n",
              "      <td>1.53</td>\n",
              "      <td>4.67</td>\n",
              "      <td>8.49</td>\n",
              "      <td>-2.19</td>\n",
              "      <td>1.73</td>\n",
              "      <td>5.55</td>\n",
              "      <td>803664178135104</td>\n",
              "      <td>legitimeruser</td>\n",
              "    </tr>\n",
              "  </tbody>\n",
              "</table>\n",
              "<p>617 rows × 11 columns</p>\n",
              "</div>\n",
              "      <button class=\"colab-df-convert\" onclick=\"convertToInteractive('df-eeb4a987-6935-4cbf-a7b9-4b8b357f9d10')\"\n",
              "              title=\"Convert this dataframe to an interactive table.\"\n",
              "              style=\"display:none;\">\n",
              "        \n",
              "  <svg xmlns=\"http://www.w3.org/2000/svg\" height=\"24px\"viewBox=\"0 0 24 24\"\n",
              "       width=\"24px\">\n",
              "    <path d=\"M0 0h24v24H0V0z\" fill=\"none\"/>\n",
              "    <path d=\"M18.56 5.44l.94 2.06.94-2.06 2.06-.94-2.06-.94-.94-2.06-.94 2.06-2.06.94zm-11 1L8.5 8.5l.94-2.06 2.06-.94-2.06-.94L8.5 2.5l-.94 2.06-2.06.94zm10 10l.94 2.06.94-2.06 2.06-.94-2.06-.94-.94-2.06-.94 2.06-2.06.94z\"/><path d=\"M17.41 7.96l-1.37-1.37c-.4-.4-.92-.59-1.43-.59-.52 0-1.04.2-1.43.59L10.3 9.45l-7.72 7.72c-.78.78-.78 2.05 0 2.83L4 21.41c.39.39.9.59 1.41.59.51 0 1.02-.2 1.41-.59l7.78-7.78 2.81-2.81c.8-.78.8-2.07 0-2.86zM5.41 20L4 18.59l7.72-7.72 1.47 1.35L5.41 20z\"/>\n",
              "  </svg>\n",
              "      </button>\n",
              "      \n",
              "  <style>\n",
              "    .colab-df-container {\n",
              "      display:flex;\n",
              "      flex-wrap:wrap;\n",
              "      gap: 12px;\n",
              "    }\n",
              "\n",
              "    .colab-df-convert {\n",
              "      background-color: #E8F0FE;\n",
              "      border: none;\n",
              "      border-radius: 50%;\n",
              "      cursor: pointer;\n",
              "      display: none;\n",
              "      fill: #1967D2;\n",
              "      height: 32px;\n",
              "      padding: 0 0 0 0;\n",
              "      width: 32px;\n",
              "    }\n",
              "\n",
              "    .colab-df-convert:hover {\n",
              "      background-color: #E2EBFA;\n",
              "      box-shadow: 0px 1px 2px rgba(60, 64, 67, 0.3), 0px 1px 3px 1px rgba(60, 64, 67, 0.15);\n",
              "      fill: #174EA6;\n",
              "    }\n",
              "\n",
              "    [theme=dark] .colab-df-convert {\n",
              "      background-color: #3B4455;\n",
              "      fill: #D2E3FC;\n",
              "    }\n",
              "\n",
              "    [theme=dark] .colab-df-convert:hover {\n",
              "      background-color: #434B5C;\n",
              "      box-shadow: 0px 1px 3px 1px rgba(0, 0, 0, 0.15);\n",
              "      filter: drop-shadow(0px 1px 2px rgba(0, 0, 0, 0.3));\n",
              "      fill: #FFFFFF;\n",
              "    }\n",
              "  </style>\n",
              "\n",
              "      <script>\n",
              "        const buttonEl =\n",
              "          document.querySelector('#df-eeb4a987-6935-4cbf-a7b9-4b8b357f9d10 button.colab-df-convert');\n",
              "        buttonEl.style.display =\n",
              "          google.colab.kernel.accessAllowed ? 'block' : 'none';\n",
              "\n",
              "        async function convertToInteractive(key) {\n",
              "          const element = document.querySelector('#df-eeb4a987-6935-4cbf-a7b9-4b8b357f9d10');\n",
              "          const dataTable =\n",
              "            await google.colab.kernel.invokeFunction('convertToInteractive',\n",
              "                                                     [key], {});\n",
              "          if (!dataTable) return;\n",
              "\n",
              "          const docLinkHtml = 'Like what you see? Visit the ' +\n",
              "            '<a target=\"_blank\" href=https://colab.research.google.com/notebooks/data_table.ipynb>data table notebook</a>'\n",
              "            + ' to learn more about interactive tables.';\n",
              "          element.innerHTML = '';\n",
              "          dataTable['output_type'] = 'display_data';\n",
              "          await google.colab.output.renderOutput(dataTable, element);\n",
              "          const docLink = document.createElement('div');\n",
              "          docLink.innerHTML = docLinkHtml;\n",
              "          element.appendChild(docLink);\n",
              "        }\n",
              "      </script>\n",
              "    </div>\n",
              "  </div>\n",
              "  "
            ]
          },
          "metadata": {},
          "execution_count": 751
        }
      ]
    },
    {
      "cell_type": "markdown",
      "metadata": {
        "id": "MGN75VhdvZuM"
      },
      "source": [
        "## Erzeugen den Datensätze für den illegitmeren User"
      ]
    },
    {
      "cell_type": "code",
      "execution_count": 752,
      "metadata": {
        "id": "1PpYvWfAvL_R"
      },
      "outputs": [],
      "source": [
        "def concatenateSensorsData_nU(dataPath, classes):\n",
        "    #global df_GyroSensors\n",
        "    sensors_files = glob.glob(dataPath + \"*.csv\")\n",
        "    for filename in os.listdir(dataPath):\n",
        "        sensor_file = os.sep.join([dataPath, filename])\n",
        "        basename = os.path.basename(sensor_file)\n",
        "        if  basename == \"SensorDataAccel.csv\":\n",
        "            headers = ['Accelerometer_X', 'Accelerometer_Y', 'Accelerometer_Z', 'Timestamps']\n",
        "            # read_csv as pandas data frame\n",
        "            df_AccelSensors = pd.read_csv(sensor_file, names=headers)\n",
        "            #  add the features classes of the sensors_files\n",
        "            df_AccelSensors['classes'] = pd.Series([classes for x in range(len(df_AccelSensors.index))])\n",
        "            # print(df_AccelSensors.head(10))\n",
        "\n",
        "        if  basename == \"SensorDataGrav.csv\":\n",
        "            #print(sensor_file)\n",
        "            headers = ['Gravity_X', 'Gravity_Y', 'Gravity_Z', 'Timestamps']\n",
        "            # read_csv as pandas data frame\n",
        "            df_GravSensors = pd.read_csv( sensor_file, names=headers)\n",
        "            #  add the features classes of the sensors_files\n",
        "            df_GravSensors['classes'] = pd.Series([classes for x in range(len(df_GravSensors.index))])\n",
        "            #print(df_GravSensors.head(10))\n",
        "\n",
        "        if  basename == \"SensorDataGyros.csv\":\n",
        "            #print(sensor_file)\n",
        "            headers = ['Gyroscope_X', 'Gyroscope_Y', 'Gyroscope_Z', 'Timestamps']\n",
        "            # read_csv as pandas data frame\n",
        "            df_GyroSensors = pd.read_csv( sensor_file, names=headers)\n",
        "            #  add the features classes of the sensors_files\n",
        "            df_GyroSensors['classes'] = pd.Series([classes for x in range(len(df_GyroSensors.index))])\n",
        "            #print(df_GyroSensors)\n",
        "    df = pd.concat([df_GyroSensors, df_GravSensors, df_AccelSensors], axis=1)\n",
        "    # # Drop duplicate columns\n",
        "    # # Use groupby() to drop duplicate columns\n",
        "    df = df.T.groupby(level=0).first().T\n",
        "    # print(df)\n",
        "    # print(\"len of Data: {}\".format(df.shape))\n",
        "    return  df\n",
        "    #df.to_csv('df_highRiskUsers.csv')\n",
        "    #df.to_csv('df_mediumRiskUsers.csv')\n",
        "    #df.to_csv('df_normalUsers.csv')\n",
        "\n",
        "# Label an datensatz setzen\n",
        "classes = 'illegitimeruser'\n",
        "df_sensordata_IU_1 = concatenateSensorsData_nU(path_dir_riskuser_1,classes)\n",
        "df_sensordata_IU_2 = concatenateSensorsData_nU(path_dir_riskuser_2,classes)\n",
        "df_sensordata_IU_3 = concatenateSensorsData_nU(path_dir_riskuser_3,classes)\n",
        "\n",
        "# Verkettung der Datensätze illgetimerUser\n",
        "df_sensordata_IU = df_sensordata = pd.concat([df_sensordata_IU_1, df_sensordata_IU_2, df_sensordata_IU_3 ])\n"
      ]
    },
    {
      "cell_type": "markdown",
      "source": [
        "##Zusammenführen der SensorDaten beide User\n",
        "Der Trainingsdatensatz hat also 11 Spalten / Merkmale (einschließlich des Ziels / der Klasse) und 2376 Zeilen oder Datenpunkte.\n",
        "\n",
        "Auch das Ziel ist Legitimität. Wie in der Datenbeschreibung erwähnt, hat es 2 eindeutige Werte. Lassen Sie uns auch diese im nächsten Schritt überprüfen."
      ],
      "metadata": {
        "id": "2r-PfeS5LZpj"
      }
    },
    {
      "cell_type": "code",
      "source": [
        "df_sensordata = pd.concat([df_sensordata_LU ,df_sensordata_IU])\n",
        "df_sensordata"
      ],
      "metadata": {
        "colab": {
          "base_uri": "https://localhost:8080/",
          "height": 0
        },
        "id": "rPHBU79zUcWX",
        "outputId": "4dda1cfa-ef3f-4e4d-8b41-1554dcfacffb"
      },
      "execution_count": 753,
      "outputs": [
        {
          "output_type": "execute_result",
          "data": {
            "text/plain": [
              "    Accelerometer_X Accelerometer_Y Accelerometer_Z Gravity_X Gravity_Y  \\\n",
              "0              0.03           -0.01             0.0       0.0      0.04   \n",
              "1              0.02           -0.01             0.0      0.01      0.03   \n",
              "2              -0.0             0.0             0.0      0.01      0.03   \n",
              "3              -0.0             0.0             0.0      0.01      0.03   \n",
              "4               0.0            -0.0             0.0      0.01      0.04   \n",
              "..              ...             ...             ...       ...       ...   \n",
              "507             0.0             0.0             0.0      9.81      9.81   \n",
              "508             0.0             0.0             0.0      9.81      9.81   \n",
              "509             0.0             0.0             0.0      9.81      9.81   \n",
              "510             0.0             0.0             0.0      9.81      9.81   \n",
              "511             0.0             0.0             0.0      9.81      9.81   \n",
              "\n",
              "    Gravity_Z Gyroscope_X Gyroscope_Y Gyroscope_Z                Timestamps  \\\n",
              "0        9.81        0.87        1.71        -0.0  13772928377d 10h 19m 26s   \n",
              "1        9.81        0.08        0.14        0.12   13772930652d 22h 8m 38s   \n",
              "2        9.81       -0.07        -0.1        0.05   13772932928d 9h 30m 56s   \n",
              "3        9.81       -0.03       -0.02        0.04  13772935203d 21h 19m 16s   \n",
              "4        9.81        0.06        0.11        0.03   13772937479d 8h 39m 49s   \n",
              "..        ...         ...         ...         ...                       ...   \n",
              "507       0.0        0.01        0.01         0.0           978571535738354   \n",
              "508       0.0        0.02        0.02        0.01           978571732320333   \n",
              "509       0.0        0.02        0.02         0.0           978571928904031   \n",
              "510       0.0        0.02        0.02         0.0           978572125486062   \n",
              "511       0.0        0.01        0.01        0.01           978572322069864   \n",
              "\n",
              "             classes  \n",
              "0      legitimeruser  \n",
              "1      legitimeruser  \n",
              "2      legitimeruser  \n",
              "3      legitimeruser  \n",
              "4      legitimeruser  \n",
              "..               ...  \n",
              "507  illegitimeruser  \n",
              "508  illegitimeruser  \n",
              "509  illegitimeruser  \n",
              "510  illegitimeruser  \n",
              "511  illegitimeruser  \n",
              "\n",
              "[1710 rows x 11 columns]"
            ],
            "text/html": [
              "\n",
              "  <div id=\"df-30768088-6e14-49a9-9061-3400cd629c4e\">\n",
              "    <div class=\"colab-df-container\">\n",
              "      <div>\n",
              "<style scoped>\n",
              "    .dataframe tbody tr th:only-of-type {\n",
              "        vertical-align: middle;\n",
              "    }\n",
              "\n",
              "    .dataframe tbody tr th {\n",
              "        vertical-align: top;\n",
              "    }\n",
              "\n",
              "    .dataframe thead th {\n",
              "        text-align: right;\n",
              "    }\n",
              "</style>\n",
              "<table border=\"1\" class=\"dataframe\">\n",
              "  <thead>\n",
              "    <tr style=\"text-align: right;\">\n",
              "      <th></th>\n",
              "      <th>Accelerometer_X</th>\n",
              "      <th>Accelerometer_Y</th>\n",
              "      <th>Accelerometer_Z</th>\n",
              "      <th>Gravity_X</th>\n",
              "      <th>Gravity_Y</th>\n",
              "      <th>Gravity_Z</th>\n",
              "      <th>Gyroscope_X</th>\n",
              "      <th>Gyroscope_Y</th>\n",
              "      <th>Gyroscope_Z</th>\n",
              "      <th>Timestamps</th>\n",
              "      <th>classes</th>\n",
              "    </tr>\n",
              "  </thead>\n",
              "  <tbody>\n",
              "    <tr>\n",
              "      <th>0</th>\n",
              "      <td>0.03</td>\n",
              "      <td>-0.01</td>\n",
              "      <td>0.0</td>\n",
              "      <td>0.0</td>\n",
              "      <td>0.04</td>\n",
              "      <td>9.81</td>\n",
              "      <td>0.87</td>\n",
              "      <td>1.71</td>\n",
              "      <td>-0.0</td>\n",
              "      <td>13772928377d 10h 19m 26s</td>\n",
              "      <td>legitimeruser</td>\n",
              "    </tr>\n",
              "    <tr>\n",
              "      <th>1</th>\n",
              "      <td>0.02</td>\n",
              "      <td>-0.01</td>\n",
              "      <td>0.0</td>\n",
              "      <td>0.01</td>\n",
              "      <td>0.03</td>\n",
              "      <td>9.81</td>\n",
              "      <td>0.08</td>\n",
              "      <td>0.14</td>\n",
              "      <td>0.12</td>\n",
              "      <td>13772930652d 22h 8m 38s</td>\n",
              "      <td>legitimeruser</td>\n",
              "    </tr>\n",
              "    <tr>\n",
              "      <th>2</th>\n",
              "      <td>-0.0</td>\n",
              "      <td>0.0</td>\n",
              "      <td>0.0</td>\n",
              "      <td>0.01</td>\n",
              "      <td>0.03</td>\n",
              "      <td>9.81</td>\n",
              "      <td>-0.07</td>\n",
              "      <td>-0.1</td>\n",
              "      <td>0.05</td>\n",
              "      <td>13772932928d 9h 30m 56s</td>\n",
              "      <td>legitimeruser</td>\n",
              "    </tr>\n",
              "    <tr>\n",
              "      <th>3</th>\n",
              "      <td>-0.0</td>\n",
              "      <td>0.0</td>\n",
              "      <td>0.0</td>\n",
              "      <td>0.01</td>\n",
              "      <td>0.03</td>\n",
              "      <td>9.81</td>\n",
              "      <td>-0.03</td>\n",
              "      <td>-0.02</td>\n",
              "      <td>0.04</td>\n",
              "      <td>13772935203d 21h 19m 16s</td>\n",
              "      <td>legitimeruser</td>\n",
              "    </tr>\n",
              "    <tr>\n",
              "      <th>4</th>\n",
              "      <td>0.0</td>\n",
              "      <td>-0.0</td>\n",
              "      <td>0.0</td>\n",
              "      <td>0.01</td>\n",
              "      <td>0.04</td>\n",
              "      <td>9.81</td>\n",
              "      <td>0.06</td>\n",
              "      <td>0.11</td>\n",
              "      <td>0.03</td>\n",
              "      <td>13772937479d 8h 39m 49s</td>\n",
              "      <td>legitimeruser</td>\n",
              "    </tr>\n",
              "    <tr>\n",
              "      <th>...</th>\n",
              "      <td>...</td>\n",
              "      <td>...</td>\n",
              "      <td>...</td>\n",
              "      <td>...</td>\n",
              "      <td>...</td>\n",
              "      <td>...</td>\n",
              "      <td>...</td>\n",
              "      <td>...</td>\n",
              "      <td>...</td>\n",
              "      <td>...</td>\n",
              "      <td>...</td>\n",
              "    </tr>\n",
              "    <tr>\n",
              "      <th>507</th>\n",
              "      <td>0.0</td>\n",
              "      <td>0.0</td>\n",
              "      <td>0.0</td>\n",
              "      <td>9.81</td>\n",
              "      <td>9.81</td>\n",
              "      <td>0.0</td>\n",
              "      <td>0.01</td>\n",
              "      <td>0.01</td>\n",
              "      <td>0.0</td>\n",
              "      <td>978571535738354</td>\n",
              "      <td>illegitimeruser</td>\n",
              "    </tr>\n",
              "    <tr>\n",
              "      <th>508</th>\n",
              "      <td>0.0</td>\n",
              "      <td>0.0</td>\n",
              "      <td>0.0</td>\n",
              "      <td>9.81</td>\n",
              "      <td>9.81</td>\n",
              "      <td>0.0</td>\n",
              "      <td>0.02</td>\n",
              "      <td>0.02</td>\n",
              "      <td>0.01</td>\n",
              "      <td>978571732320333</td>\n",
              "      <td>illegitimeruser</td>\n",
              "    </tr>\n",
              "    <tr>\n",
              "      <th>509</th>\n",
              "      <td>0.0</td>\n",
              "      <td>0.0</td>\n",
              "      <td>0.0</td>\n",
              "      <td>9.81</td>\n",
              "      <td>9.81</td>\n",
              "      <td>0.0</td>\n",
              "      <td>0.02</td>\n",
              "      <td>0.02</td>\n",
              "      <td>0.0</td>\n",
              "      <td>978571928904031</td>\n",
              "      <td>illegitimeruser</td>\n",
              "    </tr>\n",
              "    <tr>\n",
              "      <th>510</th>\n",
              "      <td>0.0</td>\n",
              "      <td>0.0</td>\n",
              "      <td>0.0</td>\n",
              "      <td>9.81</td>\n",
              "      <td>9.81</td>\n",
              "      <td>0.0</td>\n",
              "      <td>0.02</td>\n",
              "      <td>0.02</td>\n",
              "      <td>0.0</td>\n",
              "      <td>978572125486062</td>\n",
              "      <td>illegitimeruser</td>\n",
              "    </tr>\n",
              "    <tr>\n",
              "      <th>511</th>\n",
              "      <td>0.0</td>\n",
              "      <td>0.0</td>\n",
              "      <td>0.0</td>\n",
              "      <td>9.81</td>\n",
              "      <td>9.81</td>\n",
              "      <td>0.0</td>\n",
              "      <td>0.01</td>\n",
              "      <td>0.01</td>\n",
              "      <td>0.01</td>\n",
              "      <td>978572322069864</td>\n",
              "      <td>illegitimeruser</td>\n",
              "    </tr>\n",
              "  </tbody>\n",
              "</table>\n",
              "<p>1710 rows × 11 columns</p>\n",
              "</div>\n",
              "      <button class=\"colab-df-convert\" onclick=\"convertToInteractive('df-30768088-6e14-49a9-9061-3400cd629c4e')\"\n",
              "              title=\"Convert this dataframe to an interactive table.\"\n",
              "              style=\"display:none;\">\n",
              "        \n",
              "  <svg xmlns=\"http://www.w3.org/2000/svg\" height=\"24px\"viewBox=\"0 0 24 24\"\n",
              "       width=\"24px\">\n",
              "    <path d=\"M0 0h24v24H0V0z\" fill=\"none\"/>\n",
              "    <path d=\"M18.56 5.44l.94 2.06.94-2.06 2.06-.94-2.06-.94-.94-2.06-.94 2.06-2.06.94zm-11 1L8.5 8.5l.94-2.06 2.06-.94-2.06-.94L8.5 2.5l-.94 2.06-2.06.94zm10 10l.94 2.06.94-2.06 2.06-.94-2.06-.94-.94-2.06-.94 2.06-2.06.94z\"/><path d=\"M17.41 7.96l-1.37-1.37c-.4-.4-.92-.59-1.43-.59-.52 0-1.04.2-1.43.59L10.3 9.45l-7.72 7.72c-.78.78-.78 2.05 0 2.83L4 21.41c.39.39.9.59 1.41.59.51 0 1.02-.2 1.41-.59l7.78-7.78 2.81-2.81c.8-.78.8-2.07 0-2.86zM5.41 20L4 18.59l7.72-7.72 1.47 1.35L5.41 20z\"/>\n",
              "  </svg>\n",
              "      </button>\n",
              "      \n",
              "  <style>\n",
              "    .colab-df-container {\n",
              "      display:flex;\n",
              "      flex-wrap:wrap;\n",
              "      gap: 12px;\n",
              "    }\n",
              "\n",
              "    .colab-df-convert {\n",
              "      background-color: #E8F0FE;\n",
              "      border: none;\n",
              "      border-radius: 50%;\n",
              "      cursor: pointer;\n",
              "      display: none;\n",
              "      fill: #1967D2;\n",
              "      height: 32px;\n",
              "      padding: 0 0 0 0;\n",
              "      width: 32px;\n",
              "    }\n",
              "\n",
              "    .colab-df-convert:hover {\n",
              "      background-color: #E2EBFA;\n",
              "      box-shadow: 0px 1px 2px rgba(60, 64, 67, 0.3), 0px 1px 3px 1px rgba(60, 64, 67, 0.15);\n",
              "      fill: #174EA6;\n",
              "    }\n",
              "\n",
              "    [theme=dark] .colab-df-convert {\n",
              "      background-color: #3B4455;\n",
              "      fill: #D2E3FC;\n",
              "    }\n",
              "\n",
              "    [theme=dark] .colab-df-convert:hover {\n",
              "      background-color: #434B5C;\n",
              "      box-shadow: 0px 1px 3px 1px rgba(0, 0, 0, 0.15);\n",
              "      filter: drop-shadow(0px 1px 2px rgba(0, 0, 0, 0.3));\n",
              "      fill: #FFFFFF;\n",
              "    }\n",
              "  </style>\n",
              "\n",
              "      <script>\n",
              "        const buttonEl =\n",
              "          document.querySelector('#df-30768088-6e14-49a9-9061-3400cd629c4e button.colab-df-convert');\n",
              "        buttonEl.style.display =\n",
              "          google.colab.kernel.accessAllowed ? 'block' : 'none';\n",
              "\n",
              "        async function convertToInteractive(key) {\n",
              "          const element = document.querySelector('#df-30768088-6e14-49a9-9061-3400cd629c4e');\n",
              "          const dataTable =\n",
              "            await google.colab.kernel.invokeFunction('convertToInteractive',\n",
              "                                                     [key], {});\n",
              "          if (!dataTable) return;\n",
              "\n",
              "          const docLinkHtml = 'Like what you see? Visit the ' +\n",
              "            '<a target=\"_blank\" href=https://colab.research.google.com/notebooks/data_table.ipynb>data table notebook</a>'\n",
              "            + ' to learn more about interactive tables.';\n",
              "          element.innerHTML = '';\n",
              "          dataTable['output_type'] = 'display_data';\n",
              "          await google.colab.output.renderOutput(dataTable, element);\n",
              "          const docLink = document.createElement('div');\n",
              "          docLink.innerHTML = docLinkHtml;\n",
              "          element.appendChild(docLink);\n",
              "        }\n",
              "      </script>\n",
              "    </div>\n",
              "  </div>\n",
              "  "
            ]
          },
          "metadata": {},
          "execution_count": 753
        }
      ]
    },
    {
      "cell_type": "markdown",
      "metadata": {
        "id": "M4qxSTMpxflw"
      },
      "source": [
        "## Prüfen ob NaN-Werten in der Datensätzen vorhanden sind"
      ]
    },
    {
      "cell_type": "code",
      "execution_count": 754,
      "metadata": {
        "id": "YaVr-Exaxd6g",
        "colab": {
          "base_uri": "https://localhost:8080/"
        },
        "outputId": "c6733873-6d3b-46a0-8a49-75e2f3745b3a"
      },
      "outputs": [
        {
          "output_type": "execute_result",
          "data": {
            "text/plain": [
              "Accelerometer_X    0\n",
              "Accelerometer_Y    0\n",
              "Accelerometer_Z    0\n",
              "Gravity_X          0\n",
              "Gravity_Y          0\n",
              "Gravity_Z          0\n",
              "Gyroscope_X        0\n",
              "Gyroscope_Y        0\n",
              "Gyroscope_Z        0\n",
              "Timestamps         0\n",
              "classes            0\n",
              "dtype: int64"
            ]
          },
          "metadata": {},
          "execution_count": 754
        }
      ],
      "source": [
        "df_sensordata = df_sensordata.fillna(0)\n",
        "df_sensordata.isnull().sum()"
      ]
    },
    {
      "cell_type": "markdown",
      "source": [
        "### Erstellen von Labe für die Sensordata"
      ],
      "metadata": {
        "id": "AdEBZqCg70J6"
      }
    },
    {
      "cell_type": "code",
      "source": [
        "df_sensordata.rename(columns={'classes': 'label'}, inplace=True)\n",
        "df_sensordata['label'] = df_sensordata.label.astype('category')\n",
        "encoding = {'illegitimeruser': 1, 'legitimeruser': 0}\n",
        "df_sensordata.label.replace(encoding, inplace=True)"
      ],
      "metadata": {
        "id": "dw4gh3CTwqhe"
      },
      "execution_count": 755,
      "outputs": []
    },
    {
      "cell_type": "markdown",
      "source": [
        "## Erstelle einen Training- und Test-Datensatz für Feature Engineering"
      ],
      "metadata": {
        "id": "OaWREpNL8i-A"
      }
    },
    {
      "cell_type": "markdown",
      "source": [
        "Erstens gibt es den Parameter random_\n",
        "state, der den Seed-Wert des Zufallszahlengenerators festlegt. Und zweitens können Sie mehrere Datensätze mit einer identischen Anzahl Zeilen übergeben, die anhand der gleichen Indizes aufgeteilt werden"
      ],
      "metadata": {
        "id": "j6-ad9IP8b6d"
      }
    },
    {
      "cell_type": "code",
      "source": [
        "train_set, test_set = train_test_split(df_sensordata, test_size=0.2, random_state=0)"
      ],
      "metadata": {
        "id": "n6cf80IZEEYf"
      },
      "execution_count": 756,
      "outputs": []
    },
    {
      "cell_type": "markdown",
      "source": [
        "#### Größe der Trainingdatensatz ermitteln"
      ],
      "metadata": {
        "id": "ODB8I8dziVjN"
      }
    },
    {
      "cell_type": "code",
      "source": [
        "train_set"
      ],
      "metadata": {
        "colab": {
          "base_uri": "https://localhost:8080/",
          "height": 0
        },
        "id": "xkWZQ0yziVKb",
        "outputId": "95b90c5d-8af4-4625-c936-454941dc1b94"
      },
      "execution_count": 757,
      "outputs": [
        {
          "output_type": "execute_result",
          "data": {
            "text/plain": [
              "     Accelerometer_X  Accelerometer_Y  Accelerometer_Z  Gravity_X  Gravity_Y  \\\n",
              "170             0.09             3.35             1.00       0.19       0.28   \n",
              "432             0.03             0.03             0.01       9.81       9.81   \n",
              "284             0.03             0.03             0.00       9.81       9.81   \n",
              "355             0.03             0.03             0.00       9.81       9.81   \n",
              "295             0.00             0.00             0.01       9.81       9.81   \n",
              "..               ...              ...              ...        ...        ...   \n",
              "43              0.03             0.03             0.02       9.81       9.81   \n",
              "18              0.03             0.03             0.00       9.81       9.81   \n",
              "455             0.01             0.01             0.01       9.81       9.81   \n",
              "117            -0.52            -3.28             1.37      -0.17       9.24   \n",
              "67              0.34             1.17             2.17       0.28       2.50   \n",
              "\n",
              "     Gravity_Z  Gyroscope_X  Gyroscope_Y  Gyroscope_Z  \\\n",
              "170       9.80       -23.61        -1.80        11.62   \n",
              "432       0.00       107.23       107.23        12.98   \n",
              "284       0.00        51.17        51.17        41.16   \n",
              "355       0.00        19.46        19.46        28.69   \n",
              "295       0.00         0.01         0.01         0.01   \n",
              "..         ...          ...          ...          ...   \n",
              "43        0.00       101.74       101.74        12.84   \n",
              "18        0.00       138.53       138.53        51.95   \n",
              "455       0.00         7.19         7.19        18.56   \n",
              "117       3.27        94.58       -47.14         3.00   \n",
              "67        9.48       -12.09        19.17         3.58   \n",
              "\n",
              "                  Timestamps  label  \n",
              "170  13773315203d 19h 46m 2s      0  \n",
              "432          978556792107729      1  \n",
              "284          978527698614105      1  \n",
              "355          978541655509708      1  \n",
              "295          978529860929708      1  \n",
              "..                       ...    ...  \n",
              "43           978165176635641      1  \n",
              "18           978475410775928      1  \n",
              "455          978561313470281      1  \n",
              "117          803652975746669      0  \n",
              "67           803643149170546      1  \n",
              "\n",
              "[1368 rows x 11 columns]"
            ],
            "text/html": [
              "\n",
              "  <div id=\"df-d4333e05-b5d3-4330-8c6f-987154c0ec9b\">\n",
              "    <div class=\"colab-df-container\">\n",
              "      <div>\n",
              "<style scoped>\n",
              "    .dataframe tbody tr th:only-of-type {\n",
              "        vertical-align: middle;\n",
              "    }\n",
              "\n",
              "    .dataframe tbody tr th {\n",
              "        vertical-align: top;\n",
              "    }\n",
              "\n",
              "    .dataframe thead th {\n",
              "        text-align: right;\n",
              "    }\n",
              "</style>\n",
              "<table border=\"1\" class=\"dataframe\">\n",
              "  <thead>\n",
              "    <tr style=\"text-align: right;\">\n",
              "      <th></th>\n",
              "      <th>Accelerometer_X</th>\n",
              "      <th>Accelerometer_Y</th>\n",
              "      <th>Accelerometer_Z</th>\n",
              "      <th>Gravity_X</th>\n",
              "      <th>Gravity_Y</th>\n",
              "      <th>Gravity_Z</th>\n",
              "      <th>Gyroscope_X</th>\n",
              "      <th>Gyroscope_Y</th>\n",
              "      <th>Gyroscope_Z</th>\n",
              "      <th>Timestamps</th>\n",
              "      <th>label</th>\n",
              "    </tr>\n",
              "  </thead>\n",
              "  <tbody>\n",
              "    <tr>\n",
              "      <th>170</th>\n",
              "      <td>0.09</td>\n",
              "      <td>3.35</td>\n",
              "      <td>1.00</td>\n",
              "      <td>0.19</td>\n",
              "      <td>0.28</td>\n",
              "      <td>9.80</td>\n",
              "      <td>-23.61</td>\n",
              "      <td>-1.80</td>\n",
              "      <td>11.62</td>\n",
              "      <td>13773315203d 19h 46m 2s</td>\n",
              "      <td>0</td>\n",
              "    </tr>\n",
              "    <tr>\n",
              "      <th>432</th>\n",
              "      <td>0.03</td>\n",
              "      <td>0.03</td>\n",
              "      <td>0.01</td>\n",
              "      <td>9.81</td>\n",
              "      <td>9.81</td>\n",
              "      <td>0.00</td>\n",
              "      <td>107.23</td>\n",
              "      <td>107.23</td>\n",
              "      <td>12.98</td>\n",
              "      <td>978556792107729</td>\n",
              "      <td>1</td>\n",
              "    </tr>\n",
              "    <tr>\n",
              "      <th>284</th>\n",
              "      <td>0.03</td>\n",
              "      <td>0.03</td>\n",
              "      <td>0.00</td>\n",
              "      <td>9.81</td>\n",
              "      <td>9.81</td>\n",
              "      <td>0.00</td>\n",
              "      <td>51.17</td>\n",
              "      <td>51.17</td>\n",
              "      <td>41.16</td>\n",
              "      <td>978527698614105</td>\n",
              "      <td>1</td>\n",
              "    </tr>\n",
              "    <tr>\n",
              "      <th>355</th>\n",
              "      <td>0.03</td>\n",
              "      <td>0.03</td>\n",
              "      <td>0.00</td>\n",
              "      <td>9.81</td>\n",
              "      <td>9.81</td>\n",
              "      <td>0.00</td>\n",
              "      <td>19.46</td>\n",
              "      <td>19.46</td>\n",
              "      <td>28.69</td>\n",
              "      <td>978541655509708</td>\n",
              "      <td>1</td>\n",
              "    </tr>\n",
              "    <tr>\n",
              "      <th>295</th>\n",
              "      <td>0.00</td>\n",
              "      <td>0.00</td>\n",
              "      <td>0.01</td>\n",
              "      <td>9.81</td>\n",
              "      <td>9.81</td>\n",
              "      <td>0.00</td>\n",
              "      <td>0.01</td>\n",
              "      <td>0.01</td>\n",
              "      <td>0.01</td>\n",
              "      <td>978529860929708</td>\n",
              "      <td>1</td>\n",
              "    </tr>\n",
              "    <tr>\n",
              "      <th>...</th>\n",
              "      <td>...</td>\n",
              "      <td>...</td>\n",
              "      <td>...</td>\n",
              "      <td>...</td>\n",
              "      <td>...</td>\n",
              "      <td>...</td>\n",
              "      <td>...</td>\n",
              "      <td>...</td>\n",
              "      <td>...</td>\n",
              "      <td>...</td>\n",
              "      <td>...</td>\n",
              "    </tr>\n",
              "    <tr>\n",
              "      <th>43</th>\n",
              "      <td>0.03</td>\n",
              "      <td>0.03</td>\n",
              "      <td>0.02</td>\n",
              "      <td>9.81</td>\n",
              "      <td>9.81</td>\n",
              "      <td>0.00</td>\n",
              "      <td>101.74</td>\n",
              "      <td>101.74</td>\n",
              "      <td>12.84</td>\n",
              "      <td>978165176635641</td>\n",
              "      <td>1</td>\n",
              "    </tr>\n",
              "    <tr>\n",
              "      <th>18</th>\n",
              "      <td>0.03</td>\n",
              "      <td>0.03</td>\n",
              "      <td>0.00</td>\n",
              "      <td>9.81</td>\n",
              "      <td>9.81</td>\n",
              "      <td>0.00</td>\n",
              "      <td>138.53</td>\n",
              "      <td>138.53</td>\n",
              "      <td>51.95</td>\n",
              "      <td>978475410775928</td>\n",
              "      <td>1</td>\n",
              "    </tr>\n",
              "    <tr>\n",
              "      <th>455</th>\n",
              "      <td>0.01</td>\n",
              "      <td>0.01</td>\n",
              "      <td>0.01</td>\n",
              "      <td>9.81</td>\n",
              "      <td>9.81</td>\n",
              "      <td>0.00</td>\n",
              "      <td>7.19</td>\n",
              "      <td>7.19</td>\n",
              "      <td>18.56</td>\n",
              "      <td>978561313470281</td>\n",
              "      <td>1</td>\n",
              "    </tr>\n",
              "    <tr>\n",
              "      <th>117</th>\n",
              "      <td>-0.52</td>\n",
              "      <td>-3.28</td>\n",
              "      <td>1.37</td>\n",
              "      <td>-0.17</td>\n",
              "      <td>9.24</td>\n",
              "      <td>3.27</td>\n",
              "      <td>94.58</td>\n",
              "      <td>-47.14</td>\n",
              "      <td>3.00</td>\n",
              "      <td>803652975746669</td>\n",
              "      <td>0</td>\n",
              "    </tr>\n",
              "    <tr>\n",
              "      <th>67</th>\n",
              "      <td>0.34</td>\n",
              "      <td>1.17</td>\n",
              "      <td>2.17</td>\n",
              "      <td>0.28</td>\n",
              "      <td>2.50</td>\n",
              "      <td>9.48</td>\n",
              "      <td>-12.09</td>\n",
              "      <td>19.17</td>\n",
              "      <td>3.58</td>\n",
              "      <td>803643149170546</td>\n",
              "      <td>1</td>\n",
              "    </tr>\n",
              "  </tbody>\n",
              "</table>\n",
              "<p>1368 rows × 11 columns</p>\n",
              "</div>\n",
              "      <button class=\"colab-df-convert\" onclick=\"convertToInteractive('df-d4333e05-b5d3-4330-8c6f-987154c0ec9b')\"\n",
              "              title=\"Convert this dataframe to an interactive table.\"\n",
              "              style=\"display:none;\">\n",
              "        \n",
              "  <svg xmlns=\"http://www.w3.org/2000/svg\" height=\"24px\"viewBox=\"0 0 24 24\"\n",
              "       width=\"24px\">\n",
              "    <path d=\"M0 0h24v24H0V0z\" fill=\"none\"/>\n",
              "    <path d=\"M18.56 5.44l.94 2.06.94-2.06 2.06-.94-2.06-.94-.94-2.06-.94 2.06-2.06.94zm-11 1L8.5 8.5l.94-2.06 2.06-.94-2.06-.94L8.5 2.5l-.94 2.06-2.06.94zm10 10l.94 2.06.94-2.06 2.06-.94-2.06-.94-.94-2.06-.94 2.06-2.06.94z\"/><path d=\"M17.41 7.96l-1.37-1.37c-.4-.4-.92-.59-1.43-.59-.52 0-1.04.2-1.43.59L10.3 9.45l-7.72 7.72c-.78.78-.78 2.05 0 2.83L4 21.41c.39.39.9.59 1.41.59.51 0 1.02-.2 1.41-.59l7.78-7.78 2.81-2.81c.8-.78.8-2.07 0-2.86zM5.41 20L4 18.59l7.72-7.72 1.47 1.35L5.41 20z\"/>\n",
              "  </svg>\n",
              "      </button>\n",
              "      \n",
              "  <style>\n",
              "    .colab-df-container {\n",
              "      display:flex;\n",
              "      flex-wrap:wrap;\n",
              "      gap: 12px;\n",
              "    }\n",
              "\n",
              "    .colab-df-convert {\n",
              "      background-color: #E8F0FE;\n",
              "      border: none;\n",
              "      border-radius: 50%;\n",
              "      cursor: pointer;\n",
              "      display: none;\n",
              "      fill: #1967D2;\n",
              "      height: 32px;\n",
              "      padding: 0 0 0 0;\n",
              "      width: 32px;\n",
              "    }\n",
              "\n",
              "    .colab-df-convert:hover {\n",
              "      background-color: #E2EBFA;\n",
              "      box-shadow: 0px 1px 2px rgba(60, 64, 67, 0.3), 0px 1px 3px 1px rgba(60, 64, 67, 0.15);\n",
              "      fill: #174EA6;\n",
              "    }\n",
              "\n",
              "    [theme=dark] .colab-df-convert {\n",
              "      background-color: #3B4455;\n",
              "      fill: #D2E3FC;\n",
              "    }\n",
              "\n",
              "    [theme=dark] .colab-df-convert:hover {\n",
              "      background-color: #434B5C;\n",
              "      box-shadow: 0px 1px 3px 1px rgba(0, 0, 0, 0.15);\n",
              "      filter: drop-shadow(0px 1px 2px rgba(0, 0, 0, 0.3));\n",
              "      fill: #FFFFFF;\n",
              "    }\n",
              "  </style>\n",
              "\n",
              "      <script>\n",
              "        const buttonEl =\n",
              "          document.querySelector('#df-d4333e05-b5d3-4330-8c6f-987154c0ec9b button.colab-df-convert');\n",
              "        buttonEl.style.display =\n",
              "          google.colab.kernel.accessAllowed ? 'block' : 'none';\n",
              "\n",
              "        async function convertToInteractive(key) {\n",
              "          const element = document.querySelector('#df-d4333e05-b5d3-4330-8c6f-987154c0ec9b');\n",
              "          const dataTable =\n",
              "            await google.colab.kernel.invokeFunction('convertToInteractive',\n",
              "                                                     [key], {});\n",
              "          if (!dataTable) return;\n",
              "\n",
              "          const docLinkHtml = 'Like what you see? Visit the ' +\n",
              "            '<a target=\"_blank\" href=https://colab.research.google.com/notebooks/data_table.ipynb>data table notebook</a>'\n",
              "            + ' to learn more about interactive tables.';\n",
              "          element.innerHTML = '';\n",
              "          dataTable['output_type'] = 'display_data';\n",
              "          await google.colab.output.renderOutput(dataTable, element);\n",
              "          const docLink = document.createElement('div');\n",
              "          docLink.innerHTML = docLinkHtml;\n",
              "          element.appendChild(docLink);\n",
              "        }\n",
              "      </script>\n",
              "    </div>\n",
              "  </div>\n",
              "  "
            ]
          },
          "metadata": {},
          "execution_count": 757
        }
      ]
    },
    {
      "cell_type": "markdown",
      "source": [
        "### Größe der Testdatensatz ermitteln"
      ],
      "metadata": {
        "id": "Wi9HYIWtiJFk"
      }
    },
    {
      "cell_type": "code",
      "source": [
        "len(test_set)"
      ],
      "metadata": {
        "colab": {
          "base_uri": "https://localhost:8080/"
        },
        "id": "ECFVA5tB8smP",
        "outputId": "c497d3b7-9bd4-4e22-aa31-5182f6cdaf60"
      },
      "execution_count": 758,
      "outputs": [
        {
          "output_type": "execute_result",
          "data": {
            "text/plain": [
              "342"
            ]
          },
          "metadata": {},
          "execution_count": 758
        }
      ]
    },
    {
      "cell_type": "markdown",
      "source": [
        "#### create y_train und y_test von Label in nummerische Werten"
      ],
      "metadata": {
        "id": "Xwq2n-TrZ6aT"
      }
    },
    {
      "cell_type": "code",
      "source": [
        "# y_train = train_set['label'].values\n",
        "# y_train"
      ],
      "metadata": {
        "id": "DCiKvRnjZhHh"
      },
      "execution_count": 759,
      "outputs": []
    },
    {
      "cell_type": "code",
      "source": [
        "# y_test = test_set['label'].values\n",
        "# y_test"
      ],
      "metadata": {
        "id": "zn7K92PrZl6i"
      },
      "execution_count": 760,
      "outputs": []
    },
    {
      "cell_type": "markdown",
      "source": [
        "### Anpassen der Spalte Timestampels"
      ],
      "metadata": {
        "id": "Mrqqu6k-yzU2"
      }
    },
    {
      "cell_type": "markdown",
      "source": [
        "#### Scikit-Learn enthält eine nützliche Klasse zum Umgang mit fehlenden Werten\n",
        "sollten Sie den Median des trainingsdatensatzes berechnen und die fehlenden Werte mit diesem auffüllen."
      ],
      "metadata": {
        "id": "S_WB-rBdWWwM"
      }
    },
    {
      "cell_type": "code",
      "source": [
        "# new data frame with split value columns\n",
        "new = train_set[\"Timestamps\"].str.split(\"d\", n = 1, expand = True)\n",
        " \n",
        "# making separate first name column from new data frame\n",
        "train_set[\"Timestamps\"]= new[0]\n",
        " \n",
        "# making separate last name column from new data frame\n",
        "train_set[\"Timestamps_1\"]= new[1]\n",
        " \n",
        "# Dropping old Name columns\n",
        "train_set.drop(columns =[\"Timestamps_1\"], inplace = True)\n",
        "train_set"
      ],
      "metadata": {
        "colab": {
          "base_uri": "https://localhost:8080/",
          "height": 0
        },
        "id": "AdVY_J4jyxD0",
        "outputId": "a04067e9-c0f6-4250-d5c9-99aabc8d7079"
      },
      "execution_count": 761,
      "outputs": [
        {
          "output_type": "execute_result",
          "data": {
            "text/plain": [
              "     Accelerometer_X  Accelerometer_Y  Accelerometer_Z  Gravity_X  Gravity_Y  \\\n",
              "170             0.09             3.35             1.00       0.19       0.28   \n",
              "432             0.03             0.03             0.01       9.81       9.81   \n",
              "284             0.03             0.03             0.00       9.81       9.81   \n",
              "355             0.03             0.03             0.00       9.81       9.81   \n",
              "295             0.00             0.00             0.01       9.81       9.81   \n",
              "..               ...              ...              ...        ...        ...   \n",
              "43              0.03             0.03             0.02       9.81       9.81   \n",
              "18              0.03             0.03             0.00       9.81       9.81   \n",
              "455             0.01             0.01             0.01       9.81       9.81   \n",
              "117            -0.52            -3.28             1.37      -0.17       9.24   \n",
              "67              0.34             1.17             2.17       0.28       2.50   \n",
              "\n",
              "     Gravity_Z  Gyroscope_X  Gyroscope_Y  Gyroscope_Z   Timestamps  label  \n",
              "170       9.80       -23.61        -1.80        11.62  13773315203      0  \n",
              "432       0.00       107.23       107.23        12.98          NaN      1  \n",
              "284       0.00        51.17        51.17        41.16          NaN      1  \n",
              "355       0.00        19.46        19.46        28.69          NaN      1  \n",
              "295       0.00         0.01         0.01         0.01          NaN      1  \n",
              "..         ...          ...          ...          ...          ...    ...  \n",
              "43        0.00       101.74       101.74        12.84          NaN      1  \n",
              "18        0.00       138.53       138.53        51.95          NaN      1  \n",
              "455       0.00         7.19         7.19        18.56          NaN      1  \n",
              "117       3.27        94.58       -47.14         3.00          NaN      0  \n",
              "67        9.48       -12.09        19.17         3.58          NaN      1  \n",
              "\n",
              "[1368 rows x 11 columns]"
            ],
            "text/html": [
              "\n",
              "  <div id=\"df-152c8318-433e-4f58-92ce-93700ebc2e48\">\n",
              "    <div class=\"colab-df-container\">\n",
              "      <div>\n",
              "<style scoped>\n",
              "    .dataframe tbody tr th:only-of-type {\n",
              "        vertical-align: middle;\n",
              "    }\n",
              "\n",
              "    .dataframe tbody tr th {\n",
              "        vertical-align: top;\n",
              "    }\n",
              "\n",
              "    .dataframe thead th {\n",
              "        text-align: right;\n",
              "    }\n",
              "</style>\n",
              "<table border=\"1\" class=\"dataframe\">\n",
              "  <thead>\n",
              "    <tr style=\"text-align: right;\">\n",
              "      <th></th>\n",
              "      <th>Accelerometer_X</th>\n",
              "      <th>Accelerometer_Y</th>\n",
              "      <th>Accelerometer_Z</th>\n",
              "      <th>Gravity_X</th>\n",
              "      <th>Gravity_Y</th>\n",
              "      <th>Gravity_Z</th>\n",
              "      <th>Gyroscope_X</th>\n",
              "      <th>Gyroscope_Y</th>\n",
              "      <th>Gyroscope_Z</th>\n",
              "      <th>Timestamps</th>\n",
              "      <th>label</th>\n",
              "    </tr>\n",
              "  </thead>\n",
              "  <tbody>\n",
              "    <tr>\n",
              "      <th>170</th>\n",
              "      <td>0.09</td>\n",
              "      <td>3.35</td>\n",
              "      <td>1.00</td>\n",
              "      <td>0.19</td>\n",
              "      <td>0.28</td>\n",
              "      <td>9.80</td>\n",
              "      <td>-23.61</td>\n",
              "      <td>-1.80</td>\n",
              "      <td>11.62</td>\n",
              "      <td>13773315203</td>\n",
              "      <td>0</td>\n",
              "    </tr>\n",
              "    <tr>\n",
              "      <th>432</th>\n",
              "      <td>0.03</td>\n",
              "      <td>0.03</td>\n",
              "      <td>0.01</td>\n",
              "      <td>9.81</td>\n",
              "      <td>9.81</td>\n",
              "      <td>0.00</td>\n",
              "      <td>107.23</td>\n",
              "      <td>107.23</td>\n",
              "      <td>12.98</td>\n",
              "      <td>NaN</td>\n",
              "      <td>1</td>\n",
              "    </tr>\n",
              "    <tr>\n",
              "      <th>284</th>\n",
              "      <td>0.03</td>\n",
              "      <td>0.03</td>\n",
              "      <td>0.00</td>\n",
              "      <td>9.81</td>\n",
              "      <td>9.81</td>\n",
              "      <td>0.00</td>\n",
              "      <td>51.17</td>\n",
              "      <td>51.17</td>\n",
              "      <td>41.16</td>\n",
              "      <td>NaN</td>\n",
              "      <td>1</td>\n",
              "    </tr>\n",
              "    <tr>\n",
              "      <th>355</th>\n",
              "      <td>0.03</td>\n",
              "      <td>0.03</td>\n",
              "      <td>0.00</td>\n",
              "      <td>9.81</td>\n",
              "      <td>9.81</td>\n",
              "      <td>0.00</td>\n",
              "      <td>19.46</td>\n",
              "      <td>19.46</td>\n",
              "      <td>28.69</td>\n",
              "      <td>NaN</td>\n",
              "      <td>1</td>\n",
              "    </tr>\n",
              "    <tr>\n",
              "      <th>295</th>\n",
              "      <td>0.00</td>\n",
              "      <td>0.00</td>\n",
              "      <td>0.01</td>\n",
              "      <td>9.81</td>\n",
              "      <td>9.81</td>\n",
              "      <td>0.00</td>\n",
              "      <td>0.01</td>\n",
              "      <td>0.01</td>\n",
              "      <td>0.01</td>\n",
              "      <td>NaN</td>\n",
              "      <td>1</td>\n",
              "    </tr>\n",
              "    <tr>\n",
              "      <th>...</th>\n",
              "      <td>...</td>\n",
              "      <td>...</td>\n",
              "      <td>...</td>\n",
              "      <td>...</td>\n",
              "      <td>...</td>\n",
              "      <td>...</td>\n",
              "      <td>...</td>\n",
              "      <td>...</td>\n",
              "      <td>...</td>\n",
              "      <td>...</td>\n",
              "      <td>...</td>\n",
              "    </tr>\n",
              "    <tr>\n",
              "      <th>43</th>\n",
              "      <td>0.03</td>\n",
              "      <td>0.03</td>\n",
              "      <td>0.02</td>\n",
              "      <td>9.81</td>\n",
              "      <td>9.81</td>\n",
              "      <td>0.00</td>\n",
              "      <td>101.74</td>\n",
              "      <td>101.74</td>\n",
              "      <td>12.84</td>\n",
              "      <td>NaN</td>\n",
              "      <td>1</td>\n",
              "    </tr>\n",
              "    <tr>\n",
              "      <th>18</th>\n",
              "      <td>0.03</td>\n",
              "      <td>0.03</td>\n",
              "      <td>0.00</td>\n",
              "      <td>9.81</td>\n",
              "      <td>9.81</td>\n",
              "      <td>0.00</td>\n",
              "      <td>138.53</td>\n",
              "      <td>138.53</td>\n",
              "      <td>51.95</td>\n",
              "      <td>NaN</td>\n",
              "      <td>1</td>\n",
              "    </tr>\n",
              "    <tr>\n",
              "      <th>455</th>\n",
              "      <td>0.01</td>\n",
              "      <td>0.01</td>\n",
              "      <td>0.01</td>\n",
              "      <td>9.81</td>\n",
              "      <td>9.81</td>\n",
              "      <td>0.00</td>\n",
              "      <td>7.19</td>\n",
              "      <td>7.19</td>\n",
              "      <td>18.56</td>\n",
              "      <td>NaN</td>\n",
              "      <td>1</td>\n",
              "    </tr>\n",
              "    <tr>\n",
              "      <th>117</th>\n",
              "      <td>-0.52</td>\n",
              "      <td>-3.28</td>\n",
              "      <td>1.37</td>\n",
              "      <td>-0.17</td>\n",
              "      <td>9.24</td>\n",
              "      <td>3.27</td>\n",
              "      <td>94.58</td>\n",
              "      <td>-47.14</td>\n",
              "      <td>3.00</td>\n",
              "      <td>NaN</td>\n",
              "      <td>0</td>\n",
              "    </tr>\n",
              "    <tr>\n",
              "      <th>67</th>\n",
              "      <td>0.34</td>\n",
              "      <td>1.17</td>\n",
              "      <td>2.17</td>\n",
              "      <td>0.28</td>\n",
              "      <td>2.50</td>\n",
              "      <td>9.48</td>\n",
              "      <td>-12.09</td>\n",
              "      <td>19.17</td>\n",
              "      <td>3.58</td>\n",
              "      <td>NaN</td>\n",
              "      <td>1</td>\n",
              "    </tr>\n",
              "  </tbody>\n",
              "</table>\n",
              "<p>1368 rows × 11 columns</p>\n",
              "</div>\n",
              "      <button class=\"colab-df-convert\" onclick=\"convertToInteractive('df-152c8318-433e-4f58-92ce-93700ebc2e48')\"\n",
              "              title=\"Convert this dataframe to an interactive table.\"\n",
              "              style=\"display:none;\">\n",
              "        \n",
              "  <svg xmlns=\"http://www.w3.org/2000/svg\" height=\"24px\"viewBox=\"0 0 24 24\"\n",
              "       width=\"24px\">\n",
              "    <path d=\"M0 0h24v24H0V0z\" fill=\"none\"/>\n",
              "    <path d=\"M18.56 5.44l.94 2.06.94-2.06 2.06-.94-2.06-.94-.94-2.06-.94 2.06-2.06.94zm-11 1L8.5 8.5l.94-2.06 2.06-.94-2.06-.94L8.5 2.5l-.94 2.06-2.06.94zm10 10l.94 2.06.94-2.06 2.06-.94-2.06-.94-.94-2.06-.94 2.06-2.06.94z\"/><path d=\"M17.41 7.96l-1.37-1.37c-.4-.4-.92-.59-1.43-.59-.52 0-1.04.2-1.43.59L10.3 9.45l-7.72 7.72c-.78.78-.78 2.05 0 2.83L4 21.41c.39.39.9.59 1.41.59.51 0 1.02-.2 1.41-.59l7.78-7.78 2.81-2.81c.8-.78.8-2.07 0-2.86zM5.41 20L4 18.59l7.72-7.72 1.47 1.35L5.41 20z\"/>\n",
              "  </svg>\n",
              "      </button>\n",
              "      \n",
              "  <style>\n",
              "    .colab-df-container {\n",
              "      display:flex;\n",
              "      flex-wrap:wrap;\n",
              "      gap: 12px;\n",
              "    }\n",
              "\n",
              "    .colab-df-convert {\n",
              "      background-color: #E8F0FE;\n",
              "      border: none;\n",
              "      border-radius: 50%;\n",
              "      cursor: pointer;\n",
              "      display: none;\n",
              "      fill: #1967D2;\n",
              "      height: 32px;\n",
              "      padding: 0 0 0 0;\n",
              "      width: 32px;\n",
              "    }\n",
              "\n",
              "    .colab-df-convert:hover {\n",
              "      background-color: #E2EBFA;\n",
              "      box-shadow: 0px 1px 2px rgba(60, 64, 67, 0.3), 0px 1px 3px 1px rgba(60, 64, 67, 0.15);\n",
              "      fill: #174EA6;\n",
              "    }\n",
              "\n",
              "    [theme=dark] .colab-df-convert {\n",
              "      background-color: #3B4455;\n",
              "      fill: #D2E3FC;\n",
              "    }\n",
              "\n",
              "    [theme=dark] .colab-df-convert:hover {\n",
              "      background-color: #434B5C;\n",
              "      box-shadow: 0px 1px 3px 1px rgba(0, 0, 0, 0.15);\n",
              "      filter: drop-shadow(0px 1px 2px rgba(0, 0, 0, 0.3));\n",
              "      fill: #FFFFFF;\n",
              "    }\n",
              "  </style>\n",
              "\n",
              "      <script>\n",
              "        const buttonEl =\n",
              "          document.querySelector('#df-152c8318-433e-4f58-92ce-93700ebc2e48 button.colab-df-convert');\n",
              "        buttonEl.style.display =\n",
              "          google.colab.kernel.accessAllowed ? 'block' : 'none';\n",
              "\n",
              "        async function convertToInteractive(key) {\n",
              "          const element = document.querySelector('#df-152c8318-433e-4f58-92ce-93700ebc2e48');\n",
              "          const dataTable =\n",
              "            await google.colab.kernel.invokeFunction('convertToInteractive',\n",
              "                                                     [key], {});\n",
              "          if (!dataTable) return;\n",
              "\n",
              "          const docLinkHtml = 'Like what you see? Visit the ' +\n",
              "            '<a target=\"_blank\" href=https://colab.research.google.com/notebooks/data_table.ipynb>data table notebook</a>'\n",
              "            + ' to learn more about interactive tables.';\n",
              "          element.innerHTML = '';\n",
              "          dataTable['output_type'] = 'display_data';\n",
              "          await google.colab.output.renderOutput(dataTable, element);\n",
              "          const docLink = document.createElement('div');\n",
              "          docLink.innerHTML = docLinkHtml;\n",
              "          element.appendChild(docLink);\n",
              "        }\n",
              "      </script>\n",
              "    </div>\n",
              "  </div>\n",
              "  "
            ]
          },
          "metadata": {},
          "execution_count": 761
        }
      ]
    },
    {
      "cell_type": "markdown",
      "source": [
        "#### Fehlenden Werte auf einen bestimmten Wert setzen (null auf Median setzen )"
      ],
      "metadata": {
        "id": "svNXXOwPzG-M"
      }
    },
    {
      "cell_type": "code",
      "source": [
        "median = train_set[\"Timestamps\"].median() \n",
        "train_set[\"Timestamps\"].fillna(median, inplace=True)\n",
        "train_set.shape\n",
        "# from sklearn.impute import SimpleImputer\n",
        "\n",
        "# #  den Median des Trainingsdatensatzes berechnen und die fehlenden Werte mit diesem auffüllen\n",
        "# # Scikit-Learn enthält eine nützliche Klasse zum Umgang mit fehlenden Werten: SimpleImputer\n",
        "# imputer = SimpleImputer(strategy=\"median\")\n",
        "# df_sensordata_timestNum = df_sensordata.drop(\"classes\", axis=1)\n",
        "# #Anschließend können Sie die imputer-Instanz durch Aufrufen der Methode fit() an die Trainingsdaten anpassen\n",
        "# imputer.fit(df_sensordata_timestNum)\n",
        "# #  Der imputer hat einfach den Median jedes Merkmals berechnet und das Ergebnis im Attribut statistics_ gespeichert\n",
        "# df_sensordata_timestNum.median().values\n",
        "# imputer.statistics_\n",
        "# # Sie können nun mit diesem »trainierten« imputer den Trainingsdatensatz transformieren, sodass die fehlenden Werte durch die gefundenen Mediane ersetzt werden\n",
        "# # X = imputer.transform(df_sensordata_timestNum)\n",
        "# df_sensordata_timestNum\n"
      ],
      "metadata": {
        "colab": {
          "base_uri": "https://localhost:8080/"
        },
        "id": "kI7PwbIxVARh",
        "outputId": "d17a50bd-3a50-4049-f7b2-9a73a02e3f29"
      },
      "execution_count": 762,
      "outputs": [
        {
          "output_type": "execute_result",
          "data": {
            "text/plain": [
              "(1368, 11)"
            ]
          },
          "metadata": {},
          "execution_count": 762
        }
      ]
    },
    {
      "cell_type": "code",
      "source": [
        "test_set.shape"
      ],
      "metadata": {
        "colab": {
          "base_uri": "https://localhost:8080/"
        },
        "id": "4E9UQSGZNbAV",
        "outputId": "3000a456-3e8d-47e1-bcc7-62f244ec6c4b"
      },
      "execution_count": 763,
      "outputs": [
        {
          "output_type": "execute_result",
          "data": {
            "text/plain": [
              "(342, 11)"
            ]
          },
          "metadata": {},
          "execution_count": 763
        }
      ]
    },
    {
      "cell_type": "markdown",
      "source": [
        "## Explorative Datenanalyse\n"
      ],
      "metadata": {
        "id": "RM8clvO3erZn"
      }
    },
    {
      "cell_type": "markdown",
      "source": [
        "### Plot der Label im Bezug auf die Datensätze pro Nutzer"
      ],
      "metadata": {
        "id": "npJ6gD3_i6tB"
      }
    },
    {
      "cell_type": "code",
      "source": [
        "sns.set_style(\"whitegrid\") \n",
        "plt.figure(figsize = (10, 5)) \n",
        "sns.countplot(x = 'label', data = df_sensordata) \n",
        "plt.title('Anzahl der Samples nach Art der Nutzer') \n",
        "plt.show( )"
      ],
      "metadata": {
        "colab": {
          "base_uri": "https://localhost:8080/",
          "height": 0
        },
        "id": "H5VV54H5e7f_",
        "outputId": "f99c930c-4e06-4cab-b777-5c9310845f5b"
      },
      "execution_count": 764,
      "outputs": [
        {
          "output_type": "display_data",
          "data": {
            "text/plain": [
              "<Figure size 720x360 with 1 Axes>"
            ],
            "image/png": "[encoded data removed]"
          },
          "metadata": {}
        }
      ]
    },
    {
      "cell_type": "markdown",
      "source": [
        "### Plot der Sensordaten\n",
        "### Lassen Sie uns nun sehen, welcher Sensordaten zu welcher Nutzer zugeormet ist. Dies hilft uns bei der Entscheidung, wie die Daten für Training und Test aufgeteilt werden sollen.\n",
        "Betrachten wir nun die User-Bewegungsverteilung der Sensordaten entlang der x-, y- und z - Achse von jedem Sensor, um zu sehen, ob es ein offensichtliches Muster basierend auf dem Bereich und der Verteilung der Werte gibt."
      ],
      "metadata": {
        "id": "H_WYODAPfZfd"
      }
    },
    {
      "cell_type": "code",
      "source": [
        "sns.FacetGrid(df_sensordata, hue = 'label', size = 6).map(sns.distplot, 'Accelerometer_X').add_legend()"
      ],
      "metadata": {
        "colab": {
          "base_uri": "https://localhost:8080/",
          "height": 0
        },
        "id": "b3k06_fGfXQU",
        "outputId": "d7d94017-827e-4c6a-c2af-7a1d461fea77"
      },
      "execution_count": 765,
      "outputs": [
        {
          "output_type": "execute_result",
          "data": {
            "text/plain": [
              "<seaborn.axisgrid.FacetGrid at 0x7f0caf53c410>"
            ]
          },
          "metadata": {},
          "execution_count": 765
        },
        {
          "output_type": "display_data",
          "data": {
            "text/plain": [
              "<Figure size 474.375x432 with 1 Axes>"
            ],
            "image/png": "[encoded data removed]"
          },
          "metadata": {}
        }
      ]
    },
    {
      "cell_type": "code",
      "source": [
        "sns.FacetGrid(df_sensordata, hue = 'label', size = 6).map(sns.distplot, 'Accelerometer_Y').add_legend()"
      ],
      "metadata": {
        "colab": {
          "base_uri": "https://localhost:8080/",
          "height": 0
        },
        "id": "OVINj0Trf3Wv",
        "outputId": "eabba570-146e-4294-8dd6-a618b8bab2fa"
      },
      "execution_count": 766,
      "outputs": [
        {
          "output_type": "execute_result",
          "data": {
            "text/plain": [
              "<seaborn.axisgrid.FacetGrid at 0x7f0caf362c90>"
            ]
          },
          "metadata": {},
          "execution_count": 766
        },
        {
          "output_type": "display_data",
          "data": {
            "text/plain": [
              "<Figure size 474.375x432 with 1 Axes>"
            ],
            "image/png": "[encoded data removed]"
          },
          "metadata": {}
        }
      ]
    },
    {
      "cell_type": "code",
      "source": [
        "sns.FacetGrid(df_sensordata, hue = 'label', size = 6).map(sns.distplot, 'Accelerometer_Z').add_legend()"
      ],
      "metadata": {
        "colab": {
          "base_uri": "https://localhost:8080/",
          "height": 0
        },
        "id": "c8QNbsyigD0Y",
        "outputId": "2479ea97-691e-474b-f7b4-d3dea88d2078"
      },
      "execution_count": 767,
      "outputs": [
        {
          "output_type": "execute_result",
          "data": {
            "text/plain": [
              "<seaborn.axisgrid.FacetGrid at 0x7f0caf242490>"
            ]
          },
          "metadata": {},
          "execution_count": 767
        },
        {
          "output_type": "display_data",
          "data": {
            "text/plain": [
              "<Figure size 474.375x432 with 1 Axes>"
            ],
            "image/png": "[encoded data removed]"
          },
          "metadata": {}
        }
      ]
    },
    {
      "cell_type": "code",
      "source": [
        "sns.FacetGrid(df_sensordata, hue = 'label', size = 6).map(sns.distplot, 'Gyroscope_X').add_legend()"
      ],
      "metadata": {
        "colab": {
          "base_uri": "https://localhost:8080/",
          "height": 0
        },
        "id": "wBq9nZcQB3cL",
        "outputId": "8bb7f1f2-f2cc-4424-cbee-3a77f7b68609"
      },
      "execution_count": 768,
      "outputs": [
        {
          "output_type": "execute_result",
          "data": {
            "text/plain": [
              "<seaborn.axisgrid.FacetGrid at 0x7f0caf1c8950>"
            ]
          },
          "metadata": {},
          "execution_count": 768
        },
        {
          "output_type": "display_data",
          "data": {
            "text/plain": [
              "<Figure size 474.375x432 with 1 Axes>"
            ],
            "image/png": "[encoded data removed]"
          },
          "metadata": {}
        }
      ]
    },
    {
      "cell_type": "code",
      "source": [
        "sns.FacetGrid(df_sensordata, hue = 'label', size = 6).map(sns.distplot, 'Gyroscope_Y').add_legend()"
      ],
      "metadata": {
        "colab": {
          "base_uri": "https://localhost:8080/",
          "height": 0
        },
        "id": "JGAox8vaCZD3",
        "outputId": "79298e58-fcf5-474d-9b22-377887dc889f"
      },
      "execution_count": 769,
      "outputs": [
        {
          "output_type": "execute_result",
          "data": {
            "text/plain": [
              "<seaborn.axisgrid.FacetGrid at 0x7f0caef8f390>"
            ]
          },
          "metadata": {},
          "execution_count": 769
        },
        {
          "output_type": "display_data",
          "data": {
            "text/plain": [
              "<Figure size 474.375x432 with 1 Axes>"
            ],
            "image/png": "[encoded data removed]"
          },
          "metadata": {}
        }
      ]
    },
    {
      "cell_type": "code",
      "source": [
        "sns.FacetGrid(df_sensordata, hue = 'label', size = 6).map(sns.distplot, 'Gyroscope_Z').add_legend()"
      ],
      "metadata": {
        "colab": {
          "base_uri": "https://localhost:8080/",
          "height": 0
        },
        "id": "ToeuOvUwCfNw",
        "outputId": "1b2a890f-327e-4d40-bace-15f8bb4fec6e"
      },
      "execution_count": 770,
      "outputs": [
        {
          "output_type": "execute_result",
          "data": {
            "text/plain": [
              "<seaborn.axisgrid.FacetGrid at 0x7f0caee0b310>"
            ]
          },
          "metadata": {},
          "execution_count": 770
        },
        {
          "output_type": "display_data",
          "data": {
            "text/plain": [
              "<Figure size 474.375x432 with 1 Axes>"
            ],
            "image/png": "[encoded data removed]"
          },
          "metadata": {}
        }
      ]
    },
    {
      "cell_type": "markdown",
      "source": [
        "#### Lassen Sie uns für einen allem Nutzer beobachten, wie sich die Sensorwertne in jeder der x-, y- und z - Dimensionen mit der Zeit ändern."
      ],
      "metadata": {
        "id": "hXD7gglC5Stt"
      }
    },
    {
      "cell_type": "markdown",
      "source": [
        "Wir haben eine Teilmenge von 400 Proben zur Visualisierung des sensordaten berücksichtigt."
      ],
      "metadata": {
        "id": "VFvNzUOI52c8"
      }
    },
    {
      "cell_type": "code",
      "source": [
        "# for i in ['illegitimerUser', 'legitimerUser']: \n",
        "#   data_sensors = df_sensordata[(df_sensordata[\"Accelerometer_X\"]==0) & (df_sensordata['classes'] == i)][:400] \n",
        "#   plt.figure(figsize = (15, 6)) \n",
        "#   sns.lineplot(y = 'Accelerometer_X', x = 'Timestamps', data = data_sensors) \n",
        "#   sns.lineplot(y = 'Accelerometer_Y', x = 'Timestamps', data = data_sensors) \n",
        "#   sns.lineplot(y = 'Accelerometer_Z', x = 'Timestamps', data = data_sensors) \n",
        "#   plt.legend(['Accelerometer_X', 'Accelerometer_Y', 'Accelerometer_Z']) \n",
        "#   plt.ylabel(i) \n",
        "#   plt.title(i, fontsize = 15) \n",
        "#   plt.show()"
      ],
      "metadata": {
        "id": "rbk0Hhui5Qf1"
      },
      "execution_count": 771,
      "outputs": []
    },
    {
      "cell_type": "markdown",
      "metadata": {
        "id": "Tr0fa08Q00Zb"
      },
      "source": [
        "Alle Features sind vom Typ float64 und alle 9 sind numerische Features, außer Class (y). Wir müssen Label Encoder machen und sie in numeirc umwandeln."
      ]
    },
    {
      "cell_type": "markdown",
      "metadata": {
        "id": "D_EE1Jz41T54"
      },
      "source": [
        "### Feature-Skalierung"
      ]
    },
    {
      "cell_type": "code",
      "execution_count": 772,
      "metadata": {
        "id": "xTUTbllF1Xab"
      },
      "outputs": [],
      "source": [
        "# # Scaling the feature \n",
        "# from sklearn.preprocessing import StandardScaler\n",
        "# scaler = StandardScaler()"
      ]
    },
    {
      "cell_type": "code",
      "execution_count": 773,
      "metadata": {
        "id": "CriSu5e-1ZT0"
      },
      "outputs": [],
      "source": [
        "# X = scaler.fit_transform(X)\n",
        "# X[1]"
      ]
    },
    {
      "cell_type": "markdown",
      "source": [
        "## Feature Engineering: Statistische Maßnahmen ergreifen"
      ],
      "metadata": {
        "id": "sMJPOKybeQFS"
      }
    },
    {
      "cell_type": "markdown",
      "source": [
        "### In Phase 1 des Feature-Engineerings werden wir insgesamt 18 einfache statistische Features erstellen\n",
        "1. Mittelwert\n",
        "2. Standardabweichung\n",
        "3. durchschnittliche absolute Abweichung\n",
        "4. Minimalwert\n",
        "5. Maximalwert\n",
        "6. Differenz von Maximal- und Minimalwert\n",
        "7. Median\n",
        "8. Median absolute Abweichung\n",
        "9. Interquartilbereich\n",
        "10. Negative Werte zählen\n",
        "11. Positive Werte zählen\n",
        "12. Anzahl der Werte über dem Mittelwert\n",
        "13. Anzahl der Spitzen\n",
        "14. Schiefe\n",
        "15. Kurtosis\n",
        "16. Energie\n",
        "17. Durchschnittliche resultierende Beschleunigung\n",
        "18. Signalgröße Bereich\n",
        "\n",
        "Die meisten dieser Funktionen sind selbsterklärend.\n",
        "\n",
        "Die Energie eines Signals in jeder Achse wird berechnet, indem der Mittelwert der Summe der Quadrate der Werte in einem Fenster in dieser bestimmten Achse genommen wird.\n",
        "Die durchschnittliche resultierende Beschleunigung über das Fenster wird berechnet, indem der Durchschnitt der Quadratwurzeln der Werte in jeder der drei Achsen quadriert und addiert wird.\n",
        "Der Bereich der Signalgröße ist als Summe der Absolutwerte der drei Achsen, gemittelt über ein Fenster, definiert.\n",
        "\n",
        "credits: https://towardsdatascience.com/feature-engineering-on-time-series-data-transforming-signal-data-of-a-smartphone-accelerometer-for-72cbe34b8a60"
      ],
      "metadata": {
        "id": "GeosXUYQ8-sR"
      }
    },
    {
      "cell_type": "code",
      "source": [
        "x_list = []\n",
        "y_list = []\n",
        "z_list = []\n",
        "train_labels = []\n",
        "\n",
        "window_size = 100\n",
        "step_size = 50\n",
        " # Accelerometer_X ,  Accelerometer_Y  , Accelerometer_Z\n",
        "# creating overlaping windows of size window-size 100\n",
        "for i in range(0, train_set.shape[0] - window_size, step_size):\n",
        "    xs = train_set['Accelerometer_X'].values[i: i + 100]\n",
        "    ys = train_set['Accelerometer_Y'].values[i: i + 100]\n",
        "    zs = train_set['Accelerometer_Z'].values[i: i + 100]\n",
        "    label = stats.mode(train_set['label'][i: i + 100])[0][0]\n",
        "\n",
        "    x_list.append(xs)\n",
        "    y_list.append(ys)\n",
        "    z_list.append(zs)\n",
        "    train_labels.append(label)\n",
        "\n",
        "# Statistical Features on raw x, y and z from acceleration\n",
        "X_Train_accel = pd.DataFrame()\n",
        "\n",
        "# mean\n",
        "X_Train_accel['Accelerometer_X_mean'] = pd.Series(x_list).apply(lambda x: x.mean())\n",
        "X_Train_accel['Accelerometer_Y_mean'] = pd.Series(y_list).apply(lambda x: x.mean())\n",
        "X_Train_accel['Accelerometer_Z_mean'] = pd.Series(z_list).apply(lambda x: x.mean())\n",
        "\n",
        "# std dev\n",
        "X_Train_accel['Accelerometer_X_std'] = pd.Series(x_list).apply(lambda x: x.std())\n",
        "X_Train_accel['Accelerometer_Y_std'] = pd.Series(y_list).apply(lambda x: x.std())\n",
        "X_Train_accel['Accelerometer_Z_std'] = pd.Series(z_list).apply(lambda x: x.std())\n",
        "\n",
        "# avg absolute diff\n",
        "X_Train_accel['Accelerometer_X_aad'] = pd.Series(x_list).apply(lambda x: np.mean(np.absolute(x - np.mean(x))))     \n",
        "X_Train_accel['Accelerometer_Y_aad'] = pd.Series(y_list).apply(lambda x: np.mean(np.absolute(x - np.mean(x))))\n",
        "X_Train_accel['Accelerometer_Z_aad'] = pd.Series(z_list).apply(lambda x: np.mean(np.absolute(x - np.mean(x))))\n",
        "\n",
        "# min\n",
        "X_Train_accel['Accelerometer_X_min'] = pd.Series(x_list).apply(lambda x: x.min())\n",
        "X_Train_accel['Accelerometer_Y_min'] = pd.Series(y_list).apply(lambda x: x.min())   \n",
        "X_Train_accel['Accelerometer_Z_min'] = pd.Series(z_list).apply(lambda x: x.min())\n",
        "\n",
        "# max\n",
        "X_Train_accel['Accelerometer_X_max'] = pd.Series(x_list).apply(lambda x: x.max())\n",
        "X_Train_accel['Accelerometer_Y_max'] = pd.Series(y_list).apply(lambda x: x.max())\n",
        "X_Train_accel['Accelerometer_Z_max'] = pd.Series(z_list).apply(lambda x: x.max())\n",
        "\n",
        "# max-min diff\n",
        "X_Train_accel['Accelerometer_X_maxmin_diff'] = X_Train_accel['Accelerometer_X_max'] - X_Train_accel['Accelerometer_X_min']\n",
        "X_Train_accel['Accelerometer_Z_maxmin_diff'] = X_Train_accel['Accelerometer_Y_max'] - X_Train_accel['Accelerometer_Y_min']\n",
        "X_Train_accel['Accelerometer_Y_maxmin_diff'] = X_Train_accel['Accelerometer_Z_max'] - X_Train_accel['Accelerometer_Z_min']\n",
        "\n",
        "# median\n",
        "X_Train_accel['Accelerometer_X_median'] = pd.Series(x_list).apply(lambda x: np.median(x))\n",
        "X_Train_accel['Accelerometer_Y_median'] = pd.Series(y_list).apply(lambda x: np.median(x))  \n",
        "X_Train_accel['Accelerometer_Z_median'] = pd.Series(z_list).apply(lambda x: np.median(x))\n",
        "\n",
        "# median abs dev \n",
        "X_Train_accel['Accelerometer_X_mad'] = pd.Series(x_list).apply(lambda x: np.median(np.absolute(x - np.median(x))))\n",
        "X_Train_accel['Accelerometer_Y_mad'] = pd.Series(y_list).apply(lambda x: np.median(np.absolute(x - np.median(x))))\n",
        "X_Train_accel['Accelerometer_Z_mad'] = pd.Series(z_list).apply(lambda x: np.median(np.absolute(x - np.median(x))))\n",
        "\n",
        "# interquartile range\n",
        "X_Train_accel['Accelerometer_X_IQR'] = pd.Series(x_list).apply(lambda x: np.percentile(x, 75) - np.percentile(x, 25))\n",
        "X_Train_accel['Accelerometer_Y_IQR'] = pd.Series(y_list).apply(lambda x: np.percentile(x, 75) - np.percentile(x, 25))\n",
        "X_Train_accel['Accelerometer_Z_IQR'] = pd.Series(z_list).apply(lambda x: np.percentile(x, 75) - np.percentile(x, 25))\n",
        "\n",
        "# negtive count\n",
        "X_Train_accel['Accelerometer_X_neg_count'] = pd.Series(x_list).apply(lambda x: np.sum(x < 0))\n",
        "X_Train_accel['Accelerometer_Y_neg_count'] = pd.Series(y_list).apply(lambda x: np.sum(x < 0))\n",
        "X_Train_accel['Accelerometer_Z_neg_count'] = pd.Series(z_list).apply(lambda x: np.sum(x < 0))\n",
        "\n",
        "# positive count\n",
        "X_Train_accel['Accelerometer_X_pos_count'] = pd.Series(x_list).apply(lambda x: np.sum(x > 0))\n",
        "X_Train_accel['Accelerometer_Y_pos_count'] = pd.Series(y_list).apply(lambda x: np.sum(x > 0))\n",
        "X_Train_accel['Accelerometer_Z_pos_count'] = pd.Series(z_list).apply(lambda x: np.sum(x > 0))\n",
        "\n",
        "# values above mean\n",
        "X_Train_accel['Accelerometer_X_above_mean'] = pd.Series(x_list).apply(lambda x: np.sum(x > x.mean()))\n",
        "X_Train_accel['Accelerometer_Y_above_mean'] = pd.Series(y_list).apply(lambda x: np.sum(x > x.mean()))\n",
        "X_Train_accel['Accelerometer_Z_above_mean'] = pd.Series(z_list).apply(lambda x: np.sum(x > x.mean()))\n",
        "\n",
        "# number of peaks\n",
        "X_Train_accel['Accelerometer_X_peak_count'] = pd.Series(x_list).apply(lambda x: len(find_peaks(x)[0]))\n",
        "X_Train_accel['Accelerometer_Y_peak_count'] = pd.Series(y_list).apply(lambda x: len(find_peaks(x)[0]))\n",
        "X_Train_accel['Accelerometer_Z_peak_count'] = pd.Series(z_list).apply(lambda x: len(find_peaks(x)[0]))\n",
        "\n",
        "# skewness\n",
        "X_Train_accel['Accelerometer_X_skewness'] = pd.Series(x_list).apply(lambda x: stats.skew(x))\n",
        "X_Train_accel['Accelerometer_Y_skewness'] = pd.Series(y_list).apply(lambda x: stats.skew(x))\n",
        "X_Train_accel['Accelerometer_Z_skewness'] = pd.Series(z_list).apply(lambda x: stats.skew(x))\n",
        "\n",
        "# kurtosis\n",
        "X_Train_accel['Accelerometer_X_kurtosis'] = pd.Series(x_list).apply(lambda x: stats.kurtosis(x))\n",
        "X_Train_accel['Accelerometer_Y_kurtosis'] = pd.Series(y_list).apply(lambda x: stats.kurtosis(x))\n",
        "X_Train_accel['Accelerometer_Z_kurtosis'] = pd.Series(z_list).apply(lambda x: stats.kurtosis(x))\n",
        "\n",
        "# energy\n",
        "X_Train_accel['Accelerometer_X_energy'] = pd.Series(x_list).apply(lambda x: np.sum(x**2)/100)\n",
        "X_Train_accel['Accelerometer_Y_energy'] = pd.Series(y_list).apply(lambda x: np.sum(x**2)/100)\n",
        "X_Train_accel['Accelerometer_Z_energy'] = pd.Series(z_list).apply(lambda x: np.sum(x**2/100))\n",
        "\n",
        "# avg resultant\n",
        "X_Train_accel['avg_result_accl'] = [i.mean() for i in ((pd.Series(x_list)**2 + pd.Series(y_list)**2 + pd.Series(z_list)**2)**0.5)]\n",
        "\n",
        "# signal magnitude area\n",
        "X_Train_accel['sma'] =    pd.Series(x_list).apply(lambda x: np.sum(abs(x)/100)) + pd.Series(y_list).apply(lambda x: np.sum(abs(x)/100)) \\\n",
        "                  + pd.Series(z_list).apply(lambda x: np.sum(abs(x)/100))"
      ],
      "metadata": {
        "id": "rTsycSiHeKsv"
      },
      "execution_count": 774,
      "outputs": []
    },
    {
      "cell_type": "markdown",
      "source": [
        "Jede der x_list, y_list und z_list ist tatsächlich eine Liste der Reihen. Jedes dieser Reihen besteht aus 100 Beobachtungen. Soll also insgesamt int(633 /50) -1 = 11 Reihen haben  X_Train_accel ist unser neuer Feature-Datenrahmen, der aus den transformierten Features erstellt wurde. Von nun an werden wir diesen neuen Datenrahmen verwenden und ihm nach und nach neue Funktionen hinzufügen und ihn schließlich zum Trainieren von ML-Modellen verwenden."
      ],
      "metadata": {
        "id": "aaO6dnwTCSaG"
      }
    },
    {
      "cell_type": "markdown",
      "source": [
        "### Phase 2: Fast-Fourier-Transformation (FFT)\n",
        "Die Fourier-Transformation ist eine Funktion, die ein Zeitbereichssignal in einen Frequenzbereich umwandelt. Die Funktion akzeptiert ein Zeitsignal als Eingabe und erzeugt die Frequenzdarstellung des Signals als Ausgabe. Jedes Signal in der realen Welt ist ein Zeitsignal und besteht aus vielen Sinuskurven unterschiedlicher Frequenzen"
      ],
      "metadata": {
        "id": "WyYpQ5S0CubV"
      }
    },
    {
      "cell_type": "code",
      "source": [
        "# converting the signals from time domain to frequency domain using FFT\n",
        "x_list_fft = pd.Series(x_list).apply(lambda x: np.abs(np.fft.fft(x))[1:51])\n",
        "y_list_fft = pd.Series(y_list).apply(lambda x: np.abs(np.fft.fft(x))[1:51])\n",
        "z_list_fft = pd.Series(z_list).apply(lambda x: np.abs(np.fft.fft(x))[1:51])\n",
        "\n",
        "# Statistical Features on raw x, y and z in frequency domain\n",
        "# FFT mean\n",
        "X_Train_accel['x_mean_fft'] = pd.Series(x_list_fft).apply(lambda x: x.mean())\n",
        "X_Train_accel['y_mean_fft'] = pd.Series(y_list_fft).apply(lambda x: x.mean())\n",
        "X_Train_accel['z_mean_fft'] = pd.Series(z_list_fft).apply(lambda x: x.mean())\n",
        "\n",
        "# FFT std dev\n",
        "X_Train_accel['x_std_fft'] = pd.Series(x_list_fft).apply(lambda x: x.std())\n",
        "X_Train_accel['y_std_fft'] = pd.Series(y_list_fft).apply(lambda x: x.std())\n",
        "X_Train_accel['z_std_fft'] = pd.Series(z_list_fft).apply(lambda x: x.std())\n",
        "\n",
        "# FFT avg absolute diff\n",
        "X_Train_accel['x_aad_fft'] = pd.Series(x_list_fft).apply(lambda x: np.mean(np.absolute(x - np.mean(x))))\n",
        "X_Train_accel['y_aad_fft'] = pd.Series(y_list_fft).apply(lambda x: np.mean(np.absolute(x - np.mean(x))))\n",
        "X_Train_accel['z_aad_fft'] = pd.Series(z_list_fft).apply(lambda x: np.mean(np.absolute(x - np.mean(x))))\n",
        "\n",
        "# FFT min\n",
        "X_Train_accel['x_min_fft'] = pd.Series(x_list_fft).apply(lambda x: x.min())\n",
        "X_Train_accel['y_min_fft'] = pd.Series(y_list_fft).apply(lambda x: x.min())\n",
        "X_Train_accel['z_min_fft'] = pd.Series(z_list_fft).apply(lambda x: x.min())\n",
        "\n",
        "# FFT max\n",
        "X_Train_accel['x_max_fft'] = pd.Series(x_list_fft).apply(lambda x: x.max())\n",
        "X_Train_accel['y_max_fft'] = pd.Series(y_list_fft).apply(lambda x: x.max())\n",
        "X_Train_accel['z_max_fft'] = pd.Series(z_list_fft).apply(lambda x: x.max())\n",
        "\n",
        "# FFT max-min diff\n",
        "X_Train_accel['x_maxmin_diff_fft'] = X_Train_accel['x_max_fft'] - X_Train_accel['x_min_fft']\n",
        "X_Train_accel['y_maxmin_diff_fft'] = X_Train_accel['y_max_fft'] - X_Train_accel['y_min_fft']\n",
        "X_Train_accel['z_maxmin_diff_fft'] = X_Train_accel['z_max_fft'] - X_Train_accel['z_min_fft']\n",
        "\n",
        "# FFT median\n",
        "X_Train_accel['x_median_fft'] = pd.Series(x_list_fft).apply(lambda x: np.median(x))\n",
        "X_Train_accel['y_median_fft'] = pd.Series(y_list_fft).apply(lambda x: np.median(x))\n",
        "X_Train_accel['z_median_fft'] = pd.Series(z_list_fft).apply(lambda x: np.median(x))\n",
        "\n",
        "# FFT median abs dev \n",
        "X_Train_accel['x_mad_fft'] = pd.Series(x_list_fft).apply(lambda x: np.median(np.absolute(x - np.median(x))))\n",
        "X_Train_accel['y_mad_fft'] = pd.Series(y_list_fft).apply(lambda x: np.median(np.absolute(x - np.median(x))))\n",
        "X_Train_accel['z_mad_fft'] = pd.Series(z_list_fft).apply(lambda x: np.median(np.absolute(x - np.median(x))))\n",
        "\n",
        "# FFT Interquartile range\n",
        "X_Train_accel['x_IQR_fft'] = pd.Series(x_list_fft).apply(lambda x: np.percentile(x, 75) - np.percentile(x, 25))\n",
        "X_Train_accel['y_IQR_fft'] = pd.Series(y_list_fft).apply(lambda x: np.percentile(x, 75) - np.percentile(x, 25))\n",
        "X_Train_accel['z_IQR_fft'] = pd.Series(z_list_fft).apply(lambda x: np.percentile(x, 75) - np.percentile(x, 25))\n",
        "\n",
        "# FFT values above mean\n",
        "X_Train_accel['x_above_mean_fft'] = pd.Series(x_list_fft).apply(lambda x: np.sum(x > x.mean()))\n",
        "X_Train_accel['y_above_mean_fft'] = pd.Series(y_list_fft).apply(lambda x: np.sum(x > x.mean()))\n",
        "X_Train_accel['z_above_mean_fft'] = pd.Series(z_list_fft).apply(lambda x: np.sum(x > x.mean()))\n",
        "\n",
        "# FFT number of peaks\n",
        "X_Train_accel['x_peak_count_fft'] = pd.Series(x_list_fft).apply(lambda x: len(find_peaks(x)[0]))\n",
        "X_Train_accel['y_peak_count_fft'] = pd.Series(y_list_fft).apply(lambda x: len(find_peaks(x)[0]))\n",
        "X_Train_accel['z_peak_count_fft'] = pd.Series(z_list_fft).apply(lambda x: len(find_peaks(x)[0]))\n",
        "\n",
        "# FFT skewness\n",
        "X_Train_accel['x_skewness_fft'] = pd.Series(x_list_fft).apply(lambda x: stats.skew(x))\n",
        "X_Train_accel['y_skewness_fft'] = pd.Series(y_list_fft).apply(lambda x: stats.skew(x))\n",
        "X_Train_accel['z_skewness_fft'] = pd.Series(z_list_fft).apply(lambda x: stats.skew(x))\n",
        "\n",
        "# FFT kurtosis\n",
        "X_Train_accel['x_kurtosis_fft'] = pd.Series(x_list_fft).apply(lambda x: stats.kurtosis(x))\n",
        "X_Train_accel['y_kurtosis_fft'] = pd.Series(y_list_fft).apply(lambda x: stats.kurtosis(x))\n",
        "X_Train_accel['z_kurtosis_fft'] = pd.Series(z_list_fft).apply(lambda x: stats.kurtosis(x))\n",
        "\n",
        "# FFT energy\n",
        "X_Train_accel['x_energy_fft'] = pd.Series(x_list_fft).apply(lambda x: np.sum(x**2)/50)\n",
        "X_Train_accel['y_energy_fft'] = pd.Series(y_list_fft).apply(lambda x: np.sum(x**2)/50)\n",
        "X_Train_accel['z_energy_fft'] = pd.Series(z_list_fft).apply(lambda x: np.sum(x**2/50))\n",
        "\n",
        "# FFT avg resultant\n",
        "X_Train_accel['avg_result_accl_fft'] = [i.mean() for i in ((pd.Series(x_list_fft)**2 + pd.Series(y_list_fft)**2 + pd.Series(z_list_fft)**2)**0.5)]\n",
        "\n",
        "# FFT Signal magnitude area\n",
        "X_Train_accel['sma_fft'] = pd.Series(x_list_fft).apply(lambda x: np.sum(abs(x)/50)) + pd.Series(y_list_fft).apply(lambda x: np.sum(abs(x)/50)) \\\n",
        "                     + pd.Series(z_list_fft).apply(lambda x: np.sum(abs(x)/50))"
      ],
      "metadata": {
        "id": "Spyc2VomCqlt"
      },
      "execution_count": 775,
      "outputs": []
    },
    {
      "cell_type": "markdown",
      "source": [
        "### Phase 3: Erstellung  von  Testdatensätze aus phase 1 und 2\n",
        "Das Hauptziel der Feature-Engineering-Phase bei jedem maschinellen Lernen-problem besteht darin, dem Modell so viele Informationen wie möglich bereitzustellen. \n",
        "#### Je mehr Informationen Sie bereitstellen, desto besser lernt es!\n",
        "\n",
        "Warum also hier in diesem Fall nicht die Indexwerte der zugrunde liegenden Daten als mögliche Merkmale betrachten?"
      ],
      "metadata": {
        "id": "lyFsC15KGHv1"
      }
    },
    {
      "cell_type": "markdown",
      "source": [
        "##### Anpassen der Spalte Timestampels"
      ],
      "metadata": {
        "id": "AImjQ4ANGsXE"
      }
    },
    {
      "cell_type": "code",
      "source": [
        "# new data frame with split value columns\n",
        "new = test_set[\"Timestamps\"].str.split(\"d\", n = 1, expand = True)\n",
        " \n",
        "# making separate first name column from new data frame\n",
        "test_set[\"Timestamps\"]= new[0]\n",
        " \n",
        "# making separate last name column from new data frame\n",
        "test_set[\"Timestamps_1\"]= new[1]\n",
        " \n",
        "# Dropping old Name columns\n",
        "test_set.drop(columns =[\"Timestamps_1\"], inplace = True)\n",
        "test_set"
      ],
      "metadata": {
        "colab": {
          "base_uri": "https://localhost:8080/",
          "height": 0
        },
        "id": "TC2fP3vyGr2m",
        "outputId": "862fc7ed-927f-4f0e-8131-3aa75fa1eb4c"
      },
      "execution_count": 776,
      "outputs": [
        {
          "output_type": "execute_result",
          "data": {
            "text/plain": [
              "     Accelerometer_X  Accelerometer_Y  Accelerometer_Z  Gravity_X  Gravity_Y  \\\n",
              "144             0.03             0.03             0.01       9.81       9.81   \n",
              "6               0.02            -0.01            -0.00       0.00       0.03   \n",
              "251            -0.38             0.30            -0.79      -0.03       8.67   \n",
              "48              0.02             0.02             0.01       9.81       9.81   \n",
              "310            -0.61             0.08            -1.25       0.37       8.30   \n",
              "..               ...              ...              ...        ...        ...   \n",
              "174             0.66            -0.08            -0.05       1.53       4.67   \n",
              "376             0.00             0.00             0.01       9.81       9.81   \n",
              "203             0.01             0.01             0.05       9.81       9.81   \n",
              "315            -0.32             0.45            -0.67       0.10       8.05   \n",
              "72              0.50            -3.54             4.35      -0.30       6.89   \n",
              "\n",
              "     Gravity_Z  Gyroscope_X  Gyroscope_Y  Gyroscope_Z   Timestamps  label  \n",
              "144       0.00        58.18        58.18         0.26          NaN      1  \n",
              "6         9.81         0.31         0.78       -23.59  13772942030      0  \n",
              "251       4.59         3.30         4.58        -9.66  13773499513      0  \n",
              "48        0.00         2.79         2.79        70.51          NaN      1  \n",
              "310       5.22         0.44        -0.48         1.71  13773633763      0  \n",
              "..         ...          ...          ...          ...          ...    ...  \n",
              "174       8.49        -2.19         1.73         5.55          NaN      0  \n",
              "376       0.00         0.05         0.05         0.00          NaN      1  \n",
              "203       0.00        20.35        20.35        41.54          NaN      1  \n",
              "315       5.60       -20.98        -4.37         1.13  13773645140      0  \n",
              "72        6.97       134.86        26.04         2.43          NaN      1  \n",
              "\n",
              "[342 rows x 11 columns]"
            ],
            "text/html": [
              "\n",
              "  <div id=\"df-d3c6a9cd-2780-4b22-949b-cffb085bfee1\">\n",
              "    <div class=\"colab-df-container\">\n",
              "      <div>\n",
              "<style scoped>\n",
              "    .dataframe tbody tr th:only-of-type {\n",
              "        vertical-align: middle;\n",
              "    }\n",
              "\n",
              "    .dataframe tbody tr th {\n",
              "        vertical-align: top;\n",
              "    }\n",
              "\n",
              "    .dataframe thead th {\n",
              "        text-align: right;\n",
              "    }\n",
              "</style>\n",
              "<table border=\"1\" class=\"dataframe\">\n",
              "  <thead>\n",
              "    <tr style=\"text-align: right;\">\n",
              "      <th></th>\n",
              "      <th>Accelerometer_X</th>\n",
              "      <th>Accelerometer_Y</th>\n",
              "      <th>Accelerometer_Z</th>\n",
              "      <th>Gravity_X</th>\n",
              "      <th>Gravity_Y</th>\n",
              "      <th>Gravity_Z</th>\n",
              "      <th>Gyroscope_X</th>\n",
              "      <th>Gyroscope_Y</th>\n",
              "      <th>Gyroscope_Z</th>\n",
              "      <th>Timestamps</th>\n",
              "      <th>label</th>\n",
              "    </tr>\n",
              "  </thead>\n",
              "  <tbody>\n",
              "    <tr>\n",
              "      <th>144</th>\n",
              "      <td>0.03</td>\n",
              "      <td>0.03</td>\n",
              "      <td>0.01</td>\n",
              "      <td>9.81</td>\n",
              "      <td>9.81</td>\n",
              "      <td>0.00</td>\n",
              "      <td>58.18</td>\n",
              "      <td>58.18</td>\n",
              "      <td>0.26</td>\n",
              "      <td>NaN</td>\n",
              "      <td>1</td>\n",
              "    </tr>\n",
              "    <tr>\n",
              "      <th>6</th>\n",
              "      <td>0.02</td>\n",
              "      <td>-0.01</td>\n",
              "      <td>-0.00</td>\n",
              "      <td>0.00</td>\n",
              "      <td>0.03</td>\n",
              "      <td>9.81</td>\n",
              "      <td>0.31</td>\n",
              "      <td>0.78</td>\n",
              "      <td>-23.59</td>\n",
              "      <td>13772942030</td>\n",
              "      <td>0</td>\n",
              "    </tr>\n",
              "    <tr>\n",
              "      <th>251</th>\n",
              "      <td>-0.38</td>\n",
              "      <td>0.30</td>\n",
              "      <td>-0.79</td>\n",
              "      <td>-0.03</td>\n",
              "      <td>8.67</td>\n",
              "      <td>4.59</td>\n",
              "      <td>3.30</td>\n",
              "      <td>4.58</td>\n",
              "      <td>-9.66</td>\n",
              "      <td>13773499513</td>\n",
              "      <td>0</td>\n",
              "    </tr>\n",
              "    <tr>\n",
              "      <th>48</th>\n",
              "      <td>0.02</td>\n",
              "      <td>0.02</td>\n",
              "      <td>0.01</td>\n",
              "      <td>9.81</td>\n",
              "      <td>9.81</td>\n",
              "      <td>0.00</td>\n",
              "      <td>2.79</td>\n",
              "      <td>2.79</td>\n",
              "      <td>70.51</td>\n",
              "      <td>NaN</td>\n",
              "      <td>1</td>\n",
              "    </tr>\n",
              "    <tr>\n",
              "      <th>310</th>\n",
              "      <td>-0.61</td>\n",
              "      <td>0.08</td>\n",
              "      <td>-1.25</td>\n",
              "      <td>0.37</td>\n",
              "      <td>8.30</td>\n",
              "      <td>5.22</td>\n",
              "      <td>0.44</td>\n",
              "      <td>-0.48</td>\n",
              "      <td>1.71</td>\n",
              "      <td>13773633763</td>\n",
              "      <td>0</td>\n",
              "    </tr>\n",
              "    <tr>\n",
              "      <th>...</th>\n",
              "      <td>...</td>\n",
              "      <td>...</td>\n",
              "      <td>...</td>\n",
              "      <td>...</td>\n",
              "      <td>...</td>\n",
              "      <td>...</td>\n",
              "      <td>...</td>\n",
              "      <td>...</td>\n",
              "      <td>...</td>\n",
              "      <td>...</td>\n",
              "      <td>...</td>\n",
              "    </tr>\n",
              "    <tr>\n",
              "      <th>174</th>\n",
              "      <td>0.66</td>\n",
              "      <td>-0.08</td>\n",
              "      <td>-0.05</td>\n",
              "      <td>1.53</td>\n",
              "      <td>4.67</td>\n",
              "      <td>8.49</td>\n",
              "      <td>-2.19</td>\n",
              "      <td>1.73</td>\n",
              "      <td>5.55</td>\n",
              "      <td>NaN</td>\n",
              "      <td>0</td>\n",
              "    </tr>\n",
              "    <tr>\n",
              "      <th>376</th>\n",
              "      <td>0.00</td>\n",
              "      <td>0.00</td>\n",
              "      <td>0.01</td>\n",
              "      <td>9.81</td>\n",
              "      <td>9.81</td>\n",
              "      <td>0.00</td>\n",
              "      <td>0.05</td>\n",
              "      <td>0.05</td>\n",
              "      <td>0.00</td>\n",
              "      <td>NaN</td>\n",
              "      <td>1</td>\n",
              "    </tr>\n",
              "    <tr>\n",
              "      <th>203</th>\n",
              "      <td>0.01</td>\n",
              "      <td>0.01</td>\n",
              "      <td>0.05</td>\n",
              "      <td>9.81</td>\n",
              "      <td>9.81</td>\n",
              "      <td>0.00</td>\n",
              "      <td>20.35</td>\n",
              "      <td>20.35</td>\n",
              "      <td>41.54</td>\n",
              "      <td>NaN</td>\n",
              "      <td>1</td>\n",
              "    </tr>\n",
              "    <tr>\n",
              "      <th>315</th>\n",
              "      <td>-0.32</td>\n",
              "      <td>0.45</td>\n",
              "      <td>-0.67</td>\n",
              "      <td>0.10</td>\n",
              "      <td>8.05</td>\n",
              "      <td>5.60</td>\n",
              "      <td>-20.98</td>\n",
              "      <td>-4.37</td>\n",
              "      <td>1.13</td>\n",
              "      <td>13773645140</td>\n",
              "      <td>0</td>\n",
              "    </tr>\n",
              "    <tr>\n",
              "      <th>72</th>\n",
              "      <td>0.50</td>\n",
              "      <td>-3.54</td>\n",
              "      <td>4.35</td>\n",
              "      <td>-0.30</td>\n",
              "      <td>6.89</td>\n",
              "      <td>6.97</td>\n",
              "      <td>134.86</td>\n",
              "      <td>26.04</td>\n",
              "      <td>2.43</td>\n",
              "      <td>NaN</td>\n",
              "      <td>1</td>\n",
              "    </tr>\n",
              "  </tbody>\n",
              "</table>\n",
              "<p>342 rows × 11 columns</p>\n",
              "</div>\n",
              "      <button class=\"colab-df-convert\" onclick=\"convertToInteractive('df-d3c6a9cd-2780-4b22-949b-cffb085bfee1')\"\n",
              "              title=\"Convert this dataframe to an interactive table.\"\n",
              "              style=\"display:none;\">\n",
              "        \n",
              "  <svg xmlns=\"http://www.w3.org/2000/svg\" height=\"24px\"viewBox=\"0 0 24 24\"\n",
              "       width=\"24px\">\n",
              "    <path d=\"M0 0h24v24H0V0z\" fill=\"none\"/>\n",
              "    <path d=\"M18.56 5.44l.94 2.06.94-2.06 2.06-.94-2.06-.94-.94-2.06-.94 2.06-2.06.94zm-11 1L8.5 8.5l.94-2.06 2.06-.94-2.06-.94L8.5 2.5l-.94 2.06-2.06.94zm10 10l.94 2.06.94-2.06 2.06-.94-2.06-.94-.94-2.06-.94 2.06-2.06.94z\"/><path d=\"M17.41 7.96l-1.37-1.37c-.4-.4-.92-.59-1.43-.59-.52 0-1.04.2-1.43.59L10.3 9.45l-7.72 7.72c-.78.78-.78 2.05 0 2.83L4 21.41c.39.39.9.59 1.41.59.51 0 1.02-.2 1.41-.59l7.78-7.78 2.81-2.81c.8-.78.8-2.07 0-2.86zM5.41 20L4 18.59l7.72-7.72 1.47 1.35L5.41 20z\"/>\n",
              "  </svg>\n",
              "      </button>\n",
              "      \n",
              "  <style>\n",
              "    .colab-df-container {\n",
              "      display:flex;\n",
              "      flex-wrap:wrap;\n",
              "      gap: 12px;\n",
              "    }\n",
              "\n",
              "    .colab-df-convert {\n",
              "      background-color: #E8F0FE;\n",
              "      border: none;\n",
              "      border-radius: 50%;\n",
              "      cursor: pointer;\n",
              "      display: none;\n",
              "      fill: #1967D2;\n",
              "      height: 32px;\n",
              "      padding: 0 0 0 0;\n",
              "      width: 32px;\n",
              "    }\n",
              "\n",
              "    .colab-df-convert:hover {\n",
              "      background-color: #E2EBFA;\n",
              "      box-shadow: 0px 1px 2px rgba(60, 64, 67, 0.3), 0px 1px 3px 1px rgba(60, 64, 67, 0.15);\n",
              "      fill: #174EA6;\n",
              "    }\n",
              "\n",
              "    [theme=dark] .colab-df-convert {\n",
              "      background-color: #3B4455;\n",
              "      fill: #D2E3FC;\n",
              "    }\n",
              "\n",
              "    [theme=dark] .colab-df-convert:hover {\n",
              "      background-color: #434B5C;\n",
              "      box-shadow: 0px 1px 3px 1px rgba(0, 0, 0, 0.15);\n",
              "      filter: drop-shadow(0px 1px 2px rgba(0, 0, 0, 0.3));\n",
              "      fill: #FFFFFF;\n",
              "    }\n",
              "  </style>\n",
              "\n",
              "      <script>\n",
              "        const buttonEl =\n",
              "          document.querySelector('#df-d3c6a9cd-2780-4b22-949b-cffb085bfee1 button.colab-df-convert');\n",
              "        buttonEl.style.display =\n",
              "          google.colab.kernel.accessAllowed ? 'block' : 'none';\n",
              "\n",
              "        async function convertToInteractive(key) {\n",
              "          const element = document.querySelector('#df-d3c6a9cd-2780-4b22-949b-cffb085bfee1');\n",
              "          const dataTable =\n",
              "            await google.colab.kernel.invokeFunction('convertToInteractive',\n",
              "                                                     [key], {});\n",
              "          if (!dataTable) return;\n",
              "\n",
              "          const docLinkHtml = 'Like what you see? Visit the ' +\n",
              "            '<a target=\"_blank\" href=https://colab.research.google.com/notebooks/data_table.ipynb>data table notebook</a>'\n",
              "            + ' to learn more about interactive tables.';\n",
              "          element.innerHTML = '';\n",
              "          dataTable['output_type'] = 'display_data';\n",
              "          await google.colab.output.renderOutput(dataTable, element);\n",
              "          const docLink = document.createElement('div');\n",
              "          docLink.innerHTML = docLinkHtml;\n",
              "          element.appendChild(docLink);\n",
              "        }\n",
              "      </script>\n",
              "    </div>\n",
              "  </div>\n",
              "  "
            ]
          },
          "metadata": {},
          "execution_count": 776
        }
      ]
    },
    {
      "cell_type": "markdown",
      "source": [
        "##### Null wert durch Median der Werten zu erseten"
      ],
      "metadata": {
        "id": "8wWd_6xjHEt0"
      }
    },
    {
      "cell_type": "code",
      "source": [
        "median = test_set[\"Timestamps\"].median() \n",
        "test_set[\"Timestamps\"].fillna(median, inplace=True)\n",
        "test_set"
      ],
      "metadata": {
        "colab": {
          "base_uri": "https://localhost:8080/",
          "height": 0
        },
        "id": "veq42Li_toTg",
        "outputId": "8b319a19-82ef-4547-e3af-cd1e415c1889"
      },
      "execution_count": 777,
      "outputs": [
        {
          "output_type": "execute_result",
          "data": {
            "text/plain": [
              "     Accelerometer_X  Accelerometer_Y  Accelerometer_Z  Gravity_X  Gravity_Y  \\\n",
              "144             0.03             0.03             0.01       9.81       9.81   \n",
              "6               0.02            -0.01            -0.00       0.00       0.03   \n",
              "251            -0.38             0.30            -0.79      -0.03       8.67   \n",
              "48              0.02             0.02             0.01       9.81       9.81   \n",
              "310            -0.61             0.08            -1.25       0.37       8.30   \n",
              "..               ...              ...              ...        ...        ...   \n",
              "174             0.66            -0.08            -0.05       1.53       4.67   \n",
              "376             0.00             0.00             0.01       9.81       9.81   \n",
              "203             0.01             0.01             0.05       9.81       9.81   \n",
              "315            -0.32             0.45            -0.67       0.10       8.05   \n",
              "72              0.50            -3.54             4.35      -0.30       6.89   \n",
              "\n",
              "     Gravity_Z  Gyroscope_X  Gyroscope_Y  Gyroscope_Z     Timestamps  label  \n",
              "144       0.00        58.18        58.18         0.26  13773407358.0      1  \n",
              "6         9.81         0.31         0.78       -23.59    13772942030      0  \n",
              "251       4.59         3.30         4.58        -9.66    13773499513      0  \n",
              "48        0.00         2.79         2.79        70.51  13773407358.0      1  \n",
              "310       5.22         0.44        -0.48         1.71    13773633763      0  \n",
              "..         ...          ...          ...          ...            ...    ...  \n",
              "174       8.49        -2.19         1.73         5.55  13773407358.0      0  \n",
              "376       0.00         0.05         0.05         0.00  13773407358.0      1  \n",
              "203       0.00        20.35        20.35        41.54  13773407358.0      1  \n",
              "315       5.60       -20.98        -4.37         1.13    13773645140      0  \n",
              "72        6.97       134.86        26.04         2.43  13773407358.0      1  \n",
              "\n",
              "[342 rows x 11 columns]"
            ],
            "text/html": [
              "\n",
              "  <div id=\"df-1afb30de-76f5-4f1e-b720-a5b4b9255064\">\n",
              "    <div class=\"colab-df-container\">\n",
              "      <div>\n",
              "<style scoped>\n",
              "    .dataframe tbody tr th:only-of-type {\n",
              "        vertical-align: middle;\n",
              "    }\n",
              "\n",
              "    .dataframe tbody tr th {\n",
              "        vertical-align: top;\n",
              "    }\n",
              "\n",
              "    .dataframe thead th {\n",
              "        text-align: right;\n",
              "    }\n",
              "</style>\n",
              "<table border=\"1\" class=\"dataframe\">\n",
              "  <thead>\n",
              "    <tr style=\"text-align: right;\">\n",
              "      <th></th>\n",
              "      <th>Accelerometer_X</th>\n",
              "      <th>Accelerometer_Y</th>\n",
              "      <th>Accelerometer_Z</th>\n",
              "      <th>Gravity_X</th>\n",
              "      <th>Gravity_Y</th>\n",
              "      <th>Gravity_Z</th>\n",
              "      <th>Gyroscope_X</th>\n",
              "      <th>Gyroscope_Y</th>\n",
              "      <th>Gyroscope_Z</th>\n",
              "      <th>Timestamps</th>\n",
              "      <th>label</th>\n",
              "    </tr>\n",
              "  </thead>\n",
              "  <tbody>\n",
              "    <tr>\n",
              "      <th>144</th>\n",
              "      <td>0.03</td>\n",
              "      <td>0.03</td>\n",
              "      <td>0.01</td>\n",
              "      <td>9.81</td>\n",
              "      <td>9.81</td>\n",
              "      <td>0.00</td>\n",
              "      <td>58.18</td>\n",
              "      <td>58.18</td>\n",
              "      <td>0.26</td>\n",
              "      <td>13773407358.0</td>\n",
              "      <td>1</td>\n",
              "    </tr>\n",
              "    <tr>\n",
              "      <th>6</th>\n",
              "      <td>0.02</td>\n",
              "      <td>-0.01</td>\n",
              "      <td>-0.00</td>\n",
              "      <td>0.00</td>\n",
              "      <td>0.03</td>\n",
              "      <td>9.81</td>\n",
              "      <td>0.31</td>\n",
              "      <td>0.78</td>\n",
              "      <td>-23.59</td>\n",
              "      <td>13772942030</td>\n",
              "      <td>0</td>\n",
              "    </tr>\n",
              "    <tr>\n",
              "      <th>251</th>\n",
              "      <td>-0.38</td>\n",
              "      <td>0.30</td>\n",
              "      <td>-0.79</td>\n",
              "      <td>-0.03</td>\n",
              "      <td>8.67</td>\n",
              "      <td>4.59</td>\n",
              "      <td>3.30</td>\n",
              "      <td>4.58</td>\n",
              "      <td>-9.66</td>\n",
              "      <td>13773499513</td>\n",
              "      <td>0</td>\n",
              "    </tr>\n",
              "    <tr>\n",
              "      <th>48</th>\n",
              "      <td>0.02</td>\n",
              "      <td>0.02</td>\n",
              "      <td>0.01</td>\n",
              "      <td>9.81</td>\n",
              "      <td>9.81</td>\n",
              "      <td>0.00</td>\n",
              "      <td>2.79</td>\n",
              "      <td>2.79</td>\n",
              "      <td>70.51</td>\n",
              "      <td>13773407358.0</td>\n",
              "      <td>1</td>\n",
              "    </tr>\n",
              "    <tr>\n",
              "      <th>310</th>\n",
              "      <td>-0.61</td>\n",
              "      <td>0.08</td>\n",
              "      <td>-1.25</td>\n",
              "      <td>0.37</td>\n",
              "      <td>8.30</td>\n",
              "      <td>5.22</td>\n",
              "      <td>0.44</td>\n",
              "      <td>-0.48</td>\n",
              "      <td>1.71</td>\n",
              "      <td>13773633763</td>\n",
              "      <td>0</td>\n",
              "    </tr>\n",
              "    <tr>\n",
              "      <th>...</th>\n",
              "      <td>...</td>\n",
              "      <td>...</td>\n",
              "      <td>...</td>\n",
              "      <td>...</td>\n",
              "      <td>...</td>\n",
              "      <td>...</td>\n",
              "      <td>...</td>\n",
              "      <td>...</td>\n",
              "      <td>...</td>\n",
              "      <td>...</td>\n",
              "      <td>...</td>\n",
              "    </tr>\n",
              "    <tr>\n",
              "      <th>174</th>\n",
              "      <td>0.66</td>\n",
              "      <td>-0.08</td>\n",
              "      <td>-0.05</td>\n",
              "      <td>1.53</td>\n",
              "      <td>4.67</td>\n",
              "      <td>8.49</td>\n",
              "      <td>-2.19</td>\n",
              "      <td>1.73</td>\n",
              "      <td>5.55</td>\n",
              "      <td>13773407358.0</td>\n",
              "      <td>0</td>\n",
              "    </tr>\n",
              "    <tr>\n",
              "      <th>376</th>\n",
              "      <td>0.00</td>\n",
              "      <td>0.00</td>\n",
              "      <td>0.01</td>\n",
              "      <td>9.81</td>\n",
              "      <td>9.81</td>\n",
              "      <td>0.00</td>\n",
              "      <td>0.05</td>\n",
              "      <td>0.05</td>\n",
              "      <td>0.00</td>\n",
              "      <td>13773407358.0</td>\n",
              "      <td>1</td>\n",
              "    </tr>\n",
              "    <tr>\n",
              "      <th>203</th>\n",
              "      <td>0.01</td>\n",
              "      <td>0.01</td>\n",
              "      <td>0.05</td>\n",
              "      <td>9.81</td>\n",
              "      <td>9.81</td>\n",
              "      <td>0.00</td>\n",
              "      <td>20.35</td>\n",
              "      <td>20.35</td>\n",
              "      <td>41.54</td>\n",
              "      <td>13773407358.0</td>\n",
              "      <td>1</td>\n",
              "    </tr>\n",
              "    <tr>\n",
              "      <th>315</th>\n",
              "      <td>-0.32</td>\n",
              "      <td>0.45</td>\n",
              "      <td>-0.67</td>\n",
              "      <td>0.10</td>\n",
              "      <td>8.05</td>\n",
              "      <td>5.60</td>\n",
              "      <td>-20.98</td>\n",
              "      <td>-4.37</td>\n",
              "      <td>1.13</td>\n",
              "      <td>13773645140</td>\n",
              "      <td>0</td>\n",
              "    </tr>\n",
              "    <tr>\n",
              "      <th>72</th>\n",
              "      <td>0.50</td>\n",
              "      <td>-3.54</td>\n",
              "      <td>4.35</td>\n",
              "      <td>-0.30</td>\n",
              "      <td>6.89</td>\n",
              "      <td>6.97</td>\n",
              "      <td>134.86</td>\n",
              "      <td>26.04</td>\n",
              "      <td>2.43</td>\n",
              "      <td>13773407358.0</td>\n",
              "      <td>1</td>\n",
              "    </tr>\n",
              "  </tbody>\n",
              "</table>\n",
              "<p>342 rows × 11 columns</p>\n",
              "</div>\n",
              "      <button class=\"colab-df-convert\" onclick=\"convertToInteractive('df-1afb30de-76f5-4f1e-b720-a5b4b9255064')\"\n",
              "              title=\"Convert this dataframe to an interactive table.\"\n",
              "              style=\"display:none;\">\n",
              "        \n",
              "  <svg xmlns=\"http://www.w3.org/2000/svg\" height=\"24px\"viewBox=\"0 0 24 24\"\n",
              "       width=\"24px\">\n",
              "    <path d=\"M0 0h24v24H0V0z\" fill=\"none\"/>\n",
              "    <path d=\"M18.56 5.44l.94 2.06.94-2.06 2.06-.94-2.06-.94-.94-2.06-.94 2.06-2.06.94zm-11 1L8.5 8.5l.94-2.06 2.06-.94-2.06-.94L8.5 2.5l-.94 2.06-2.06.94zm10 10l.94 2.06.94-2.06 2.06-.94-2.06-.94-.94-2.06-.94 2.06-2.06.94z\"/><path d=\"M17.41 7.96l-1.37-1.37c-.4-.4-.92-.59-1.43-.59-.52 0-1.04.2-1.43.59L10.3 9.45l-7.72 7.72c-.78.78-.78 2.05 0 2.83L4 21.41c.39.39.9.59 1.41.59.51 0 1.02-.2 1.41-.59l7.78-7.78 2.81-2.81c.8-.78.8-2.07 0-2.86zM5.41 20L4 18.59l7.72-7.72 1.47 1.35L5.41 20z\"/>\n",
              "  </svg>\n",
              "      </button>\n",
              "      \n",
              "  <style>\n",
              "    .colab-df-container {\n",
              "      display:flex;\n",
              "      flex-wrap:wrap;\n",
              "      gap: 12px;\n",
              "    }\n",
              "\n",
              "    .colab-df-convert {\n",
              "      background-color: #E8F0FE;\n",
              "      border: none;\n",
              "      border-radius: 50%;\n",
              "      cursor: pointer;\n",
              "      display: none;\n",
              "      fill: #1967D2;\n",
              "      height: 32px;\n",
              "      padding: 0 0 0 0;\n",
              "      width: 32px;\n",
              "    }\n",
              "\n",
              "    .colab-df-convert:hover {\n",
              "      background-color: #E2EBFA;\n",
              "      box-shadow: 0px 1px 2px rgba(60, 64, 67, 0.3), 0px 1px 3px 1px rgba(60, 64, 67, 0.15);\n",
              "      fill: #174EA6;\n",
              "    }\n",
              "\n",
              "    [theme=dark] .colab-df-convert {\n",
              "      background-color: #3B4455;\n",
              "      fill: #D2E3FC;\n",
              "    }\n",
              "\n",
              "    [theme=dark] .colab-df-convert:hover {\n",
              "      background-color: #434B5C;\n",
              "      box-shadow: 0px 1px 3px 1px rgba(0, 0, 0, 0.15);\n",
              "      filter: drop-shadow(0px 1px 2px rgba(0, 0, 0, 0.3));\n",
              "      fill: #FFFFFF;\n",
              "    }\n",
              "  </style>\n",
              "\n",
              "      <script>\n",
              "        const buttonEl =\n",
              "          document.querySelector('#df-1afb30de-76f5-4f1e-b720-a5b4b9255064 button.colab-df-convert');\n",
              "        buttonEl.style.display =\n",
              "          google.colab.kernel.accessAllowed ? 'block' : 'none';\n",
              "\n",
              "        async function convertToInteractive(key) {\n",
              "          const element = document.querySelector('#df-1afb30de-76f5-4f1e-b720-a5b4b9255064');\n",
              "          const dataTable =\n",
              "            await google.colab.kernel.invokeFunction('convertToInteractive',\n",
              "                                                     [key], {});\n",
              "          if (!dataTable) return;\n",
              "\n",
              "          const docLinkHtml = 'Like what you see? Visit the ' +\n",
              "            '<a target=\"_blank\" href=https://colab.research.google.com/notebooks/data_table.ipynb>data table notebook</a>'\n",
              "            + ' to learn more about interactive tables.';\n",
              "          element.innerHTML = '';\n",
              "          dataTable['output_type'] = 'display_data';\n",
              "          await google.colab.output.renderOutput(dataTable, element);\n",
              "          const docLink = document.createElement('div');\n",
              "          docLink.innerHTML = docLinkHtml;\n",
              "          element.appendChild(docLink);\n",
              "        }\n",
              "      </script>\n",
              "    </div>\n",
              "  </div>\n",
              "  "
            ]
          },
          "metadata": {},
          "execution_count": 777
        }
      ]
    },
    {
      "cell_type": "markdown",
      "source": [
        "##### Erfassung der  Indizen in den Test-Daten und Erzeugung der Sensordaten-Test_Datensätze"
      ],
      "metadata": {
        "id": "FfNa2E5Vt2J3"
      }
    },
    {
      "cell_type": "code",
      "source": [
        "# from IPython.testing import test\n",
        "# # Max Indices and Min indices \n",
        "x_list = []\n",
        "y_list = []\n",
        "z_list = []\n",
        "test_labels = []\n",
        "window_size = 100\n",
        "step_size = 50\n",
        "for i in range(0, test_set.shape[0] - window_size, step_size):\n",
        "    xs = test_set['Accelerometer_X'].values[i: i + 100]\n",
        "    ys = test_set['Accelerometer_Y'].values[i: i + 100]\n",
        "    zs = test_set['Accelerometer_Z'].values[i: i + 100]\n",
        "    label = stats.mode(test_set['label'][i: i + 100])[0][0]\n",
        "\n",
        "    x_list.append(xs)\n",
        "    y_list.append(ys)\n",
        "    z_list.append(zs)\n",
        "    test_labels.append(label)\n",
        "\n",
        "# Statistical Features on raw x, y and z from acceleration\n",
        "X_Test_accel = pd.DataFrame()\n",
        "\n",
        "# mean\n",
        "X_Test_accel['Accelerometer_X_mean'] = pd.Series(x_list).apply(lambda x: x.mean())\n",
        "X_Test_accel['Accelerometer_Y_mean'] = pd.Series(y_list).apply(lambda x: x.mean())\n",
        "X_Test_accel['Accelerometer_Z_mean'] = pd.Series(z_list).apply(lambda x: x.mean())\n",
        "\n",
        "# std dev\n",
        "X_Test_accel['Accelerometer_X_std'] = pd.Series(x_list).apply(lambda x: x.std())\n",
        "X_Test_accel['Accelerometer_Y_std'] = pd.Series(y_list).apply(lambda x: x.std())\n",
        "X_Test_accel['Accelerometer_Z_std'] = pd.Series(z_list).apply(lambda x: x.std())\n",
        "\n",
        "# avg absolute diff\n",
        "X_Test_accel['Accelerometer_X_aad'] = pd.Series(x_list).apply(lambda x: np.mean(np.absolute(x - np.mean(x))))     \n",
        "X_Test_accel['Accelerometer_Y_aad'] = pd.Series(y_list).apply(lambda x: np.mean(np.absolute(x - np.mean(x))))\n",
        "X_Test_accel['Accelerometer_Z_aad'] = pd.Series(z_list).apply(lambda x: np.mean(np.absolute(x - np.mean(x))))\n",
        "\n",
        "# min\n",
        "X_Test_accel['Accelerometer_X_min'] = pd.Series(x_list).apply(lambda x: x.min())\n",
        "X_Test_accel['Accelerometer_Y_min'] = pd.Series(y_list).apply(lambda x: x.min())   \n",
        "X_Test_accel['Accelerometer_Z_min'] = pd.Series(z_list).apply(lambda x: x.min())\n",
        "\n",
        "# max\n",
        "X_Test_accel['Accelerometer_X_max'] = pd.Series(x_list).apply(lambda x: x.max())\n",
        "X_Test_accel['Accelerometer_Y_max'] = pd.Series(y_list).apply(lambda x: x.max())\n",
        "X_Test_accel['Accelerometer_Z_max'] = pd.Series(z_list).apply(lambda x: x.max())\n",
        "\n",
        "# max-min diff\n",
        "X_Test_accel['Accelerometer_X_maxmin_diff'] = X_Test_accel['Accelerometer_X_max'] - X_Test_accel['Accelerometer_X_min']\n",
        "X_Test_accel['Accelerometer_Z_maxmin_diff'] = X_Test_accel['Accelerometer_Y_max'] - X_Test_accel['Accelerometer_Y_min']\n",
        "X_Test_accel['Accelerometer_Y_maxmin_diff'] = X_Test_accel['Accelerometer_Z_max'] - X_Test_accel['Accelerometer_Z_min']\n",
        "\n",
        "# median\n",
        "X_Test_accel['Accelerometer_X_median'] = pd.Series(x_list).apply(lambda x: np.median(x))\n",
        "X_Test_accel['Accelerometer_Y_median'] = pd.Series(y_list).apply(lambda x: np.median(x))  \n",
        "X_Test_accel['Accelerometer_Z_median'] = pd.Series(z_list).apply(lambda x: np.median(x))\n",
        "\n",
        "# median abs dev \n",
        "X_Test_accel['Accelerometer_X_mad'] = pd.Series(x_list).apply(lambda x: np.median(np.absolute(x - np.median(x))))\n",
        "X_Test_accel['Accelerometer_Y_mad'] = pd.Series(y_list).apply(lambda x: np.median(np.absolute(x - np.median(x))))\n",
        "X_Test_accel['Accelerometer_Z_mad'] = pd.Series(z_list).apply(lambda x: np.median(np.absolute(x - np.median(x))))\n",
        "\n",
        "# interquartile range\n",
        "X_Test_accel['Accelerometer_X_IQR'] = pd.Series(x_list).apply(lambda x: np.percentile(x, 75) - np.percentile(x, 25))\n",
        "X_Test_accel['Accelerometer_Y_IQR'] = pd.Series(y_list).apply(lambda x: np.percentile(x, 75) - np.percentile(x, 25))\n",
        "X_Test_accel['Accelerometer_Z_IQR'] = pd.Series(z_list).apply(lambda x: np.percentile(x, 75) - np.percentile(x, 25))\n",
        "\n",
        "# negtive count\n",
        "X_Test_accel['Accelerometer_X_neg_count'] = pd.Series(x_list).apply(lambda x: np.sum(x < 0))\n",
        "X_Test_accel['Accelerometer_Y_neg_count'] = pd.Series(y_list).apply(lambda x: np.sum(x < 0))\n",
        "X_Test_accel['Accelerometer_Z_neg_count'] = pd.Series(z_list).apply(lambda x: np.sum(x < 0))\n",
        "\n",
        "# positive count\n",
        "X_Test_accel['Accelerometer_X_pos_count'] = pd.Series(x_list).apply(lambda x: np.sum(x > 0))\n",
        "X_Test_accel['Accelerometer_Y_pos_count'] = pd.Series(y_list).apply(lambda x: np.sum(x > 0))\n",
        "X_Test_accel['Accelerometer_Z_pos_count'] = pd.Series(z_list).apply(lambda x: np.sum(x > 0))\n",
        "\n",
        "# values above mean\n",
        "X_Test_accel['Accelerometer_X_above_mean'] = pd.Series(x_list).apply(lambda x: np.sum(x > x.mean()))\n",
        "X_Test_accel['Accelerometer_Y_above_mean'] = pd.Series(y_list).apply(lambda x: np.sum(x > x.mean()))\n",
        "X_Test_accel['Accelerometer_Z_above_mean'] = pd.Series(z_list).apply(lambda x: np.sum(x > x.mean()))\n",
        "\n",
        "# number of peaks\n",
        "X_Test_accel['Accelerometer_X_peak_count'] = pd.Series(x_list).apply(lambda x: len(find_peaks(x)[0]))\n",
        "X_Test_accel['Accelerometer_Y_peak_count'] = pd.Series(y_list).apply(lambda x: len(find_peaks(x)[0]))\n",
        "X_Test_accel['Accelerometer_Z_peak_count'] = pd.Series(z_list).apply(lambda x: len(find_peaks(x)[0]))\n",
        "\n",
        "# skewness\n",
        "X_Test_accel['Accelerometer_X_skewness'] = pd.Series(x_list).apply(lambda x: stats.skew(x))\n",
        "X_Test_accel['Accelerometer_Y_skewness'] = pd.Series(y_list).apply(lambda x: stats.skew(x))\n",
        "X_Test_accel['Accelerometer_Z_skewness'] = pd.Series(z_list).apply(lambda x: stats.skew(x))\n",
        "\n",
        "# kurtosis\n",
        "X_Test_accel['Accelerometer_X_kurtosis'] = pd.Series(x_list).apply(lambda x: stats.kurtosis(x))\n",
        "X_Test_accel['Accelerometer_Y_kurtosis'] = pd.Series(y_list).apply(lambda x: stats.kurtosis(x))\n",
        "X_Test_accel['Accelerometer_Z_kurtosis'] = pd.Series(z_list).apply(lambda x: stats.kurtosis(x))\n",
        "\n",
        "# energy\n",
        "X_Test_accel['Accelerometer_X_energy'] = pd.Series(x_list).apply(lambda x: np.sum(x**2)/100)\n",
        "X_Test_accel['Accelerometer_Y_energy'] = pd.Series(y_list).apply(lambda x: np.sum(x**2)/100)\n",
        "X_Test_accel['Accelerometer_Z_energy'] = pd.Series(z_list).apply(lambda x: np.sum(x**2/100))\n",
        "\n",
        "# avg resultant\n",
        "X_Test_accel['avg_result_accl'] = [i.mean() for i in ((pd.Series(x_list)**2 + pd.Series(y_list)**2 + pd.Series(z_list)**2)**0.5)]\n",
        "\n",
        "# signal magnitude area\n",
        "X_Test_accel['sma'] =    pd.Series(x_list).apply(lambda x: np.sum(abs(x)/100)) + pd.Series(y_list).apply(lambda x: np.sum(abs(x)/100)) \\\n",
        "                  + pd.Series(z_list).apply(lambda x: np.sum(abs(x)/100))\n",
        "\t\t\t\t  \n",
        "\t\t\t\t  \n",
        "# converting the signals from time domain to frequency domain using FFT\n",
        "x_list_fft = pd.Series(x_list).apply(lambda x: np.abs(np.fft.fft(x))[1:51])\n",
        "y_list_fft = pd.Series(y_list).apply(lambda x: np.abs(np.fft.fft(x))[1:51])\n",
        "z_list_fft = pd.Series(z_list).apply(lambda x: np.abs(np.fft.fft(x))[1:51])\n",
        "\n",
        "# Statistical Features on raw x, y and z in frequency domain\n",
        "# FFT mean\n",
        "X_Test_accel['x_mean_fft'] = pd.Series(x_list_fft).apply(lambda x: x.mean())\n",
        "X_Test_accel['y_mean_fft'] = pd.Series(y_list_fft).apply(lambda x: x.mean())\n",
        "X_Test_accel['z_mean_fft'] = pd.Series(z_list_fft).apply(lambda x: x.mean())\n",
        "\n",
        "# FFT std dev\n",
        "X_Test_accel['x_std_fft'] = pd.Series(x_list_fft).apply(lambda x: x.std())\n",
        "X_Test_accel['y_std_fft'] = pd.Series(y_list_fft).apply(lambda x: x.std())\n",
        "X_Test_accel['z_std_fft'] = pd.Series(z_list_fft).apply(lambda x: x.std())\n",
        "\n",
        "# FFT avg absolute diff\n",
        "X_Test_accel['x_aad_fft'] = pd.Series(x_list_fft).apply(lambda x: np.mean(np.absolute(x - np.mean(x))))\n",
        "X_Test_accel['y_aad_fft'] = pd.Series(y_list_fft).apply(lambda x: np.mean(np.absolute(x - np.mean(x))))\n",
        "X_Test_accel['z_aad_fft'] = pd.Series(z_list_fft).apply(lambda x: np.mean(np.absolute(x - np.mean(x))))\n",
        "\n",
        "# FFT min\n",
        "X_Test_accel['x_min_fft'] = pd.Series(x_list_fft).apply(lambda x: x.min())\n",
        "X_Test_accel['y_min_fft'] = pd.Series(y_list_fft).apply(lambda x: x.min())\n",
        "X_Test_accel['z_min_fft'] = pd.Series(z_list_fft).apply(lambda x: x.min())\n",
        "\n",
        "# FFT max\n",
        "X_Test_accel['x_max_fft'] = pd.Series(x_list_fft).apply(lambda x: x.max())\n",
        "X_Test_accel['y_max_fft'] = pd.Series(y_list_fft).apply(lambda x: x.max())\n",
        "X_Test_accel['z_max_fft'] = pd.Series(z_list_fft).apply(lambda x: x.max())\n",
        "\n",
        "# FFT max-min diff\n",
        "X_Test_accel['x_maxmin_diff_fft'] = X_Test_accel['x_max_fft'] - X_Test_accel['x_min_fft']\n",
        "X_Test_accel['y_maxmin_diff_fft'] = X_Test_accel['y_max_fft'] - X_Test_accel['y_min_fft']\n",
        "X_Test_accel['z_maxmin_diff_fft'] = X_Test_accel['z_max_fft'] - X_Test_accel['z_min_fft']\n",
        "\n",
        "# FFT median\n",
        "X_Test_accel['x_median_fft'] = pd.Series(x_list_fft).apply(lambda x: np.median(x))\n",
        "X_Test_accel['y_median_fft'] = pd.Series(y_list_fft).apply(lambda x: np.median(x))\n",
        "X_Test_accel['z_median_fft'] = pd.Series(z_list_fft).apply(lambda x: np.median(x))\n",
        "\n",
        "# FFT median abs dev \n",
        "X_Test_accel['x_mad_fft'] = pd.Series(x_list_fft).apply(lambda x: np.median(np.absolute(x - np.median(x))))\n",
        "X_Test_accel['y_mad_fft'] = pd.Series(y_list_fft).apply(lambda x: np.median(np.absolute(x - np.median(x))))\n",
        "X_Test_accel['z_mad_fft'] = pd.Series(z_list_fft).apply(lambda x: np.median(np.absolute(x - np.median(x))))\n",
        "\n",
        "# FFT Interquartile range\n",
        "X_Test_accel['x_IQR_fft'] = pd.Series(x_list_fft).apply(lambda x: np.percentile(x, 75) - np.percentile(x, 25))\n",
        "X_Test_accel['y_IQR_fft'] = pd.Series(y_list_fft).apply(lambda x: np.percentile(x, 75) - np.percentile(x, 25))\n",
        "X_Test_accel['z_IQR_fft'] = pd.Series(z_list_fft).apply(lambda x: np.percentile(x, 75) - np.percentile(x, 25))\n",
        "\n",
        "# FFT values above mean\n",
        "X_Test_accel['x_above_mean_fft'] = pd.Series(x_list_fft).apply(lambda x: np.sum(x > x.mean()))\n",
        "X_Test_accel['y_above_mean_fft'] = pd.Series(y_list_fft).apply(lambda x: np.sum(x > x.mean()))\n",
        "X_Test_accel['z_above_mean_fft'] = pd.Series(z_list_fft).apply(lambda x: np.sum(x > x.mean()))\n",
        "\n",
        "# FFT number of peaks\n",
        "X_Test_accel['x_peak_count_fft'] = pd.Series(x_list_fft).apply(lambda x: len(find_peaks(x)[0]))\n",
        "X_Test_accel['y_peak_count_fft'] = pd.Series(y_list_fft).apply(lambda x: len(find_peaks(x)[0]))\n",
        "X_Test_accel['z_peak_count_fft'] = pd.Series(z_list_fft).apply(lambda x: len(find_peaks(x)[0]))\n",
        "\n",
        "# FFT skewness\n",
        "X_Test_accel['x_skewness_fft'] = pd.Series(x_list_fft).apply(lambda x: stats.skew(x))\n",
        "X_Test_accel['y_skewness_fft'] = pd.Series(y_list_fft).apply(lambda x: stats.skew(x))\n",
        "X_Test_accel['z_skewness_fft'] = pd.Series(z_list_fft).apply(lambda x: stats.skew(x))\n",
        "\n",
        "# FFT kurtosis\n",
        "X_Test_accel['x_kurtosis_fft'] = pd.Series(x_list_fft).apply(lambda x: stats.kurtosis(x))\n",
        "X_Test_accel['y_kurtosis_fft'] = pd.Series(y_list_fft).apply(lambda x: stats.kurtosis(x))\n",
        "X_Test_accel['z_kurtosis_fft'] = pd.Series(z_list_fft).apply(lambda x: stats.kurtosis(x))\n",
        "\n",
        "# FFT energy\n",
        "X_Test_accel['x_energy_fft'] = pd.Series(x_list_fft).apply(lambda x: np.sum(x**2)/50)\n",
        "X_Test_accel['y_energy_fft'] = pd.Series(y_list_fft).apply(lambda x: np.sum(x**2)/50)\n",
        "X_Test_accel['z_energy_fft'] = pd.Series(z_list_fft).apply(lambda x: np.sum(x**2/50))\n",
        "\n",
        "# FFT avg resultant\n",
        "X_Test_accel['avg_result_accl_fft'] = [i.mean() for i in ((pd.Series(x_list_fft)**2 + pd.Series(y_list_fft)**2 + pd.Series(z_list_fft)**2)**0.5)]\n",
        "\n",
        "# FFT Signal magnitude area\n",
        "X_Test_accel['sma_fft'] = pd.Series(x_list_fft).apply(lambda x: np.sum(abs(x)/50)) + pd.Series(y_list_fft).apply(lambda x: np.sum(abs(x)/50)) \\\n",
        "                     + pd.Series(z_list_fft).apply(lambda x: np.sum(abs(x)/50))\n",
        "X_Test_accel"
      ],
      "metadata": {
        "colab": {
          "base_uri": "https://localhost:8080/",
          "height": 0
        },
        "id": "_RasWMtxtDbz",
        "outputId": "f87fd9a2-9da7-420c-a2af-96954479d586"
      },
      "execution_count": 778,
      "outputs": [
        {
          "output_type": "execute_result",
          "data": {
            "text/plain": [
              "   Accelerometer_X_mean  Accelerometer_Y_mean  Accelerometer_Z_mean  \\\n",
              "0               -0.0501                0.1362               -0.1074   \n",
              "1               -0.0238                0.0235                0.0630   \n",
              "2               -0.0581                0.0441               -0.0738   \n",
              "3               -0.0508                0.1513                0.0422   \n",
              "4                0.0413                0.0314                0.3491   \n",
              "\n",
              "   Accelerometer_X_std  Accelerometer_Y_std  Accelerometer_Z_std  \\\n",
              "0             0.411345             1.329707             1.652227   \n",
              "1             0.473926             1.269208             1.737421   \n",
              "2             0.451178             1.338867             1.489994   \n",
              "3             0.366340             1.283460             1.256306   \n",
              "4             0.384909             1.461653             1.292565   \n",
              "\n",
              "   Accelerometer_X_aad  Accelerometer_Y_aad  Accelerometer_Z_aad  \\\n",
              "0             0.249742             0.709128             0.872456   \n",
              "1             0.240424             0.687390             0.891820   \n",
              "2             0.249264             0.748058             0.836224   \n",
              "3             0.223736             0.748202             0.676344   \n",
              "4             0.210376             0.753904             0.830814   \n",
              "\n",
              "   Accelerometer_X_min  ...  y_skewness_fft  z_skewness_fft  x_kurtosis_fft  \\\n",
              "0                -1.32  ...        0.487418        0.865187       -0.088150   \n",
              "1                -1.32  ...        0.435005        0.116418       -0.292245   \n",
              "2                -1.32  ...        0.719629        0.583051       -0.097295   \n",
              "3                -1.11  ...        0.568458        0.702127       -0.443832   \n",
              "4                -1.03  ...        0.725103        0.261515        3.060121   \n",
              "\n",
              "   y_kurtosis_fft  z_kurtosis_fft  x_energy_fft  y_energy_fft  z_energy_fft  \\\n",
              "0       -0.493383        0.942164     17.286524    177.046412    273.372208   \n",
              "1       -0.639194       -0.763893     22.801612    161.099484    304.559464   \n",
              "2       -0.097409       -0.307146     21.020364    183.909068    223.462792   \n",
              "3       -0.187296       -0.391394     13.451512    165.085732    158.457780   \n",
              "4       -0.180932       -1.134896     14.878532    213.664120    170.770348   \n",
              "\n",
              "   avg_result_accl_fft    sma_fft  \n",
              "0            19.932179  30.038044  \n",
              "1            20.655770  31.470372  \n",
              "2            19.314010  29.638635  \n",
              "3            16.692628  25.495024  \n",
              "4            18.715903  28.164070  \n",
              "\n",
              "[5 rows x 94 columns]"
            ],
            "text/html": [
              "\n",
              "  <div id=\"df-6b2ef160-ab21-4688-8b2e-27396487406f\">\n",
              "    <div class=\"colab-df-container\">\n",
              "      <div>\n",
              "<style scoped>\n",
              "    .dataframe tbody tr th:only-of-type {\n",
              "        vertical-align: middle;\n",
              "    }\n",
              "\n",
              "    .dataframe tbody tr th {\n",
              "        vertical-align: top;\n",
              "    }\n",
              "\n",
              "    .dataframe thead th {\n",
              "        text-align: right;\n",
              "    }\n",
              "</style>\n",
              "<table border=\"1\" class=\"dataframe\">\n",
              "  <thead>\n",
              "    <tr style=\"text-align: right;\">\n",
              "      <th></th>\n",
              "      <th>Accelerometer_X_mean</th>\n",
              "      <th>Accelerometer_Y_mean</th>\n",
              "      <th>Accelerometer_Z_mean</th>\n",
              "      <th>Accelerometer_X_std</th>\n",
              "      <th>Accelerometer_Y_std</th>\n",
              "      <th>Accelerometer_Z_std</th>\n",
              "      <th>Accelerometer_X_aad</th>\n",
              "      <th>Accelerometer_Y_aad</th>\n",
              "      <th>Accelerometer_Z_aad</th>\n",
              "      <th>Accelerometer_X_min</th>\n",
              "      <th>...</th>\n",
              "      <th>y_skewness_fft</th>\n",
              "      <th>z_skewness_fft</th>\n",
              "      <th>x_kurtosis_fft</th>\n",
              "      <th>y_kurtosis_fft</th>\n",
              "      <th>z_kurtosis_fft</th>\n",
              "      <th>x_energy_fft</th>\n",
              "      <th>y_energy_fft</th>\n",
              "      <th>z_energy_fft</th>\n",
              "      <th>avg_result_accl_fft</th>\n",
              "      <th>sma_fft</th>\n",
              "    </tr>\n",
              "  </thead>\n",
              "  <tbody>\n",
              "    <tr>\n",
              "      <th>0</th>\n",
              "      <td>-0.0501</td>\n",
              "      <td>0.1362</td>\n",
              "      <td>-0.1074</td>\n",
              "      <td>0.411345</td>\n",
              "      <td>1.329707</td>\n",
              "      <td>1.652227</td>\n",
              "      <td>0.249742</td>\n",
              "      <td>0.709128</td>\n",
              "      <td>0.872456</td>\n",
              "      <td>-1.32</td>\n",
              "      <td>...</td>\n",
              "      <td>0.487418</td>\n",
              "      <td>0.865187</td>\n",
              "      <td>-0.088150</td>\n",
              "      <td>-0.493383</td>\n",
              "      <td>0.942164</td>\n",
              "      <td>17.286524</td>\n",
              "      <td>177.046412</td>\n",
              "      <td>273.372208</td>\n",
              "      <td>19.932179</td>\n",
              "      <td>30.038044</td>\n",
              "    </tr>\n",
              "    <tr>\n",
              "      <th>1</th>\n",
              "      <td>-0.0238</td>\n",
              "      <td>0.0235</td>\n",
              "      <td>0.0630</td>\n",
              "      <td>0.473926</td>\n",
              "      <td>1.269208</td>\n",
              "      <td>1.737421</td>\n",
              "      <td>0.240424</td>\n",
              "      <td>0.687390</td>\n",
              "      <td>0.891820</td>\n",
              "      <td>-1.32</td>\n",
              "      <td>...</td>\n",
              "      <td>0.435005</td>\n",
              "      <td>0.116418</td>\n",
              "      <td>-0.292245</td>\n",
              "      <td>-0.639194</td>\n",
              "      <td>-0.763893</td>\n",
              "      <td>22.801612</td>\n",
              "      <td>161.099484</td>\n",
              "      <td>304.559464</td>\n",
              "      <td>20.655770</td>\n",
              "      <td>31.470372</td>\n",
              "    </tr>\n",
              "    <tr>\n",
              "      <th>2</th>\n",
              "      <td>-0.0581</td>\n",
              "      <td>0.0441</td>\n",
              "      <td>-0.0738</td>\n",
              "      <td>0.451178</td>\n",
              "      <td>1.338867</td>\n",
              "      <td>1.489994</td>\n",
              "      <td>0.249264</td>\n",
              "      <td>0.748058</td>\n",
              "      <td>0.836224</td>\n",
              "      <td>-1.32</td>\n",
              "      <td>...</td>\n",
              "      <td>0.719629</td>\n",
              "      <td>0.583051</td>\n",
              "      <td>-0.097295</td>\n",
              "      <td>-0.097409</td>\n",
              "      <td>-0.307146</td>\n",
              "      <td>21.020364</td>\n",
              "      <td>183.909068</td>\n",
              "      <td>223.462792</td>\n",
              "      <td>19.314010</td>\n",
              "      <td>29.638635</td>\n",
              "    </tr>\n",
              "    <tr>\n",
              "      <th>3</th>\n",
              "      <td>-0.0508</td>\n",
              "      <td>0.1513</td>\n",
              "      <td>0.0422</td>\n",
              "      <td>0.366340</td>\n",
              "      <td>1.283460</td>\n",
              "      <td>1.256306</td>\n",
              "      <td>0.223736</td>\n",
              "      <td>0.748202</td>\n",
              "      <td>0.676344</td>\n",
              "      <td>-1.11</td>\n",
              "      <td>...</td>\n",
              "      <td>0.568458</td>\n",
              "      <td>0.702127</td>\n",
              "      <td>-0.443832</td>\n",
              "      <td>-0.187296</td>\n",
              "      <td>-0.391394</td>\n",
              "      <td>13.451512</td>\n",
              "      <td>165.085732</td>\n",
              "      <td>158.457780</td>\n",
              "      <td>16.692628</td>\n",
              "      <td>25.495024</td>\n",
              "    </tr>\n",
              "    <tr>\n",
              "      <th>4</th>\n",
              "      <td>0.0413</td>\n",
              "      <td>0.0314</td>\n",
              "      <td>0.3491</td>\n",
              "      <td>0.384909</td>\n",
              "      <td>1.461653</td>\n",
              "      <td>1.292565</td>\n",
              "      <td>0.210376</td>\n",
              "      <td>0.753904</td>\n",
              "      <td>0.830814</td>\n",
              "      <td>-1.03</td>\n",
              "      <td>...</td>\n",
              "      <td>0.725103</td>\n",
              "      <td>0.261515</td>\n",
              "      <td>3.060121</td>\n",
              "      <td>-0.180932</td>\n",
              "      <td>-1.134896</td>\n",
              "      <td>14.878532</td>\n",
              "      <td>213.664120</td>\n",
              "      <td>170.770348</td>\n",
              "      <td>18.715903</td>\n",
              "      <td>28.164070</td>\n",
              "    </tr>\n",
              "  </tbody>\n",
              "</table>\n",
              "<p>5 rows × 94 columns</p>\n",
              "</div>\n",
              "      <button class=\"colab-df-convert\" onclick=\"convertToInteractive('df-6b2ef160-ab21-4688-8b2e-27396487406f')\"\n",
              "              title=\"Convert this dataframe to an interactive table.\"\n",
              "              style=\"display:none;\">\n",
              "        \n",
              "  <svg xmlns=\"http://www.w3.org/2000/svg\" height=\"24px\"viewBox=\"0 0 24 24\"\n",
              "       width=\"24px\">\n",
              "    <path d=\"M0 0h24v24H0V0z\" fill=\"none\"/>\n",
              "    <path d=\"M18.56 5.44l.94 2.06.94-2.06 2.06-.94-2.06-.94-.94-2.06-.94 2.06-2.06.94zm-11 1L8.5 8.5l.94-2.06 2.06-.94-2.06-.94L8.5 2.5l-.94 2.06-2.06.94zm10 10l.94 2.06.94-2.06 2.06-.94-2.06-.94-.94-2.06-.94 2.06-2.06.94z\"/><path d=\"M17.41 7.96l-1.37-1.37c-.4-.4-.92-.59-1.43-.59-.52 0-1.04.2-1.43.59L10.3 9.45l-7.72 7.72c-.78.78-.78 2.05 0 2.83L4 21.41c.39.39.9.59 1.41.59.51 0 1.02-.2 1.41-.59l7.78-7.78 2.81-2.81c.8-.78.8-2.07 0-2.86zM5.41 20L4 18.59l7.72-7.72 1.47 1.35L5.41 20z\"/>\n",
              "  </svg>\n",
              "      </button>\n",
              "      \n",
              "  <style>\n",
              "    .colab-df-container {\n",
              "      display:flex;\n",
              "      flex-wrap:wrap;\n",
              "      gap: 12px;\n",
              "    }\n",
              "\n",
              "    .colab-df-convert {\n",
              "      background-color: #E8F0FE;\n",
              "      border: none;\n",
              "      border-radius: 50%;\n",
              "      cursor: pointer;\n",
              "      display: none;\n",
              "      fill: #1967D2;\n",
              "      height: 32px;\n",
              "      padding: 0 0 0 0;\n",
              "      width: 32px;\n",
              "    }\n",
              "\n",
              "    .colab-df-convert:hover {\n",
              "      background-color: #E2EBFA;\n",
              "      box-shadow: 0px 1px 2px rgba(60, 64, 67, 0.3), 0px 1px 3px 1px rgba(60, 64, 67, 0.15);\n",
              "      fill: #174EA6;\n",
              "    }\n",
              "\n",
              "    [theme=dark] .colab-df-convert {\n",
              "      background-color: #3B4455;\n",
              "      fill: #D2E3FC;\n",
              "    }\n",
              "\n",
              "    [theme=dark] .colab-df-convert:hover {\n",
              "      background-color: #434B5C;\n",
              "      box-shadow: 0px 1px 3px 1px rgba(0, 0, 0, 0.15);\n",
              "      filter: drop-shadow(0px 1px 2px rgba(0, 0, 0, 0.3));\n",
              "      fill: #FFFFFF;\n",
              "    }\n",
              "  </style>\n",
              "\n",
              "      <script>\n",
              "        const buttonEl =\n",
              "          document.querySelector('#df-6b2ef160-ab21-4688-8b2e-27396487406f button.colab-df-convert');\n",
              "        buttonEl.style.display =\n",
              "          google.colab.kernel.accessAllowed ? 'block' : 'none';\n",
              "\n",
              "        async function convertToInteractive(key) {\n",
              "          const element = document.querySelector('#df-6b2ef160-ab21-4688-8b2e-27396487406f');\n",
              "          const dataTable =\n",
              "            await google.colab.kernel.invokeFunction('convertToInteractive',\n",
              "                                                     [key], {});\n",
              "          if (!dataTable) return;\n",
              "\n",
              "          const docLinkHtml = 'Like what you see? Visit the ' +\n",
              "            '<a target=\"_blank\" href=https://colab.research.google.com/notebooks/data_table.ipynb>data table notebook</a>'\n",
              "            + ' to learn more about interactive tables.';\n",
              "          element.innerHTML = '';\n",
              "          dataTable['output_type'] = 'display_data';\n",
              "          await google.colab.output.renderOutput(dataTable, element);\n",
              "          const docLink = document.createElement('div');\n",
              "          docLink.innerHTML = docLinkHtml;\n",
              "          element.appendChild(docLink);\n",
              "        }\n",
              "      </script>\n",
              "    </div>\n",
              "  </div>\n",
              "  "
            ]
          },
          "metadata": {},
          "execution_count": 778
        }
      ]
    },
    {
      "cell_type": "markdown",
      "source": [
        "# Überwachenes Lernen"
      ],
      "metadata": {
        "id": "BE2jGJXu93ol"
      }
    },
    {
      "cell_type": "markdown",
      "source": [
        "### Logistisches Regressionsmodell mit featuren enginering sensordaten"
      ],
      "metadata": {
        "id": "-09YsoYmKr9u"
      }
    },
    {
      "cell_type": "code",
      "source": [
        "from sklearn.preprocessing import StandardScaler\n",
        "from sklearn.linear_model import LogisticRegression\n",
        "from sklearn.metrics import accuracy_score\n",
        "from sklearn.metrics import classification_report\n",
        "\n",
        "# transform array to numpy-array\n",
        "y_train = np.array(train_labels)\n",
        "y_test = np.array(test_labels)\n",
        "# standardization\n",
        "scaler = StandardScaler()\n",
        "scaler.fit(X_Train_accel)\n",
        "X_train_data_lr = scaler.transform(X_Train_accel)\n",
        "X_test_data_lr = scaler.transform(X_Test_accel)\n",
        "# logistic regression model\n",
        "loreg  = LogisticRegression(random_state = 21)\n",
        "loreg.fit(X_train_data_lr, y_train)\n",
        "y_pred = loreg.predict(X_test_data_lr)\n",
        "len(y_pred)\n",
        "print(\"Accuracy:\", accuracy_score(y_test, y_pred))\n",
        "print(\"\\n -------------Classification Report-------------\\n\")\n",
        "print(classification_report(y_test, y_pred))\n",
        "print(\"Accuracy:\", accuracy_score(y_test, y_pred))\n",
        "print(\"\\n -------------Classification Report-------------\\n\")\n",
        "print(classification_report(y_test, y_pred))"
      ],
      "metadata": {
        "colab": {
          "base_uri": "https://localhost:8080/"
        },
        "id": "5fOS0R7lK14-",
        "outputId": "9d7d0f56-1dee-4843-8794-a6b9061d5769"
      },
      "execution_count": 779,
      "outputs": [
        {
          "output_type": "stream",
          "name": "stdout",
          "text": [
            "Accuracy: 1.0\n",
            "\n",
            " -------------Classification Report-------------\n",
            "\n",
            "              precision    recall  f1-score   support\n",
            "\n",
            "           1       1.00      1.00      1.00         5\n",
            "\n",
            "    accuracy                           1.00         5\n",
            "   macro avg       1.00      1.00      1.00         5\n",
            "weighted avg       1.00      1.00      1.00         5\n",
            "\n",
            "Accuracy: 1.0\n",
            "\n",
            " -------------Classification Report-------------\n",
            "\n",
            "              precision    recall  f1-score   support\n",
            "\n",
            "           1       1.00      1.00      1.00         5\n",
            "\n",
            "    accuracy                           1.00         5\n",
            "   macro avg       1.00      1.00      1.00         5\n",
            "weighted avg       1.00      1.00      1.00         5\n",
            "\n"
          ]
        }
      ]
    },
    {
      "cell_type": "code",
      "source": [
        "\n"
      ],
      "metadata": {
        "id": "nj4wgngA1q2f"
      },
      "execution_count": 779,
      "outputs": []
    },
    {
      "cell_type": "markdown",
      "source": [
        "### SVM-Klassifikationsmodell ohne feature engineering"
      ],
      "metadata": {
        "id": "94sTbFNCrSHl"
      }
    },
    {
      "cell_type": "markdown",
      "metadata": {
        "id": "4Q8x7rjc1fC7"
      },
      "source": [
        "#### X und y in Trainings- und Validierungsmengen aufteilen"
      ]
    },
    {
      "cell_type": "code",
      "source": [
        "# Wähle nur die sensordaten\n",
        "X = df_sensordata.values[:, :-2]\n",
        "y = df_sensordata.values[:, -1]\n",
        "y=y.astype('int')\n",
        "y"
      ],
      "metadata": {
        "id": "SWtx3qOlg89F",
        "colab": {
          "base_uri": "https://localhost:8080/"
        },
        "outputId": "cd3bbff0-0ee6-47c8-8992-bb6f4d709b4f"
      },
      "execution_count": 780,
      "outputs": [
        {
          "output_type": "execute_result",
          "data": {
            "text/plain": [
              "array([0, 0, 0, ..., 1, 1, 1])"
            ]
          },
          "metadata": {},
          "execution_count": 780
        }
      ]
    },
    {
      "cell_type": "code",
      "source": [
        "from sklearn.preprocessing import StandardScaler\n",
        "\n",
        "scaler = StandardScaler()\n",
        "# The boolean feature does not need to be normalized.x\n",
        "X_norm = scaler.fit_transform(X)"
      ],
      "metadata": {
        "id": "BikcedkLiLO7"
      },
      "execution_count": 781,
      "outputs": []
    },
    {
      "cell_type": "code",
      "source": [
        "X_norm"
      ],
      "metadata": {
        "colab": {
          "base_uri": "https://localhost:8080/"
        },
        "id": "zLOjmc4tkHH2",
        "outputId": "cf0df9f5-6264-427d-be95-fd0e7b132a79"
      },
      "execution_count": 782,
      "outputs": [
        {
          "output_type": "execute_result",
          "data": {
            "text/plain": [
              "array([[ 0.14375128, -0.04158415, -0.06726032, ..., -0.39097179,\n",
              "        -0.48080457, -0.50957194],\n",
              "       [ 0.11764521, -0.04158415, -0.06726032, ..., -0.40354623,\n",
              "        -0.51333666, -0.50583263],\n",
              "       [ 0.06543309, -0.03393721, -0.06726032, ..., -0.40593378,\n",
              "        -0.51830972, -0.50801389],\n",
              "       ...,\n",
              "       [ 0.06543309, -0.03393721, -0.06726032, ..., -0.40450125,\n",
              "        -0.51582319, -0.50957194],\n",
              "       [ 0.06543309, -0.03393721, -0.06726032, ..., -0.40450125,\n",
              "        -0.51582319, -0.50957194],\n",
              "       [ 0.06543309, -0.03393721, -0.06726032, ..., -0.40466042,\n",
              "        -0.5160304 , -0.50926033]])"
            ]
          },
          "metadata": {},
          "execution_count": 782
        }
      ]
    },
    {
      "cell_type": "code",
      "execution_count": 783,
      "metadata": {
        "colab": {
          "base_uri": "https://localhost:8080/"
        },
        "id": "LoOAHICJ1iPr",
        "outputId": "298d5a30-5124-4344-c90f-ea4a73379e0c"
      },
      "outputs": [
        {
          "output_type": "execute_result",
          "data": {
            "text/plain": [
              "((1368, 9), (342, 9), (1368,), (342,))"
            ]
          },
          "metadata": {},
          "execution_count": 783
        }
      ],
      "source": [
        "from sklearn.model_selection import train_test_split\n",
        "\n",
        "X_train, X_valid, y_train, y_valid = train_test_split(X_norm, y, test_size = 0.2, random_state = 42)\n",
        "X_train.shape, X_valid.shape, y_train.shape, y_valid.shape"
      ]
    },
    {
      "cell_type": "markdown",
      "metadata": {
        "id": "QVypZ3I_2K-x"
      },
      "source": [
        "#### Hier sind y_valid die wahren Klassenbezeichnungen und y_pred die vorhergesagten Klassenbezeichnungen in der Testmenge.\n",
        "\n",
        "####SVM mit rbf-Kernel und C=1.0 ausführen\n",
        "\n",
        "Manchmal gibt es Ausreißer im Datensatz. In diesem Fall sollten wir den Wert von C erhöhen, da ein höheres C weniger Ausreißer bedeutet. Wir könnten also SVM mit Kernel=rbf und C=1.0 ausführen.\n",
        "\n"
      ]
    },
    {
      "cell_type": "code",
      "execution_count": 784,
      "metadata": {
        "id": "dGnZxOhV2KAl",
        "colab": {
          "base_uri": "https://localhost:8080/"
        },
        "outputId": "3131173b-eec6-411e-c44d-a51fe6178155"
      },
      "outputs": [
        {
          "output_type": "stream",
          "name": "stdout",
          "text": [
            "Model accuracy score with rbf kernel and C=100.0 : 0.9094\n",
            "compute time for  rbf C=100: 0.041 seconds\n"
          ]
        }
      ],
      "source": [
        "# instantiate classifier with rbf kernel and C=100\n",
        "svc = SVC(C=1) \n",
        "\n",
        "start_time = time.time()\n",
        "# fit classifier to training set\n",
        "svc.fit(X_train,y_train)\n",
        "\n",
        "# make predictions on test set\n",
        "y_pred = svc.predict(X_valid)\n",
        "elapsed_time = time.time() - start_time\n",
        "\n",
        "# compute and print accuracy score\n",
        "print('Model accuracy score with rbf kernel and C=100.0 : {0:0.4f}'. format(accuracy_score(y_valid, y_pred)))\n",
        "\n",
        "# estimate time\n",
        "print(f\"compute time for  rbf C=100: {elapsed_time:.3f} seconds\")"
      ]
    },
    {
      "cell_type": "markdown",
      "source": [
        "Wir sehen, dass wir mit C=1,0 eine höhere Genauigkeit erhalten, da ein höheres C weniger Ausreißer bedeutet. "
      ],
      "metadata": {
        "id": "KQmno9Nv76vH"
      }
    },
    {
      "cell_type": "markdown",
      "metadata": {
        "id": "eYUVo1GQ2bsm"
      },
      "source": [
        "####SVM mit rbf-Kernel und C=100.0 ausführen\n",
        "\n",
        "Jetzt werde ich den Wert von C=100 weiter erhöhen und die Genauigkeit überprüfen."
      ]
    },
    {
      "cell_type": "code",
      "execution_count": 785,
      "metadata": {
        "id": "po0ZPQF32ePI",
        "colab": {
          "base_uri": "https://localhost:8080/"
        },
        "outputId": "9be405e6-16bc-4a2e-b777-1931bb4069e1"
      },
      "outputs": [
        {
          "output_type": "stream",
          "name": "stdout",
          "text": [
            "Model accuracy score with rbf kernel and C=1000.0 : 0.8363\n",
            "compute time for rbf C=100: 0.056 seconds\n"
          ]
        }
      ],
      "source": [
        "# instantiate classifier with rbf kernel and C=1000\n",
        "svc=SVC(C=100) \n",
        "\n",
        "start_time = time.time()\n",
        "# fit classifier to training set\n",
        "svc.fit(X_train,y_train)\n",
        "# make predictions on test set\n",
        "y_pred = svc.predict(X_valid)\n",
        "elapsed_time = time.time() - start_time\n",
        "# compute and print accuracy score\n",
        "print('Model accuracy score with rbf kernel and C=1000.0 : {0:0.4f}'. format(accuracy_score(y_valid, y_pred)))\n",
        "# estimate time\n",
        "print(f\"compute time for rbf C=100: {elapsed_time:.3f} seconds\")"
      ]
    },
    {
      "cell_type": "markdown",
      "source": [
        "Wir sehen, dass wir mit C=100,0 eine gute Genauigkeit erhalten."
      ],
      "metadata": {
        "id": "l9rzaAxzFKr7"
      }
    },
    {
      "cell_type": "markdown",
      "source": [
        "####SVM mit rbf-Kernel und C=1000.0 ausführen\n",
        "\n",
        "Jetzt werde ich den Wert von C=1000 weiter erhöhen und die Genauigkeit überprüfen."
      ],
      "metadata": {
        "id": "etVppOWYE_5c"
      }
    },
    {
      "cell_type": "code",
      "source": [
        "# instantiate classifier with rbf kernel and C=1000\n",
        "svc=SVC(C=1000) \n",
        "\n",
        "start_time = time.time()\n",
        "# fit classifier to training set\n",
        "svc.fit(X_train,y_train)\n",
        "# make predictions on test set\n",
        "y_pred = svc.predict(X_valid)\n",
        "elapsed_time = time.time() - start_time\n",
        "# compute and print accuracy score\n",
        "print('Model accuracy score with rbf kernel and C=1000.0 : {0:0.4f}'. format(accuracy_score(y_valid, y_pred)))\n",
        "# estimate time\n",
        "print(f\"compute time for rbf C=100: {elapsed_time:.3f} seconds\")"
      ],
      "metadata": {
        "colab": {
          "base_uri": "https://localhost:8080/"
        },
        "id": "NVE9SjHrE6fc",
        "outputId": "8ad2687f-4374-4c2e-de62-83b7ce312ed0"
      },
      "execution_count": 786,
      "outputs": [
        {
          "output_type": "stream",
          "name": "stdout",
          "text": [
            "Model accuracy score with rbf kernel and C=1000.0 : 0.8246\n",
            "compute time for rbf C=100: 0.076 seconds\n"
          ]
        }
      ]
    },
    {
      "cell_type": "markdown",
      "source": [
        "Wir sehen, dass wir mit C=1000,0 eine höhere Genauigkeit erhalten, da ein höheres C weniger Ausreißer bedeutet. "
      ],
      "metadata": {
        "id": "2uXpKp7pFSVc"
      }
    },
    {
      "cell_type": "markdown",
      "metadata": {
        "id": "NpQ3n5Fs3fWE"
      },
      "source": [
        "#### Run SVM with linear kernel \n",
        "Run SVM with linear kernel and C=1.0"
      ]
    },
    {
      "cell_type": "code",
      "execution_count": 787,
      "metadata": {
        "id": "tUGYl-QC3h1M",
        "colab": {
          "base_uri": "https://localhost:8080/"
        },
        "outputId": "eaac40ec-5454-4bd0-9a6e-c8bd460d3b08"
      },
      "outputs": [
        {
          "output_type": "stream",
          "name": "stdout",
          "text": [
            "Model accuracy score with linear kernel and C=1.0 : 0.9094\n",
            "compute time for linear SVM C=1: 0.128 seconds\n"
          ]
        }
      ],
      "source": [
        "# instantiate classifier with linear kernel and C=1.0\n",
        "linear_svc=SVC(kernel='linear', C=1.0) \n",
        "\n",
        "start_time = time.time()\n",
        "# fit classifier to training set\n",
        "linear_svc.fit(X_train,y_train)\n",
        "# make predictions on test set\n",
        "y_pred_test=linear_svc.predict(X_valid)\n",
        "elapsed_time = time.time() - start_time\n",
        "\n",
        "# compute and print accuracy score\n",
        "print('Model accuracy score with linear kernel and C=1.0 : {0:0.4f}'. format(accuracy_score(y_valid, y_pred_test)))\n",
        "# estimate time\n",
        "print(f\"compute time for linear SVM C=1: {elapsed_time:.3f} seconds\")"
      ]
    },
    {
      "cell_type": "markdown",
      "source": [
        "#### Run SVM with linear kernel \n",
        "Run SVM with linear kernel and C=100.0"
      ],
      "metadata": {
        "id": "2zcMVWLyG720"
      }
    },
    {
      "cell_type": "code",
      "execution_count": 788,
      "metadata": {
        "id": "ypK-G_YD3u3P",
        "colab": {
          "base_uri": "https://localhost:8080/"
        },
        "outputId": "cfd0fb0c-fac3-4228-d3bf-b59d73cce6eb"
      },
      "outputs": [
        {
          "output_type": "stream",
          "name": "stdout",
          "text": [
            "Model accuracy score with linear kernel and C=100.0 : 0.8246\n",
            "compute time for linear SVM C=100: 3.800 seconds\n"
          ]
        }
      ],
      "source": [
        "# instantiate classifier with linear kernel and C=100.0\n",
        "linear_svc100=SVC(kernel='linear', C=100.0) \n",
        "\n",
        "start_time = time.time()\n",
        "# fit classifier to training set\n",
        "linear_svc100.fit(X_train, y_train)\n",
        "\n",
        "# make predictions on test set\n",
        "y_pred_test=linear_svc.predict(X_valid)\n",
        "elapsed_time = time.time() - start_time\n",
        "\n",
        "# compute and print accuracy score\n",
        "print('Model accuracy score with linear kernel and C=100.0 : {0:0.4f}'. format(accuracy_score(y_valid, y_pred)))\n",
        "# estimate time\n",
        "print(f\"compute time for linear SVM C=100: {elapsed_time:.3f} seconds\")"
      ]
    },
    {
      "cell_type": "markdown",
      "metadata": {
        "id": "vzwhPggs4Qwq"
      },
      "source": [
        "#### Run SVM with linear kernel and C=1000.0"
      ]
    },
    {
      "cell_type": "code",
      "source": [
        "# instantiate classifier with linear kernel and C=100.0\n",
        "linear_svc1000=SVC(kernel='linear', C=1000.0) \n",
        "\n",
        "start_time = time.time()\n",
        "# fit classifier to training set\n",
        "linear_svc1000.fit(X_train, y_train)\n",
        "\n",
        "# make predictions on test set\n",
        "y_pred_test=linear_svc.predict(X_valid)\n",
        "elapsed_time = time.time() - start_time\n",
        "\n",
        "# compute and print accuracy score\n",
        "print('Model accuracy score with linear kernel and C=100.0 : {0:0.4f}'. format(accuracy_score(y_valid, y_pred)))\n",
        "# estimate time\n",
        "print(f\"compute time for linear SVM C=100: {elapsed_time:.3f} seconds\")"
      ],
      "metadata": {
        "colab": {
          "base_uri": "https://localhost:8080/"
        },
        "id": "0OZ1iebsHLWw",
        "outputId": "f51ba85e-770d-4e3d-ae63-c2fe07f77b34"
      },
      "execution_count": 789,
      "outputs": [
        {
          "output_type": "stream",
          "name": "stdout",
          "text": [
            "Model accuracy score with linear kernel and C=100.0 : 0.8246\n",
            "compute time for linear SVM C=100: 23.252 seconds\n"
          ]
        }
      ]
    },
    {
      "cell_type": "markdown",
      "source": [
        "Wir können sehen, dass wir mit C=100.0 und C=1000.0 keine höhere Genauigkeit als mit C=1.0 erzielen können."
      ],
      "metadata": {
        "id": "e4LWuv0youVT"
      }
    },
    {
      "cell_type": "markdown",
      "metadata": {
        "id": "_knS0hWk9jPT"
      },
      "source": [
        "#### Plot hyperplane Linear SVM python"
      ]
    },
    {
      "cell_type": "code",
      "execution_count": null,
      "metadata": {
        "id": "l5zuTA6q9kp-"
      },
      "outputs": [],
      "source": [
        "# import matplotlib.pyplot as plt\n",
        "# from sklearn import svm\n",
        "\n",
        "# fig, ax = plt.subplots()\n",
        "# clf2 = svm.LinearSVC(C=1).fit(X_norm, y)\n",
        "\n",
        "# # get the separating hyperplane\n",
        "# w = clf2.coef_[0]\n",
        "# a = -w[0] / w[1]\n",
        "# xx = np.linspace(-5, 5)\n",
        "# yy = a * xx - (clf2.intercept_[0]) / w[1]\n",
        "\n",
        "# # create a mesh to plot in\n",
        "# x_min, x_max = X_norm[:, 0].min() - 1, X_norm[:, 0].max() + 1\n",
        "# y_min, y_max = X_norm[:, 1].min() - 1, X_norm[:, 1].max() + 1\n",
        "# xx2, yy2 = np.meshgrid(np.arange(x_min, x_max, .2),\n",
        "#                      np.arange(y_min, y_max, .2))\n",
        "# Z = clf2.predict(np.c_[xx2.ravel(), yy2.ravel()])\n",
        "\n",
        "# Z = Z.reshape(xx2.shape)\n",
        "# ax.contourf(xx2, yy2, Z, cmap=plt.cm.coolwarm, alpha=0.3)\n",
        "# ax.scatter(X_norm[:, 0], X_norm[:, 1], c=y, cmap=plt.cm.coolwarm, s=25)\n",
        "# ax.plot(xx,yy)\n",
        "\n",
        "# ax.axis([x_min, x_max,y_min, y_max])\n",
        "# plt.show()"
      ]
    },
    {
      "cell_type": "markdown",
      "source": [
        "#### Zeichnen Sie die Entscheidungsgrenzen-Hyperebene\n",
        "In dieser Visualisierung sind alle Beobachtungen der Klasse 0 schwarz und Beobachtungen der Klasse 1 hellgrau. Die Hyperebene ist die Entscheidungsgrenze, die darüber entscheidet, wie neue Beobachtungen klassifiziert werden. Insbesondere wird jede Beobachtung oberhalb der Linie als Klasse 0 klassifiziert, während jede Beobachtung unterhalb der Linie als Klasse 1 klassifiziert wird."
      ],
      "metadata": {
        "id": "x2V0RWxFE5hC"
      }
    },
    {
      "cell_type": "code",
      "source": [
        "# Plot data points and color using their class\n",
        "color = ['black' if c == 0 else 'lightgrey' for c in y]\n",
        "plt.scatter(X[:,0], X[:,1], c=color)\n",
        "\n",
        "# Create the hyperplane\n",
        "w = linear_svc.coef_[0]\n",
        "a = -w[0] / w[1]\n",
        "xx = np.linspace(-2.5, 2.5)\n",
        "yy = a * xx - (linear_svc.intercept_[0]) / w[1]\n",
        "\n",
        "# Plot the hyperplane\n",
        "plt.plot(xx, yy)\n",
        "plt.axis(\"off\"), plt.show();"
      ],
      "metadata": {
        "id": "j2mhx9C5Eudm",
        "colab": {
          "base_uri": "https://localhost:8080/",
          "height": 248
        },
        "outputId": "60bc8320-777f-48d3-e042-a0e1572e6b51"
      },
      "execution_count": 791,
      "outputs": [
        {
          "output_type": "display_data",
          "data": {
            "text/plain": [
              "<Figure size 432x288 with 1 Axes>"
            ],
            "image/png": "[encoded data removed]"
          },
          "metadata": {}
        }
      ]
    },
    {
      "cell_type": "code",
      "execution_count": 792,
      "metadata": {
        "id": "9ElIBMzv4QBA",
        "colab": {
          "base_uri": "https://localhost:8080/"
        },
        "outputId": "498adf03-e307-4d0a-ca22-b60de79231e6"
      },
      "outputs": [
        {
          "output_type": "stream",
          "name": "stdout",
          "text": [
            "Model accuracy score with linear kernel and C=1000.0 : 0.8246\n",
            "compute time for linear SVM C=100: 26.635 seconds\n"
          ]
        }
      ],
      "source": [
        "# instantiate classifier with linear kernel and C=1000.0\n",
        "linear_svc1000=SVC(kernel='linear', C=1000.0) \n",
        "\n",
        "# make predictions on test set\n",
        "start_time = time.time()\n",
        "# fit classifier to training set\n",
        "linear_svc1000.fit(X_train, y_train)\n",
        "\n",
        "y_pred_test=linear_svc.predict(X_valid)\n",
        "elapsed_time = time.time() - start_time\n",
        "\n",
        "\n",
        "# compute and print accuracy score\n",
        "print('Model accuracy score with linear kernel and C=1000.0 : {0:0.4f}'. format(accuracy_score(y_valid, y_pred)))\n",
        "# estimate time\n",
        "print(f\"compute time for linear SVM C=100: {elapsed_time:.3f} seconds\")"
      ]
    },
    {
      "cell_type": "markdown",
      "metadata": {
        "id": "4NeMYMvg8rXU"
      },
      "source": [
        "#### SVM mit sigmoidem Kernel ausführen\n",
        "SVM mit sigmoidem Kernel und C=1.0 ausführen"
      ]
    },
    {
      "cell_type": "code",
      "execution_count": 793,
      "metadata": {
        "id": "N3EUeLJA8qiM",
        "colab": {
          "base_uri": "https://localhost:8080/"
        },
        "outputId": "1338c35f-1c14-4fab-fb4b-0ca7c048112b"
      },
      "outputs": [
        {
          "output_type": "stream",
          "name": "stdout",
          "text": [
            "Model accuracy score with sigmoid kernel and C=1.0 : 0.8450\n",
            "compute time for sigmoid SVM C=11: 0.004 seconds\n"
          ]
        }
      ],
      "source": [
        "# instantiate classifier with sigmoid kernel and C=1.0\n",
        "sigmoid_svc=SVC(kernel='sigmoid', C=1.0) \n",
        "\n",
        "# fit classifier to training set\n",
        "sigmoid_svc.fit(X_train,y_train)\n",
        "\n",
        "# make predictions on test set\n",
        "start_time = time.time()\n",
        "y_pred=sigmoid_svc.predict(X_valid)\n",
        "elapsed_time = time.time() - start_time\n",
        "\n",
        "# compute and print accuracy score\n",
        "print('Model accuracy score with sigmoid kernel and C=1.0 : {0:0.4f}'. format(accuracy_score(y_valid, y_pred)))\n",
        "# estimate time\n",
        "print(f\"compute time for sigmoid SVM C=11: {elapsed_time:.3f} seconds\")"
      ]
    },
    {
      "cell_type": "markdown",
      "metadata": {
        "id": "ALaEzrVI75vl"
      },
      "source": [
        "#### SVM mit polynomialem Kernel ausführen\n",
        "SVM mit polynomialem Kernel und C=1.0 ausführen"
      ]
    },
    {
      "cell_type": "code",
      "execution_count": 794,
      "metadata": {
        "id": "aBAKUmk18LW8",
        "colab": {
          "base_uri": "https://localhost:8080/"
        },
        "outputId": "1d4c86d1-c752-416d-d557-0c5feef12bb0"
      },
      "outputs": [
        {
          "output_type": "stream",
          "name": "stdout",
          "text": [
            "Model accuracy score with polynomial kernel and C=1.0 : 0.8450\n",
            "compute time for poly SVM C=100: 0.004 seconds\n"
          ]
        }
      ],
      "source": [
        "# instantiate classifier with polynomial kernel and C=1.0\n",
        "poly_svc=SVC(kernel='poly', C=1.0) \n",
        "\n",
        "# fit classifier to training set\n",
        "poly_svc.fit(X_train,y_train)\n",
        "\n",
        "# make predictions on test set\n",
        "start_time = time.time()\n",
        "y_pred_test=poly_svc.predict(X_valid)\n",
        "elapsed_time = time.time() - start_time\n",
        "\n",
        "# compute and print accuracy score\n",
        "print('Model accuracy score with polynomial kernel and C=1.0 : {0:0.4f}'. format(accuracy_score(y_valid, y_pred)))\n",
        "# estimate time\n",
        "print(f\"compute time for poly SVM C=100: {elapsed_time:.3f} seconds\")"
      ]
    },
    {
      "cell_type": "markdown",
      "metadata": {
        "id": "axC60Oi88mAl"
      },
      "source": [
        "Der polynomiale Kernel liefert eine schlechte Leistung. Möglicherweise passt er sich zu stark an die Trainingsmenge an."
      ]
    },
    {
      "cell_type": "markdown",
      "metadata": {
        "id": "DFsKqqqM8X0r"
      },
      "source": [
        "#### SVM mit polynomialem Kernel und C=100.0 ausführen"
      ]
    },
    {
      "cell_type": "code",
      "execution_count": 795,
      "metadata": {
        "id": "gnh9blia8aQc",
        "colab": {
          "base_uri": "https://localhost:8080/"
        },
        "outputId": "01ce1085-739f-4ead-e423-8035729e71c0"
      },
      "outputs": [
        {
          "output_type": "stream",
          "name": "stdout",
          "text": [
            "Model accuracy score with polynomial kernel and C=1.0 : 0.8450\n",
            "compute time for poly SVM C=100: 0.003 seconds\n"
          ]
        }
      ],
      "source": [
        "# instantiate classifier with polynomial kernel and C=100.0\n",
        "poly_svc100=SVC(kernel='poly', C=100.0) \n",
        "\n",
        "# fit classifier to training set\n",
        "poly_svc100.fit(X_train, y_train)\n",
        "\n",
        "# make predictions on test set\n",
        "start_time = time.time()\n",
        "y_pred_test=poly_svc100.predict(X_valid)\n",
        "elapsed_time = time.time() - start_time\n",
        "\n",
        "# compute and print accuracy score\n",
        "print('Model accuracy score with polynomial kernel and C=1.0 : {0:0.4f}'. format(accuracy_score(y_valid, y_pred)))\n",
        "# estimate time\n",
        "print(f\"compute time for poly SVM C=100: {elapsed_time:.3f} seconds\")"
      ]
    },
    {
      "cell_type": "markdown",
      "metadata": {
        "id": "uG5UVlfe7JGb"
      },
      "source": [
        "\n",
        "#### Vergleich der Genauigkeit von Trainings- und Testsatz\n",
        "Jetzt vergleiche ich die Genauigkeit des Trainings- und des Testsatzes, um zu prüfen, ob die Anpassung zu hoch ist."
      ]
    },
    {
      "cell_type": "code",
      "execution_count": 796,
      "metadata": {
        "id": "LD2XqxB27Vpr",
        "colab": {
          "base_uri": "https://localhost:8080/"
        },
        "outputId": "939ad6b7-ec53-4ca6-d291-e6f27ba38ef1"
      },
      "outputs": [
        {
          "output_type": "stream",
          "name": "stdout",
          "text": [
            "Training-set accuracy score: 0.8947\n"
          ]
        }
      ],
      "source": [
        "y_pred_train = linear_svc.predict(X_train)\n",
        "\n",
        "y_pred_train\n",
        "print('Training-set accuracy score: {0:0.4f}'. format(accuracy_score(y_train, y_pred_train)))"
      ]
    },
    {
      "cell_type": "markdown",
      "metadata": {
        "id": "zgtlwgtk7iDX"
      },
      "source": [
        "Wir sehen, dass die Genauigkeit des Trainingssets und des Test-Sets sehr vergleichbar sind."
      ]
    },
    {
      "cell_type": "markdown",
      "metadata": {
        "id": "dedbdUfE7gKo"
      },
      "source": [
        "#### Überprüfung auf Über- und Unteranpassung"
      ]
    },
    {
      "cell_type": "code",
      "execution_count": 797,
      "metadata": {
        "id": "vc8RwJ2l7ZK9",
        "colab": {
          "base_uri": "https://localhost:8080/"
        },
        "outputId": "dbd61643-ea80-4b1d-d609-6f74725e77b0"
      },
      "outputs": [
        {
          "output_type": "stream",
          "name": "stdout",
          "text": [
            "Training set score: 0.8947\n",
            "Validation set score: 0.9094\n"
          ]
        }
      ],
      "source": [
        "print('Training set score: {:.4f}'.format(linear_svc.score(X_train, y_train)))\n",
        "\n",
        "print('Validation set score: {:.4f}'.format(linear_svc.score(X_valid, y_valid)))"
      ]
    },
    {
      "cell_type": "markdown",
      "source": [
        "#### In diesem Diagramm sehen Sie die Trainings- und Validierungsergebnisse einer SVM für verschiedene Werte des Kernelparameters Gamma."
      ],
      "metadata": {
        "id": "EptuUbvxp7oQ"
      }
    },
    {
      "cell_type": "markdown",
      "source": [
        " Bei sehr niedrigen Gammawerten können Sie sehen, dass sowohl der Trainingswert als auch der Validierungswert niedrig sind. Das nennt man Underfitting. Mittlere Gamma-Werte führen zu hohen Werten für beide Bewertungen, d. h. der Klassifikator arbeitet ziemlich gut. Wenn Gamma zu hoch ist, wird der Klassifikator überangepasst, was bedeutet, dass die Trainingspunktzahl gut, aber die Validierungspunktzahl schlecht ist."
      ],
      "metadata": {
        "id": "JwKm4lRGqBXD"
      }
    },
    {
      "cell_type": "code",
      "execution_count": 799,
      "metadata": {
        "id": "rC8gpEuG9X8M",
        "colab": {
          "base_uri": "https://localhost:8080/",
          "height": 301
        },
        "outputId": "1d217e14-7226-4378-dd21-dc69cb392d46"
      },
      "outputs": [
        {
          "output_type": "display_data",
          "data": {
            "text/plain": [
              "<Figure size 432x288 with 1 Axes>"
            ],
            "image/png": "[encoded data removed]"
          },
          "metadata": {}
        }
      ],
      "source": [
        "from sklearn.model_selection import validation_curve\n",
        "\n",
        "param_range = np.logspace(-6, -1, 5)\n",
        "train_scores, test_scores = validation_curve(\n",
        "    SVC(),\n",
        "    X_norm,\n",
        "    y,\n",
        "    param_name=\"gamma\",\n",
        "    param_range=param_range,\n",
        "    scoring=\"accuracy\",\n",
        "    n_jobs=2,\n",
        ")\n",
        "train_scores_mean = np.mean(train_scores, axis=1)\n",
        "train_scores_std = np.std(train_scores, axis=1)\n",
        "test_scores_mean = np.mean(test_scores, axis=1)\n",
        "test_scores_std = np.std(test_scores, axis=1)\n",
        "\n",
        "plt.title(\"Validation Curve with SVM\")\n",
        "plt.xlabel(r\"$\\gamma$\")\n",
        "plt.ylabel(\"Score\")\n",
        "plt.ylim(0.0, 1.1)\n",
        "lw = 2\n",
        "plt.semilogx(\n",
        "    param_range, train_scores_mean, label=\"Training score\", color=\"darkorange\", lw=lw\n",
        ")\n",
        "plt.fill_between(\n",
        "    param_range,\n",
        "    train_scores_mean - train_scores_std,\n",
        "    train_scores_mean + train_scores_std,\n",
        "    alpha=0.2,\n",
        "    color=\"darkorange\",\n",
        "    lw=lw,\n",
        ")\n",
        "plt.semilogx(\n",
        "    param_range, test_scores_mean, label=\"Cross-validation score\", color=\"navy\", lw=lw\n",
        ")\n",
        "plt.fill_between(\n",
        "    param_range,\n",
        "    test_scores_mean - test_scores_std,\n",
        "    test_scores_mean + test_scores_std,\n",
        "    alpha=0.2,\n",
        "    color=\"navy\",\n",
        "    lw=lw,\n",
        ")\n",
        "plt.legend(loc=\"best\")\n",
        "plt.show()"
      ]
    },
    {
      "cell_type": "markdown",
      "metadata": {
        "id": "OojTsMCT1l7T"
      },
      "source": [
        "#### Scikit-learn definiert eine einfache API zum Erstellen von Visualisierungen für maschinelles Lernen."
      ]
    },
    {
      "cell_type": "markdown",
      "source": [
        " Das Hauptmerkmal dieser API besteht darin, schnelles Plotten und visuelle Anpassungen ohne Neuberechnung zu ermöglichen. Wir stellen DisplayKlassen bereit, die zwei Methoden zum Erstellen von Diagrammen verfügbar machen: from_estimator und from_predictions. Die from_estimatorMethode nimmt einen angepassten Schätzer und einige Daten ( X und y) und erstellt ein DisplayObjekt. Manchmal möchten wir die Vorhersagen nur einmal berechnen und sollten sie from_predictions stattdessen verwenden. wir zeichnen eine ROC-Kurve für eine angepasste Support-Vektor-Maschine:"
      ],
      "metadata": {
        "id": "vtZegcdXqLH3"
      }
    },
    {
      "cell_type": "code",
      "execution_count": 800,
      "metadata": {
        "id": "vepvD1i91oZ7",
        "colab": {
          "base_uri": "https://localhost:8080/",
          "height": 279
        },
        "outputId": "d356b0fd-8ab4-4525-fa4e-16c83a66a269"
      },
      "outputs": [
        {
          "output_type": "display_data",
          "data": {
            "text/plain": [
              "<Figure size 432x288 with 1 Axes>"
            ],
            "image/png": "[encoded data removed]"
          },
          "metadata": {}
        }
      ],
      "source": [
        "import time\n",
        "from sklearn.model_selection import train_test_split\n",
        "from sklearn.svm import SVC\n",
        "from sklearn.metrics import RocCurveDisplay\n",
        "\n",
        "\n",
        "X_train, X_test, y_train, y_test = train_test_split(X_norm, y, random_state=42)\n",
        "svc = SVC(random_state=42)\n",
        "svc.fit(X_train, y_train)\n",
        "\n",
        "svc_disp = RocCurveDisplay.from_estimator(svc, X_test, y_test)"
      ]
    },
    {
      "cell_type": "markdown",
      "metadata": {
        "id": "alFyE1H382vm"
      },
      "source": [
        "#### SVM mit sigmoidem Kernel und C=100.0 ausführen"
      ]
    },
    {
      "cell_type": "code",
      "execution_count": 801,
      "metadata": {
        "id": "-47hUDxC85Xn",
        "colab": {
          "base_uri": "https://localhost:8080/"
        },
        "outputId": "377e6e7e-f512-428d-a867-652fae860a0e"
      },
      "outputs": [
        {
          "output_type": "stream",
          "name": "stdout",
          "text": [
            "Model accuracy score with sigmoid kernel and C=100.0 : 0.8450\n",
            "compute time for sigmoid SVM C=100: 0.004 seconds\n"
          ]
        }
      ],
      "source": [
        "# instantiate classifier with sigmoid kernel and C=100.0\n",
        "sigmoid_svc100=SVC(kernel='sigmoid', C=100.0) \n",
        "\n",
        "# fit classifier to training set\n",
        "sigmoid_svc100.fit(X_train,y_train)\n",
        "\n",
        "# make predictions on test set\n",
        "start_time = time.time()\n",
        "y_pred=sigmoid_svc.predict(X_valid)\n",
        "elapsed_time = time.time() - start_time\n",
        "\n",
        "# compute and print accuracy score\n",
        "print('Model accuracy score with sigmoid kernel and C=100.0 : {0:0.4f}'. format(accuracy_score(y_valid, y_pred)))\n",
        "print(f\"compute time for sigmoid SVM C=100: {elapsed_time:.3f} seconds\")"
      ]
    },
    {
      "cell_type": "markdown",
      "metadata": {
        "id": "bPGGgLUT9C5V"
      },
      "source": [
        "Es ist zu erkennen, dass der Sigmoid-Kernel genauso schlecht abschneidet wie der Polynom-Kernel."
      ]
    },
    {
      "cell_type": "markdown",
      "source": [
        "### Zusammenfassung\n",
        "Wir erhalten die höchste Genauigkeit mit`linear` Kernel mit C=1.0.  die Genauigkeit von über 90%. Aus der obigen Analyse können wir schließen, dass die Genauigkeit unseres Klassifizierungsmodells sehr gut ist. Unser Modell leistet eine sehr gute Arbeit bei der Vorhersage der Klassenbezeichnungen.\n"
      ],
      "metadata": {
        "id": "mYort82TOJlW"
      }
    },
    {
      "cell_type": "markdown",
      "metadata": {
        "id": "SSm5Yogg8_72"
      },
      "source": [
        "#### Hyperparameter-Abstimmung mit Gittersuche und Kreuzvalidierung"
      ]
    },
    {
      "cell_type": "code",
      "execution_count": 802,
      "metadata": {
        "id": "eFnGYZDT9FUn"
      },
      "outputs": [],
      "source": [
        "# Create the parameter grid based on the results of random search \n",
        "params_grid = [{'kernel': ['rbf'], 'gamma': [1e-3, 1e-4],\n",
        "                     'C': [1, 10, 100, 1000]},\n",
        "                    {'kernel': ['linear'], 'C': [1, 10, 100, 1000]}]"
      ]
    },
    {
      "cell_type": "code",
      "execution_count": null,
      "metadata": {
        "id": "UF0rmCVg9Hep"
      },
      "outputs": [],
      "source": [
        "# Performing CV to tune parameters for best SVM fit \n",
        "start_time = time.time()\n",
        "\n",
        "\n",
        "svm_model = GridSearchCV(SVC(), params_grid, cv=5)\n",
        "\n",
        "clf = svm_model.fit(X_train, y_train)\n",
        "elapsed_time = time.time() - start_time\n",
        "print(f\"compute time for parameters tune for best SVM : {elapsed_time:.3f} seconds\")"
      ]
    },
    {
      "cell_type": "markdown",
      "source": [
        "#### Nach der Anpassung kann das Modell dann verwendet werden, um label von neue Sensordaten vorherzusagen"
      ],
      "metadata": {
        "id": "ZaKncvqzQEiE"
      }
    },
    {
      "cell_type": "code",
      "source": [
        "print(clf.predict([[0.14342208, -0.03019968, -0.04442681, -0.23942335, -0.52969269,\n",
        "       -0.66097646, -0.00215101,  0.01493005, -0.03802191]]))"
      ],
      "metadata": {
        "id": "Tzt_PC6PQD6A"
      },
      "execution_count": null,
      "outputs": []
    },
    {
      "cell_type": "markdown",
      "metadata": {
        "id": "imVS7XnW9K4M"
      },
      "source": [
        "#### Konfusionsmatrix und Genauigkeitswert"
      ]
    },
    {
      "cell_type": "code",
      "execution_count": null,
      "metadata": {
        "id": "9tXTpBga9KpD"
      },
      "outputs": [],
      "source": [
        "# from sklearn import preprocessing\n",
        "\n",
        "# le = preprocessing.LabelEncoder()\n",
        "# le.fit([1, 2, 2, 6])\n",
        "# View the accuracy score\n",
        "print('Best score for training data:', svm_model.best_score_,\"\\n\") \n",
        "\n",
        "# View the best parameters for the model found using grid search\n",
        "print('Best C:',svm_model.best_estimator_.C,\"\\n\") \n",
        "print('Best Kernel:',svm_model.best_estimator_.kernel,\"\\n\")\n",
        "print('Best Gamma:',svm_model.best_estimator_.gamma,\"\\n\")\n",
        "start_time = time.time()\n",
        "\n",
        "final_model = svm_model.best_estimator_\n",
        "Y_pred = final_model.predict(X_valid)\n",
        "Y_pred_label = list(encoder.inverse_transform(Y_pred))\n",
        "elapsed_time = time.time() - start_time\n",
        "print(f\"compute the for best kernel for svm : {elapsed_time:.3f} seconds\")\n",
        "#Y_pred_label"
      ]
    },
    {
      "cell_type": "code",
      "execution_count": null,
      "metadata": {
        "id": "b5kgCBHn9Q1C"
      },
      "outputs": [],
      "source": [
        "# Making the Confusion Matrix\n",
        "#print(pd.crosstab(Y_test_label, Y_pred_label, rownames=['Actual Activity'], colnames=['Predicted Activity']))\n",
        "print(confusion_matrix(y_valid,Y_pred))\n",
        "print(\"\\n\")\n",
        "print(classification_report(y_valid,Y_pred))\n",
        "\n",
        "print(\"Training set score for SVM: %f\" % final_model.score(X_train , y_train,  zero_division=1))\n",
        "print(\"Validation set score for SVM: %f\" % final_model.score(X_valid  , y_valid, zero_division=1 ))"
      ]
    },
    {
      "cell_type": "markdown",
      "metadata": {
        "id": "IkZYU78X1yX2"
      },
      "source": [
        "#### SVM model speichern Linear SVM\n",
        "speicherrun des modells und testen des Modells"
      ]
    },
    {
      "cell_type": "code",
      "execution_count": null,
      "metadata": {
        "id": "o10wQ0x119dE"
      },
      "outputs": [],
      "source": [
        "import pickle\n",
        "# instantiate classifier with default hyperparameters\n",
        "svc = SVC() \n",
        "start_time = time.time()\n",
        "# fit classifier to training set\n",
        "svc.fit(X_train,y_train)\n",
        "# save the model to disk\n",
        "filename = 'finalized_model.sav'\n",
        "pickle.dump(svc, open(filename, 'wb'))\n",
        "# make predictions on test set\n",
        "y_pred = svc.predict(X_valid)\n",
        "elapsed_time = time.time() - start_time\n",
        "print(f\"compute time for  svm with standard parameter: {elapsed_time:.3f} seconds\")\n",
        "# compute and print accuracy score\n",
        "print('Model accuracy score with default hyperparameters: {0:0.4f}'. format(accuracy_score(y_valid, y_pred)))\n",
        "# load the model from disk\n",
        "loaded_model = pickle.load(open(filename, 'rb'))\n",
        "result = loaded_model.score(X_valid, y_valid)\n",
        "print(result)"
      ]
    },
    {
      "cell_type": "code",
      "source": [
        "#Import scikit-learn metrics module for accuracy calculation\n",
        "from sklearn import metrics\n",
        "# Model Accuracy: how often is the classifier correct?\n",
        "print(\"Accuracy:\",metrics.accuracy_score(y_valid, y_pred))\n",
        "\n",
        "# Model Precision: what percentage of positive tuples are labeled as such?\n",
        "print(\"Precision:\",metrics.precision_score(y_valid, y_pred))\n",
        "\n",
        "# Model Recall: what percentage of positive tuples are labelled as such?\n",
        "print(\"Recall:\",metrics.recall_score(y_valid, y_pred))"
      ],
      "metadata": {
        "id": "MnIVy9n0GnxU"
      },
      "execution_count": null,
      "outputs": []
    },
    {
      "cell_type": "markdown",
      "metadata": {
        "id": "tN68_GhOW2z6"
      },
      "source": [
        "##### Zur weiteren Auswertung können Sie auch die Genauigkeit und den Wiedererkennungswert des Modells überprüfen."
      ]
    },
    {
      "cell_type": "markdown",
      "metadata": {
        "id": "XAdyxUxM1rTQ"
      },
      "source": [
        "### Random-Forest-Klassifikator und zeichnen die zuvor berechnete Roc-Kurve erneut, indem wir die plotMethode des DisplayObjekts verwenden."
      ]
    },
    {
      "cell_type": "code",
      "execution_count": null,
      "metadata": {
        "id": "mM63NgqP1tHk"
      },
      "outputs": [],
      "source": [
        "import matplotlib.pyplot as plt\n",
        "from sklearn.ensemble import RandomForestClassifier\n",
        "\n",
        "rfc = RandomForestClassifier(n_estimators=10, random_state=42)\n",
        "rfc.fit(X_train, y_train)\n",
        "\n",
        "ax = plt.gca()\n",
        "rfc_disp = RocCurveDisplay.from_estimator(rfc, X_valid, y_valid, ax=ax, alpha=0.8)\n",
        "svc_disp.plot(ax=ax, alpha=0.8)"
      ]
    },
    {
      "cell_type": "markdown",
      "metadata": {
        "id": "7miUmLmcLtNw"
      },
      "source": [
        "### Logistik Regession-Modell ohne featuren enginering für die sensordaten"
      ]
    },
    {
      "cell_type": "code",
      "source": [
        "from sklearn.datasets import make_classification\n",
        "from sklearn.linear_model import LogisticRegression\n",
        "from sklearn.model_selection import train_test_split\n",
        "from sklearn.pipeline import make_pipeline\n",
        "from sklearn.preprocessing import StandardScaler\n",
        "\n",
        "start_time = time.time()\n",
        "pipe = make_pipeline(StandardScaler(), LogisticRegression())\n",
        "pipe.fit(X_train, y_valid)  # apply scaling on training data\n",
        "\n",
        "\n",
        "elapsed_time = time.time() - start_time\n",
        "print('Model Genauigkeit score für Logistik Regression : {0:0.4f}'. format(pipe.score(X_test, y_valid)))\n",
        "print('Wahrscheinlickeit für Logistik Regression einen Nutzer zu erkennen : {0:0.4f}'. format(pipe.predict_proba(X_test)))\n",
        "print(f\"Berechnungszeit der Logitik Regression: {elapsed_time:.3f} seconds\")\n",
        "# Nun trainieren wir ein logistisches Regressionsmodell:\n",
        "log_reg = LogisticRegression()\n",
        "# Modell trainieren\n",
        "log_reg.fit(X, y)\n",
        "# geschätzten Wahrscheinlichkeiten der Nutzer ermiiteln\n",
        "X_new = np.linspace(0, 3, 1000).reshape(-1, 1)\n",
        "y_proba = log_reg.predict_proba(X_new)\n",
        "plt.plot(X_new, y_proba[:, 1], \"g-\", label=\"illegitimerUser\")\n",
        "plt.plot(X_new, y_proba[:, 0], \"b--\", label=\"legitimerUser\")"
      ],
      "metadata": {
        "id": "dzdNv_9X8Qrp"
      },
      "execution_count": null,
      "outputs": []
    },
    {
      "cell_type": "markdown",
      "metadata": {
        "id": "WQ37U9uGUbej"
      },
      "source": [
        "### KNN-Klassifikatormodell"
      ]
    },
    {
      "cell_type": "code",
      "execution_count": null,
      "metadata": {
        "id": "yIpcTvj0Lsky"
      },
      "outputs": [],
      "source": [
        "from sklearn.neighbors import KNeighborsClassifier\n",
        "\n",
        "model = KNeighborsClassifier(n_neighbors=3)\n",
        "\n",
        "start_time = time.time()\n",
        "# Train the model using the training sets\n",
        "model.fit(X_train,y_train)\n",
        "elapsed_time = time.time() - start_time\n",
        "#Predict Output\n",
        "predicted= model.predict([[0.14342208, -0.03019968, -0.04442681, -0.23942335, -0.52969269,\n",
        "       -0.66097646, -0.00215101,  0.01493005, -0.03802191]]) # Numpay Array daten einen neuen Datensatz nicht trainiert\n",
        "print('Die Vorhergesate Klasse ist : ', predicted)\n",
        "print(f\"Elapsed time to compute the importances: {elapsed_time:.3f} seconds\")"
      ]
    },
    {
      "cell_type": "markdown",
      "metadata": {
        "id": "8mWeF24jMI-c"
      },
      "source": [
        "# Unüberwaches Lernen: \n",
        "\n"
      ]
    },
    {
      "cell_type": "markdown",
      "source": [
        "## Clustering: KMeans mit 2 Cluster"
      ],
      "metadata": {
        "id": "LLtVOCMS9VqT"
      }
    },
    {
      "cell_type": "markdown",
      "source": [
        "### Trainieren wir ein K-Means-Cluster mit diesem Datensatz"
      ],
      "metadata": {
        "id": "v-PYYqvK9uFJ"
      }
    },
    {
      "cell_type": "code",
      "execution_count": null,
      "metadata": {
        "id": "tIIMA9UoQJ8S"
      },
      "outputs": [],
      "source": [
        "from sklearn.cluster import KMeans\n",
        "# calculate distortion for a range of number of cluster\n",
        "distortions = []\n",
        "for i in range(0, 1):\n",
        "    kmeans = KMeans(\n",
        "        n_clusters=i, init='random',\n",
        "        n_init=10, max_iter=300,\n",
        "        tol=1e-04, random_state=0\n",
        "    )\n",
        "    kmeans.fit(X_norm)\n",
        "    distortions.append(kmeans.inertia_)\n",
        "\n",
        "# plot\n",
        "plt.plot(range(0, 1), distortions, marker='o')\n",
        "plt.xlabel('Number of clusters')\n",
        "plt.ylabel('Distortion')\n",
        "plt.show()"
      ]
    },
    {
      "cell_type": "markdown",
      "source": [
        "#### initialisierung einer prediktiver Variable"
      ],
      "metadata": {
        "id": "08TMFDIP-Iql"
      }
    },
    {
      "cell_type": "code",
      "source": [
        "y_pred = kmeans.fit_predict(X)\n",
        "y_pred is kmeans.labels_"
      ],
      "metadata": {
        "id": "kfcYg3gh-IPR"
      },
      "execution_count": null,
      "outputs": []
    },
    {
      "cell_type": "markdown",
      "source": [
        "#### Schwerpunkten anschauen"
      ],
      "metadata": {
        "id": "IBu4ic4E-DBA"
      }
    },
    {
      "cell_type": "code",
      "source": [
        "kmeans.cluster_centers_"
      ],
      "metadata": {
        "id": "8nn9bpQ_-CUq"
      },
      "execution_count": null,
      "outputs": []
    },
    {
      "cell_type": "markdown",
      "source": [
        "### Neue Features lassen sich leicht dem Cluster zuweisen  und deren Schwerpunkt"
      ],
      "metadata": {
        "id": "BxHcPJ5o-ctE"
      }
    },
    {
      "cell_type": "code",
      "source": [
        "X_new = np.array([[0.14342208, -0.03019968, -0.04442681, -0.23942335, -0.52969269,\n",
        "       -0.66097646, -0.00215101,  0.01493005, -0.03802191]])\n",
        "kmeans.predict(X_new)"
      ],
      "metadata": {
        "id": "z--P1Otl-Xqc"
      },
      "execution_count": null,
      "outputs": []
    },
    {
      "cell_type": "code",
      "execution_count": null,
      "metadata": {
        "id": "oaU-njJtL8vf"
      },
      "outputs": [],
      "source": [
        "# plot the 6 clusters\n",
        "plt.scatter(\n",
        "    X[y_pred == 0, 0], X[y_pred == 0, 1],\n",
        "    s=50, c='blue',\n",
        "    marker='s', edgecolor='black',\n",
        "    label='cluster 1'\n",
        ")\n",
        "\n",
        "plt.scatter(\n",
        "    X[y_pred == 1, 0], X[y_pred == 1, 1],\n",
        "    s=50, c='orange',\n",
        "    marker='o', edgecolor='black',\n",
        "    label='cluster 2'\n",
        ")\n",
        "\n",
        "# plt.scatter(\n",
        "#     X[y_pred == 2, 0], X[y_pred == 2, 1],\n",
        "#     s=50, c='lightblue',\n",
        "#     marker='v', edgecolor='black',\n",
        "#     label='cluster 3'\n",
        "# )\n",
        "\n",
        "\n",
        "# plt.scatter(\n",
        "#     X[y_pred == 2, 1], X[y_pred == 2, 2],\n",
        "#     s=50, c='yellow',\n",
        "#     marker='D', edgecolor='black',\n",
        "#     label='cluster 4'\n",
        "# )\n",
        "\n",
        "# plt.scatter(\n",
        "#     X[y_pred == 3, 0], X[y_pred == 3, 1],\n",
        "#     s=50, c='black',\n",
        "#     marker='X', edgecolor='black',\n",
        "#     label='cluster 5'\n",
        "# )\n",
        "\n",
        "# plt.scatter(\n",
        "#     X[y_pred == 3, 1], X[y_pred == 3, 3],\n",
        "#     s=50, c='green',\n",
        "#     marker= 'P', edgecolor='black',\n",
        "#     label='cluster 6'\n",
        "# )\n",
        "\n",
        "# plot the centroids\n",
        "plt.scatter(\n",
        "    kmeans.cluster_centers_[:, 0], kmeans.cluster_centers_[:, 1],\n",
        "    s=250, marker='*',\n",
        "    c='red', edgecolor='black',\n",
        "    label='centroids'\n",
        ")\n",
        "plt.legend(scatterpoints=1)\n",
        "plt.grid()\n",
        "plt.show()"
      ]
    },
    {
      "cell_type": "code",
      "source": [],
      "metadata": {
        "id": "pc2b1uCVMFXF"
      },
      "execution_count": null,
      "outputs": []
    },
    {
      "cell_type": "markdown",
      "source": [
        "\n",
        "## KMeans-Modell Erstellung"
      ],
      "metadata": {
        "id": "RvCf4IZ8nzja"
      }
    },
    {
      "cell_type": "code",
      "execution_count": null,
      "metadata": {
        "id": "7k86lSSMMIVY"
      },
      "outputs": [],
      "source": [
        "from sklearn.cluster import KMeans\n",
        "\n",
        "start_time = time.time()\n",
        "kmeans = KMeans(\n",
        "    n_clusters=2, init='random',\n",
        "    n_init=10, max_iter=300, \n",
        "    tol=1e-04, random_state=0\n",
        ")\n",
        "y_pred = kmeans.fit_predict(X_norm[:,:6])\n",
        "elapsed_time = time.time() - start_time\n",
        "print(f\"Elapsed time to compute the importances: {elapsed_time:.3f} seconds\")"
      ]
    },
    {
      "cell_type": "code",
      "source": [
        "y_pred is kmeans.labels_"
      ],
      "metadata": {
        "id": "gz-97B--MOys"
      },
      "execution_count": null,
      "outputs": []
    },
    {
      "cell_type": "markdown",
      "source": [
        "#### Wir können uns auch die Schwerpunkte anschauen, die der Algorithmus gefunden hat"
      ],
      "metadata": {
        "id": "WaOKnBQTuLw7"
      }
    },
    {
      "cell_type": "code",
      "source": [
        "kmeans.cluster_centers_"
      ],
      "metadata": {
        "id": "_WeYVu6UbyI4"
      },
      "execution_count": null,
      "outputs": []
    },
    {
      "cell_type": "markdown",
      "source": [
        "#### Neue Datensätzen lassen sich leicht dem Cluster zuweisen, deren Schwerpunkt am nächsten liegt:"
      ],
      "metadata": {
        "id": "XQnt-koQvNpI"
      }
    },
    {
      "cell_type": "code",
      "source": [
        "X_new = np.array([[0, 2], [3, 2], [-3, 3], [-3, 2.5]])\n",
        "kmeans.predict(X_new)"
      ],
      "metadata": {
        "id": "JUMcR806vNbX"
      },
      "execution_count": null,
      "outputs": []
    },
    {
      "cell_type": "markdown",
      "source": [
        "### One-Class-SVM"
      ],
      "metadata": {
        "id": "BSeUnrqexbRs"
      }
    },
    {
      "cell_type": "markdown",
      "source": [
        "Dieser Algorithmus passt besser für die Novelty Detection. Sie erinnern sich,\n",
        "dass ein Kernel-SVM-Klassifikator zwei Klassen aufteilt, indem er zuerst (implizit)\n",
        "alle Instanzen in einem höher dimensionalen Raum abbildet und die beiden Klassen dann in diesem Raum mithilfe eines linearen SVM-Klassifikators\n",
        "unterteilt (siehe Kapitel 5). Da wir nur eine Klasse an Instanzen haben,\n",
        "versucht der One-Class-SVM-Algorithmus stattdessen, die Instanzen in einem\n",
        "höher dimensionalen Raum zu trennen"
      ],
      "metadata": {
        "id": "MTxXSh2fxZ0N"
      }
    },
    {
      "cell_type": "markdown",
      "source": [
        "# Deep Learning:"
      ],
      "metadata": {
        "id": "eEhRWBRon8jO"
      }
    },
    {
      "cell_type": "markdown",
      "source": [
        "## LSTM Model  Speichern und wieder verwenden"
      ],
      "metadata": {
        "id": "9eePRvhsCTHK"
      }
    },
    {
      "cell_type": "markdown",
      "source": [
        "### Einfaches LSTM für die Sequenzklassifizierung\n",
        "Die erste Schicht ist die eingebettete Schicht, die Vektoren mit 32 Längen verwendet, um jedes Wort darzustellen. Die nächste Schicht ist die LSTM-Schicht mit 100 Speichereinheiten (Smart Neurons). Da es sich um ein Klassifizierungsproblem handelt, verwenden Sie schließlich eine dichte Ausgabeschicht mit einem einzelnen Neuron und einer Sigmoid-Aktivierungsfunktion, um 0- oder 1-Vorhersagen für die beiden Klassen (gut und schlecht) im Problem zu treffen.\n",
        "\n",
        "Da es sich um ein binäres Klassifizierungsproblem handelt, wird log loss als Verlustfunktion verwendet ( binary_crossentropy in Keras). Der effiziente ADAM-Optimierungsalgorithmus wird verwendet. Das Modell ist nur für zwei Epochen geeignet, weil es das Problem schnell überpasst. Eine große Stapelgröße von 64 Bewertungen wird verwendet, um Gewichtsaktualisierungen zu verteilen.\n",
        "\n",
        "> Indented block\n",
        "\n"
      ],
      "metadata": {
        "id": "whvJIPOFsGdK"
      }
    },
    {
      "cell_type": "code",
      "source": [
        "import tensorflow as tf\n",
        "# from tensorflow.keras.datasets import imdb\n",
        "from tensorflow.keras.models import Sequential\n",
        "from tensorflow.keras.layers import Dense\n",
        "from tensorflow.keras.layers import LSTM\n",
        "from tensorflow.keras.layers import Embedding\n",
        "from tensorflow.keras.preprocessing import sequence\n",
        "\n",
        "# fix random seed for reproducibility\n",
        "tf.random.set_seed(9)\n",
        "# load the dataset but only keep the top sensordata words, zero the rest\n",
        "sensordata_length = 2376\n",
        "# (X_train, y_train), (X_test, y_test) = imdb.load_data(num_words=top_words)\n",
        "# truncate and pad input sequences\n",
        "max_review_length = 237\n",
        "x_train = sequence.pad_sequences(X_train, maxlen=max_review_length)\n",
        "x_valid = sequence.pad_sequences(X_valid, maxlen=max_review_length)"
      ],
      "metadata": {
        "id": "sX9wNsRpsRPJ"
      },
      "execution_count": null,
      "outputs": []
    },
    {
      "cell_type": "code",
      "source": [
        "# create the model\n",
        "embedding_vecor_length = 32\n",
        "model = Sequential()\n",
        "model.add(Embedding(sensordata_length, embedding_vecor_length, input_length=max_review_length))\n",
        "model.add(LSTM(100))\n",
        "model.add(Dense(1, activation='sigmoid'))\n",
        "model.compile(loss='binary_crossentropy', optimizer='adam', metrics=['accuracy'])\n",
        "print(model.summary())\n",
        "#history = model.fit(x_train, y_train, epochs=5, batch_size=64)\n",
        "history = model.fit(x_train, y_train, validation_data=(x_valid, y_valid), epochs=5, batch_size=64)\n",
        "# evaluate the model with the test data \n",
        "scores = model.evaluate(x_valid, y_valid, verbose=0)\n",
        "\n",
        "model.save(\"report_exec_times_model.h5\")\n",
        "print(\"Accuracy: %.2f%%\" % (scores[1]*100))"
      ],
      "metadata": {
        "id": "xy4iFSc2sYkJ"
      },
      "execution_count": null,
      "outputs": []
    },
    {
      "cell_type": "markdown",
      "source": [
        "### Plot das Ergebnis des Training mit 100 Smart Neuron ohne Dropout"
      ],
      "metadata": {
        "id": "CRJD2mMHsnvl"
      }
    },
    {
      "cell_type": "code",
      "source": [
        "activation = 'sigmoid'\n",
        "loss = 'binary_crossentropy'\n",
        "optimizer = 'Adam'\n",
        "metrics = 'accuracy'\n",
        "titledetails =  optimizer, loss, activation\n",
        "titledetails = (', '.join(titledetails))\n",
        "\n",
        "# Plot training & validation accuracy values\n",
        "plt.plot(history.history['accuracy'])\n",
        "plt.plot(history.history['val_accuracy'])\n",
        "plt.title('accuracy - '+ titledetails)\n",
        "plt.ylabel('Accuracy')\n",
        "plt.xlabel('Epoch')\n",
        "plt.legend(['Train', 'Val'], loc='lower left')\n",
        "plt.show()\n",
        "\n",
        "# Plot training & validation loss values\n",
        "plt.plot(history.history['loss'])\n",
        "plt.plot(history.history['val_loss'])\n",
        "plt.title('Model loss - ' + titledetails)\n",
        "plt.ylabel('Loss')\n",
        "plt.xlabel('Epoch')\n",
        "plt.legend(['Train', 'Val'], loc='upper left')\n",
        "plt.show()"
      ],
      "metadata": {
        "id": "X1doGtEGstCR"
      },
      "execution_count": null,
      "outputs": []
    },
    {
      "cell_type": "markdown",
      "source": [
        "### Einfaches LSTM für die Sequenzklassifizierung mit Dropout mit dem LSTM präzise und separat auf die Eingangs- und Rekurrentverbindungen der Speichereinheiten angewendet werden.\n",
        "\n",
        "Keras bietet diese Funktion mit Parametern auf der LSTM-Schicht, dem Dropout zum Konfigurieren des Eingabe-Dropouts und recurrent_dropout zum Konfigurieren des wiederkehrenden Dropouts."
      ],
      "metadata": {
        "id": "y6FBRNoes59d"
      }
    },
    {
      "cell_type": "code",
      "source": [
        "import tensorflow as tf\n",
        "# from tensorflow.keras.datasets import imdb\n",
        "from tensorflow.keras.models import Sequential\n",
        "from tensorflow.keras.layers import Dense\n",
        "from tensorflow.keras.layers import LSTM\n",
        "from tensorflow.keras.layers import Embedding\n",
        "from tensorflow.keras.preprocessing import sequence\n",
        "# fix random seed for reproducibility\n",
        "tf.random.set_seed(9)\n",
        "# load the dataset but only keep the top sensordata words, zero the rest\n",
        "sensordata_length = 2376\n",
        "# (X_train, y_train), (X_test, y_test) = imdb.load_data(num_words=top_words)\n",
        "# truncate and pad input sequences\n",
        "max_review_length = 237\n",
        "X_train = sequence.pad_sequences(X_train, maxlen=max_review_length)\n",
        "X_test = sequence.pad_sequences(X_test, maxlen=max_review_length)\n",
        "# create the model\n",
        "embedding_vecor_length = 32\n",
        "model = Sequential()\n",
        "model.add(Embedding(sensordata_length, embedding_vecor_length, input_length=max_review_length))\n",
        "model.add(LSTM(100, dropout=0.2, recurrent_dropout=0.2))\n",
        "model.add(Dense(1, activation='sigmoid'))\n",
        "model.compile(loss='binary_crossentropy', optimizer='adam', metrics=['accuracy'])\n",
        "print(model.summary())\n",
        "history = model.fit(X_train, y_train, validation_data=(x_valid, y_valid), epochs=5, batch_size=64)\n",
        "# print accuracy \n",
        "scores = model.evaluate(X_test, y_test, verbose=0)\n",
        "print(\"Accuracy: %.2f%%\" % (scores[1]*100))"
      ],
      "metadata": {
        "id": "hhVUFyHys5Ut"
      },
      "execution_count": null,
      "outputs": []
    },
    {
      "cell_type": "markdown",
      "source": [
        "### Plot das Ergebnis des Training mit 100 Smart Neuron mit Dropout und reccurent Dropout"
      ],
      "metadata": {
        "id": "iXntwkEPtuc6"
      }
    },
    {
      "cell_type": "code",
      "source": [
        "activation = 'sigmoid'\n",
        "loss = 'binary_crossentropy'\n",
        "optimizer = 'Adam'\n",
        "metrics = 'accuracy'\n",
        "titledetails =  optimizer, loss, activation\n",
        "titledetails = (', '.join(titledetails))\n",
        "\n",
        "# Plot training & validation accuracy values\n",
        "plt.plot(history.history['accuracy'])\n",
        "plt.plot(history.history['val_accuracy'])\n",
        "plt.title('accuracy - '+ titledetails)\n",
        "plt.ylabel('Accuracy')\n",
        "plt.xlabel('Epoch')\n",
        "plt.legend(['Train', 'Val'], loc='lower left')\n",
        "plt.show()\n",
        "\n",
        "# Plot training & validation loss values\n",
        "plt.plot(history.history['loss'])\n",
        "plt.plot(history.history['val_loss'])\n",
        "plt.title('Model loss - ' + titledetails)\n",
        "plt.ylabel('Loss')\n",
        "plt.xlabel('Epoch')\n",
        "plt.legend(['Train', 'Val'], loc='upper left')\n",
        "plt.show()"
      ],
      "metadata": {
        "id": "Hww-dQauttv8"
      },
      "execution_count": null,
      "outputs": []
    },
    {
      "cell_type": "markdown",
      "source": [
        "### Modell Speichern"
      ],
      "metadata": {
        "id": "wtD0JB8VrJsc"
      }
    },
    {
      "cell_type": "code",
      "source": [
        "# model.save(\"lstm_model_UserSensordataRecognition.h5\")\n",
        "# from keras.models import load_model\n",
        "# modelFromFile = load_model('lstm_model_UserSensordataRecognition.h5')\n",
        "# modelFromFile.summary()\n",
        "import pickle\n",
        "pickle.dump(model, open('model.pkl', 'wb'))"
      ],
      "metadata": {
        "id": "usXv4JZECSXU"
      },
      "execution_count": null,
      "outputs": []
    },
    {
      "cell_type": "markdown",
      "source": [
        "# Importieren neue Daten untrainieten Datensätze"
      ],
      "metadata": {
        "id": "CgzdgQ3sFTi9"
      }
    },
    {
      "cell_type": "code",
      "source": [
        "New_Data_normalUser_RH = \"/content/drive/MyDrive/Masterarbeit_2021-2022/datasets/Test_P1_Stehen_RechterHand/\" # Rechte Hand\n",
        "New_Data_normalUser_LH = \"/content/drive/MyDrive/Masterarbeit_2021-2022/datasets/Test_P1_Stehen_LinkerHand/\"  # Linke Hand"
      ],
      "metadata": {
        "id": "9ZEUJg3FFSm9"
      },
      "execution_count": null,
      "outputs": []
    },
    {
      "cell_type": "markdown",
      "source": [
        "### Verkettung von untrainieten Daten "
      ],
      "metadata": {
        "id": "KaGMhqCQwHcL"
      }
    },
    {
      "cell_type": "markdown",
      "source": [
        "### Import untrainnieten Datensätze legitimer User"
      ],
      "metadata": {
        "id": "6oTmJa-hwZCP"
      }
    },
    {
      "cell_type": "code",
      "source": [
        "def concatenateSensorsData_nU(dataPath):\n",
        "    #global df_GyroSensors\n",
        "    sensors_files = glob.glob(dataPath + \"*.csv\")\n",
        "    for filename in os.listdir(dataPath):\n",
        "        sensor_file = os.sep.join([dataPath, filename])\n",
        "        basename = os.path.basename(sensor_file)\n",
        "        if  basename == \"SensorDataAccel.csv\":\n",
        "            headers = ['Accelerometer_X', 'Accelerometer_Y', 'Accelerometer_Z', 'Timestamps']\n",
        "            # read_csv as pandas data frame\n",
        "            df_AccelSensors = pd.read_csv(sensor_file, names=headers)\n",
        "            #  add the features classes of the sensors_files\n",
        "            #df_AccelSensors['classes'] = pd.Series([classes for x in range(len(df_AccelSensors.index))])\n",
        "            # print(df_AccelSensors.head(10))\n",
        "\n",
        "        if  basename == \"SensorDataGrav.csv\":\n",
        "            #print(sensor_file)\n",
        "            headers = ['Gravity_X', 'Gravity_Y', 'Gravity_Z', 'Timestamps']\n",
        "            # read_csv as pandas data frame\n",
        "            df_GravSensors = pd.read_csv( sensor_file, names=headers)\n",
        "            #  add the features classes of the sensors_files\n",
        "            #df_GravSensors['classes'] = pd.Series([classes for x in range(len(df_GravSensors.index))])\n",
        "            #print(df_GravSensors.head(10))\n",
        "\n",
        "        if  basename == \"SensorDataGyros.csv\":\n",
        "            #print(sensor_file)\n",
        "            headers = ['Gyroscope_X', 'Gyroscope_Y', 'Gyroscope_Z', 'Timestamps']\n",
        "            # read_csv as pandas data frame\n",
        "            df_GyroSensors = pd.read_csv( sensor_file, names=headers)\n",
        "            #  add the features classes of the sensors_files\n",
        "            #df_GyroSensors['classes'] = pd.Series([classes for x in range(len(df_GyroSensors.index))])\n",
        "            #print(df_GyroSensors)\n",
        "    df = pd.concat([df_GyroSensors, df_GravSensors, df_AccelSensors], axis=1)\n",
        "    # # Drop duplicate columns\n",
        "    # # Use groupby() to drop duplicate columns\n",
        "    df = df.T.groupby(level=0).first().T\n",
        "    # print(df)\n",
        "    # print(\"len of Data: {}\".format(df.shape))\n",
        "    return  df\n",
        "    #df.to_csv('df_highRiskUsers.csv')\n",
        "    #df.to_csv('df_mediumRiskUsers.csv')\n",
        "    #df.to_csv('df_normalUsers.csv')\n",
        "    \n",
        "df_LH = concatenateSensorsData_nU(New_Data_normalUser_LH)\n",
        "df_RH = concatenateSensorsData_nU(New_Data_normalUser_RH)\n",
        "# Verkettung der Datensätze\n",
        "df_sensordata_new = pd.concat([df_LH, df_RH])\n",
        "df_sensordata_new = df_sensordata_new.iloc[:, :9]\n",
        "df_sensordata_new\n",
        "# X_new = df_sensordata_new.to_numpy()\n",
        "# print(\"Shape zu Beginn:\\t\",X.shape)\n",
        "\n",
        "# im_cols = 9\n",
        "# im_rows = int(X.shape[1] / im_cols)\n",
        "# im_shape = (im_rows, im_cols)\n",
        "# X = X.reshape(X.shape[0], *im_shape)\n",
        "\n",
        "# print(\"Shape nach Umformung:\\t\",X.shape)\n",
        "\n",
        "# # Multiplying arrays\n",
        "# X_new"
      ],
      "metadata": {
        "id": "MCIDvq6Mxsn7"
      },
      "execution_count": null,
      "outputs": []
    },
    {
      "cell_type": "markdown",
      "source": [
        "### old-Code"
      ],
      "metadata": {
        "id": "596UCtyZL7IP"
      }
    },
    {
      "cell_type": "code",
      "source": [
        "# # Extraktion der Featuren/Merkmalen aus den Raws daten\n",
        "# all_files_1 = glob.glob(os.path.join(New_Data_normalUser_LH , \"*.csv\"))\n",
        "# li_nU = []\n",
        "# for filename in all_files_1:\n",
        "#     df = pd.read_csv(filename, index_col=None, header=0)\n",
        "#     li_nU.append(df)       \n",
        "# li_nU[0]\n",
        "\n",
        "# all_files_2 = glob.glob(os.path.join(New_Data_normalUser_RH , \"*.csv\"))\n",
        "# re_nU = []\n",
        "# for filename in all_files_2:\n",
        "#     df = pd.read_csv(filename, index_col=None, header=0)\n",
        "#     re_nU.append(df)       \n",
        "# re_nU[1]"
      ],
      "metadata": {
        "id": "76z3drE2K3I-"
      },
      "execution_count": null,
      "outputs": []
    },
    {
      "cell_type": "code",
      "source": [
        "# pickled_model = pickle.load(open('model.pkl', 'rb'))\n",
        "# pickled_model.predict(df_sensordata_new)\n",
        "# #  Move Timestamps Column To Be The Last In Pandas\n",
        "# df_nU = df.reindex(columns = [col for col in df.columns if col != 'Timestamps'] + ['Timestamps'])\n",
        "\n",
        "# # Entfernen alle NaN-Werten\n",
        "# df_sensordata_new = df_sensordata_new.fillna(0)\n",
        "# df_sensordata_new.isnull().sum()\n",
        "\n",
        "# # Entfernen unötigen Spalten und reoganisation der Daten satz\n",
        "# df_sensordata_new = df_sensordata_nU.iloc[:, 9:]\n",
        "# df_sensordata_nU\n",
        "# new_cols = ['Accelerometer_X', 'Accelerometer_Y', ' Accelerometer_Z', \n",
        "#        'Gravity_X', 'Gravity_Y', 'Gravity_Z', 'Gyroscope_X', ' Gyroscope_Y',\n",
        "#        'Gyroscope_Z', ' Timestamps']\n",
        "# df_sensordata_nU=df_sensordata_nU.reindex(columns=new_cols)\n"
      ],
      "metadata": {
        "id": "QZBxvB_gwFku"
      },
      "execution_count": null,
      "outputs": []
    },
    {
      "cell_type": "markdown",
      "source": [
        "#### Daten vorverarbeiten"
      ],
      "metadata": {
        "id": "TSSdkXF2DULD"
      }
    },
    {
      "cell_type": "code",
      "source": [
        "# Extraktion der Sensordaten Normal User\n",
        "X_NU = df_sensordata_new\n",
        "X_NU = pd.DataFrame(X_NU)\n",
        "# Konvertierung der Datensätze in float\n",
        "X_NU = X_NU.astype(float)\n",
        "# Scaling the feature \n",
        "# from sklearn.preprocessing import StandardScaler\n",
        "# scaler = StandardScaler()\n",
        "# X_NU = scaler.fit_transform(X_NU)\n",
        "X_NU\n",
        "# Convert all columns to floats"
      ],
      "metadata": {
        "id": "5H8PiNn9DH8o"
      },
      "execution_count": null,
      "outputs": []
    },
    {
      "cell_type": "code",
      "source": [
        "# fix random seed for reproducibility\n",
        "tf.random.set_seed(9)\n",
        "# load the dataset but only keep the top sensordata words, zero the rest\n",
        "sensordata_length = 2376\n",
        "# (X_train, y_train), (X_test, y_test) = imdb.load_data(num_words=top_words)\n",
        "# truncate and pad input sequences\n",
        "max_review_length = 237\n",
        "x_train = sequence.pad_sequences(X_train, maxlen=max_review_length)\n",
        "x_valid = sequence.pad_sequences(X_valid, maxlen=max_review_length)"
      ],
      "metadata": {
        "id": "XW2c3NQ64o7t"
      },
      "execution_count": null,
      "outputs": []
    },
    {
      "cell_type": "markdown",
      "source": [
        "### Import untrainnieten Datensätze illegitimer User"
      ],
      "metadata": {
        "id": "waR01JkcH6dJ"
      }
    },
    {
      "cell_type": "code",
      "source": [
        "from keras.models import load_model\n",
        "\n",
        "#model.save('my_model.h5')  # creates a HDF5 file 'my_model.h5\n",
        "\n",
        "MODEDL_PATH = '/content/drive/MyDrive/Masterarbeit_2021-2022/models/userRecognitionSensordata.h5'\n",
        "tf.keras.models.save_model(\n",
        "model,\n",
        "MODEDL_PATH,\n",
        "overwrite=True,\n",
        "include_optimizer=True,\n",
        "save_format=None\n",
        ")"
      ],
      "metadata": {
        "id": "xnNR3uU6-1tG"
      },
      "execution_count": null,
      "outputs": []
    },
    {
      "cell_type": "code",
      "source": [
        "# # Extraktion der Featuren/Merkmalen aus den Raws daten\n",
        "# all_files = glob.glob(os.path.join(path_dir_riskuser , \"*.csv\"))\n",
        "# re_rU = []\n",
        "# for filename in all_files:\n",
        "#     df = pd.read_csv(filename, index_col=None, header=0)\n",
        "#     re_rU.append(df)       \n",
        "# re_rU[0]\n",
        "\n",
        "# # Verkettung Der Datensätzen\n",
        "# df = pd.concat(re_rU, axis=0, ignore_index=True)\n",
        "# #  Move Timestamps Column To Be The Last In Pandas\n",
        "# df_rU = df.reindex(columns = [col for col in df.columns if col != 'Timestamps'] + ['Timestamps'])\n",
        "\n",
        "# # Entfernen alle NaN-Werten\n",
        "# df_sensordata_rU = df_rU.fillna(0)\n",
        "# df_sensordata_rU.isnull().sum()\n",
        "\n",
        "# # Entfernen unötigen Spalten und reoganisation der Daten satz\n",
        "# df_sensordata_rU = df_sensordata_rU.iloc[:, :-1]\n",
        "# new_cols = ['Accelerometer_X', 'Accelerometer_Y', ' Accelerometer_Z', \n",
        "#        'Gravity_X', 'Gravity_Y', 'Gravity_Z', 'Gyroscope_X', ' Gyroscope_Y',\n",
        "#        'Gyroscope_Z', 'Timestamps']\n",
        "# df_sensordata_rU=df_sensordata_rU.reindex(columns=new_cols)\n",
        "\n",
        "# # Extraktion der Sensordaten Risk User\n",
        "# X_RU = df_sensordata_rU.values[:, -1]\n",
        "# # Konvertierung der Datensätze in float\n",
        "# X_RU = X_RU.astype(float)\n",
        "# # Scaling the feature \n",
        "# from sklearn.preprocessing import StandardScaler\n",
        "# scaler = StandardScaler()\n",
        "# X_RU = scaler.fit_transform(X_RU)\n",
        "# X_RU[1]\n",
        "# # Convert all columns to floats"
      ],
      "metadata": {
        "id": "QiQcenBfH5-Z"
      },
      "execution_count": null,
      "outputs": []
    }
  ],
  "metadata": {
    "accelerator": "GPU",
    "colab": {
      "collapsed_sections": [
        "7iXhLTyGDyVO",
        "HZBcf70qtKF0",
        "EYq1fLMZtc8l",
        "MGN75VhdvZuM",
        "2r-PfeS5LZpj",
        "M4qxSTMpxflw",
        "OaWREpNL8i-A",
        "ODB8I8dziVjN",
        "Wi9HYIWtiJFk",
        "S_WB-rBdWWwM",
        "svNXXOwPzG-M",
        "RM8clvO3erZn",
        "npJ6gD3_i6tB",
        "H_WYODAPfZfd",
        "hXD7gglC5Stt",
        "D_EE1Jz41T54",
        "sMJPOKybeQFS",
        "GeosXUYQ8-sR",
        "WyYpQ5S0CubV",
        "AImjQ4ANGsXE",
        "8wWd_6xjHEt0",
        "FfNa2E5Vt2J3",
        "-09YsoYmKr9u",
        "4Q8x7rjc1fC7",
        "QVypZ3I_2K-x",
        "eYUVo1GQ2bsm",
        "etVppOWYE_5c",
        "_knS0hWk9jPT",
        "v-PYYqvK9uFJ",
        "08TMFDIP-Iql",
        "IBu4ic4E-DBA",
        "BxHcPJ5o-ctE",
        "RvCf4IZ8nzja",
        "eEhRWBRon8jO",
        "wtD0JB8VrJsc",
        "CgzdgQ3sFTi9",
        "596UCtyZL7IP",
        "waR01JkcH6dJ"
      ],
      "provenance": [],
      "mount_file_id": "1W3Eqb6Tw47zmQvdoEMFCDUpFtWDUrgWp",
      "authorship_tag": "ABX9TyNnhmKI9Um58irhpiTKxDxA",
      "include_colab_link": true
    },
    "kernelspec": {
      "display_name": "Python 3",
      "name": "python3"
    },
    "language_info": {
      "name": "python"
    },
    "gpuClass": "standard"
  },
  "nbformat": 4,
  "nbformat_minor": 0
}