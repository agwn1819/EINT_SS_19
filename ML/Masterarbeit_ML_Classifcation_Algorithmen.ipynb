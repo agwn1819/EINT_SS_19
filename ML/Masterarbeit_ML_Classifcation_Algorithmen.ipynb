{
  "cells": [
    {
      "cell_type": "markdown",
      "metadata": {
        "id": "view-in-github",
        "colab_type": "text"
      },
      "source": [
        "<a href=\"https://colab.research.google.com/github/agwn1819/EINT_SS_19/blob/master/ML/Masterarbeit_ML_Classifcation_Algorithmen.ipynb\" target=\"_parent\"><img src=\"https://colab.research.google.com/assets/colab-badge.svg\" alt=\"Open In Colab\"/></a>"
      ]
    },
    {
      "cell_type": "markdown",
      "metadata": {
        "id": "8OVzWdujtA-B"
      },
      "source": [
        "# Masterabeit : Konzeptionierung und Implementierung einer passiven Authentifizierung zum Lernen und Auswerten von passiv-erhobenen Smartphone-Sensoren, unter Berücksichtigung der DSGVO\n",
        "## Vergleiche von unterschiedlieche Algrithmen:\n",
        "## Überwachenes Lernen\n",
        "## Unübewachenes Lernen\n",
        "## Deep Learning oder Vertiefen Lernen\n",
        "\n",
        "## Auto: Armel Wonga, 30.10.2022\n"
      ]
    },
    {
      "cell_type": "markdown",
      "metadata": {
        "id": "c8_dtEiejJwH"
      },
      "source": [
        "# GPU Check und installieren  Bibliotheken"
      ]
    },
    {
      "cell_type": "markdown",
      "source": [
        "## YAML-Format wird für die Modellspezifikation verwendet .\n",
        "## Die Modellgewichte werden im HDF5-Format gespeichert."
      ],
      "metadata": {
        "id": "uUePMZK9ALei"
      }
    },
    {
      "cell_type": "code",
      "execution_count": 36,
      "metadata": {
        "colab": {
          "base_uri": "https://localhost:8080/"
        },
        "id": "23TOba33L4qf",
        "outputId": "78e82a4e-163a-4c78-fb25-adae72b9446f"
      },
      "outputs": [
        {
          "output_type": "stream",
          "name": "stdout",
          "text": [
            "Thu Nov  3 18:26:34 2022       \n",
            "+-----------------------------------------------------------------------------+\n",
            "| NVIDIA-SMI 460.32.03    Driver Version: 460.32.03    CUDA Version: 11.2     |\n",
            "|-------------------------------+----------------------+----------------------+\n",
            "| GPU  Name        Persistence-M| Bus-Id        Disp.A | Volatile Uncorr. ECC |\n",
            "| Fan  Temp  Perf  Pwr:Usage/Cap|         Memory-Usage | GPU-Util  Compute M. |\n",
            "|                               |                      |               MIG M. |\n",
            "|===============================+======================+======================|\n",
            "|   0  A100-SXM4-40GB      Off  | 00000000:00:04.0 Off |                    0 |\n",
            "| N/A   30C    P0    54W / 400W |    632MiB / 40536MiB |      0%      Default |\n",
            "|                               |                      |             Disabled |\n",
            "+-------------------------------+----------------------+----------------------+\n",
            "                                                                               \n",
            "+-----------------------------------------------------------------------------+\n",
            "| Processes:                                                                  |\n",
            "|  GPU   GI   CI        PID   Type   Process name                  GPU Memory |\n",
            "|        ID   ID                                                   Usage      |\n",
            "|=============================================================================|\n",
            "+-----------------------------------------------------------------------------+\n"
          ]
        }
      ],
      "source": [
        "gpu_info = !nvidia-smi\n",
        "gpu_info = '\\n'.join(gpu_info)\n",
        "if gpu_info.find('failed') >= 0:\n",
        "  print('Not connected to a GPU')\n",
        "else:\n",
        "  print(gpu_info)"
      ]
    },
    {
      "cell_type": "code",
      "execution_count": 37,
      "metadata": {
        "colab": {
          "base_uri": "https://localhost:8080/"
        },
        "id": "V1G82GuO-tez",
        "outputId": "e81facbf-abd7-45a6-8c72-659ba7c46d53"
      },
      "outputs": [
        {
          "output_type": "stream",
          "name": "stdout",
          "text": [
            "Your runtime has 89.6 gigabytes of available RAM\n",
            "\n",
            "You are using a high-RAM runtime!\n"
          ]
        }
      ],
      "source": [
        "from psutil import virtual_memory\n",
        "ram_gb = virtual_memory().total / 1e9\n",
        "print('Your runtime has {:.1f} gigabytes of available RAM\\n'.format(ram_gb))\n",
        "\n",
        "if ram_gb < 20:\n",
        "  print('Not using a high-RAM runtime')\n",
        "else:\n",
        "  print('You are using a high-RAM runtime!')"
      ]
    },
    {
      "cell_type": "code",
      "execution_count": 38,
      "metadata": {
        "colab": {
          "base_uri": "https://localhost:8080/",
          "height": 0
        },
        "id": "4mgoz0vMkH7j",
        "outputId": "304bfd44-91bb-4231-80f7-c62a7f4a2fbb"
      },
      "outputs": [
        {
          "output_type": "execute_result",
          "data": {
            "text/plain": [
              "'/device:GPU:0'"
            ],
            "application/vnd.google.colaboratory.intrinsic+json": {
              "type": "string"
            }
          },
          "metadata": {},
          "execution_count": 38
        }
      ],
      "source": [
        "import tensorflow as tf\n",
        "tf.test.gpu_device_name()"
      ]
    },
    {
      "cell_type": "code",
      "source": [
        "!pip install PyYAML"
      ],
      "metadata": {
        "colab": {
          "base_uri": "https://localhost:8080/"
        },
        "id": "4cRw1vCC_MrE",
        "outputId": "283c4b34-36f4-40ad-bda4-9881425eac9a"
      },
      "execution_count": 39,
      "outputs": [
        {
          "output_type": "stream",
          "name": "stdout",
          "text": [
            "Looking in indexes: https://pypi.org/simple, https://us-python.pkg.dev/colab-wheels/public/simple/\n",
            "Requirement already satisfied: PyYAML in /usr/local/lib/python3.7/dist-packages (6.0)\n"
          ]
        }
      ]
    },
    {
      "cell_type": "markdown",
      "metadata": {
        "id": "tUphymv1Dll9"
      },
      "source": [
        "# Aufbereiten der Sensordaten"
      ]
    },
    {
      "cell_type": "markdown",
      "metadata": {
        "id": "7iXhLTyGDyVO"
      },
      "source": [
        "## Importieren von Bib"
      ]
    },
    {
      "cell_type": "code",
      "execution_count": 101,
      "metadata": {
        "id": "ff2n4EsUsB15",
        "colab": {
          "base_uri": "https://localhost:8080/"
        },
        "outputId": "f012a43e-d1d1-4c52-8876-419228e6a0c4"
      },
      "outputs": [
        {
          "output_type": "stream",
          "name": "stdout",
          "text": [
            "2.9.2\n"
          ]
        }
      ],
      "source": [
        "#### import Library\n",
        "import numpy as np\n",
        "import pandas as pd\n",
        "import glob, os\n",
        "import itertools\n",
        "from itertools import *\n",
        "import time\n",
        "import datetime\n",
        "\n",
        "# library for Feature-Engineering\n",
        "from scipy.signal import find_peaks\n",
        "from scipy import stats\n",
        "import warnings\n",
        "warnings.filterwarnings('ignore')\n",
        "\n",
        "# Plotting a Pairplot with sns\n",
        "import seaborn as sns\n",
        "import matplotlib.pyplot as plt \n",
        "%matplotlib inline\n",
        "from datetime import datetime\n",
        "\n",
        "# import SVC classifier\n",
        "from sklearn.svm import SVC\n",
        "## Import data Processing module\n",
        "from sklearn import preprocessing\n",
        "from sklearn.preprocessing import OneHotEncoder\n",
        "from sklearn.model_selection import train_test_split\n",
        "\n",
        "# import metrics to compute accuracy (Evaluate)\n",
        "from sklearn.metrics import accuracy_score, confusion_matrix,classification_report\n",
        "from sklearn.model_selection import cross_val_score, GridSearchCV\n",
        "# from sklearn.inspection import \n",
        "# DecisionBoundaryDisplay\n",
        "\n",
        "### Deep Learning Bib\n",
        "import tensorflow as tf\n",
        "print(tf.__version__)"
      ]
    },
    {
      "cell_type": "markdown",
      "metadata": {
        "id": "HZBcf70qtKF0"
      },
      "source": [
        "##  Importieren von Datensätzen"
      ]
    },
    {
      "cell_type": "code",
      "execution_count": 69,
      "metadata": {
        "id": "5MqEFf4otL0O"
      },
      "outputs": [],
      "source": [
        "path_dir_riskuser_1 = \"/content/drive/MyDrive/Masterarbeit_2021-2022/datasets/Test_Person_1_20B_Rechte_Hand_Raw_data_riskUser/\" # Rechte Hand\n",
        "path_dir_riskuser_2 = \"/content/drive/MyDrive/Masterarbeit_2021-2022/datasets/Test_P1_Stehen_RechterHand/\" # Rechte Hand\n",
        "path_dir_riskuser_3 = \"/content/drive/MyDrive/Masterarbeit_2021-2022/datasets/Test_P1_Stehen_LinkerHand/\"  # Linke Hand\n",
        "path_dir_normalUser_RH = \"/content/drive/MyDrive/Masterarbeit_2021-2022/datasets/Test_Person_2_20B_Linke_Hand_Raw_data_NormalUser/\" # Rechte Hand\n",
        "path_dir_normalUser_LH = \"/content/drive/MyDrive/Masterarbeit_2021-2022/datasets/Test_Person_2_20B_Rechte_Hand_Raw_data_NormalUser/\"  # Linke Hand"
      ]
    },
    {
      "cell_type": "markdown",
      "metadata": {
        "id": "EYq1fLMZtc8l"
      },
      "source": [
        "## Erzeugen den Datensätze für den legitmeren User\n",
        "#### sensordaten von linker Hand und Rechter Hand Bewegungen."
      ]
    },
    {
      "cell_type": "code",
      "execution_count": 70,
      "metadata": {
        "colab": {
          "base_uri": "https://localhost:8080/",
          "height": 424
        },
        "id": "ADHghEB24K64",
        "outputId": "d97dc470-cf4d-4cb0-f4ca-884ac48aef9c"
      },
      "outputs": [
        {
          "output_type": "execute_result",
          "data": {
            "text/plain": [
              "    Accelerometer_X Accelerometer_Y Accelerometer_Z Gravity_X Gravity_Y  \\\n",
              "0              0.03           -0.01             0.0       0.0      0.04   \n",
              "1              0.02           -0.01             0.0      0.01      0.03   \n",
              "2              -0.0             0.0             0.0      0.01      0.03   \n",
              "3              -0.0             0.0             0.0      0.01      0.03   \n",
              "4               0.0            -0.0             0.0      0.01      0.04   \n",
              "..              ...             ...             ...       ...       ...   \n",
              "170           -0.51            1.11            0.51      0.51      3.36   \n",
              "171           -0.68           -0.09            1.84      0.59      3.36   \n",
              "172           -1.03           -1.38            1.88      1.34      4.17   \n",
              "173           -0.84            -1.5             0.4      1.43      4.71   \n",
              "174            0.66           -0.08           -0.05      1.53      4.67   \n",
              "\n",
              "    Gravity_Z Gyroscope_X Gyroscope_Y Gyroscope_Z                Timestamps  \\\n",
              "0        9.81        0.87        1.71        -0.0  13772928377d 10h 19m 26s   \n",
              "1        9.81        0.08        0.14        0.12   13772930652d 22h 8m 38s   \n",
              "2        9.81       -0.07        -0.1        0.05   13772932928d 9h 30m 56s   \n",
              "3        9.81       -0.03       -0.02        0.04  13772935203d 21h 19m 16s   \n",
              "4        9.81        0.06        0.11        0.03   13772937479d 8h 39m 49s   \n",
              "..        ...         ...         ...         ...                       ...   \n",
              "170       9.2      -12.99       -4.22        6.66           803663391998854   \n",
              "171      9.19        6.52        0.52       11.58           803663588532031   \n",
              "172      8.78       28.91      -11.84       34.16           803663785066926   \n",
              "173      8.48       21.57       -2.69        2.46           803663981600156   \n",
              "174      8.49       -2.19        1.73        5.55           803664178135104   \n",
              "\n",
              "           classes  \n",
              "0    legitimeruser  \n",
              "1    legitimeruser  \n",
              "2    legitimeruser  \n",
              "3    legitimeruser  \n",
              "4    legitimeruser  \n",
              "..             ...  \n",
              "170  legitimeruser  \n",
              "171  legitimeruser  \n",
              "172  legitimeruser  \n",
              "173  legitimeruser  \n",
              "174  legitimeruser  \n",
              "\n",
              "[617 rows x 11 columns]"
            ],
            "text/html": [
              "\n",
              "  <div id=\"df-af313d5e-552f-4d1b-8f02-b87edb3703e9\">\n",
              "    <div class=\"colab-df-container\">\n",
              "      <div>\n",
              "<style scoped>\n",
              "    .dataframe tbody tr th:only-of-type {\n",
              "        vertical-align: middle;\n",
              "    }\n",
              "\n",
              "    .dataframe tbody tr th {\n",
              "        vertical-align: top;\n",
              "    }\n",
              "\n",
              "    .dataframe thead th {\n",
              "        text-align: right;\n",
              "    }\n",
              "</style>\n",
              "<table border=\"1\" class=\"dataframe\">\n",
              "  <thead>\n",
              "    <tr style=\"text-align: right;\">\n",
              "      <th></th>\n",
              "      <th>Accelerometer_X</th>\n",
              "      <th>Accelerometer_Y</th>\n",
              "      <th>Accelerometer_Z</th>\n",
              "      <th>Gravity_X</th>\n",
              "      <th>Gravity_Y</th>\n",
              "      <th>Gravity_Z</th>\n",
              "      <th>Gyroscope_X</th>\n",
              "      <th>Gyroscope_Y</th>\n",
              "      <th>Gyroscope_Z</th>\n",
              "      <th>Timestamps</th>\n",
              "      <th>classes</th>\n",
              "    </tr>\n",
              "  </thead>\n",
              "  <tbody>\n",
              "    <tr>\n",
              "      <th>0</th>\n",
              "      <td>0.03</td>\n",
              "      <td>-0.01</td>\n",
              "      <td>0.0</td>\n",
              "      <td>0.0</td>\n",
              "      <td>0.04</td>\n",
              "      <td>9.81</td>\n",
              "      <td>0.87</td>\n",
              "      <td>1.71</td>\n",
              "      <td>-0.0</td>\n",
              "      <td>13772928377d 10h 19m 26s</td>\n",
              "      <td>legitimeruser</td>\n",
              "    </tr>\n",
              "    <tr>\n",
              "      <th>1</th>\n",
              "      <td>0.02</td>\n",
              "      <td>-0.01</td>\n",
              "      <td>0.0</td>\n",
              "      <td>0.01</td>\n",
              "      <td>0.03</td>\n",
              "      <td>9.81</td>\n",
              "      <td>0.08</td>\n",
              "      <td>0.14</td>\n",
              "      <td>0.12</td>\n",
              "      <td>13772930652d 22h 8m 38s</td>\n",
              "      <td>legitimeruser</td>\n",
              "    </tr>\n",
              "    <tr>\n",
              "      <th>2</th>\n",
              "      <td>-0.0</td>\n",
              "      <td>0.0</td>\n",
              "      <td>0.0</td>\n",
              "      <td>0.01</td>\n",
              "      <td>0.03</td>\n",
              "      <td>9.81</td>\n",
              "      <td>-0.07</td>\n",
              "      <td>-0.1</td>\n",
              "      <td>0.05</td>\n",
              "      <td>13772932928d 9h 30m 56s</td>\n",
              "      <td>legitimeruser</td>\n",
              "    </tr>\n",
              "    <tr>\n",
              "      <th>3</th>\n",
              "      <td>-0.0</td>\n",
              "      <td>0.0</td>\n",
              "      <td>0.0</td>\n",
              "      <td>0.01</td>\n",
              "      <td>0.03</td>\n",
              "      <td>9.81</td>\n",
              "      <td>-0.03</td>\n",
              "      <td>-0.02</td>\n",
              "      <td>0.04</td>\n",
              "      <td>13772935203d 21h 19m 16s</td>\n",
              "      <td>legitimeruser</td>\n",
              "    </tr>\n",
              "    <tr>\n",
              "      <th>4</th>\n",
              "      <td>0.0</td>\n",
              "      <td>-0.0</td>\n",
              "      <td>0.0</td>\n",
              "      <td>0.01</td>\n",
              "      <td>0.04</td>\n",
              "      <td>9.81</td>\n",
              "      <td>0.06</td>\n",
              "      <td>0.11</td>\n",
              "      <td>0.03</td>\n",
              "      <td>13772937479d 8h 39m 49s</td>\n",
              "      <td>legitimeruser</td>\n",
              "    </tr>\n",
              "    <tr>\n",
              "      <th>...</th>\n",
              "      <td>...</td>\n",
              "      <td>...</td>\n",
              "      <td>...</td>\n",
              "      <td>...</td>\n",
              "      <td>...</td>\n",
              "      <td>...</td>\n",
              "      <td>...</td>\n",
              "      <td>...</td>\n",
              "      <td>...</td>\n",
              "      <td>...</td>\n",
              "      <td>...</td>\n",
              "    </tr>\n",
              "    <tr>\n",
              "      <th>170</th>\n",
              "      <td>-0.51</td>\n",
              "      <td>1.11</td>\n",
              "      <td>0.51</td>\n",
              "      <td>0.51</td>\n",
              "      <td>3.36</td>\n",
              "      <td>9.2</td>\n",
              "      <td>-12.99</td>\n",
              "      <td>-4.22</td>\n",
              "      <td>6.66</td>\n",
              "      <td>803663391998854</td>\n",
              "      <td>legitimeruser</td>\n",
              "    </tr>\n",
              "    <tr>\n",
              "      <th>171</th>\n",
              "      <td>-0.68</td>\n",
              "      <td>-0.09</td>\n",
              "      <td>1.84</td>\n",
              "      <td>0.59</td>\n",
              "      <td>3.36</td>\n",
              "      <td>9.19</td>\n",
              "      <td>6.52</td>\n",
              "      <td>0.52</td>\n",
              "      <td>11.58</td>\n",
              "      <td>803663588532031</td>\n",
              "      <td>legitimeruser</td>\n",
              "    </tr>\n",
              "    <tr>\n",
              "      <th>172</th>\n",
              "      <td>-1.03</td>\n",
              "      <td>-1.38</td>\n",
              "      <td>1.88</td>\n",
              "      <td>1.34</td>\n",
              "      <td>4.17</td>\n",
              "      <td>8.78</td>\n",
              "      <td>28.91</td>\n",
              "      <td>-11.84</td>\n",
              "      <td>34.16</td>\n",
              "      <td>803663785066926</td>\n",
              "      <td>legitimeruser</td>\n",
              "    </tr>\n",
              "    <tr>\n",
              "      <th>173</th>\n",
              "      <td>-0.84</td>\n",
              "      <td>-1.5</td>\n",
              "      <td>0.4</td>\n",
              "      <td>1.43</td>\n",
              "      <td>4.71</td>\n",
              "      <td>8.48</td>\n",
              "      <td>21.57</td>\n",
              "      <td>-2.69</td>\n",
              "      <td>2.46</td>\n",
              "      <td>803663981600156</td>\n",
              "      <td>legitimeruser</td>\n",
              "    </tr>\n",
              "    <tr>\n",
              "      <th>174</th>\n",
              "      <td>0.66</td>\n",
              "      <td>-0.08</td>\n",
              "      <td>-0.05</td>\n",
              "      <td>1.53</td>\n",
              "      <td>4.67</td>\n",
              "      <td>8.49</td>\n",
              "      <td>-2.19</td>\n",
              "      <td>1.73</td>\n",
              "      <td>5.55</td>\n",
              "      <td>803664178135104</td>\n",
              "      <td>legitimeruser</td>\n",
              "    </tr>\n",
              "  </tbody>\n",
              "</table>\n",
              "<p>617 rows × 11 columns</p>\n",
              "</div>\n",
              "      <button class=\"colab-df-convert\" onclick=\"convertToInteractive('df-af313d5e-552f-4d1b-8f02-b87edb3703e9')\"\n",
              "              title=\"Convert this dataframe to an interactive table.\"\n",
              "              style=\"display:none;\">\n",
              "        \n",
              "  <svg xmlns=\"http://www.w3.org/2000/svg\" height=\"24px\"viewBox=\"0 0 24 24\"\n",
              "       width=\"24px\">\n",
              "    <path d=\"M0 0h24v24H0V0z\" fill=\"none\"/>\n",
              "    <path d=\"M18.56 5.44l.94 2.06.94-2.06 2.06-.94-2.06-.94-.94-2.06-.94 2.06-2.06.94zm-11 1L8.5 8.5l.94-2.06 2.06-.94-2.06-.94L8.5 2.5l-.94 2.06-2.06.94zm10 10l.94 2.06.94-2.06 2.06-.94-2.06-.94-.94-2.06-.94 2.06-2.06.94z\"/><path d=\"M17.41 7.96l-1.37-1.37c-.4-.4-.92-.59-1.43-.59-.52 0-1.04.2-1.43.59L10.3 9.45l-7.72 7.72c-.78.78-.78 2.05 0 2.83L4 21.41c.39.39.9.59 1.41.59.51 0 1.02-.2 1.41-.59l7.78-7.78 2.81-2.81c.8-.78.8-2.07 0-2.86zM5.41 20L4 18.59l7.72-7.72 1.47 1.35L5.41 20z\"/>\n",
              "  </svg>\n",
              "      </button>\n",
              "      \n",
              "  <style>\n",
              "    .colab-df-container {\n",
              "      display:flex;\n",
              "      flex-wrap:wrap;\n",
              "      gap: 12px;\n",
              "    }\n",
              "\n",
              "    .colab-df-convert {\n",
              "      background-color: #E8F0FE;\n",
              "      border: none;\n",
              "      border-radius: 50%;\n",
              "      cursor: pointer;\n",
              "      display: none;\n",
              "      fill: #1967D2;\n",
              "      height: 32px;\n",
              "      padding: 0 0 0 0;\n",
              "      width: 32px;\n",
              "    }\n",
              "\n",
              "    .colab-df-convert:hover {\n",
              "      background-color: #E2EBFA;\n",
              "      box-shadow: 0px 1px 2px rgba(60, 64, 67, 0.3), 0px 1px 3px 1px rgba(60, 64, 67, 0.15);\n",
              "      fill: #174EA6;\n",
              "    }\n",
              "\n",
              "    [theme=dark] .colab-df-convert {\n",
              "      background-color: #3B4455;\n",
              "      fill: #D2E3FC;\n",
              "    }\n",
              "\n",
              "    [theme=dark] .colab-df-convert:hover {\n",
              "      background-color: #434B5C;\n",
              "      box-shadow: 0px 1px 3px 1px rgba(0, 0, 0, 0.15);\n",
              "      filter: drop-shadow(0px 1px 2px rgba(0, 0, 0, 0.3));\n",
              "      fill: #FFFFFF;\n",
              "    }\n",
              "  </style>\n",
              "\n",
              "      <script>\n",
              "        const buttonEl =\n",
              "          document.querySelector('#df-af313d5e-552f-4d1b-8f02-b87edb3703e9 button.colab-df-convert');\n",
              "        buttonEl.style.display =\n",
              "          google.colab.kernel.accessAllowed ? 'block' : 'none';\n",
              "\n",
              "        async function convertToInteractive(key) {\n",
              "          const element = document.querySelector('#df-af313d5e-552f-4d1b-8f02-b87edb3703e9');\n",
              "          const dataTable =\n",
              "            await google.colab.kernel.invokeFunction('convertToInteractive',\n",
              "                                                     [key], {});\n",
              "          if (!dataTable) return;\n",
              "\n",
              "          const docLinkHtml = 'Like what you see? Visit the ' +\n",
              "            '<a target=\"_blank\" href=https://colab.research.google.com/notebooks/data_table.ipynb>data table notebook</a>'\n",
              "            + ' to learn more about interactive tables.';\n",
              "          element.innerHTML = '';\n",
              "          dataTable['output_type'] = 'display_data';\n",
              "          await google.colab.output.renderOutput(dataTable, element);\n",
              "          const docLink = document.createElement('div');\n",
              "          docLink.innerHTML = docLinkHtml;\n",
              "          element.appendChild(docLink);\n",
              "        }\n",
              "      </script>\n",
              "    </div>\n",
              "  </div>\n",
              "  "
            ]
          },
          "metadata": {},
          "execution_count": 70
        }
      ],
      "source": [
        "def concatenateSensorsData_nU(dataPath, classes):\n",
        "    #global df_GyroSensors\n",
        "    sensors_files = glob.glob(dataPath + \"*.csv\")\n",
        "    for filename in os.listdir(dataPath):\n",
        "        sensor_file = os.sep.join([dataPath, filename])\n",
        "        basename = os.path.basename(sensor_file)\n",
        "        if  basename == \"SensorDataAccel.csv\":\n",
        "            headers = ['Accelerometer_X', 'Accelerometer_Y', 'Accelerometer_Z', 'Timestamps']\n",
        "            # read_csv as pandas data frame\n",
        "            df_AccelSensors = pd.read_csv(sensor_file, names=headers)\n",
        "            #  add the features classes of the sensors_files\n",
        "            df_AccelSensors['classes'] = pd.Series([classes for x in range(len(df_AccelSensors.index))])\n",
        "            # print(df_AccelSensors.head(10))\n",
        "\n",
        "        if  basename == \"SensorDataGrav.csv\":\n",
        "            #print(sensor_file)\n",
        "            headers = ['Gravity_X', 'Gravity_Y', 'Gravity_Z', 'Timestamps']\n",
        "            # read_csv as pandas data frame\n",
        "            df_GravSensors = pd.read_csv( sensor_file, names=headers)\n",
        "            #  add the features classes of the sensors_files\n",
        "            df_GravSensors['classes'] = pd.Series([classes for x in range(len(df_GravSensors.index))])\n",
        "            #print(df_GravSensors.head(10))\n",
        "\n",
        "        if  basename == \"SensorDataGyros.csv\":\n",
        "            #print(sensor_file)\n",
        "            headers = ['Gyroscope_X', 'Gyroscope_Y', 'Gyroscope_Z', 'Timestamps']\n",
        "            # read_csv as pandas data frame\n",
        "            df_GyroSensors = pd.read_csv( sensor_file, names=headers)\n",
        "            #  add the features classes of the sensors_files\n",
        "            df_GyroSensors['classes'] = pd.Series([classes for x in range(len(df_GyroSensors.index))])\n",
        "            #print(df_GyroSensors)\n",
        "    df = pd.concat([df_GyroSensors, df_GravSensors, df_AccelSensors], axis=1)\n",
        "    # # Drop duplicate columns\n",
        "    # # Use groupby() to drop duplicate columns\n",
        "    df = df.T.groupby(level=0).first().T\n",
        "    # print(df)\n",
        "    # print(\"len of Data: {}\".format(df.shape))\n",
        "    return  df\n",
        "    #df.to_csv('df_highRiskUsers.csv')\n",
        "    #df.to_csv('df_mediumRiskUsers.csv')\n",
        "    #df.to_csv('df_normalUsers.csv')\n",
        "\n",
        "# Label an datensatz setzen\n",
        "classes = 'legitimeruser'\n",
        "df_LH = concatenateSensorsData_nU(path_dir_normalUser_RH,classes)\n",
        "df_RH = concatenateSensorsData_nU(path_dir_normalUser_LH, classes)\n",
        "\n",
        "# Verkettung der Datensätze\n",
        "df_sensordata_LU = pd.concat([df_LH, df_RH])\n",
        "df_sensordata_LU"
      ]
    },
    {
      "cell_type": "markdown",
      "metadata": {
        "id": "MGN75VhdvZuM"
      },
      "source": [
        "## Erzeugen den Datensätze für den illegitmeren User"
      ]
    },
    {
      "cell_type": "code",
      "execution_count": 71,
      "metadata": {
        "id": "1PpYvWfAvL_R"
      },
      "outputs": [],
      "source": [
        "def concatenateSensorsData_nU(dataPath, classes):\n",
        "    #global df_GyroSensors\n",
        "    sensors_files = glob.glob(dataPath + \"*.csv\")\n",
        "    for filename in os.listdir(dataPath):\n",
        "        sensor_file = os.sep.join([dataPath, filename])\n",
        "        basename = os.path.basename(sensor_file)\n",
        "        if  basename == \"SensorDataAccel.csv\":\n",
        "            headers = ['Accelerometer_X', 'Accelerometer_Y', 'Accelerometer_Z', 'Timestamps']\n",
        "            # read_csv as pandas data frame\n",
        "            df_AccelSensors = pd.read_csv(sensor_file, names=headers)\n",
        "            #  add the features classes of the sensors_files\n",
        "            df_AccelSensors['classes'] = pd.Series([classes for x in range(len(df_AccelSensors.index))])\n",
        "            # print(df_AccelSensors.head(10))\n",
        "\n",
        "        if  basename == \"SensorDataGrav.csv\":\n",
        "            #print(sensor_file)\n",
        "            headers = ['Gravity_X', 'Gravity_Y', 'Gravity_Z', 'Timestamps']\n",
        "            # read_csv as pandas data frame\n",
        "            df_GravSensors = pd.read_csv( sensor_file, names=headers)\n",
        "            #  add the features classes of the sensors_files\n",
        "            df_GravSensors['classes'] = pd.Series([classes for x in range(len(df_GravSensors.index))])\n",
        "            #print(df_GravSensors.head(10))\n",
        "\n",
        "        if  basename == \"SensorDataGyros.csv\":\n",
        "            #print(sensor_file)\n",
        "            headers = ['Gyroscope_X', 'Gyroscope_Y', 'Gyroscope_Z', 'Timestamps']\n",
        "            # read_csv as pandas data frame\n",
        "            df_GyroSensors = pd.read_csv( sensor_file, names=headers)\n",
        "            #  add the features classes of the sensors_files\n",
        "            df_GyroSensors['classes'] = pd.Series([classes for x in range(len(df_GyroSensors.index))])\n",
        "            #print(df_GyroSensors)\n",
        "    df = pd.concat([df_GyroSensors, df_GravSensors, df_AccelSensors], axis=1)\n",
        "    # # Drop duplicate columns\n",
        "    # # Use groupby() to drop duplicate columns\n",
        "    df = df.T.groupby(level=0).first().T\n",
        "    # print(df)\n",
        "    # print(\"len of Data: {}\".format(df.shape))\n",
        "    return  df\n",
        "    #df.to_csv('df_highRiskUsers.csv')\n",
        "    #df.to_csv('df_mediumRiskUsers.csv')\n",
        "    #df.to_csv('df_normalUsers.csv')\n",
        "\n",
        "# Label an datensatz setzen\n",
        "classes = 'illegitimeruser'\n",
        "df_sensordata_IU_1 = concatenateSensorsData_nU(path_dir_riskuser_1,classes)\n",
        "df_sensordata_IU_2 = concatenateSensorsData_nU(path_dir_riskuser_2,classes)\n",
        "df_sensordata_IU_3 = concatenateSensorsData_nU(path_dir_riskuser_3,classes)\n",
        "\n",
        "# Verkettung der Datensätze illgetimerUser\n",
        "df_sensordata_IU = df_sensordata = pd.concat([df_sensordata_IU_1, df_sensordata_IU_2, df_sensordata_IU_3 ])\n"
      ]
    },
    {
      "cell_type": "markdown",
      "metadata": {
        "id": "2r-PfeS5LZpj"
      },
      "source": [
        "##Zusammenführen der SensorDaten beide User\n",
        "Der Trainingsdatensatz hat also 11 Spalten / Merkmale (einschließlich des Ziels / der Klasse) und 2376 Zeilen oder Datenpunkte.\n",
        "\n",
        "Auch das Ziel ist Legitimität. Wie in der Datenbeschreibung erwähnt, hat es 2 eindeutige Werte. Lassen Sie uns auch diese im nächsten Schritt überprüfen."
      ]
    },
    {
      "cell_type": "code",
      "execution_count": 72,
      "metadata": {
        "colab": {
          "base_uri": "https://localhost:8080/",
          "height": 0
        },
        "id": "rPHBU79zUcWX",
        "outputId": "6fdd487d-5622-4fbc-c397-26eb95907a0f"
      },
      "outputs": [
        {
          "output_type": "execute_result",
          "data": {
            "text/plain": [
              "    Accelerometer_X Accelerometer_Y Accelerometer_Z Gravity_X Gravity_Y  \\\n",
              "0              0.03           -0.01             0.0       0.0      0.04   \n",
              "1              0.02           -0.01             0.0      0.01      0.03   \n",
              "2              -0.0             0.0             0.0      0.01      0.03   \n",
              "3              -0.0             0.0             0.0      0.01      0.03   \n",
              "4               0.0            -0.0             0.0      0.01      0.04   \n",
              "..              ...             ...             ...       ...       ...   \n",
              "507             0.0             0.0             0.0      9.81      9.81   \n",
              "508             0.0             0.0             0.0      9.81      9.81   \n",
              "509             0.0             0.0             0.0      9.81      9.81   \n",
              "510             0.0             0.0             0.0      9.81      9.81   \n",
              "511             0.0             0.0             0.0      9.81      9.81   \n",
              "\n",
              "    Gravity_Z Gyroscope_X Gyroscope_Y Gyroscope_Z                Timestamps  \\\n",
              "0        9.81        0.87        1.71        -0.0  13772928377d 10h 19m 26s   \n",
              "1        9.81        0.08        0.14        0.12   13772930652d 22h 8m 38s   \n",
              "2        9.81       -0.07        -0.1        0.05   13772932928d 9h 30m 56s   \n",
              "3        9.81       -0.03       -0.02        0.04  13772935203d 21h 19m 16s   \n",
              "4        9.81        0.06        0.11        0.03   13772937479d 8h 39m 49s   \n",
              "..        ...         ...         ...         ...                       ...   \n",
              "507       0.0        0.01        0.01         0.0           978571535738354   \n",
              "508       0.0        0.02        0.02        0.01           978571732320333   \n",
              "509       0.0        0.02        0.02         0.0           978571928904031   \n",
              "510       0.0        0.02        0.02         0.0           978572125486062   \n",
              "511       0.0        0.01        0.01        0.01           978572322069864   \n",
              "\n",
              "             classes  \n",
              "0      legitimeruser  \n",
              "1      legitimeruser  \n",
              "2      legitimeruser  \n",
              "3      legitimeruser  \n",
              "4      legitimeruser  \n",
              "..               ...  \n",
              "507  illegitimeruser  \n",
              "508  illegitimeruser  \n",
              "509  illegitimeruser  \n",
              "510  illegitimeruser  \n",
              "511  illegitimeruser  \n",
              "\n",
              "[1710 rows x 11 columns]"
            ],
            "text/html": [
              "\n",
              "  <div id=\"df-7216570d-2078-424c-8e01-cbfb385c097b\">\n",
              "    <div class=\"colab-df-container\">\n",
              "      <div>\n",
              "<style scoped>\n",
              "    .dataframe tbody tr th:only-of-type {\n",
              "        vertical-align: middle;\n",
              "    }\n",
              "\n",
              "    .dataframe tbody tr th {\n",
              "        vertical-align: top;\n",
              "    }\n",
              "\n",
              "    .dataframe thead th {\n",
              "        text-align: right;\n",
              "    }\n",
              "</style>\n",
              "<table border=\"1\" class=\"dataframe\">\n",
              "  <thead>\n",
              "    <tr style=\"text-align: right;\">\n",
              "      <th></th>\n",
              "      <th>Accelerometer_X</th>\n",
              "      <th>Accelerometer_Y</th>\n",
              "      <th>Accelerometer_Z</th>\n",
              "      <th>Gravity_X</th>\n",
              "      <th>Gravity_Y</th>\n",
              "      <th>Gravity_Z</th>\n",
              "      <th>Gyroscope_X</th>\n",
              "      <th>Gyroscope_Y</th>\n",
              "      <th>Gyroscope_Z</th>\n",
              "      <th>Timestamps</th>\n",
              "      <th>classes</th>\n",
              "    </tr>\n",
              "  </thead>\n",
              "  <tbody>\n",
              "    <tr>\n",
              "      <th>0</th>\n",
              "      <td>0.03</td>\n",
              "      <td>-0.01</td>\n",
              "      <td>0.0</td>\n",
              "      <td>0.0</td>\n",
              "      <td>0.04</td>\n",
              "      <td>9.81</td>\n",
              "      <td>0.87</td>\n",
              "      <td>1.71</td>\n",
              "      <td>-0.0</td>\n",
              "      <td>13772928377d 10h 19m 26s</td>\n",
              "      <td>legitimeruser</td>\n",
              "    </tr>\n",
              "    <tr>\n",
              "      <th>1</th>\n",
              "      <td>0.02</td>\n",
              "      <td>-0.01</td>\n",
              "      <td>0.0</td>\n",
              "      <td>0.01</td>\n",
              "      <td>0.03</td>\n",
              "      <td>9.81</td>\n",
              "      <td>0.08</td>\n",
              "      <td>0.14</td>\n",
              "      <td>0.12</td>\n",
              "      <td>13772930652d 22h 8m 38s</td>\n",
              "      <td>legitimeruser</td>\n",
              "    </tr>\n",
              "    <tr>\n",
              "      <th>2</th>\n",
              "      <td>-0.0</td>\n",
              "      <td>0.0</td>\n",
              "      <td>0.0</td>\n",
              "      <td>0.01</td>\n",
              "      <td>0.03</td>\n",
              "      <td>9.81</td>\n",
              "      <td>-0.07</td>\n",
              "      <td>-0.1</td>\n",
              "      <td>0.05</td>\n",
              "      <td>13772932928d 9h 30m 56s</td>\n",
              "      <td>legitimeruser</td>\n",
              "    </tr>\n",
              "    <tr>\n",
              "      <th>3</th>\n",
              "      <td>-0.0</td>\n",
              "      <td>0.0</td>\n",
              "      <td>0.0</td>\n",
              "      <td>0.01</td>\n",
              "      <td>0.03</td>\n",
              "      <td>9.81</td>\n",
              "      <td>-0.03</td>\n",
              "      <td>-0.02</td>\n",
              "      <td>0.04</td>\n",
              "      <td>13772935203d 21h 19m 16s</td>\n",
              "      <td>legitimeruser</td>\n",
              "    </tr>\n",
              "    <tr>\n",
              "      <th>4</th>\n",
              "      <td>0.0</td>\n",
              "      <td>-0.0</td>\n",
              "      <td>0.0</td>\n",
              "      <td>0.01</td>\n",
              "      <td>0.04</td>\n",
              "      <td>9.81</td>\n",
              "      <td>0.06</td>\n",
              "      <td>0.11</td>\n",
              "      <td>0.03</td>\n",
              "      <td>13772937479d 8h 39m 49s</td>\n",
              "      <td>legitimeruser</td>\n",
              "    </tr>\n",
              "    <tr>\n",
              "      <th>...</th>\n",
              "      <td>...</td>\n",
              "      <td>...</td>\n",
              "      <td>...</td>\n",
              "      <td>...</td>\n",
              "      <td>...</td>\n",
              "      <td>...</td>\n",
              "      <td>...</td>\n",
              "      <td>...</td>\n",
              "      <td>...</td>\n",
              "      <td>...</td>\n",
              "      <td>...</td>\n",
              "    </tr>\n",
              "    <tr>\n",
              "      <th>507</th>\n",
              "      <td>0.0</td>\n",
              "      <td>0.0</td>\n",
              "      <td>0.0</td>\n",
              "      <td>9.81</td>\n",
              "      <td>9.81</td>\n",
              "      <td>0.0</td>\n",
              "      <td>0.01</td>\n",
              "      <td>0.01</td>\n",
              "      <td>0.0</td>\n",
              "      <td>978571535738354</td>\n",
              "      <td>illegitimeruser</td>\n",
              "    </tr>\n",
              "    <tr>\n",
              "      <th>508</th>\n",
              "      <td>0.0</td>\n",
              "      <td>0.0</td>\n",
              "      <td>0.0</td>\n",
              "      <td>9.81</td>\n",
              "      <td>9.81</td>\n",
              "      <td>0.0</td>\n",
              "      <td>0.02</td>\n",
              "      <td>0.02</td>\n",
              "      <td>0.01</td>\n",
              "      <td>978571732320333</td>\n",
              "      <td>illegitimeruser</td>\n",
              "    </tr>\n",
              "    <tr>\n",
              "      <th>509</th>\n",
              "      <td>0.0</td>\n",
              "      <td>0.0</td>\n",
              "      <td>0.0</td>\n",
              "      <td>9.81</td>\n",
              "      <td>9.81</td>\n",
              "      <td>0.0</td>\n",
              "      <td>0.02</td>\n",
              "      <td>0.02</td>\n",
              "      <td>0.0</td>\n",
              "      <td>978571928904031</td>\n",
              "      <td>illegitimeruser</td>\n",
              "    </tr>\n",
              "    <tr>\n",
              "      <th>510</th>\n",
              "      <td>0.0</td>\n",
              "      <td>0.0</td>\n",
              "      <td>0.0</td>\n",
              "      <td>9.81</td>\n",
              "      <td>9.81</td>\n",
              "      <td>0.0</td>\n",
              "      <td>0.02</td>\n",
              "      <td>0.02</td>\n",
              "      <td>0.0</td>\n",
              "      <td>978572125486062</td>\n",
              "      <td>illegitimeruser</td>\n",
              "    </tr>\n",
              "    <tr>\n",
              "      <th>511</th>\n",
              "      <td>0.0</td>\n",
              "      <td>0.0</td>\n",
              "      <td>0.0</td>\n",
              "      <td>9.81</td>\n",
              "      <td>9.81</td>\n",
              "      <td>0.0</td>\n",
              "      <td>0.01</td>\n",
              "      <td>0.01</td>\n",
              "      <td>0.01</td>\n",
              "      <td>978572322069864</td>\n",
              "      <td>illegitimeruser</td>\n",
              "    </tr>\n",
              "  </tbody>\n",
              "</table>\n",
              "<p>1710 rows × 11 columns</p>\n",
              "</div>\n",
              "      <button class=\"colab-df-convert\" onclick=\"convertToInteractive('df-7216570d-2078-424c-8e01-cbfb385c097b')\"\n",
              "              title=\"Convert this dataframe to an interactive table.\"\n",
              "              style=\"display:none;\">\n",
              "        \n",
              "  <svg xmlns=\"http://www.w3.org/2000/svg\" height=\"24px\"viewBox=\"0 0 24 24\"\n",
              "       width=\"24px\">\n",
              "    <path d=\"M0 0h24v24H0V0z\" fill=\"none\"/>\n",
              "    <path d=\"M18.56 5.44l.94 2.06.94-2.06 2.06-.94-2.06-.94-.94-2.06-.94 2.06-2.06.94zm-11 1L8.5 8.5l.94-2.06 2.06-.94-2.06-.94L8.5 2.5l-.94 2.06-2.06.94zm10 10l.94 2.06.94-2.06 2.06-.94-2.06-.94-.94-2.06-.94 2.06-2.06.94z\"/><path d=\"M17.41 7.96l-1.37-1.37c-.4-.4-.92-.59-1.43-.59-.52 0-1.04.2-1.43.59L10.3 9.45l-7.72 7.72c-.78.78-.78 2.05 0 2.83L4 21.41c.39.39.9.59 1.41.59.51 0 1.02-.2 1.41-.59l7.78-7.78 2.81-2.81c.8-.78.8-2.07 0-2.86zM5.41 20L4 18.59l7.72-7.72 1.47 1.35L5.41 20z\"/>\n",
              "  </svg>\n",
              "      </button>\n",
              "      \n",
              "  <style>\n",
              "    .colab-df-container {\n",
              "      display:flex;\n",
              "      flex-wrap:wrap;\n",
              "      gap: 12px;\n",
              "    }\n",
              "\n",
              "    .colab-df-convert {\n",
              "      background-color: #E8F0FE;\n",
              "      border: none;\n",
              "      border-radius: 50%;\n",
              "      cursor: pointer;\n",
              "      display: none;\n",
              "      fill: #1967D2;\n",
              "      height: 32px;\n",
              "      padding: 0 0 0 0;\n",
              "      width: 32px;\n",
              "    }\n",
              "\n",
              "    .colab-df-convert:hover {\n",
              "      background-color: #E2EBFA;\n",
              "      box-shadow: 0px 1px 2px rgba(60, 64, 67, 0.3), 0px 1px 3px 1px rgba(60, 64, 67, 0.15);\n",
              "      fill: #174EA6;\n",
              "    }\n",
              "\n",
              "    [theme=dark] .colab-df-convert {\n",
              "      background-color: #3B4455;\n",
              "      fill: #D2E3FC;\n",
              "    }\n",
              "\n",
              "    [theme=dark] .colab-df-convert:hover {\n",
              "      background-color: #434B5C;\n",
              "      box-shadow: 0px 1px 3px 1px rgba(0, 0, 0, 0.15);\n",
              "      filter: drop-shadow(0px 1px 2px rgba(0, 0, 0, 0.3));\n",
              "      fill: #FFFFFF;\n",
              "    }\n",
              "  </style>\n",
              "\n",
              "      <script>\n",
              "        const buttonEl =\n",
              "          document.querySelector('#df-7216570d-2078-424c-8e01-cbfb385c097b button.colab-df-convert');\n",
              "        buttonEl.style.display =\n",
              "          google.colab.kernel.accessAllowed ? 'block' : 'none';\n",
              "\n",
              "        async function convertToInteractive(key) {\n",
              "          const element = document.querySelector('#df-7216570d-2078-424c-8e01-cbfb385c097b');\n",
              "          const dataTable =\n",
              "            await google.colab.kernel.invokeFunction('convertToInteractive',\n",
              "                                                     [key], {});\n",
              "          if (!dataTable) return;\n",
              "\n",
              "          const docLinkHtml = 'Like what you see? Visit the ' +\n",
              "            '<a target=\"_blank\" href=https://colab.research.google.com/notebooks/data_table.ipynb>data table notebook</a>'\n",
              "            + ' to learn more about interactive tables.';\n",
              "          element.innerHTML = '';\n",
              "          dataTable['output_type'] = 'display_data';\n",
              "          await google.colab.output.renderOutput(dataTable, element);\n",
              "          const docLink = document.createElement('div');\n",
              "          docLink.innerHTML = docLinkHtml;\n",
              "          element.appendChild(docLink);\n",
              "        }\n",
              "      </script>\n",
              "    </div>\n",
              "  </div>\n",
              "  "
            ]
          },
          "metadata": {},
          "execution_count": 72
        }
      ],
      "source": [
        "df_sensordata = pd.concat([df_sensordata_LU ,df_sensordata_IU])\n",
        "df_sensordata"
      ]
    },
    {
      "cell_type": "markdown",
      "metadata": {
        "id": "RM8clvO3erZn"
      },
      "source": [
        "## Explorative Datenanalyse\n"
      ]
    },
    {
      "cell_type": "markdown",
      "metadata": {
        "id": "npJ6gD3_i6tB"
      },
      "source": [
        "### Plot der Label im Bezug auf die Datensätze pro Nutzer"
      ]
    },
    {
      "cell_type": "code",
      "execution_count": 73,
      "metadata": {
        "colab": {
          "base_uri": "https://localhost:8080/",
          "height": 0
        },
        "id": "H5VV54H5e7f_",
        "outputId": "87b213cc-56f8-434a-a354-1dc08f0f3564"
      },
      "outputs": [
        {
          "output_type": "display_data",
          "data": {
            "text/plain": [
              "<Figure size 720x360 with 1 Axes>"
            ],
            "image/png": "[encoded data removed]"
          },
          "metadata": {}
        }
      ],
      "source": [
        "sns.set_style(\"whitegrid\") \n",
        "plt.figure(figsize = (10, 5)) \n",
        "sns.countplot(x = 'classes', data = df_sensordata) \n",
        "plt.title('Anzahl der Samples nach Art der Nutzer') \n",
        "plt.show( )"
      ]
    },
    {
      "cell_type": "markdown",
      "metadata": {
        "id": "H_WYODAPfZfd"
      },
      "source": [
        "### Plot der Sensordaten\n",
        "### Lassen Sie uns nun sehen, welcher Sensordaten zu welcher Nutzer zugeormet ist. Dies hilft uns bei der Entscheidung, wie die Daten für Training und Test aufgeteilt werden sollen.\n",
        "Betrachten wir nun die User-Bewegungsverteilung der Sensordaten entlang der x-, y- und z - Achse von jedem Sensor, um zu sehen, ob es ein offensichtliches Muster basierend auf dem Bereich und der Verteilung der Werte gibt."
      ]
    },
    {
      "cell_type": "code",
      "execution_count": 74,
      "metadata": {
        "colab": {
          "base_uri": "https://localhost:8080/",
          "height": 0
        },
        "id": "b3k06_fGfXQU",
        "outputId": "3ba1ceae-ceb9-4202-95fa-31df33a8672c"
      },
      "outputs": [
        {
          "output_type": "execute_result",
          "data": {
            "text/plain": [
              "<seaborn.axisgrid.FacetGrid at 0x7f3ab1836850>"
            ]
          },
          "metadata": {},
          "execution_count": 74
        },
        {
          "output_type": "display_data",
          "data": {
            "text/plain": [
              "<Figure size 540.5x432 with 1 Axes>"
            ],
            "image/png": "[encoded data removed]"
          },
          "metadata": {}
        }
      ],
      "source": [
        "sns.FacetGrid(df_sensordata, hue = 'classes', size = 6).map(sns.distplot, 'Accelerometer_X').add_legend()"
      ]
    },
    {
      "cell_type": "code",
      "execution_count": 75,
      "metadata": {
        "colab": {
          "base_uri": "https://localhost:8080/",
          "height": 0
        },
        "id": "OVINj0Trf3Wv",
        "outputId": "e470b160-7af9-44e0-ce54-1e4a2dfd2872"
      },
      "outputs": [
        {
          "output_type": "execute_result",
          "data": {
            "text/plain": [
              "<seaborn.axisgrid.FacetGrid at 0x7f3ab0131990>"
            ]
          },
          "metadata": {},
          "execution_count": 75
        },
        {
          "output_type": "display_data",
          "data": {
            "text/plain": [
              "<Figure size 540.5x432 with 1 Axes>"
            ],
            "image/png": "[encoded data removed]"
          },
          "metadata": {}
        }
      ],
      "source": [
        "sns.FacetGrid(df_sensordata, hue = 'classes', size = 6).map(sns.distplot, 'Accelerometer_Y').add_legend()"
      ]
    },
    {
      "cell_type": "code",
      "execution_count": 76,
      "metadata": {
        "colab": {
          "base_uri": "https://localhost:8080/",
          "height": 0
        },
        "id": "c8QNbsyigD0Y",
        "outputId": "0d445c0e-7448-437d-e735-e620603bda68"
      },
      "outputs": [
        {
          "output_type": "execute_result",
          "data": {
            "text/plain": [
              "<seaborn.axisgrid.FacetGrid at 0x7f3aaff95050>"
            ]
          },
          "metadata": {},
          "execution_count": 76
        },
        {
          "output_type": "display_data",
          "data": {
            "text/plain": [
              "<Figure size 540.5x432 with 1 Axes>"
            ],
            "image/png": "[encoded data removed]"
          },
          "metadata": {}
        }
      ],
      "source": [
        "sns.FacetGrid(df_sensordata, hue = 'classes', size = 6).map(sns.distplot, 'Accelerometer_Z').add_legend()"
      ]
    },
    {
      "cell_type": "code",
      "execution_count": 77,
      "metadata": {
        "colab": {
          "base_uri": "https://localhost:8080/",
          "height": 0
        },
        "id": "wBq9nZcQB3cL",
        "outputId": "1b20537a-c918-4935-9dd9-6aab41085eb9"
      },
      "outputs": [
        {
          "output_type": "execute_result",
          "data": {
            "text/plain": [
              "<seaborn.axisgrid.FacetGrid at 0x7f3aafe1dc90>"
            ]
          },
          "metadata": {},
          "execution_count": 77
        },
        {
          "output_type": "display_data",
          "data": {
            "text/plain": [
              "<Figure size 540.5x432 with 1 Axes>"
            ],
            "image/png": "[encoded data removed]"
          },
          "metadata": {}
        }
      ],
      "source": [
        "sns.FacetGrid(df_sensordata, hue = 'classes', size = 6).map(sns.distplot, 'Gyroscope_X').add_legend()"
      ]
    },
    {
      "cell_type": "code",
      "execution_count": 78,
      "metadata": {
        "colab": {
          "base_uri": "https://localhost:8080/",
          "height": 0
        },
        "id": "JGAox8vaCZD3",
        "outputId": "f3100ea1-d642-410a-8a42-a0de4c873d30"
      },
      "outputs": [
        {
          "output_type": "execute_result",
          "data": {
            "text/plain": [
              "<seaborn.axisgrid.FacetGrid at 0x7f3aafce1510>"
            ]
          },
          "metadata": {},
          "execution_count": 78
        },
        {
          "output_type": "display_data",
          "data": {
            "text/plain": [
              "<Figure size 540.5x432 with 1 Axes>"
            ],
            "image/png": "[encoded data removed]"
          },
          "metadata": {}
        }
      ],
      "source": [
        "sns.FacetGrid(df_sensordata, hue = 'classes', size = 6).map(sns.distplot, 'Gyroscope_Y').add_legend()"
      ]
    },
    {
      "cell_type": "code",
      "execution_count": 79,
      "metadata": {
        "colab": {
          "base_uri": "https://localhost:8080/",
          "height": 0
        },
        "id": "ToeuOvUwCfNw",
        "outputId": "7f81658e-00b9-416e-9fd5-b20b77e77d70"
      },
      "outputs": [
        {
          "output_type": "execute_result",
          "data": {
            "text/plain": [
              "<seaborn.axisgrid.FacetGrid at 0x7f3aafb5ded0>"
            ]
          },
          "metadata": {},
          "execution_count": 79
        },
        {
          "output_type": "display_data",
          "data": {
            "text/plain": [
              "<Figure size 540.5x432 with 1 Axes>"
            ],
            "image/png": "[encoded data removed]"
          },
          "metadata": {}
        }
      ],
      "source": [
        "sns.FacetGrid(df_sensordata, hue = 'classes', size = 6).map(sns.distplot, 'Gyroscope_Z').add_legend()"
      ]
    },
    {
      "cell_type": "markdown",
      "metadata": {
        "id": "hXD7gglC5Stt"
      },
      "source": [
        "#### Lassen Sie uns für einen allem Nutzer beobachten, wie sich die Sensorwertne in jeder der x-, y- und z - Dimensionen mit der Zeit ändern."
      ]
    },
    {
      "cell_type": "markdown",
      "metadata": {
        "id": "VFvNzUOI52c8"
      },
      "source": [
        "### Wir haben eine Teilmenge von 400 Proben zur Visualisierung des sensordaten berücksichtigt."
      ]
    },
    {
      "cell_type": "code",
      "execution_count": 80,
      "metadata": {
        "id": "rbk0Hhui5Qf1"
      },
      "outputs": [],
      "source": [
        "# for i in ['illegitimerUser', 'legitimerUser']: \n",
        "#   data_sensors = df_sensordata[(df_sensordata[\"Accelerometer_X\"]==0) & (df_sensordata['classes'] == i)][:400] \n",
        "#   plt.figure(figsize = (15, 6)) \n",
        "#   sns.lineplot(y = 'Accelerometer_X', x = 'Timestamps', data = data_sensors) \n",
        "#   sns.lineplot(y = 'Accelerometer_Y', x = 'Timestamps', data = data_sensors) \n",
        "#   sns.lineplot(y = 'Accelerometer_Z', x = 'Timestamps', data = data_sensors) \n",
        "#   plt.legend(['Accelerometer_X', 'Accelerometer_Y', 'Accelerometer_Z']) \n",
        "#   plt.ylabel(i) \n",
        "#   plt.title(i, fontsize = 15) \n",
        "#   plt.show()"
      ]
    },
    {
      "cell_type": "markdown",
      "metadata": {
        "id": "Tr0fa08Q00Zb"
      },
      "source": [
        "#### Alle Features sind vom Typ float64 und alle 9 sind numerische Features, außer Class (y). Wir müssen Label Encoder machen und sie in numeirc umwandeln."
      ]
    },
    {
      "cell_type": "code",
      "execution_count": 81,
      "metadata": {
        "id": "xTUTbllF1Xab"
      },
      "outputs": [],
      "source": [
        "# # Scaling the feature \n",
        "# from sklearn.preprocessing import StandardScaler\n",
        "# scaler = StandardScaler()"
      ]
    },
    {
      "cell_type": "code",
      "execution_count": 82,
      "metadata": {
        "id": "CriSu5e-1ZT0"
      },
      "outputs": [],
      "source": [
        "# X = scaler.fit_transform(X)\n",
        "# X[1]"
      ]
    },
    {
      "cell_type": "markdown",
      "metadata": {
        "id": "M4qxSTMpxflw"
      },
      "source": [
        "## Ermitteln wir die Gesamtzahl der fehlenden Werte in  Datensätzen."
      ]
    },
    {
      "cell_type": "code",
      "execution_count": 83,
      "metadata": {
        "colab": {
          "base_uri": "https://localhost:8080/"
        },
        "id": "YaVr-Exaxd6g",
        "outputId": "0ac2fafc-b720-4b6f-8232-37b3cb3abb7a"
      },
      "outputs": [
        {
          "output_type": "execute_result",
          "data": {
            "text/plain": [
              "Accelerometer_X    0\n",
              "Accelerometer_Y    0\n",
              "Accelerometer_Z    0\n",
              "Gravity_X          0\n",
              "Gravity_Y          0\n",
              "Gravity_Z          0\n",
              "Gyroscope_X        0\n",
              "Gyroscope_Y        0\n",
              "Gyroscope_Z        0\n",
              "Timestamps         0\n",
              "classes            0\n",
              "dtype: int64"
            ]
          },
          "metadata": {},
          "execution_count": 83
        }
      ],
      "source": [
        "df_sensordata = df_sensordata.fillna(0)\n",
        "df_sensordata.isna().sum()"
      ]
    },
    {
      "cell_type": "markdown",
      "source": [
        "### Schauen wir uns die Datentypen der verschiedenen Merkmale an, die Sie haben:"
      ],
      "metadata": {
        "id": "3suUvQ_kTRks"
      }
    },
    {
      "cell_type": "code",
      "source": [
        "df_sensordata.info()"
      ],
      "metadata": {
        "colab": {
          "base_uri": "https://localhost:8080/"
        },
        "id": "aG2nllYlTOBg",
        "outputId": "214c35d7-d782-4e68-9be9-00381b5f159b"
      },
      "execution_count": 84,
      "outputs": [
        {
          "output_type": "stream",
          "name": "stdout",
          "text": [
            "<class 'pandas.core.frame.DataFrame'>\n",
            "Int64Index: 1710 entries, 0 to 511\n",
            "Data columns (total 11 columns):\n",
            " #   Column           Non-Null Count  Dtype  \n",
            "---  ------           --------------  -----  \n",
            " 0   Accelerometer_X  1710 non-null   float64\n",
            " 1   Accelerometer_Y  1710 non-null   float64\n",
            " 2   Accelerometer_Z  1710 non-null   float64\n",
            " 3   Gravity_X        1710 non-null   float64\n",
            " 4   Gravity_Y        1710 non-null   float64\n",
            " 5   Gravity_Z        1710 non-null   float64\n",
            " 6   Gyroscope_X      1710 non-null   float64\n",
            " 7   Gyroscope_Y      1710 non-null   float64\n",
            " 8   Gyroscope_Z      1710 non-null   float64\n",
            " 9   Timestamps       1710 non-null   object \n",
            " 10  classes          1710 non-null   object \n",
            "dtypes: float64(9), object(2)\n",
            "memory usage: 224.9+ KB\n"
          ]
        }
      ]
    },
    {
      "cell_type": "markdown",
      "metadata": {
        "id": "AdEBZqCg70J6"
      },
      "source": [
        "### Erstellen von Labe für die Sensordata LU"
      ]
    },
    {
      "cell_type": "code",
      "execution_count": 85,
      "metadata": {
        "id": "dw4gh3CTwqhe"
      },
      "outputs": [],
      "source": [
        "# df_sensordata_LU.rename(columns={'classes': 'label'}, inplace=True)\n",
        "# df_sensordata_LU['label'] = df_sensordata_LU.label.astype('category')\n",
        "# encoding = {'legitimeruser': 0}\n",
        "# df_sensordata_LU.label.replace(encoding, inplace=True)"
      ]
    },
    {
      "cell_type": "markdown",
      "metadata": {
        "id": "PVFCFc_d6Cqt"
      },
      "source": [
        "### Erstellen von Label für nicht numerischer Werte in numerischer Werte die Sensordata \n"
      ]
    },
    {
      "cell_type": "code",
      "execution_count": 86,
      "metadata": {
        "id": "s_mX610B56eV"
      },
      "outputs": [],
      "source": [
        "df_sensordata.rename(columns={'classes': 'label'}, inplace=True)\n",
        "df_sensordata['label'] = df_sensordata.label.astype('category')\n",
        "encoding = {'legitimeruser': 0, 'illegitimeruser': 1}\n",
        "df_sensordata.label.replace(encoding, inplace=True)"
      ]
    },
    {
      "cell_type": "markdown",
      "metadata": {
        "id": "OaWREpNL8i-A"
      },
      "source": [
        "## Erstelle einen Training- und Test-Datensatz für Feature Engineering für LU"
      ]
    },
    {
      "cell_type": "markdown",
      "metadata": {
        "id": "j6-ad9IP8b6d"
      },
      "source": [
        "Erstens gibt es den Parameter random_\n",
        "state, der den Seed-Wert des Zufallszahlengenerators festlegt. Und zweitens können Sie mehrere Datensätze mit einer identischen Anzahl Zeilen übergeben, die anhand der gleichen Indizes aufgeteilt werden"
      ]
    },
    {
      "cell_type": "code",
      "execution_count": 87,
      "metadata": {
        "id": "n6cf80IZEEYf"
      },
      "outputs": [],
      "source": [
        "train_set, test_set = train_test_split(df_sensordata, test_size=0.2, random_state=0)"
      ]
    },
    {
      "cell_type": "markdown",
      "metadata": {
        "id": "ODB8I8dziVjN"
      },
      "source": [
        "#### Größe der Trainingdatensatz ermitteln"
      ]
    },
    {
      "cell_type": "code",
      "execution_count": 88,
      "metadata": {
        "colab": {
          "base_uri": "https://localhost:8080/",
          "height": 0
        },
        "id": "xkWZQ0yziVKb",
        "outputId": "49f4acf9-d67d-4d24-e2cc-43dd3a990987"
      },
      "outputs": [
        {
          "output_type": "execute_result",
          "data": {
            "text/plain": [
              "     Accelerometer_X  Accelerometer_Y  Accelerometer_Z  Gravity_X  Gravity_Y  \\\n",
              "170             0.09             3.35             1.00       0.19       0.28   \n",
              "432             0.03             0.03             0.01       9.81       9.81   \n",
              "284             0.03             0.03             0.00       9.81       9.81   \n",
              "355             0.03             0.03             0.00       9.81       9.81   \n",
              "295             0.00             0.00             0.01       9.81       9.81   \n",
              "..               ...              ...              ...        ...        ...   \n",
              "43              0.03             0.03             0.02       9.81       9.81   \n",
              "18              0.03             0.03             0.00       9.81       9.81   \n",
              "455             0.01             0.01             0.01       9.81       9.81   \n",
              "117            -0.52            -3.28             1.37      -0.17       9.24   \n",
              "67              0.34             1.17             2.17       0.28       2.50   \n",
              "\n",
              "     Gravity_Z  Gyroscope_X  Gyroscope_Y  Gyroscope_Z  \\\n",
              "170       9.80       -23.61        -1.80        11.62   \n",
              "432       0.00       107.23       107.23        12.98   \n",
              "284       0.00        51.17        51.17        41.16   \n",
              "355       0.00        19.46        19.46        28.69   \n",
              "295       0.00         0.01         0.01         0.01   \n",
              "..         ...          ...          ...          ...   \n",
              "43        0.00       101.74       101.74        12.84   \n",
              "18        0.00       138.53       138.53        51.95   \n",
              "455       0.00         7.19         7.19        18.56   \n",
              "117       3.27        94.58       -47.14         3.00   \n",
              "67        9.48       -12.09        19.17         3.58   \n",
              "\n",
              "                  Timestamps  label  \n",
              "170  13773315203d 19h 46m 2s      0  \n",
              "432          978556792107729      1  \n",
              "284          978527698614105      1  \n",
              "355          978541655509708      1  \n",
              "295          978529860929708      1  \n",
              "..                       ...    ...  \n",
              "43           978165176635641      1  \n",
              "18           978475410775928      1  \n",
              "455          978561313470281      1  \n",
              "117          803652975746669      0  \n",
              "67           803643149170546      1  \n",
              "\n",
              "[1368 rows x 11 columns]"
            ],
            "text/html": [
              "\n",
              "  <div id=\"df-e452367d-3ccf-47c6-b3e5-ca8daf45d0e7\">\n",
              "    <div class=\"colab-df-container\">\n",
              "      <div>\n",
              "<style scoped>\n",
              "    .dataframe tbody tr th:only-of-type {\n",
              "        vertical-align: middle;\n",
              "    }\n",
              "\n",
              "    .dataframe tbody tr th {\n",
              "        vertical-align: top;\n",
              "    }\n",
              "\n",
              "    .dataframe thead th {\n",
              "        text-align: right;\n",
              "    }\n",
              "</style>\n",
              "<table border=\"1\" class=\"dataframe\">\n",
              "  <thead>\n",
              "    <tr style=\"text-align: right;\">\n",
              "      <th></th>\n",
              "      <th>Accelerometer_X</th>\n",
              "      <th>Accelerometer_Y</th>\n",
              "      <th>Accelerometer_Z</th>\n",
              "      <th>Gravity_X</th>\n",
              "      <th>Gravity_Y</th>\n",
              "      <th>Gravity_Z</th>\n",
              "      <th>Gyroscope_X</th>\n",
              "      <th>Gyroscope_Y</th>\n",
              "      <th>Gyroscope_Z</th>\n",
              "      <th>Timestamps</th>\n",
              "      <th>label</th>\n",
              "    </tr>\n",
              "  </thead>\n",
              "  <tbody>\n",
              "    <tr>\n",
              "      <th>170</th>\n",
              "      <td>0.09</td>\n",
              "      <td>3.35</td>\n",
              "      <td>1.00</td>\n",
              "      <td>0.19</td>\n",
              "      <td>0.28</td>\n",
              "      <td>9.80</td>\n",
              "      <td>-23.61</td>\n",
              "      <td>-1.80</td>\n",
              "      <td>11.62</td>\n",
              "      <td>13773315203d 19h 46m 2s</td>\n",
              "      <td>0</td>\n",
              "    </tr>\n",
              "    <tr>\n",
              "      <th>432</th>\n",
              "      <td>0.03</td>\n",
              "      <td>0.03</td>\n",
              "      <td>0.01</td>\n",
              "      <td>9.81</td>\n",
              "      <td>9.81</td>\n",
              "      <td>0.00</td>\n",
              "      <td>107.23</td>\n",
              "      <td>107.23</td>\n",
              "      <td>12.98</td>\n",
              "      <td>978556792107729</td>\n",
              "      <td>1</td>\n",
              "    </tr>\n",
              "    <tr>\n",
              "      <th>284</th>\n",
              "      <td>0.03</td>\n",
              "      <td>0.03</td>\n",
              "      <td>0.00</td>\n",
              "      <td>9.81</td>\n",
              "      <td>9.81</td>\n",
              "      <td>0.00</td>\n",
              "      <td>51.17</td>\n",
              "      <td>51.17</td>\n",
              "      <td>41.16</td>\n",
              "      <td>978527698614105</td>\n",
              "      <td>1</td>\n",
              "    </tr>\n",
              "    <tr>\n",
              "      <th>355</th>\n",
              "      <td>0.03</td>\n",
              "      <td>0.03</td>\n",
              "      <td>0.00</td>\n",
              "      <td>9.81</td>\n",
              "      <td>9.81</td>\n",
              "      <td>0.00</td>\n",
              "      <td>19.46</td>\n",
              "      <td>19.46</td>\n",
              "      <td>28.69</td>\n",
              "      <td>978541655509708</td>\n",
              "      <td>1</td>\n",
              "    </tr>\n",
              "    <tr>\n",
              "      <th>295</th>\n",
              "      <td>0.00</td>\n",
              "      <td>0.00</td>\n",
              "      <td>0.01</td>\n",
              "      <td>9.81</td>\n",
              "      <td>9.81</td>\n",
              "      <td>0.00</td>\n",
              "      <td>0.01</td>\n",
              "      <td>0.01</td>\n",
              "      <td>0.01</td>\n",
              "      <td>978529860929708</td>\n",
              "      <td>1</td>\n",
              "    </tr>\n",
              "    <tr>\n",
              "      <th>...</th>\n",
              "      <td>...</td>\n",
              "      <td>...</td>\n",
              "      <td>...</td>\n",
              "      <td>...</td>\n",
              "      <td>...</td>\n",
              "      <td>...</td>\n",
              "      <td>...</td>\n",
              "      <td>...</td>\n",
              "      <td>...</td>\n",
              "      <td>...</td>\n",
              "      <td>...</td>\n",
              "    </tr>\n",
              "    <tr>\n",
              "      <th>43</th>\n",
              "      <td>0.03</td>\n",
              "      <td>0.03</td>\n",
              "      <td>0.02</td>\n",
              "      <td>9.81</td>\n",
              "      <td>9.81</td>\n",
              "      <td>0.00</td>\n",
              "      <td>101.74</td>\n",
              "      <td>101.74</td>\n",
              "      <td>12.84</td>\n",
              "      <td>978165176635641</td>\n",
              "      <td>1</td>\n",
              "    </tr>\n",
              "    <tr>\n",
              "      <th>18</th>\n",
              "      <td>0.03</td>\n",
              "      <td>0.03</td>\n",
              "      <td>0.00</td>\n",
              "      <td>9.81</td>\n",
              "      <td>9.81</td>\n",
              "      <td>0.00</td>\n",
              "      <td>138.53</td>\n",
              "      <td>138.53</td>\n",
              "      <td>51.95</td>\n",
              "      <td>978475410775928</td>\n",
              "      <td>1</td>\n",
              "    </tr>\n",
              "    <tr>\n",
              "      <th>455</th>\n",
              "      <td>0.01</td>\n",
              "      <td>0.01</td>\n",
              "      <td>0.01</td>\n",
              "      <td>9.81</td>\n",
              "      <td>9.81</td>\n",
              "      <td>0.00</td>\n",
              "      <td>7.19</td>\n",
              "      <td>7.19</td>\n",
              "      <td>18.56</td>\n",
              "      <td>978561313470281</td>\n",
              "      <td>1</td>\n",
              "    </tr>\n",
              "    <tr>\n",
              "      <th>117</th>\n",
              "      <td>-0.52</td>\n",
              "      <td>-3.28</td>\n",
              "      <td>1.37</td>\n",
              "      <td>-0.17</td>\n",
              "      <td>9.24</td>\n",
              "      <td>3.27</td>\n",
              "      <td>94.58</td>\n",
              "      <td>-47.14</td>\n",
              "      <td>3.00</td>\n",
              "      <td>803652975746669</td>\n",
              "      <td>0</td>\n",
              "    </tr>\n",
              "    <tr>\n",
              "      <th>67</th>\n",
              "      <td>0.34</td>\n",
              "      <td>1.17</td>\n",
              "      <td>2.17</td>\n",
              "      <td>0.28</td>\n",
              "      <td>2.50</td>\n",
              "      <td>9.48</td>\n",
              "      <td>-12.09</td>\n",
              "      <td>19.17</td>\n",
              "      <td>3.58</td>\n",
              "      <td>803643149170546</td>\n",
              "      <td>1</td>\n",
              "    </tr>\n",
              "  </tbody>\n",
              "</table>\n",
              "<p>1368 rows × 11 columns</p>\n",
              "</div>\n",
              "      <button class=\"colab-df-convert\" onclick=\"convertToInteractive('df-e452367d-3ccf-47c6-b3e5-ca8daf45d0e7')\"\n",
              "              title=\"Convert this dataframe to an interactive table.\"\n",
              "              style=\"display:none;\">\n",
              "        \n",
              "  <svg xmlns=\"http://www.w3.org/2000/svg\" height=\"24px\"viewBox=\"0 0 24 24\"\n",
              "       width=\"24px\">\n",
              "    <path d=\"M0 0h24v24H0V0z\" fill=\"none\"/>\n",
              "    <path d=\"M18.56 5.44l.94 2.06.94-2.06 2.06-.94-2.06-.94-.94-2.06-.94 2.06-2.06.94zm-11 1L8.5 8.5l.94-2.06 2.06-.94-2.06-.94L8.5 2.5l-.94 2.06-2.06.94zm10 10l.94 2.06.94-2.06 2.06-.94-2.06-.94-.94-2.06-.94 2.06-2.06.94z\"/><path d=\"M17.41 7.96l-1.37-1.37c-.4-.4-.92-.59-1.43-.59-.52 0-1.04.2-1.43.59L10.3 9.45l-7.72 7.72c-.78.78-.78 2.05 0 2.83L4 21.41c.39.39.9.59 1.41.59.51 0 1.02-.2 1.41-.59l7.78-7.78 2.81-2.81c.8-.78.8-2.07 0-2.86zM5.41 20L4 18.59l7.72-7.72 1.47 1.35L5.41 20z\"/>\n",
              "  </svg>\n",
              "      </button>\n",
              "      \n",
              "  <style>\n",
              "    .colab-df-container {\n",
              "      display:flex;\n",
              "      flex-wrap:wrap;\n",
              "      gap: 12px;\n",
              "    }\n",
              "\n",
              "    .colab-df-convert {\n",
              "      background-color: #E8F0FE;\n",
              "      border: none;\n",
              "      border-radius: 50%;\n",
              "      cursor: pointer;\n",
              "      display: none;\n",
              "      fill: #1967D2;\n",
              "      height: 32px;\n",
              "      padding: 0 0 0 0;\n",
              "      width: 32px;\n",
              "    }\n",
              "\n",
              "    .colab-df-convert:hover {\n",
              "      background-color: #E2EBFA;\n",
              "      box-shadow: 0px 1px 2px rgba(60, 64, 67, 0.3), 0px 1px 3px 1px rgba(60, 64, 67, 0.15);\n",
              "      fill: #174EA6;\n",
              "    }\n",
              "\n",
              "    [theme=dark] .colab-df-convert {\n",
              "      background-color: #3B4455;\n",
              "      fill: #D2E3FC;\n",
              "    }\n",
              "\n",
              "    [theme=dark] .colab-df-convert:hover {\n",
              "      background-color: #434B5C;\n",
              "      box-shadow: 0px 1px 3px 1px rgba(0, 0, 0, 0.15);\n",
              "      filter: drop-shadow(0px 1px 2px rgba(0, 0, 0, 0.3));\n",
              "      fill: #FFFFFF;\n",
              "    }\n",
              "  </style>\n",
              "\n",
              "      <script>\n",
              "        const buttonEl =\n",
              "          document.querySelector('#df-e452367d-3ccf-47c6-b3e5-ca8daf45d0e7 button.colab-df-convert');\n",
              "        buttonEl.style.display =\n",
              "          google.colab.kernel.accessAllowed ? 'block' : 'none';\n",
              "\n",
              "        async function convertToInteractive(key) {\n",
              "          const element = document.querySelector('#df-e452367d-3ccf-47c6-b3e5-ca8daf45d0e7');\n",
              "          const dataTable =\n",
              "            await google.colab.kernel.invokeFunction('convertToInteractive',\n",
              "                                                     [key], {});\n",
              "          if (!dataTable) return;\n",
              "\n",
              "          const docLinkHtml = 'Like what you see? Visit the ' +\n",
              "            '<a target=\"_blank\" href=https://colab.research.google.com/notebooks/data_table.ipynb>data table notebook</a>'\n",
              "            + ' to learn more about interactive tables.';\n",
              "          element.innerHTML = '';\n",
              "          dataTable['output_type'] = 'display_data';\n",
              "          await google.colab.output.renderOutput(dataTable, element);\n",
              "          const docLink = document.createElement('div');\n",
              "          docLink.innerHTML = docLinkHtml;\n",
              "          element.appendChild(docLink);\n",
              "        }\n",
              "      </script>\n",
              "    </div>\n",
              "  </div>\n",
              "  "
            ]
          },
          "metadata": {},
          "execution_count": 88
        }
      ],
      "source": [
        "train_set"
      ]
    },
    {
      "cell_type": "markdown",
      "metadata": {
        "id": "Wi9HYIWtiJFk"
      },
      "source": [
        "### Größe der Testdatensatz ermitteln"
      ]
    },
    {
      "cell_type": "code",
      "execution_count": 89,
      "metadata": {
        "colab": {
          "base_uri": "https://localhost:8080/"
        },
        "id": "ECFVA5tB8smP",
        "outputId": "d65b568d-65d0-4642-d605-6fce27ae506a"
      },
      "outputs": [
        {
          "output_type": "execute_result",
          "data": {
            "text/plain": [
              "342"
            ]
          },
          "metadata": {},
          "execution_count": 89
        }
      ],
      "source": [
        "len(test_set)"
      ]
    },
    {
      "cell_type": "markdown",
      "metadata": {
        "id": "Xwq2n-TrZ6aT"
      },
      "source": [
        "#### create y_train und y_test von Label in nummerische Werten"
      ]
    },
    {
      "cell_type": "code",
      "execution_count": 90,
      "metadata": {
        "id": "DCiKvRnjZhHh"
      },
      "outputs": [],
      "source": [
        "# y_train = train_set['label'].values\n",
        "# y_train"
      ]
    },
    {
      "cell_type": "code",
      "execution_count": 91,
      "metadata": {
        "id": "zn7K92PrZl6i"
      },
      "outputs": [],
      "source": [
        "# y_test = test_set['label'].values\n",
        "# y_test"
      ]
    },
    {
      "cell_type": "markdown",
      "metadata": {
        "id": "Mrqqu6k-yzU2"
      },
      "source": [
        "### Anpassen der Spalte Timestampels"
      ]
    },
    {
      "cell_type": "markdown",
      "metadata": {
        "id": "S_WB-rBdWWwM"
      },
      "source": [
        "#### Scikit-Learn enthält eine nützliche Klasse zum Umgang mit fehlenden Werten\n",
        "sollten Sie den Median des trainingsdatensatzes berechnen und die fehlenden Werte mit diesem auffüllen."
      ]
    },
    {
      "cell_type": "code",
      "execution_count": 92,
      "metadata": {
        "colab": {
          "base_uri": "https://localhost:8080/",
          "height": 0
        },
        "id": "AdVY_J4jyxD0",
        "outputId": "ae5b0212-84d7-4bab-98f2-e320cada4b81"
      },
      "outputs": [
        {
          "output_type": "execute_result",
          "data": {
            "text/plain": [
              "     Accelerometer_X  Accelerometer_Y  Accelerometer_Z  Gravity_X  Gravity_Y  \\\n",
              "170             0.09             3.35             1.00       0.19       0.28   \n",
              "432             0.03             0.03             0.01       9.81       9.81   \n",
              "284             0.03             0.03             0.00       9.81       9.81   \n",
              "355             0.03             0.03             0.00       9.81       9.81   \n",
              "295             0.00             0.00             0.01       9.81       9.81   \n",
              "..               ...              ...              ...        ...        ...   \n",
              "43              0.03             0.03             0.02       9.81       9.81   \n",
              "18              0.03             0.03             0.00       9.81       9.81   \n",
              "455             0.01             0.01             0.01       9.81       9.81   \n",
              "117            -0.52            -3.28             1.37      -0.17       9.24   \n",
              "67              0.34             1.17             2.17       0.28       2.50   \n",
              "\n",
              "     Gravity_Z  Gyroscope_X  Gyroscope_Y  Gyroscope_Z   Timestamps  label  \n",
              "170       9.80       -23.61        -1.80        11.62  13773315203      0  \n",
              "432       0.00       107.23       107.23        12.98          NaN      1  \n",
              "284       0.00        51.17        51.17        41.16          NaN      1  \n",
              "355       0.00        19.46        19.46        28.69          NaN      1  \n",
              "295       0.00         0.01         0.01         0.01          NaN      1  \n",
              "..         ...          ...          ...          ...          ...    ...  \n",
              "43        0.00       101.74       101.74        12.84          NaN      1  \n",
              "18        0.00       138.53       138.53        51.95          NaN      1  \n",
              "455       0.00         7.19         7.19        18.56          NaN      1  \n",
              "117       3.27        94.58       -47.14         3.00          NaN      0  \n",
              "67        9.48       -12.09        19.17         3.58          NaN      1  \n",
              "\n",
              "[1368 rows x 11 columns]"
            ],
            "text/html": [
              "\n",
              "  <div id=\"df-9171db65-ff07-41d9-b8cd-eea2d7dab9ae\">\n",
              "    <div class=\"colab-df-container\">\n",
              "      <div>\n",
              "<style scoped>\n",
              "    .dataframe tbody tr th:only-of-type {\n",
              "        vertical-align: middle;\n",
              "    }\n",
              "\n",
              "    .dataframe tbody tr th {\n",
              "        vertical-align: top;\n",
              "    }\n",
              "\n",
              "    .dataframe thead th {\n",
              "        text-align: right;\n",
              "    }\n",
              "</style>\n",
              "<table border=\"1\" class=\"dataframe\">\n",
              "  <thead>\n",
              "    <tr style=\"text-align: right;\">\n",
              "      <th></th>\n",
              "      <th>Accelerometer_X</th>\n",
              "      <th>Accelerometer_Y</th>\n",
              "      <th>Accelerometer_Z</th>\n",
              "      <th>Gravity_X</th>\n",
              "      <th>Gravity_Y</th>\n",
              "      <th>Gravity_Z</th>\n",
              "      <th>Gyroscope_X</th>\n",
              "      <th>Gyroscope_Y</th>\n",
              "      <th>Gyroscope_Z</th>\n",
              "      <th>Timestamps</th>\n",
              "      <th>label</th>\n",
              "    </tr>\n",
              "  </thead>\n",
              "  <tbody>\n",
              "    <tr>\n",
              "      <th>170</th>\n",
              "      <td>0.09</td>\n",
              "      <td>3.35</td>\n",
              "      <td>1.00</td>\n",
              "      <td>0.19</td>\n",
              "      <td>0.28</td>\n",
              "      <td>9.80</td>\n",
              "      <td>-23.61</td>\n",
              "      <td>-1.80</td>\n",
              "      <td>11.62</td>\n",
              "      <td>13773315203</td>\n",
              "      <td>0</td>\n",
              "    </tr>\n",
              "    <tr>\n",
              "      <th>432</th>\n",
              "      <td>0.03</td>\n",
              "      <td>0.03</td>\n",
              "      <td>0.01</td>\n",
              "      <td>9.81</td>\n",
              "      <td>9.81</td>\n",
              "      <td>0.00</td>\n",
              "      <td>107.23</td>\n",
              "      <td>107.23</td>\n",
              "      <td>12.98</td>\n",
              "      <td>NaN</td>\n",
              "      <td>1</td>\n",
              "    </tr>\n",
              "    <tr>\n",
              "      <th>284</th>\n",
              "      <td>0.03</td>\n",
              "      <td>0.03</td>\n",
              "      <td>0.00</td>\n",
              "      <td>9.81</td>\n",
              "      <td>9.81</td>\n",
              "      <td>0.00</td>\n",
              "      <td>51.17</td>\n",
              "      <td>51.17</td>\n",
              "      <td>41.16</td>\n",
              "      <td>NaN</td>\n",
              "      <td>1</td>\n",
              "    </tr>\n",
              "    <tr>\n",
              "      <th>355</th>\n",
              "      <td>0.03</td>\n",
              "      <td>0.03</td>\n",
              "      <td>0.00</td>\n",
              "      <td>9.81</td>\n",
              "      <td>9.81</td>\n",
              "      <td>0.00</td>\n",
              "      <td>19.46</td>\n",
              "      <td>19.46</td>\n",
              "      <td>28.69</td>\n",
              "      <td>NaN</td>\n",
              "      <td>1</td>\n",
              "    </tr>\n",
              "    <tr>\n",
              "      <th>295</th>\n",
              "      <td>0.00</td>\n",
              "      <td>0.00</td>\n",
              "      <td>0.01</td>\n",
              "      <td>9.81</td>\n",
              "      <td>9.81</td>\n",
              "      <td>0.00</td>\n",
              "      <td>0.01</td>\n",
              "      <td>0.01</td>\n",
              "      <td>0.01</td>\n",
              "      <td>NaN</td>\n",
              "      <td>1</td>\n",
              "    </tr>\n",
              "    <tr>\n",
              "      <th>...</th>\n",
              "      <td>...</td>\n",
              "      <td>...</td>\n",
              "      <td>...</td>\n",
              "      <td>...</td>\n",
              "      <td>...</td>\n",
              "      <td>...</td>\n",
              "      <td>...</td>\n",
              "      <td>...</td>\n",
              "      <td>...</td>\n",
              "      <td>...</td>\n",
              "      <td>...</td>\n",
              "    </tr>\n",
              "    <tr>\n",
              "      <th>43</th>\n",
              "      <td>0.03</td>\n",
              "      <td>0.03</td>\n",
              "      <td>0.02</td>\n",
              "      <td>9.81</td>\n",
              "      <td>9.81</td>\n",
              "      <td>0.00</td>\n",
              "      <td>101.74</td>\n",
              "      <td>101.74</td>\n",
              "      <td>12.84</td>\n",
              "      <td>NaN</td>\n",
              "      <td>1</td>\n",
              "    </tr>\n",
              "    <tr>\n",
              "      <th>18</th>\n",
              "      <td>0.03</td>\n",
              "      <td>0.03</td>\n",
              "      <td>0.00</td>\n",
              "      <td>9.81</td>\n",
              "      <td>9.81</td>\n",
              "      <td>0.00</td>\n",
              "      <td>138.53</td>\n",
              "      <td>138.53</td>\n",
              "      <td>51.95</td>\n",
              "      <td>NaN</td>\n",
              "      <td>1</td>\n",
              "    </tr>\n",
              "    <tr>\n",
              "      <th>455</th>\n",
              "      <td>0.01</td>\n",
              "      <td>0.01</td>\n",
              "      <td>0.01</td>\n",
              "      <td>9.81</td>\n",
              "      <td>9.81</td>\n",
              "      <td>0.00</td>\n",
              "      <td>7.19</td>\n",
              "      <td>7.19</td>\n",
              "      <td>18.56</td>\n",
              "      <td>NaN</td>\n",
              "      <td>1</td>\n",
              "    </tr>\n",
              "    <tr>\n",
              "      <th>117</th>\n",
              "      <td>-0.52</td>\n",
              "      <td>-3.28</td>\n",
              "      <td>1.37</td>\n",
              "      <td>-0.17</td>\n",
              "      <td>9.24</td>\n",
              "      <td>3.27</td>\n",
              "      <td>94.58</td>\n",
              "      <td>-47.14</td>\n",
              "      <td>3.00</td>\n",
              "      <td>NaN</td>\n",
              "      <td>0</td>\n",
              "    </tr>\n",
              "    <tr>\n",
              "      <th>67</th>\n",
              "      <td>0.34</td>\n",
              "      <td>1.17</td>\n",
              "      <td>2.17</td>\n",
              "      <td>0.28</td>\n",
              "      <td>2.50</td>\n",
              "      <td>9.48</td>\n",
              "      <td>-12.09</td>\n",
              "      <td>19.17</td>\n",
              "      <td>3.58</td>\n",
              "      <td>NaN</td>\n",
              "      <td>1</td>\n",
              "    </tr>\n",
              "  </tbody>\n",
              "</table>\n",
              "<p>1368 rows × 11 columns</p>\n",
              "</div>\n",
              "      <button class=\"colab-df-convert\" onclick=\"convertToInteractive('df-9171db65-ff07-41d9-b8cd-eea2d7dab9ae')\"\n",
              "              title=\"Convert this dataframe to an interactive table.\"\n",
              "              style=\"display:none;\">\n",
              "        \n",
              "  <svg xmlns=\"http://www.w3.org/2000/svg\" height=\"24px\"viewBox=\"0 0 24 24\"\n",
              "       width=\"24px\">\n",
              "    <path d=\"M0 0h24v24H0V0z\" fill=\"none\"/>\n",
              "    <path d=\"M18.56 5.44l.94 2.06.94-2.06 2.06-.94-2.06-.94-.94-2.06-.94 2.06-2.06.94zm-11 1L8.5 8.5l.94-2.06 2.06-.94-2.06-.94L8.5 2.5l-.94 2.06-2.06.94zm10 10l.94 2.06.94-2.06 2.06-.94-2.06-.94-.94-2.06-.94 2.06-2.06.94z\"/><path d=\"M17.41 7.96l-1.37-1.37c-.4-.4-.92-.59-1.43-.59-.52 0-1.04.2-1.43.59L10.3 9.45l-7.72 7.72c-.78.78-.78 2.05 0 2.83L4 21.41c.39.39.9.59 1.41.59.51 0 1.02-.2 1.41-.59l7.78-7.78 2.81-2.81c.8-.78.8-2.07 0-2.86zM5.41 20L4 18.59l7.72-7.72 1.47 1.35L5.41 20z\"/>\n",
              "  </svg>\n",
              "      </button>\n",
              "      \n",
              "  <style>\n",
              "    .colab-df-container {\n",
              "      display:flex;\n",
              "      flex-wrap:wrap;\n",
              "      gap: 12px;\n",
              "    }\n",
              "\n",
              "    .colab-df-convert {\n",
              "      background-color: #E8F0FE;\n",
              "      border: none;\n",
              "      border-radius: 50%;\n",
              "      cursor: pointer;\n",
              "      display: none;\n",
              "      fill: #1967D2;\n",
              "      height: 32px;\n",
              "      padding: 0 0 0 0;\n",
              "      width: 32px;\n",
              "    }\n",
              "\n",
              "    .colab-df-convert:hover {\n",
              "      background-color: #E2EBFA;\n",
              "      box-shadow: 0px 1px 2px rgba(60, 64, 67, 0.3), 0px 1px 3px 1px rgba(60, 64, 67, 0.15);\n",
              "      fill: #174EA6;\n",
              "    }\n",
              "\n",
              "    [theme=dark] .colab-df-convert {\n",
              "      background-color: #3B4455;\n",
              "      fill: #D2E3FC;\n",
              "    }\n",
              "\n",
              "    [theme=dark] .colab-df-convert:hover {\n",
              "      background-color: #434B5C;\n",
              "      box-shadow: 0px 1px 3px 1px rgba(0, 0, 0, 0.15);\n",
              "      filter: drop-shadow(0px 1px 2px rgba(0, 0, 0, 0.3));\n",
              "      fill: #FFFFFF;\n",
              "    }\n",
              "  </style>\n",
              "\n",
              "      <script>\n",
              "        const buttonEl =\n",
              "          document.querySelector('#df-9171db65-ff07-41d9-b8cd-eea2d7dab9ae button.colab-df-convert');\n",
              "        buttonEl.style.display =\n",
              "          google.colab.kernel.accessAllowed ? 'block' : 'none';\n",
              "\n",
              "        async function convertToInteractive(key) {\n",
              "          const element = document.querySelector('#df-9171db65-ff07-41d9-b8cd-eea2d7dab9ae');\n",
              "          const dataTable =\n",
              "            await google.colab.kernel.invokeFunction('convertToInteractive',\n",
              "                                                     [key], {});\n",
              "          if (!dataTable) return;\n",
              "\n",
              "          const docLinkHtml = 'Like what you see? Visit the ' +\n",
              "            '<a target=\"_blank\" href=https://colab.research.google.com/notebooks/data_table.ipynb>data table notebook</a>'\n",
              "            + ' to learn more about interactive tables.';\n",
              "          element.innerHTML = '';\n",
              "          dataTable['output_type'] = 'display_data';\n",
              "          await google.colab.output.renderOutput(dataTable, element);\n",
              "          const docLink = document.createElement('div');\n",
              "          docLink.innerHTML = docLinkHtml;\n",
              "          element.appendChild(docLink);\n",
              "        }\n",
              "      </script>\n",
              "    </div>\n",
              "  </div>\n",
              "  "
            ]
          },
          "metadata": {},
          "execution_count": 92
        }
      ],
      "source": [
        "# new data frame with split value columns\n",
        "new = train_set[\"Timestamps\"].str.split(\"d\", n = 1, expand = True)\n",
        " \n",
        "# making separate first name column from new data frame\n",
        "train_set[\"Timestamps\"]= new[0]\n",
        " \n",
        "# making separate last name column from new data frame\n",
        "train_set[\"Timestamps_1\"]= new[1]\n",
        " \n",
        "# Dropping old Name columns\n",
        "train_set.drop(columns =[\"Timestamps_1\"], inplace = True)\n",
        "train_set"
      ]
    },
    {
      "cell_type": "markdown",
      "metadata": {
        "id": "svNXXOwPzG-M"
      },
      "source": [
        "#### Fehlenden Werte auf einen bestimmten Wert setzen (null auf Median setzen )"
      ]
    },
    {
      "cell_type": "code",
      "execution_count": 93,
      "metadata": {
        "colab": {
          "base_uri": "https://localhost:8080/"
        },
        "id": "kI7PwbIxVARh",
        "outputId": "131c8b72-7ac7-4d9d-8444-29ee5767cd57"
      },
      "outputs": [
        {
          "output_type": "execute_result",
          "data": {
            "text/plain": [
              "(1368, 11)"
            ]
          },
          "metadata": {},
          "execution_count": 93
        }
      ],
      "source": [
        "median = train_set[\"Timestamps\"].median() \n",
        "train_set[\"Timestamps\"].fillna(median, inplace=True)\n",
        "train_set.shape\n",
        "# from sklearn.impute import SimpleImputer\n",
        "\n",
        "# # #  den Median des Trainingsdatensatzes berechnen und die fehlenden Werte mit diesem auffüllen\n",
        "# # # Scikit-Learn enthält eine nützliche Klasse zum Umgang mit fehlenden Werten: SimpleImputer\n",
        "# # imputer = SimpleImputer(strategy=\"median\")\n",
        "# # df_sensordata_timestNum = df_sensordata.drop(\"classes\", axis=1)\n",
        "# # #Anschließend können Sie die imputer-Instanz durch Aufrufen der Methode fit() an die Trainingsdaten anpassen\n",
        "# # imputer.fit(df_sensordata_timestNum)\n",
        "# # #  Der imputer hat einfach den Median jedes Merkmals berechnet und das Ergebnis im Attribut statistics_ gespeichert\n",
        "# # df_sensordata_timestNum.median().values\n",
        "# # imputer.statistics_\n",
        "# # # Sie können nun mit diesem »trainierten« imputer den Trainingsdatensatz transformieren, sodass die fehlenden Werte durch die gefundenen Mediane ersetzt werden\n",
        "# # # X = imputer.transform(df_sensordata_timestNum)\n",
        "# # df_sensordata_timestNum\n"
      ]
    },
    {
      "cell_type": "code",
      "execution_count": 94,
      "metadata": {
        "colab": {
          "base_uri": "https://localhost:8080/"
        },
        "id": "4E9UQSGZNbAV",
        "outputId": "37a9a9ae-c693-4cb0-ec71-67ff0b1273e2"
      },
      "outputs": [
        {
          "output_type": "execute_result",
          "data": {
            "text/plain": [
              "(342, 11)"
            ]
          },
          "metadata": {},
          "execution_count": 94
        }
      ],
      "source": [
        "test_set.shape"
      ]
    },
    {
      "cell_type": "markdown",
      "metadata": {
        "id": "4Q8x7rjc1fC7"
      },
      "source": [
        "# Erstellung von X und y: Trainings- und Validierungsdatensätze für Überwachenes Lernen, Unüberwachenes Lernen und Deep Learning"
      ]
    },
    {
      "cell_type": "code",
      "execution_count": 152,
      "metadata": {
        "id": "SWtx3qOlg89F"
      },
      "outputs": [],
      "source": [
        "# Wähle nur die sensordaten\n",
        "X = df_sensordata.values[:, :-2]\n",
        "Y = df_sensordata.values[:, -1]"
      ]
    },
    {
      "cell_type": "markdown",
      "metadata": {
        "id": "w2eekaBXWKs9"
      },
      "source": [
        "### Vorprozerrierung der Features und die Labels"
      ]
    },
    {
      "cell_type": "code",
      "execution_count": 153,
      "metadata": {
        "colab": {
          "base_uri": "https://localhost:8080/"
        },
        "id": "BikcedkLiLO7",
        "outputId": "e2d70dde-0165-48a2-95f5-0434336e68f9"
      },
      "outputs": [
        {
          "output_type": "stream",
          "name": "stdout",
          "text": [
            "(1710, 9)\n",
            "(1710,)\n",
            "[[ 0.14375128 -0.04158415 -0.06726032 ... -0.39097179 -0.48080457\n",
            "  -0.50957194]\n",
            " [ 0.11764521 -0.04158415 -0.06726032 ... -0.40354623 -0.51333666\n",
            "  -0.50583263]\n",
            " [ 0.06543309 -0.03393721 -0.06726032 ... -0.40593378 -0.51830972\n",
            "  -0.50801389]\n",
            " ...\n",
            " [ 0.06543309 -0.03393721 -0.06726032 ... -0.40450125 -0.51582319\n",
            "  -0.50957194]\n",
            " [ 0.06543309 -0.03393721 -0.06726032 ... -0.40450125 -0.51582319\n",
            "  -0.50957194]\n",
            " [ 0.06543309 -0.03393721 -0.06726032 ... -0.40466042 -0.5160304\n",
            "  -0.50926033]]\n"
          ]
        }
      ],
      "source": [
        "from sklearn.preprocessing import StandardScaler\n",
        "\n",
        "scaler = StandardScaler()\n",
        "# The boolean feature does not need to be normalized.x\n",
        "X_norm = scaler.fit_transform(X)\n",
        "\n",
        "from sklearn import preprocessing\n",
        "encoder = preprocessing.LabelEncoder()\n",
        "# encoding train labels \n",
        "encoder.fit(Y)\n",
        "y = encoder.transform(Y)\n",
        "print(X_norm.shape)\n",
        "print(y.shape)\n",
        "print(X_norm)"
      ]
    },
    {
      "cell_type": "code",
      "execution_count": 154,
      "metadata": {
        "colab": {
          "base_uri": "https://localhost:8080/"
        },
        "id": "LoOAHICJ1iPr",
        "outputId": "6bb73ec7-212e-4d3e-a2c4-23ea479f9c56"
      },
      "outputs": [
        {
          "output_type": "execute_result",
          "data": {
            "text/plain": [
              "((1368, 9), (342, 9), (1368,), (342,))"
            ]
          },
          "metadata": {},
          "execution_count": 154
        }
      ],
      "source": [
        "from sklearn.model_selection import train_test_split\n",
        "\n",
        "X_train, X_valid, y_train, y_valid = train_test_split(X_norm, y, test_size = 0.2, random_state = 42)\n",
        "X_train.shape, X_valid.shape, y_train.shape, y_valid.shape"
      ]
    },
    {
      "cell_type": "markdown",
      "metadata": {
        "id": "BE2jGJXu93ol"
      },
      "source": [
        "# Überwachenes Lernen"
      ]
    },
    {
      "cell_type": "markdown",
      "metadata": {
        "id": "-09YsoYmKr9u"
      },
      "source": [
        "## Logistisches Regressionsmodell mit featuren enginering sensordaten"
      ]
    },
    {
      "cell_type": "markdown",
      "metadata": {
        "id": "sMJPOKybeQFS"
      },
      "source": [
        "### Feature Engineering: Statistische Maßnahmen ergreifen"
      ]
    },
    {
      "cell_type": "markdown",
      "metadata": {
        "id": "GeosXUYQ8-sR"
      },
      "source": [
        "#### In Phase 1 des Feature-Engineerings werden wir insgesamt 18 einfache statistische Features erstellen\n",
        "1. Mittelwert\n",
        "2. Standardabweichung\n",
        "3. durchschnittliche absolute Abweichung\n",
        "4. Minimalwert\n",
        "5. Maximalwert\n",
        "6. Differenz von Maximal- und Minimalwert\n",
        "7. Median\n",
        "8. Median absolute Abweichung\n",
        "9. Interquartilbereich\n",
        "10. Negative Werte zählen\n",
        "11. Positive Werte zählen\n",
        "12. Anzahl der Werte über dem Mittelwert\n",
        "13. Anzahl der Spitzen\n",
        "14. Schiefe\n",
        "15. Kurtosis\n",
        "16. Energie\n",
        "17. Durchschnittliche resultierende Beschleunigung\n",
        "18. Signalgröße Bereich\n",
        "\n",
        "Die meisten dieser Funktionen sind selbsterklärend.\n",
        "\n",
        "Die Energie eines Signals in jeder Achse wird berechnet, indem der Mittelwert der Summe der Quadrate der Werte in einem Fenster in dieser bestimmten Achse genommen wird.\n",
        "Die durchschnittliche resultierende Beschleunigung über das Fenster wird berechnet, indem der Durchschnitt der Quadratwurzeln der Werte in jeder der drei Achsen quadriert und addiert wird.\n",
        "Der Bereich der Signalgröße ist als Summe der Absolutwerte der drei Achsen, gemittelt über ein Fenster, definiert.\n",
        "\n",
        "credits: https://towardsdatascience.com/feature-engineering-on-time-series-data-transforming-signal-data-of-a-smartphone-accelerometer-for-72cbe34b8a60"
      ]
    },
    {
      "cell_type": "code",
      "execution_count": 67,
      "metadata": {
        "id": "rTsycSiHeKsv"
      },
      "outputs": [],
      "source": [
        "x_list = []\n",
        "y_list = []\n",
        "z_list = []\n",
        "train_labels = []\n",
        "\n",
        "window_size = 100\n",
        "step_size = 50\n",
        " # Accelerometer_X ,  Accelerometer_Y  , Accelerometer_Z\n",
        "# creating overlaping windows of size window-size 100\n",
        "for i in range(0, train_set.shape[0] - window_size, step_size):\n",
        "    xs = train_set['Accelerometer_X'].values[i: i + 100]\n",
        "    ys = train_set['Accelerometer_Y'].values[i: i + 100]\n",
        "    zs = train_set['Accelerometer_Z'].values[i: i + 100]\n",
        "    label = stats.mode(train_set['label'][i: i + 100])[0][0]\n",
        "\n",
        "    x_list.append(xs)\n",
        "    y_list.append(ys)\n",
        "    z_list.append(zs)\n",
        "    train_labels.append(label)\n",
        "\n",
        "# Statistical Features on raw x, y and z from acceleration\n",
        "X_Train_accel = pd.DataFrame()\n",
        "\n",
        "# mean\n",
        "X_Train_accel['Accelerometer_X_mean'] = pd.Series(x_list).apply(lambda x: x.mean())\n",
        "X_Train_accel['Accelerometer_Y_mean'] = pd.Series(y_list).apply(lambda x: x.mean())\n",
        "X_Train_accel['Accelerometer_Z_mean'] = pd.Series(z_list).apply(lambda x: x.mean())\n",
        "\n",
        "# std dev\n",
        "X_Train_accel['Accelerometer_X_std'] = pd.Series(x_list).apply(lambda x: x.std())\n",
        "X_Train_accel['Accelerometer_Y_std'] = pd.Series(y_list).apply(lambda x: x.std())\n",
        "X_Train_accel['Accelerometer_Z_std'] = pd.Series(z_list).apply(lambda x: x.std())\n",
        "\n",
        "# avg absolute diff\n",
        "X_Train_accel['Accelerometer_X_aad'] = pd.Series(x_list).apply(lambda x: np.mean(np.absolute(x - np.mean(x))))     \n",
        "X_Train_accel['Accelerometer_Y_aad'] = pd.Series(y_list).apply(lambda x: np.mean(np.absolute(x - np.mean(x))))\n",
        "X_Train_accel['Accelerometer_Z_aad'] = pd.Series(z_list).apply(lambda x: np.mean(np.absolute(x - np.mean(x))))\n",
        "\n",
        "# min\n",
        "X_Train_accel['Accelerometer_X_min'] = pd.Series(x_list).apply(lambda x: x.min())\n",
        "X_Train_accel['Accelerometer_Y_min'] = pd.Series(y_list).apply(lambda x: x.min())   \n",
        "X_Train_accel['Accelerometer_Z_min'] = pd.Series(z_list).apply(lambda x: x.min())\n",
        "\n",
        "# max\n",
        "X_Train_accel['Accelerometer_X_max'] = pd.Series(x_list).apply(lambda x: x.max())\n",
        "X_Train_accel['Accelerometer_Y_max'] = pd.Series(y_list).apply(lambda x: x.max())\n",
        "X_Train_accel['Accelerometer_Z_max'] = pd.Series(z_list).apply(lambda x: x.max())\n",
        "\n",
        "# max-min diff\n",
        "X_Train_accel['Accelerometer_X_maxmin_diff'] = X_Train_accel['Accelerometer_X_max'] - X_Train_accel['Accelerometer_X_min']\n",
        "X_Train_accel['Accelerometer_Z_maxmin_diff'] = X_Train_accel['Accelerometer_Y_max'] - X_Train_accel['Accelerometer_Y_min']\n",
        "X_Train_accel['Accelerometer_Y_maxmin_diff'] = X_Train_accel['Accelerometer_Z_max'] - X_Train_accel['Accelerometer_Z_min']\n",
        "\n",
        "# median\n",
        "X_Train_accel['Accelerometer_X_median'] = pd.Series(x_list).apply(lambda x: np.median(x))\n",
        "X_Train_accel['Accelerometer_Y_median'] = pd.Series(y_list).apply(lambda x: np.median(x))  \n",
        "X_Train_accel['Accelerometer_Z_median'] = pd.Series(z_list).apply(lambda x: np.median(x))\n",
        "\n",
        "# median abs dev \n",
        "X_Train_accel['Accelerometer_X_mad'] = pd.Series(x_list).apply(lambda x: np.median(np.absolute(x - np.median(x))))\n",
        "X_Train_accel['Accelerometer_Y_mad'] = pd.Series(y_list).apply(lambda x: np.median(np.absolute(x - np.median(x))))\n",
        "X_Train_accel['Accelerometer_Z_mad'] = pd.Series(z_list).apply(lambda x: np.median(np.absolute(x - np.median(x))))\n",
        "\n",
        "# interquartile range\n",
        "X_Train_accel['Accelerometer_X_IQR'] = pd.Series(x_list).apply(lambda x: np.percentile(x, 75) - np.percentile(x, 25))\n",
        "X_Train_accel['Accelerometer_Y_IQR'] = pd.Series(y_list).apply(lambda x: np.percentile(x, 75) - np.percentile(x, 25))\n",
        "X_Train_accel['Accelerometer_Z_IQR'] = pd.Series(z_list).apply(lambda x: np.percentile(x, 75) - np.percentile(x, 25))\n",
        "\n",
        "# negtive count\n",
        "X_Train_accel['Accelerometer_X_neg_count'] = pd.Series(x_list).apply(lambda x: np.sum(x < 0))\n",
        "X_Train_accel['Accelerometer_Y_neg_count'] = pd.Series(y_list).apply(lambda x: np.sum(x < 0))\n",
        "X_Train_accel['Accelerometer_Z_neg_count'] = pd.Series(z_list).apply(lambda x: np.sum(x < 0))\n",
        "\n",
        "# positive count\n",
        "X_Train_accel['Accelerometer_X_pos_count'] = pd.Series(x_list).apply(lambda x: np.sum(x > 0))\n",
        "X_Train_accel['Accelerometer_Y_pos_count'] = pd.Series(y_list).apply(lambda x: np.sum(x > 0))\n",
        "X_Train_accel['Accelerometer_Z_pos_count'] = pd.Series(z_list).apply(lambda x: np.sum(x > 0))\n",
        "\n",
        "# values above mean\n",
        "X_Train_accel['Accelerometer_X_above_mean'] = pd.Series(x_list).apply(lambda x: np.sum(x > x.mean()))\n",
        "X_Train_accel['Accelerometer_Y_above_mean'] = pd.Series(y_list).apply(lambda x: np.sum(x > x.mean()))\n",
        "X_Train_accel['Accelerometer_Z_above_mean'] = pd.Series(z_list).apply(lambda x: np.sum(x > x.mean()))\n",
        "\n",
        "# number of peaks\n",
        "X_Train_accel['Accelerometer_X_peak_count'] = pd.Series(x_list).apply(lambda x: len(find_peaks(x)[0]))\n",
        "X_Train_accel['Accelerometer_Y_peak_count'] = pd.Series(y_list).apply(lambda x: len(find_peaks(x)[0]))\n",
        "X_Train_accel['Accelerometer_Z_peak_count'] = pd.Series(z_list).apply(lambda x: len(find_peaks(x)[0]))\n",
        "\n",
        "# skewness\n",
        "X_Train_accel['Accelerometer_X_skewness'] = pd.Series(x_list).apply(lambda x: stats.skew(x))\n",
        "X_Train_accel['Accelerometer_Y_skewness'] = pd.Series(y_list).apply(lambda x: stats.skew(x))\n",
        "X_Train_accel['Accelerometer_Z_skewness'] = pd.Series(z_list).apply(lambda x: stats.skew(x))\n",
        "\n",
        "# kurtosis\n",
        "X_Train_accel['Accelerometer_X_kurtosis'] = pd.Series(x_list).apply(lambda x: stats.kurtosis(x))\n",
        "X_Train_accel['Accelerometer_Y_kurtosis'] = pd.Series(y_list).apply(lambda x: stats.kurtosis(x))\n",
        "X_Train_accel['Accelerometer_Z_kurtosis'] = pd.Series(z_list).apply(lambda x: stats.kurtosis(x))\n",
        "\n",
        "# energy\n",
        "X_Train_accel['Accelerometer_X_energy'] = pd.Series(x_list).apply(lambda x: np.sum(x**2)/100)\n",
        "X_Train_accel['Accelerometer_Y_energy'] = pd.Series(y_list).apply(lambda x: np.sum(x**2)/100)\n",
        "X_Train_accel['Accelerometer_Z_energy'] = pd.Series(z_list).apply(lambda x: np.sum(x**2/100))\n",
        "\n",
        "# avg resultant\n",
        "X_Train_accel['avg_result_accl'] = [i.mean() for i in ((pd.Series(x_list)**2 + pd.Series(y_list)**2 + pd.Series(z_list)**2)**0.5)]\n",
        "\n",
        "# signal magnitude area\n",
        "X_Train_accel['sma'] =    pd.Series(x_list).apply(lambda x: np.sum(abs(x)/100)) + pd.Series(y_list).apply(lambda x: np.sum(abs(x)/100)) \\\n",
        "                  + pd.Series(z_list).apply(lambda x: np.sum(abs(x)/100))"
      ]
    },
    {
      "cell_type": "markdown",
      "metadata": {
        "id": "aaO6dnwTCSaG"
      },
      "source": [
        "Jede der x_list, y_list und z_list ist tatsächlich eine Liste der Reihen. Jedes dieser Reihen besteht aus 100 Beobachtungen. Soll also insgesamt int(633 /50) -1 = 11 Reihen haben  X_Train_accel ist unser neuer Feature-Datenrahmen, der aus den transformierten Features erstellt wurde. Von nun an werden wir diesen neuen Datenrahmen verwenden und ihm nach und nach neue Funktionen hinzufügen und ihn schließlich zum Trainieren von ML-Modellen verwenden."
      ]
    },
    {
      "cell_type": "markdown",
      "metadata": {
        "id": "WyYpQ5S0CubV"
      },
      "source": [
        "#### Phase 2: Fast-Fourier-Transformation (FFT)\n",
        "Die Fourier-Transformation ist eine Funktion, die ein Zeitbereichssignal in einen Frequenzbereich umwandelt. Die Funktion akzeptiert ein Zeitsignal als Eingabe und erzeugt die Frequenzdarstellung des Signals als Ausgabe. Jedes Signal in der realen Welt ist ein Zeitsignal und besteht aus vielen Sinuskurven unterschiedlicher Frequenzen"
      ]
    },
    {
      "cell_type": "code",
      "execution_count": 37,
      "metadata": {
        "id": "Spyc2VomCqlt"
      },
      "outputs": [],
      "source": [
        "# converting the signals from time domain to frequency domain using FFT\n",
        "x_list_fft = pd.Series(x_list).apply(lambda x: np.abs(np.fft.fft(x))[1:51])\n",
        "y_list_fft = pd.Series(y_list).apply(lambda x: np.abs(np.fft.fft(x))[1:51])\n",
        "z_list_fft = pd.Series(z_list).apply(lambda x: np.abs(np.fft.fft(x))[1:51])\n",
        "\n",
        "# Statistical Features on raw x, y and z in frequency domain\n",
        "# FFT mean\n",
        "X_Train_accel['x_mean_fft'] = pd.Series(x_list_fft).apply(lambda x: x.mean())\n",
        "X_Train_accel['y_mean_fft'] = pd.Series(y_list_fft).apply(lambda x: x.mean())\n",
        "X_Train_accel['z_mean_fft'] = pd.Series(z_list_fft).apply(lambda x: x.mean())\n",
        "\n",
        "# FFT std dev\n",
        "X_Train_accel['x_std_fft'] = pd.Series(x_list_fft).apply(lambda x: x.std())\n",
        "X_Train_accel['y_std_fft'] = pd.Series(y_list_fft).apply(lambda x: x.std())\n",
        "X_Train_accel['z_std_fft'] = pd.Series(z_list_fft).apply(lambda x: x.std())\n",
        "\n",
        "# FFT avg absolute diff\n",
        "X_Train_accel['x_aad_fft'] = pd.Series(x_list_fft).apply(lambda x: np.mean(np.absolute(x - np.mean(x))))\n",
        "X_Train_accel['y_aad_fft'] = pd.Series(y_list_fft).apply(lambda x: np.mean(np.absolute(x - np.mean(x))))\n",
        "X_Train_accel['z_aad_fft'] = pd.Series(z_list_fft).apply(lambda x: np.mean(np.absolute(x - np.mean(x))))\n",
        "\n",
        "# FFT min\n",
        "X_Train_accel['x_min_fft'] = pd.Series(x_list_fft).apply(lambda x: x.min())\n",
        "X_Train_accel['y_min_fft'] = pd.Series(y_list_fft).apply(lambda x: x.min())\n",
        "X_Train_accel['z_min_fft'] = pd.Series(z_list_fft).apply(lambda x: x.min())\n",
        "\n",
        "# FFT max\n",
        "X_Train_accel['x_max_fft'] = pd.Series(x_list_fft).apply(lambda x: x.max())\n",
        "X_Train_accel['y_max_fft'] = pd.Series(y_list_fft).apply(lambda x: x.max())\n",
        "X_Train_accel['z_max_fft'] = pd.Series(z_list_fft).apply(lambda x: x.max())\n",
        "\n",
        "# FFT max-min diff\n",
        "X_Train_accel['x_maxmin_diff_fft'] = X_Train_accel['x_max_fft'] - X_Train_accel['x_min_fft']\n",
        "X_Train_accel['y_maxmin_diff_fft'] = X_Train_accel['y_max_fft'] - X_Train_accel['y_min_fft']\n",
        "X_Train_accel['z_maxmin_diff_fft'] = X_Train_accel['z_max_fft'] - X_Train_accel['z_min_fft']\n",
        "\n",
        "# FFT median\n",
        "X_Train_accel['x_median_fft'] = pd.Series(x_list_fft).apply(lambda x: np.median(x))\n",
        "X_Train_accel['y_median_fft'] = pd.Series(y_list_fft).apply(lambda x: np.median(x))\n",
        "X_Train_accel['z_median_fft'] = pd.Series(z_list_fft).apply(lambda x: np.median(x))\n",
        "\n",
        "# FFT median abs dev \n",
        "X_Train_accel['x_mad_fft'] = pd.Series(x_list_fft).apply(lambda x: np.median(np.absolute(x - np.median(x))))\n",
        "X_Train_accel['y_mad_fft'] = pd.Series(y_list_fft).apply(lambda x: np.median(np.absolute(x - np.median(x))))\n",
        "X_Train_accel['z_mad_fft'] = pd.Series(z_list_fft).apply(lambda x: np.median(np.absolute(x - np.median(x))))\n",
        "\n",
        "# FFT Interquartile range\n",
        "X_Train_accel['x_IQR_fft'] = pd.Series(x_list_fft).apply(lambda x: np.percentile(x, 75) - np.percentile(x, 25))\n",
        "X_Train_accel['y_IQR_fft'] = pd.Series(y_list_fft).apply(lambda x: np.percentile(x, 75) - np.percentile(x, 25))\n",
        "X_Train_accel['z_IQR_fft'] = pd.Series(z_list_fft).apply(lambda x: np.percentile(x, 75) - np.percentile(x, 25))\n",
        "\n",
        "# FFT values above mean\n",
        "X_Train_accel['x_above_mean_fft'] = pd.Series(x_list_fft).apply(lambda x: np.sum(x > x.mean()))\n",
        "X_Train_accel['y_above_mean_fft'] = pd.Series(y_list_fft).apply(lambda x: np.sum(x > x.mean()))\n",
        "X_Train_accel['z_above_mean_fft'] = pd.Series(z_list_fft).apply(lambda x: np.sum(x > x.mean()))\n",
        "\n",
        "# FFT number of peaks\n",
        "X_Train_accel['x_peak_count_fft'] = pd.Series(x_list_fft).apply(lambda x: len(find_peaks(x)[0]))\n",
        "X_Train_accel['y_peak_count_fft'] = pd.Series(y_list_fft).apply(lambda x: len(find_peaks(x)[0]))\n",
        "X_Train_accel['z_peak_count_fft'] = pd.Series(z_list_fft).apply(lambda x: len(find_peaks(x)[0]))\n",
        "\n",
        "# FFT skewness\n",
        "X_Train_accel['x_skewness_fft'] = pd.Series(x_list_fft).apply(lambda x: stats.skew(x))\n",
        "X_Train_accel['y_skewness_fft'] = pd.Series(y_list_fft).apply(lambda x: stats.skew(x))\n",
        "X_Train_accel['z_skewness_fft'] = pd.Series(z_list_fft).apply(lambda x: stats.skew(x))\n",
        "\n",
        "# FFT kurtosis\n",
        "X_Train_accel['x_kurtosis_fft'] = pd.Series(x_list_fft).apply(lambda x: stats.kurtosis(x))\n",
        "X_Train_accel['y_kurtosis_fft'] = pd.Series(y_list_fft).apply(lambda x: stats.kurtosis(x))\n",
        "X_Train_accel['z_kurtosis_fft'] = pd.Series(z_list_fft).apply(lambda x: stats.kurtosis(x))\n",
        "\n",
        "# FFT energy\n",
        "X_Train_accel['x_energy_fft'] = pd.Series(x_list_fft).apply(lambda x: np.sum(x**2)/50)\n",
        "X_Train_accel['y_energy_fft'] = pd.Series(y_list_fft).apply(lambda x: np.sum(x**2)/50)\n",
        "X_Train_accel['z_energy_fft'] = pd.Series(z_list_fft).apply(lambda x: np.sum(x**2/50))\n",
        "\n",
        "# FFT avg resultant\n",
        "X_Train_accel['avg_result_accl_fft'] = [i.mean() for i in ((pd.Series(x_list_fft)**2 + pd.Series(y_list_fft)**2 + pd.Series(z_list_fft)**2)**0.5)]\n",
        "\n",
        "# FFT Signal magnitude area\n",
        "X_Train_accel['sma_fft'] = pd.Series(x_list_fft).apply(lambda x: np.sum(abs(x)/50)) + pd.Series(y_list_fft).apply(lambda x: np.sum(abs(x)/50)) \\\n",
        "                     + pd.Series(z_list_fft).apply(lambda x: np.sum(abs(x)/50))"
      ]
    },
    {
      "cell_type": "markdown",
      "metadata": {
        "id": "lyFsC15KGHv1"
      },
      "source": [
        "#### Phase 3: Erstellung  von  Testdatensätze aus phase 1 und 2\n",
        "Das Hauptziel der Feature-Engineering-Phase bei jedem maschinellen Lernen-problem besteht darin, dem Modell so viele Informationen wie möglich bereitzustellen. \n",
        "#### Je mehr Informationen Sie bereitstellen, desto besser lernt es!\n",
        "\n",
        "Warum also hier in diesem Fall nicht die Indexwerte der zugrunde liegenden Daten als mögliche Merkmale betrachten?"
      ]
    },
    {
      "cell_type": "markdown",
      "metadata": {
        "id": "AImjQ4ANGsXE"
      },
      "source": [
        "##### Anpassen der Spalte Timestampels"
      ]
    },
    {
      "cell_type": "code",
      "execution_count": 38,
      "metadata": {
        "colab": {
          "base_uri": "https://localhost:8080/",
          "height": 488
        },
        "id": "TC2fP3vyGr2m",
        "outputId": "caab0cb9-e95b-4bae-da45-bfebe6d0a10f"
      },
      "outputs": [
        {
          "output_type": "execute_result",
          "data": {
            "text/plain": [
              "     Accelerometer_X  Accelerometer_Y  Accelerometer_Z  Gravity_X  Gravity_Y  \\\n",
              "144             0.03             0.03             0.01       9.81       9.81   \n",
              "6               0.02            -0.01            -0.00       0.00       0.03   \n",
              "251            -0.38             0.30            -0.79      -0.03       8.67   \n",
              "48              0.02             0.02             0.01       9.81       9.81   \n",
              "310            -0.61             0.08            -1.25       0.37       8.30   \n",
              "..               ...              ...              ...        ...        ...   \n",
              "174             0.66            -0.08            -0.05       1.53       4.67   \n",
              "376             0.00             0.00             0.01       9.81       9.81   \n",
              "203             0.01             0.01             0.05       9.81       9.81   \n",
              "315            -0.32             0.45            -0.67       0.10       8.05   \n",
              "72              0.50            -3.54             4.35      -0.30       6.89   \n",
              "\n",
              "     Gravity_Z  Gyroscope_X  Gyroscope_Y  Gyroscope_Z   Timestamps  label  \n",
              "144       0.00        58.18        58.18         0.26          NaN      1  \n",
              "6         9.81         0.31         0.78       -23.59  13772942030      0  \n",
              "251       4.59         3.30         4.58        -9.66  13773499513      0  \n",
              "48        0.00         2.79         2.79        70.51          NaN      1  \n",
              "310       5.22         0.44        -0.48         1.71  13773633763      0  \n",
              "..         ...          ...          ...          ...          ...    ...  \n",
              "174       8.49        -2.19         1.73         5.55          NaN      0  \n",
              "376       0.00         0.05         0.05         0.00          NaN      1  \n",
              "203       0.00        20.35        20.35        41.54          NaN      1  \n",
              "315       5.60       -20.98        -4.37         1.13  13773645140      0  \n",
              "72        6.97       134.86        26.04         2.43          NaN      1  \n",
              "\n",
              "[342 rows x 11 columns]"
            ],
            "text/html": [
              "\n",
              "  <div id=\"df-23b65e99-f800-45d9-aa4b-a80c4c2eb7bb\">\n",
              "    <div class=\"colab-df-container\">\n",
              "      <div>\n",
              "<style scoped>\n",
              "    .dataframe tbody tr th:only-of-type {\n",
              "        vertical-align: middle;\n",
              "    }\n",
              "\n",
              "    .dataframe tbody tr th {\n",
              "        vertical-align: top;\n",
              "    }\n",
              "\n",
              "    .dataframe thead th {\n",
              "        text-align: right;\n",
              "    }\n",
              "</style>\n",
              "<table border=\"1\" class=\"dataframe\">\n",
              "  <thead>\n",
              "    <tr style=\"text-align: right;\">\n",
              "      <th></th>\n",
              "      <th>Accelerometer_X</th>\n",
              "      <th>Accelerometer_Y</th>\n",
              "      <th>Accelerometer_Z</th>\n",
              "      <th>Gravity_X</th>\n",
              "      <th>Gravity_Y</th>\n",
              "      <th>Gravity_Z</th>\n",
              "      <th>Gyroscope_X</th>\n",
              "      <th>Gyroscope_Y</th>\n",
              "      <th>Gyroscope_Z</th>\n",
              "      <th>Timestamps</th>\n",
              "      <th>label</th>\n",
              "    </tr>\n",
              "  </thead>\n",
              "  <tbody>\n",
              "    <tr>\n",
              "      <th>144</th>\n",
              "      <td>0.03</td>\n",
              "      <td>0.03</td>\n",
              "      <td>0.01</td>\n",
              "      <td>9.81</td>\n",
              "      <td>9.81</td>\n",
              "      <td>0.00</td>\n",
              "      <td>58.18</td>\n",
              "      <td>58.18</td>\n",
              "      <td>0.26</td>\n",
              "      <td>NaN</td>\n",
              "      <td>1</td>\n",
              "    </tr>\n",
              "    <tr>\n",
              "      <th>6</th>\n",
              "      <td>0.02</td>\n",
              "      <td>-0.01</td>\n",
              "      <td>-0.00</td>\n",
              "      <td>0.00</td>\n",
              "      <td>0.03</td>\n",
              "      <td>9.81</td>\n",
              "      <td>0.31</td>\n",
              "      <td>0.78</td>\n",
              "      <td>-23.59</td>\n",
              "      <td>13772942030</td>\n",
              "      <td>0</td>\n",
              "    </tr>\n",
              "    <tr>\n",
              "      <th>251</th>\n",
              "      <td>-0.38</td>\n",
              "      <td>0.30</td>\n",
              "      <td>-0.79</td>\n",
              "      <td>-0.03</td>\n",
              "      <td>8.67</td>\n",
              "      <td>4.59</td>\n",
              "      <td>3.30</td>\n",
              "      <td>4.58</td>\n",
              "      <td>-9.66</td>\n",
              "      <td>13773499513</td>\n",
              "      <td>0</td>\n",
              "    </tr>\n",
              "    <tr>\n",
              "      <th>48</th>\n",
              "      <td>0.02</td>\n",
              "      <td>0.02</td>\n",
              "      <td>0.01</td>\n",
              "      <td>9.81</td>\n",
              "      <td>9.81</td>\n",
              "      <td>0.00</td>\n",
              "      <td>2.79</td>\n",
              "      <td>2.79</td>\n",
              "      <td>70.51</td>\n",
              "      <td>NaN</td>\n",
              "      <td>1</td>\n",
              "    </tr>\n",
              "    <tr>\n",
              "      <th>310</th>\n",
              "      <td>-0.61</td>\n",
              "      <td>0.08</td>\n",
              "      <td>-1.25</td>\n",
              "      <td>0.37</td>\n",
              "      <td>8.30</td>\n",
              "      <td>5.22</td>\n",
              "      <td>0.44</td>\n",
              "      <td>-0.48</td>\n",
              "      <td>1.71</td>\n",
              "      <td>13773633763</td>\n",
              "      <td>0</td>\n",
              "    </tr>\n",
              "    <tr>\n",
              "      <th>...</th>\n",
              "      <td>...</td>\n",
              "      <td>...</td>\n",
              "      <td>...</td>\n",
              "      <td>...</td>\n",
              "      <td>...</td>\n",
              "      <td>...</td>\n",
              "      <td>...</td>\n",
              "      <td>...</td>\n",
              "      <td>...</td>\n",
              "      <td>...</td>\n",
              "      <td>...</td>\n",
              "    </tr>\n",
              "    <tr>\n",
              "      <th>174</th>\n",
              "      <td>0.66</td>\n",
              "      <td>-0.08</td>\n",
              "      <td>-0.05</td>\n",
              "      <td>1.53</td>\n",
              "      <td>4.67</td>\n",
              "      <td>8.49</td>\n",
              "      <td>-2.19</td>\n",
              "      <td>1.73</td>\n",
              "      <td>5.55</td>\n",
              "      <td>NaN</td>\n",
              "      <td>0</td>\n",
              "    </tr>\n",
              "    <tr>\n",
              "      <th>376</th>\n",
              "      <td>0.00</td>\n",
              "      <td>0.00</td>\n",
              "      <td>0.01</td>\n",
              "      <td>9.81</td>\n",
              "      <td>9.81</td>\n",
              "      <td>0.00</td>\n",
              "      <td>0.05</td>\n",
              "      <td>0.05</td>\n",
              "      <td>0.00</td>\n",
              "      <td>NaN</td>\n",
              "      <td>1</td>\n",
              "    </tr>\n",
              "    <tr>\n",
              "      <th>203</th>\n",
              "      <td>0.01</td>\n",
              "      <td>0.01</td>\n",
              "      <td>0.05</td>\n",
              "      <td>9.81</td>\n",
              "      <td>9.81</td>\n",
              "      <td>0.00</td>\n",
              "      <td>20.35</td>\n",
              "      <td>20.35</td>\n",
              "      <td>41.54</td>\n",
              "      <td>NaN</td>\n",
              "      <td>1</td>\n",
              "    </tr>\n",
              "    <tr>\n",
              "      <th>315</th>\n",
              "      <td>-0.32</td>\n",
              "      <td>0.45</td>\n",
              "      <td>-0.67</td>\n",
              "      <td>0.10</td>\n",
              "      <td>8.05</td>\n",
              "      <td>5.60</td>\n",
              "      <td>-20.98</td>\n",
              "      <td>-4.37</td>\n",
              "      <td>1.13</td>\n",
              "      <td>13773645140</td>\n",
              "      <td>0</td>\n",
              "    </tr>\n",
              "    <tr>\n",
              "      <th>72</th>\n",
              "      <td>0.50</td>\n",
              "      <td>-3.54</td>\n",
              "      <td>4.35</td>\n",
              "      <td>-0.30</td>\n",
              "      <td>6.89</td>\n",
              "      <td>6.97</td>\n",
              "      <td>134.86</td>\n",
              "      <td>26.04</td>\n",
              "      <td>2.43</td>\n",
              "      <td>NaN</td>\n",
              "      <td>1</td>\n",
              "    </tr>\n",
              "  </tbody>\n",
              "</table>\n",
              "<p>342 rows × 11 columns</p>\n",
              "</div>\n",
              "      <button class=\"colab-df-convert\" onclick=\"convertToInteractive('df-23b65e99-f800-45d9-aa4b-a80c4c2eb7bb')\"\n",
              "              title=\"Convert this dataframe to an interactive table.\"\n",
              "              style=\"display:none;\">\n",
              "        \n",
              "  <svg xmlns=\"http://www.w3.org/2000/svg\" height=\"24px\"viewBox=\"0 0 24 24\"\n",
              "       width=\"24px\">\n",
              "    <path d=\"M0 0h24v24H0V0z\" fill=\"none\"/>\n",
              "    <path d=\"M18.56 5.44l.94 2.06.94-2.06 2.06-.94-2.06-.94-.94-2.06-.94 2.06-2.06.94zm-11 1L8.5 8.5l.94-2.06 2.06-.94-2.06-.94L8.5 2.5l-.94 2.06-2.06.94zm10 10l.94 2.06.94-2.06 2.06-.94-2.06-.94-.94-2.06-.94 2.06-2.06.94z\"/><path d=\"M17.41 7.96l-1.37-1.37c-.4-.4-.92-.59-1.43-.59-.52 0-1.04.2-1.43.59L10.3 9.45l-7.72 7.72c-.78.78-.78 2.05 0 2.83L4 21.41c.39.39.9.59 1.41.59.51 0 1.02-.2 1.41-.59l7.78-7.78 2.81-2.81c.8-.78.8-2.07 0-2.86zM5.41 20L4 18.59l7.72-7.72 1.47 1.35L5.41 20z\"/>\n",
              "  </svg>\n",
              "      </button>\n",
              "      \n",
              "  <style>\n",
              "    .colab-df-container {\n",
              "      display:flex;\n",
              "      flex-wrap:wrap;\n",
              "      gap: 12px;\n",
              "    }\n",
              "\n",
              "    .colab-df-convert {\n",
              "      background-color: #E8F0FE;\n",
              "      border: none;\n",
              "      border-radius: 50%;\n",
              "      cursor: pointer;\n",
              "      display: none;\n",
              "      fill: #1967D2;\n",
              "      height: 32px;\n",
              "      padding: 0 0 0 0;\n",
              "      width: 32px;\n",
              "    }\n",
              "\n",
              "    .colab-df-convert:hover {\n",
              "      background-color: #E2EBFA;\n",
              "      box-shadow: 0px 1px 2px rgba(60, 64, 67, 0.3), 0px 1px 3px 1px rgba(60, 64, 67, 0.15);\n",
              "      fill: #174EA6;\n",
              "    }\n",
              "\n",
              "    [theme=dark] .colab-df-convert {\n",
              "      background-color: #3B4455;\n",
              "      fill: #D2E3FC;\n",
              "    }\n",
              "\n",
              "    [theme=dark] .colab-df-convert:hover {\n",
              "      background-color: #434B5C;\n",
              "      box-shadow: 0px 1px 3px 1px rgba(0, 0, 0, 0.15);\n",
              "      filter: drop-shadow(0px 1px 2px rgba(0, 0, 0, 0.3));\n",
              "      fill: #FFFFFF;\n",
              "    }\n",
              "  </style>\n",
              "\n",
              "      <script>\n",
              "        const buttonEl =\n",
              "          document.querySelector('#df-23b65e99-f800-45d9-aa4b-a80c4c2eb7bb button.colab-df-convert');\n",
              "        buttonEl.style.display =\n",
              "          google.colab.kernel.accessAllowed ? 'block' : 'none';\n",
              "\n",
              "        async function convertToInteractive(key) {\n",
              "          const element = document.querySelector('#df-23b65e99-f800-45d9-aa4b-a80c4c2eb7bb');\n",
              "          const dataTable =\n",
              "            await google.colab.kernel.invokeFunction('convertToInteractive',\n",
              "                                                     [key], {});\n",
              "          if (!dataTable) return;\n",
              "\n",
              "          const docLinkHtml = 'Like what you see? Visit the ' +\n",
              "            '<a target=\"_blank\" href=https://colab.research.google.com/notebooks/data_table.ipynb>data table notebook</a>'\n",
              "            + ' to learn more about interactive tables.';\n",
              "          element.innerHTML = '';\n",
              "          dataTable['output_type'] = 'display_data';\n",
              "          await google.colab.output.renderOutput(dataTable, element);\n",
              "          const docLink = document.createElement('div');\n",
              "          docLink.innerHTML = docLinkHtml;\n",
              "          element.appendChild(docLink);\n",
              "        }\n",
              "      </script>\n",
              "    </div>\n",
              "  </div>\n",
              "  "
            ]
          },
          "metadata": {},
          "execution_count": 38
        }
      ],
      "source": [
        "# new data frame with split value columns\n",
        "new = test_set[\"Timestamps\"].str.split(\"d\", n = 1, expand = True)\n",
        " \n",
        "# making separate first name column from new data frame\n",
        "test_set[\"Timestamps\"]= new[0]\n",
        " \n",
        "# making separate last name column from new data frame\n",
        "test_set[\"Timestamps_1\"]= new[1]\n",
        " \n",
        "# Dropping old Name columns\n",
        "test_set.drop(columns =[\"Timestamps_1\"], inplace = True)\n",
        "test_set"
      ]
    },
    {
      "cell_type": "markdown",
      "metadata": {
        "id": "8wWd_6xjHEt0"
      },
      "source": [
        "##### Null wert durch Median der Werten zu erseten"
      ]
    },
    {
      "cell_type": "code",
      "execution_count": 39,
      "metadata": {
        "colab": {
          "base_uri": "https://localhost:8080/",
          "height": 0
        },
        "id": "veq42Li_toTg",
        "outputId": "d9f41942-622c-4c97-d03e-22371ca577f3"
      },
      "outputs": [
        {
          "output_type": "execute_result",
          "data": {
            "text/plain": [
              "     Accelerometer_X  Accelerometer_Y  Accelerometer_Z  Gravity_X  Gravity_Y  \\\n",
              "144             0.03             0.03             0.01       9.81       9.81   \n",
              "6               0.02            -0.01            -0.00       0.00       0.03   \n",
              "251            -0.38             0.30            -0.79      -0.03       8.67   \n",
              "48              0.02             0.02             0.01       9.81       9.81   \n",
              "310            -0.61             0.08            -1.25       0.37       8.30   \n",
              "..               ...              ...              ...        ...        ...   \n",
              "174             0.66            -0.08            -0.05       1.53       4.67   \n",
              "376             0.00             0.00             0.01       9.81       9.81   \n",
              "203             0.01             0.01             0.05       9.81       9.81   \n",
              "315            -0.32             0.45            -0.67       0.10       8.05   \n",
              "72              0.50            -3.54             4.35      -0.30       6.89   \n",
              "\n",
              "     Gravity_Z  Gyroscope_X  Gyroscope_Y  Gyroscope_Z     Timestamps  label  \n",
              "144       0.00        58.18        58.18         0.26  13773407358.0      1  \n",
              "6         9.81         0.31         0.78       -23.59    13772942030      0  \n",
              "251       4.59         3.30         4.58        -9.66    13773499513      0  \n",
              "48        0.00         2.79         2.79        70.51  13773407358.0      1  \n",
              "310       5.22         0.44        -0.48         1.71    13773633763      0  \n",
              "..         ...          ...          ...          ...            ...    ...  \n",
              "174       8.49        -2.19         1.73         5.55  13773407358.0      0  \n",
              "376       0.00         0.05         0.05         0.00  13773407358.0      1  \n",
              "203       0.00        20.35        20.35        41.54  13773407358.0      1  \n",
              "315       5.60       -20.98        -4.37         1.13    13773645140      0  \n",
              "72        6.97       134.86        26.04         2.43  13773407358.0      1  \n",
              "\n",
              "[342 rows x 11 columns]"
            ],
            "text/html": [
              "\n",
              "  <div id=\"df-fefc3ffd-a51c-41c3-a667-793bc8256c94\">\n",
              "    <div class=\"colab-df-container\">\n",
              "      <div>\n",
              "<style scoped>\n",
              "    .dataframe tbody tr th:only-of-type {\n",
              "        vertical-align: middle;\n",
              "    }\n",
              "\n",
              "    .dataframe tbody tr th {\n",
              "        vertical-align: top;\n",
              "    }\n",
              "\n",
              "    .dataframe thead th {\n",
              "        text-align: right;\n",
              "    }\n",
              "</style>\n",
              "<table border=\"1\" class=\"dataframe\">\n",
              "  <thead>\n",
              "    <tr style=\"text-align: right;\">\n",
              "      <th></th>\n",
              "      <th>Accelerometer_X</th>\n",
              "      <th>Accelerometer_Y</th>\n",
              "      <th>Accelerometer_Z</th>\n",
              "      <th>Gravity_X</th>\n",
              "      <th>Gravity_Y</th>\n",
              "      <th>Gravity_Z</th>\n",
              "      <th>Gyroscope_X</th>\n",
              "      <th>Gyroscope_Y</th>\n",
              "      <th>Gyroscope_Z</th>\n",
              "      <th>Timestamps</th>\n",
              "      <th>label</th>\n",
              "    </tr>\n",
              "  </thead>\n",
              "  <tbody>\n",
              "    <tr>\n",
              "      <th>144</th>\n",
              "      <td>0.03</td>\n",
              "      <td>0.03</td>\n",
              "      <td>0.01</td>\n",
              "      <td>9.81</td>\n",
              "      <td>9.81</td>\n",
              "      <td>0.00</td>\n",
              "      <td>58.18</td>\n",
              "      <td>58.18</td>\n",
              "      <td>0.26</td>\n",
              "      <td>13773407358.0</td>\n",
              "      <td>1</td>\n",
              "    </tr>\n",
              "    <tr>\n",
              "      <th>6</th>\n",
              "      <td>0.02</td>\n",
              "      <td>-0.01</td>\n",
              "      <td>-0.00</td>\n",
              "      <td>0.00</td>\n",
              "      <td>0.03</td>\n",
              "      <td>9.81</td>\n",
              "      <td>0.31</td>\n",
              "      <td>0.78</td>\n",
              "      <td>-23.59</td>\n",
              "      <td>13772942030</td>\n",
              "      <td>0</td>\n",
              "    </tr>\n",
              "    <tr>\n",
              "      <th>251</th>\n",
              "      <td>-0.38</td>\n",
              "      <td>0.30</td>\n",
              "      <td>-0.79</td>\n",
              "      <td>-0.03</td>\n",
              "      <td>8.67</td>\n",
              "      <td>4.59</td>\n",
              "      <td>3.30</td>\n",
              "      <td>4.58</td>\n",
              "      <td>-9.66</td>\n",
              "      <td>13773499513</td>\n",
              "      <td>0</td>\n",
              "    </tr>\n",
              "    <tr>\n",
              "      <th>48</th>\n",
              "      <td>0.02</td>\n",
              "      <td>0.02</td>\n",
              "      <td>0.01</td>\n",
              "      <td>9.81</td>\n",
              "      <td>9.81</td>\n",
              "      <td>0.00</td>\n",
              "      <td>2.79</td>\n",
              "      <td>2.79</td>\n",
              "      <td>70.51</td>\n",
              "      <td>13773407358.0</td>\n",
              "      <td>1</td>\n",
              "    </tr>\n",
              "    <tr>\n",
              "      <th>310</th>\n",
              "      <td>-0.61</td>\n",
              "      <td>0.08</td>\n",
              "      <td>-1.25</td>\n",
              "      <td>0.37</td>\n",
              "      <td>8.30</td>\n",
              "      <td>5.22</td>\n",
              "      <td>0.44</td>\n",
              "      <td>-0.48</td>\n",
              "      <td>1.71</td>\n",
              "      <td>13773633763</td>\n",
              "      <td>0</td>\n",
              "    </tr>\n",
              "    <tr>\n",
              "      <th>...</th>\n",
              "      <td>...</td>\n",
              "      <td>...</td>\n",
              "      <td>...</td>\n",
              "      <td>...</td>\n",
              "      <td>...</td>\n",
              "      <td>...</td>\n",
              "      <td>...</td>\n",
              "      <td>...</td>\n",
              "      <td>...</td>\n",
              "      <td>...</td>\n",
              "      <td>...</td>\n",
              "    </tr>\n",
              "    <tr>\n",
              "      <th>174</th>\n",
              "      <td>0.66</td>\n",
              "      <td>-0.08</td>\n",
              "      <td>-0.05</td>\n",
              "      <td>1.53</td>\n",
              "      <td>4.67</td>\n",
              "      <td>8.49</td>\n",
              "      <td>-2.19</td>\n",
              "      <td>1.73</td>\n",
              "      <td>5.55</td>\n",
              "      <td>13773407358.0</td>\n",
              "      <td>0</td>\n",
              "    </tr>\n",
              "    <tr>\n",
              "      <th>376</th>\n",
              "      <td>0.00</td>\n",
              "      <td>0.00</td>\n",
              "      <td>0.01</td>\n",
              "      <td>9.81</td>\n",
              "      <td>9.81</td>\n",
              "      <td>0.00</td>\n",
              "      <td>0.05</td>\n",
              "      <td>0.05</td>\n",
              "      <td>0.00</td>\n",
              "      <td>13773407358.0</td>\n",
              "      <td>1</td>\n",
              "    </tr>\n",
              "    <tr>\n",
              "      <th>203</th>\n",
              "      <td>0.01</td>\n",
              "      <td>0.01</td>\n",
              "      <td>0.05</td>\n",
              "      <td>9.81</td>\n",
              "      <td>9.81</td>\n",
              "      <td>0.00</td>\n",
              "      <td>20.35</td>\n",
              "      <td>20.35</td>\n",
              "      <td>41.54</td>\n",
              "      <td>13773407358.0</td>\n",
              "      <td>1</td>\n",
              "    </tr>\n",
              "    <tr>\n",
              "      <th>315</th>\n",
              "      <td>-0.32</td>\n",
              "      <td>0.45</td>\n",
              "      <td>-0.67</td>\n",
              "      <td>0.10</td>\n",
              "      <td>8.05</td>\n",
              "      <td>5.60</td>\n",
              "      <td>-20.98</td>\n",
              "      <td>-4.37</td>\n",
              "      <td>1.13</td>\n",
              "      <td>13773645140</td>\n",
              "      <td>0</td>\n",
              "    </tr>\n",
              "    <tr>\n",
              "      <th>72</th>\n",
              "      <td>0.50</td>\n",
              "      <td>-3.54</td>\n",
              "      <td>4.35</td>\n",
              "      <td>-0.30</td>\n",
              "      <td>6.89</td>\n",
              "      <td>6.97</td>\n",
              "      <td>134.86</td>\n",
              "      <td>26.04</td>\n",
              "      <td>2.43</td>\n",
              "      <td>13773407358.0</td>\n",
              "      <td>1</td>\n",
              "    </tr>\n",
              "  </tbody>\n",
              "</table>\n",
              "<p>342 rows × 11 columns</p>\n",
              "</div>\n",
              "      <button class=\"colab-df-convert\" onclick=\"convertToInteractive('df-fefc3ffd-a51c-41c3-a667-793bc8256c94')\"\n",
              "              title=\"Convert this dataframe to an interactive table.\"\n",
              "              style=\"display:none;\">\n",
              "        \n",
              "  <svg xmlns=\"http://www.w3.org/2000/svg\" height=\"24px\"viewBox=\"0 0 24 24\"\n",
              "       width=\"24px\">\n",
              "    <path d=\"M0 0h24v24H0V0z\" fill=\"none\"/>\n",
              "    <path d=\"M18.56 5.44l.94 2.06.94-2.06 2.06-.94-2.06-.94-.94-2.06-.94 2.06-2.06.94zm-11 1L8.5 8.5l.94-2.06 2.06-.94-2.06-.94L8.5 2.5l-.94 2.06-2.06.94zm10 10l.94 2.06.94-2.06 2.06-.94-2.06-.94-.94-2.06-.94 2.06-2.06.94z\"/><path d=\"M17.41 7.96l-1.37-1.37c-.4-.4-.92-.59-1.43-.59-.52 0-1.04.2-1.43.59L10.3 9.45l-7.72 7.72c-.78.78-.78 2.05 0 2.83L4 21.41c.39.39.9.59 1.41.59.51 0 1.02-.2 1.41-.59l7.78-7.78 2.81-2.81c.8-.78.8-2.07 0-2.86zM5.41 20L4 18.59l7.72-7.72 1.47 1.35L5.41 20z\"/>\n",
              "  </svg>\n",
              "      </button>\n",
              "      \n",
              "  <style>\n",
              "    .colab-df-container {\n",
              "      display:flex;\n",
              "      flex-wrap:wrap;\n",
              "      gap: 12px;\n",
              "    }\n",
              "\n",
              "    .colab-df-convert {\n",
              "      background-color: #E8F0FE;\n",
              "      border: none;\n",
              "      border-radius: 50%;\n",
              "      cursor: pointer;\n",
              "      display: none;\n",
              "      fill: #1967D2;\n",
              "      height: 32px;\n",
              "      padding: 0 0 0 0;\n",
              "      width: 32px;\n",
              "    }\n",
              "\n",
              "    .colab-df-convert:hover {\n",
              "      background-color: #E2EBFA;\n",
              "      box-shadow: 0px 1px 2px rgba(60, 64, 67, 0.3), 0px 1px 3px 1px rgba(60, 64, 67, 0.15);\n",
              "      fill: #174EA6;\n",
              "    }\n",
              "\n",
              "    [theme=dark] .colab-df-convert {\n",
              "      background-color: #3B4455;\n",
              "      fill: #D2E3FC;\n",
              "    }\n",
              "\n",
              "    [theme=dark] .colab-df-convert:hover {\n",
              "      background-color: #434B5C;\n",
              "      box-shadow: 0px 1px 3px 1px rgba(0, 0, 0, 0.15);\n",
              "      filter: drop-shadow(0px 1px 2px rgba(0, 0, 0, 0.3));\n",
              "      fill: #FFFFFF;\n",
              "    }\n",
              "  </style>\n",
              "\n",
              "      <script>\n",
              "        const buttonEl =\n",
              "          document.querySelector('#df-fefc3ffd-a51c-41c3-a667-793bc8256c94 button.colab-df-convert');\n",
              "        buttonEl.style.display =\n",
              "          google.colab.kernel.accessAllowed ? 'block' : 'none';\n",
              "\n",
              "        async function convertToInteractive(key) {\n",
              "          const element = document.querySelector('#df-fefc3ffd-a51c-41c3-a667-793bc8256c94');\n",
              "          const dataTable =\n",
              "            await google.colab.kernel.invokeFunction('convertToInteractive',\n",
              "                                                     [key], {});\n",
              "          if (!dataTable) return;\n",
              "\n",
              "          const docLinkHtml = 'Like what you see? Visit the ' +\n",
              "            '<a target=\"_blank\" href=https://colab.research.google.com/notebooks/data_table.ipynb>data table notebook</a>'\n",
              "            + ' to learn more about interactive tables.';\n",
              "          element.innerHTML = '';\n",
              "          dataTable['output_type'] = 'display_data';\n",
              "          await google.colab.output.renderOutput(dataTable, element);\n",
              "          const docLink = document.createElement('div');\n",
              "          docLink.innerHTML = docLinkHtml;\n",
              "          element.appendChild(docLink);\n",
              "        }\n",
              "      </script>\n",
              "    </div>\n",
              "  </div>\n",
              "  "
            ]
          },
          "metadata": {},
          "execution_count": 39
        }
      ],
      "source": [
        "median = test_set[\"Timestamps\"].median() \n",
        "test_set[\"Timestamps\"].fillna(median, inplace=True)\n",
        "test_set"
      ]
    },
    {
      "cell_type": "markdown",
      "metadata": {
        "id": "FfNa2E5Vt2J3"
      },
      "source": [
        "##### Erstellung der Sensordaten-Test_Datensätze"
      ]
    },
    {
      "cell_type": "code",
      "execution_count": 40,
      "metadata": {
        "colab": {
          "base_uri": "https://localhost:8080/",
          "height": 300
        },
        "id": "_RasWMtxtDbz",
        "outputId": "a1054604-4233-4cf4-8a89-ebbb05227073"
      },
      "outputs": [
        {
          "output_type": "execute_result",
          "data": {
            "text/plain": [
              "   Accelerometer_X_mean  Accelerometer_Y_mean  Accelerometer_Z_mean  \\\n",
              "0               -0.0501                0.1362               -0.1074   \n",
              "1               -0.0238                0.0235                0.0630   \n",
              "2               -0.0581                0.0441               -0.0738   \n",
              "3               -0.0508                0.1513                0.0422   \n",
              "4                0.0413                0.0314                0.3491   \n",
              "\n",
              "   Accelerometer_X_std  Accelerometer_Y_std  Accelerometer_Z_std  \\\n",
              "0             0.411345             1.329707             1.652227   \n",
              "1             0.473926             1.269208             1.737421   \n",
              "2             0.451178             1.338867             1.489994   \n",
              "3             0.366340             1.283460             1.256306   \n",
              "4             0.384909             1.461653             1.292565   \n",
              "\n",
              "   Accelerometer_X_aad  Accelerometer_Y_aad  Accelerometer_Z_aad  \\\n",
              "0             0.249742             0.709128             0.872456   \n",
              "1             0.240424             0.687390             0.891820   \n",
              "2             0.249264             0.748058             0.836224   \n",
              "3             0.223736             0.748202             0.676344   \n",
              "4             0.210376             0.753904             0.830814   \n",
              "\n",
              "   Accelerometer_X_min  ...  y_skewness_fft  z_skewness_fft  x_kurtosis_fft  \\\n",
              "0                -1.32  ...        0.487418        0.865187       -0.088150   \n",
              "1                -1.32  ...        0.435005        0.116418       -0.292245   \n",
              "2                -1.32  ...        0.719629        0.583051       -0.097295   \n",
              "3                -1.11  ...        0.568458        0.702127       -0.443832   \n",
              "4                -1.03  ...        0.725103        0.261515        3.060121   \n",
              "\n",
              "   y_kurtosis_fft  z_kurtosis_fft  x_energy_fft  y_energy_fft  z_energy_fft  \\\n",
              "0       -0.493383        0.942164     17.286524    177.046412    273.372208   \n",
              "1       -0.639194       -0.763893     22.801612    161.099484    304.559464   \n",
              "2       -0.097409       -0.307146     21.020364    183.909068    223.462792   \n",
              "3       -0.187296       -0.391394     13.451512    165.085732    158.457780   \n",
              "4       -0.180932       -1.134896     14.878532    213.664120    170.770348   \n",
              "\n",
              "   avg_result_accl_fft    sma_fft  \n",
              "0            19.932179  30.038044  \n",
              "1            20.655770  31.470372  \n",
              "2            19.314010  29.638635  \n",
              "3            16.692628  25.495024  \n",
              "4            18.715903  28.164070  \n",
              "\n",
              "[5 rows x 94 columns]"
            ],
            "text/html": [
              "\n",
              "  <div id=\"df-3bea3edb-6959-4003-a8a5-dba0ea899804\">\n",
              "    <div class=\"colab-df-container\">\n",
              "      <div>\n",
              "<style scoped>\n",
              "    .dataframe tbody tr th:only-of-type {\n",
              "        vertical-align: middle;\n",
              "    }\n",
              "\n",
              "    .dataframe tbody tr th {\n",
              "        vertical-align: top;\n",
              "    }\n",
              "\n",
              "    .dataframe thead th {\n",
              "        text-align: right;\n",
              "    }\n",
              "</style>\n",
              "<table border=\"1\" class=\"dataframe\">\n",
              "  <thead>\n",
              "    <tr style=\"text-align: right;\">\n",
              "      <th></th>\n",
              "      <th>Accelerometer_X_mean</th>\n",
              "      <th>Accelerometer_Y_mean</th>\n",
              "      <th>Accelerometer_Z_mean</th>\n",
              "      <th>Accelerometer_X_std</th>\n",
              "      <th>Accelerometer_Y_std</th>\n",
              "      <th>Accelerometer_Z_std</th>\n",
              "      <th>Accelerometer_X_aad</th>\n",
              "      <th>Accelerometer_Y_aad</th>\n",
              "      <th>Accelerometer_Z_aad</th>\n",
              "      <th>Accelerometer_X_min</th>\n",
              "      <th>...</th>\n",
              "      <th>y_skewness_fft</th>\n",
              "      <th>z_skewness_fft</th>\n",
              "      <th>x_kurtosis_fft</th>\n",
              "      <th>y_kurtosis_fft</th>\n",
              "      <th>z_kurtosis_fft</th>\n",
              "      <th>x_energy_fft</th>\n",
              "      <th>y_energy_fft</th>\n",
              "      <th>z_energy_fft</th>\n",
              "      <th>avg_result_accl_fft</th>\n",
              "      <th>sma_fft</th>\n",
              "    </tr>\n",
              "  </thead>\n",
              "  <tbody>\n",
              "    <tr>\n",
              "      <th>0</th>\n",
              "      <td>-0.0501</td>\n",
              "      <td>0.1362</td>\n",
              "      <td>-0.1074</td>\n",
              "      <td>0.411345</td>\n",
              "      <td>1.329707</td>\n",
              "      <td>1.652227</td>\n",
              "      <td>0.249742</td>\n",
              "      <td>0.709128</td>\n",
              "      <td>0.872456</td>\n",
              "      <td>-1.32</td>\n",
              "      <td>...</td>\n",
              "      <td>0.487418</td>\n",
              "      <td>0.865187</td>\n",
              "      <td>-0.088150</td>\n",
              "      <td>-0.493383</td>\n",
              "      <td>0.942164</td>\n",
              "      <td>17.286524</td>\n",
              "      <td>177.046412</td>\n",
              "      <td>273.372208</td>\n",
              "      <td>19.932179</td>\n",
              "      <td>30.038044</td>\n",
              "    </tr>\n",
              "    <tr>\n",
              "      <th>1</th>\n",
              "      <td>-0.0238</td>\n",
              "      <td>0.0235</td>\n",
              "      <td>0.0630</td>\n",
              "      <td>0.473926</td>\n",
              "      <td>1.269208</td>\n",
              "      <td>1.737421</td>\n",
              "      <td>0.240424</td>\n",
              "      <td>0.687390</td>\n",
              "      <td>0.891820</td>\n",
              "      <td>-1.32</td>\n",
              "      <td>...</td>\n",
              "      <td>0.435005</td>\n",
              "      <td>0.116418</td>\n",
              "      <td>-0.292245</td>\n",
              "      <td>-0.639194</td>\n",
              "      <td>-0.763893</td>\n",
              "      <td>22.801612</td>\n",
              "      <td>161.099484</td>\n",
              "      <td>304.559464</td>\n",
              "      <td>20.655770</td>\n",
              "      <td>31.470372</td>\n",
              "    </tr>\n",
              "    <tr>\n",
              "      <th>2</th>\n",
              "      <td>-0.0581</td>\n",
              "      <td>0.0441</td>\n",
              "      <td>-0.0738</td>\n",
              "      <td>0.451178</td>\n",
              "      <td>1.338867</td>\n",
              "      <td>1.489994</td>\n",
              "      <td>0.249264</td>\n",
              "      <td>0.748058</td>\n",
              "      <td>0.836224</td>\n",
              "      <td>-1.32</td>\n",
              "      <td>...</td>\n",
              "      <td>0.719629</td>\n",
              "      <td>0.583051</td>\n",
              "      <td>-0.097295</td>\n",
              "      <td>-0.097409</td>\n",
              "      <td>-0.307146</td>\n",
              "      <td>21.020364</td>\n",
              "      <td>183.909068</td>\n",
              "      <td>223.462792</td>\n",
              "      <td>19.314010</td>\n",
              "      <td>29.638635</td>\n",
              "    </tr>\n",
              "    <tr>\n",
              "      <th>3</th>\n",
              "      <td>-0.0508</td>\n",
              "      <td>0.1513</td>\n",
              "      <td>0.0422</td>\n",
              "      <td>0.366340</td>\n",
              "      <td>1.283460</td>\n",
              "      <td>1.256306</td>\n",
              "      <td>0.223736</td>\n",
              "      <td>0.748202</td>\n",
              "      <td>0.676344</td>\n",
              "      <td>-1.11</td>\n",
              "      <td>...</td>\n",
              "      <td>0.568458</td>\n",
              "      <td>0.702127</td>\n",
              "      <td>-0.443832</td>\n",
              "      <td>-0.187296</td>\n",
              "      <td>-0.391394</td>\n",
              "      <td>13.451512</td>\n",
              "      <td>165.085732</td>\n",
              "      <td>158.457780</td>\n",
              "      <td>16.692628</td>\n",
              "      <td>25.495024</td>\n",
              "    </tr>\n",
              "    <tr>\n",
              "      <th>4</th>\n",
              "      <td>0.0413</td>\n",
              "      <td>0.0314</td>\n",
              "      <td>0.3491</td>\n",
              "      <td>0.384909</td>\n",
              "      <td>1.461653</td>\n",
              "      <td>1.292565</td>\n",
              "      <td>0.210376</td>\n",
              "      <td>0.753904</td>\n",
              "      <td>0.830814</td>\n",
              "      <td>-1.03</td>\n",
              "      <td>...</td>\n",
              "      <td>0.725103</td>\n",
              "      <td>0.261515</td>\n",
              "      <td>3.060121</td>\n",
              "      <td>-0.180932</td>\n",
              "      <td>-1.134896</td>\n",
              "      <td>14.878532</td>\n",
              "      <td>213.664120</td>\n",
              "      <td>170.770348</td>\n",
              "      <td>18.715903</td>\n",
              "      <td>28.164070</td>\n",
              "    </tr>\n",
              "  </tbody>\n",
              "</table>\n",
              "<p>5 rows × 94 columns</p>\n",
              "</div>\n",
              "      <button class=\"colab-df-convert\" onclick=\"convertToInteractive('df-3bea3edb-6959-4003-a8a5-dba0ea899804')\"\n",
              "              title=\"Convert this dataframe to an interactive table.\"\n",
              "              style=\"display:none;\">\n",
              "        \n",
              "  <svg xmlns=\"http://www.w3.org/2000/svg\" height=\"24px\"viewBox=\"0 0 24 24\"\n",
              "       width=\"24px\">\n",
              "    <path d=\"M0 0h24v24H0V0z\" fill=\"none\"/>\n",
              "    <path d=\"M18.56 5.44l.94 2.06.94-2.06 2.06-.94-2.06-.94-.94-2.06-.94 2.06-2.06.94zm-11 1L8.5 8.5l.94-2.06 2.06-.94-2.06-.94L8.5 2.5l-.94 2.06-2.06.94zm10 10l.94 2.06.94-2.06 2.06-.94-2.06-.94-.94-2.06-.94 2.06-2.06.94z\"/><path d=\"M17.41 7.96l-1.37-1.37c-.4-.4-.92-.59-1.43-.59-.52 0-1.04.2-1.43.59L10.3 9.45l-7.72 7.72c-.78.78-.78 2.05 0 2.83L4 21.41c.39.39.9.59 1.41.59.51 0 1.02-.2 1.41-.59l7.78-7.78 2.81-2.81c.8-.78.8-2.07 0-2.86zM5.41 20L4 18.59l7.72-7.72 1.47 1.35L5.41 20z\"/>\n",
              "  </svg>\n",
              "      </button>\n",
              "      \n",
              "  <style>\n",
              "    .colab-df-container {\n",
              "      display:flex;\n",
              "      flex-wrap:wrap;\n",
              "      gap: 12px;\n",
              "    }\n",
              "\n",
              "    .colab-df-convert {\n",
              "      background-color: #E8F0FE;\n",
              "      border: none;\n",
              "      border-radius: 50%;\n",
              "      cursor: pointer;\n",
              "      display: none;\n",
              "      fill: #1967D2;\n",
              "      height: 32px;\n",
              "      padding: 0 0 0 0;\n",
              "      width: 32px;\n",
              "    }\n",
              "\n",
              "    .colab-df-convert:hover {\n",
              "      background-color: #E2EBFA;\n",
              "      box-shadow: 0px 1px 2px rgba(60, 64, 67, 0.3), 0px 1px 3px 1px rgba(60, 64, 67, 0.15);\n",
              "      fill: #174EA6;\n",
              "    }\n",
              "\n",
              "    [theme=dark] .colab-df-convert {\n",
              "      background-color: #3B4455;\n",
              "      fill: #D2E3FC;\n",
              "    }\n",
              "\n",
              "    [theme=dark] .colab-df-convert:hover {\n",
              "      background-color: #434B5C;\n",
              "      box-shadow: 0px 1px 3px 1px rgba(0, 0, 0, 0.15);\n",
              "      filter: drop-shadow(0px 1px 2px rgba(0, 0, 0, 0.3));\n",
              "      fill: #FFFFFF;\n",
              "    }\n",
              "  </style>\n",
              "\n",
              "      <script>\n",
              "        const buttonEl =\n",
              "          document.querySelector('#df-3bea3edb-6959-4003-a8a5-dba0ea899804 button.colab-df-convert');\n",
              "        buttonEl.style.display =\n",
              "          google.colab.kernel.accessAllowed ? 'block' : 'none';\n",
              "\n",
              "        async function convertToInteractive(key) {\n",
              "          const element = document.querySelector('#df-3bea3edb-6959-4003-a8a5-dba0ea899804');\n",
              "          const dataTable =\n",
              "            await google.colab.kernel.invokeFunction('convertToInteractive',\n",
              "                                                     [key], {});\n",
              "          if (!dataTable) return;\n",
              "\n",
              "          const docLinkHtml = 'Like what you see? Visit the ' +\n",
              "            '<a target=\"_blank\" href=https://colab.research.google.com/notebooks/data_table.ipynb>data table notebook</a>'\n",
              "            + ' to learn more about interactive tables.';\n",
              "          element.innerHTML = '';\n",
              "          dataTable['output_type'] = 'display_data';\n",
              "          await google.colab.output.renderOutput(dataTable, element);\n",
              "          const docLink = document.createElement('div');\n",
              "          docLink.innerHTML = docLinkHtml;\n",
              "          element.appendChild(docLink);\n",
              "        }\n",
              "      </script>\n",
              "    </div>\n",
              "  </div>\n",
              "  "
            ]
          },
          "metadata": {},
          "execution_count": 40
        }
      ],
      "source": [
        "# from IPython.testing import test\n",
        "# # Max Indices and Min indices \n",
        "x_list = []\n",
        "y_list = []\n",
        "z_list = []\n",
        "test_labels = []\n",
        "window_size = 100\n",
        "step_size = 50\n",
        "for i in range(0, test_set.shape[0] - window_size, step_size):\n",
        "    xs = test_set['Accelerometer_X'].values[i: i + 100]\n",
        "    ys = test_set['Accelerometer_Y'].values[i: i + 100]\n",
        "    zs = test_set['Accelerometer_Z'].values[i: i + 100]\n",
        "    label = stats.mode(test_set['label'][i: i + 100])[0][0]\n",
        "\n",
        "    x_list.append(xs)\n",
        "    y_list.append(ys)\n",
        "    z_list.append(zs)\n",
        "    test_labels.append(label)\n",
        "\n",
        "# Statistical Features on raw x, y and z from acceleration\n",
        "X_Test_accel = pd.DataFrame()\n",
        "\n",
        "# mean\n",
        "X_Test_accel['Accelerometer_X_mean'] = pd.Series(x_list).apply(lambda x: x.mean())\n",
        "X_Test_accel['Accelerometer_Y_mean'] = pd.Series(y_list).apply(lambda x: x.mean())\n",
        "X_Test_accel['Accelerometer_Z_mean'] = pd.Series(z_list).apply(lambda x: x.mean())\n",
        "\n",
        "# std dev\n",
        "X_Test_accel['Accelerometer_X_std'] = pd.Series(x_list).apply(lambda x: x.std())\n",
        "X_Test_accel['Accelerometer_Y_std'] = pd.Series(y_list).apply(lambda x: x.std())\n",
        "X_Test_accel['Accelerometer_Z_std'] = pd.Series(z_list).apply(lambda x: x.std())\n",
        "\n",
        "# avg absolute diff\n",
        "X_Test_accel['Accelerometer_X_aad'] = pd.Series(x_list).apply(lambda x: np.mean(np.absolute(x - np.mean(x))))     \n",
        "X_Test_accel['Accelerometer_Y_aad'] = pd.Series(y_list).apply(lambda x: np.mean(np.absolute(x - np.mean(x))))\n",
        "X_Test_accel['Accelerometer_Z_aad'] = pd.Series(z_list).apply(lambda x: np.mean(np.absolute(x - np.mean(x))))\n",
        "\n",
        "# min\n",
        "X_Test_accel['Accelerometer_X_min'] = pd.Series(x_list).apply(lambda x: x.min())\n",
        "X_Test_accel['Accelerometer_Y_min'] = pd.Series(y_list).apply(lambda x: x.min())   \n",
        "X_Test_accel['Accelerometer_Z_min'] = pd.Series(z_list).apply(lambda x: x.min())\n",
        "\n",
        "# max\n",
        "X_Test_accel['Accelerometer_X_max'] = pd.Series(x_list).apply(lambda x: x.max())\n",
        "X_Test_accel['Accelerometer_Y_max'] = pd.Series(y_list).apply(lambda x: x.max())\n",
        "X_Test_accel['Accelerometer_Z_max'] = pd.Series(z_list).apply(lambda x: x.max())\n",
        "\n",
        "# max-min diff\n",
        "X_Test_accel['Accelerometer_X_maxmin_diff'] = X_Test_accel['Accelerometer_X_max'] - X_Test_accel['Accelerometer_X_min']\n",
        "X_Test_accel['Accelerometer_Z_maxmin_diff'] = X_Test_accel['Accelerometer_Y_max'] - X_Test_accel['Accelerometer_Y_min']\n",
        "X_Test_accel['Accelerometer_Y_maxmin_diff'] = X_Test_accel['Accelerometer_Z_max'] - X_Test_accel['Accelerometer_Z_min']\n",
        "\n",
        "# median\n",
        "X_Test_accel['Accelerometer_X_median'] = pd.Series(x_list).apply(lambda x: np.median(x))\n",
        "X_Test_accel['Accelerometer_Y_median'] = pd.Series(y_list).apply(lambda x: np.median(x))  \n",
        "X_Test_accel['Accelerometer_Z_median'] = pd.Series(z_list).apply(lambda x: np.median(x))\n",
        "\n",
        "# median abs dev \n",
        "X_Test_accel['Accelerometer_X_mad'] = pd.Series(x_list).apply(lambda x: np.median(np.absolute(x - np.median(x))))\n",
        "X_Test_accel['Accelerometer_Y_mad'] = pd.Series(y_list).apply(lambda x: np.median(np.absolute(x - np.median(x))))\n",
        "X_Test_accel['Accelerometer_Z_mad'] = pd.Series(z_list).apply(lambda x: np.median(np.absolute(x - np.median(x))))\n",
        "\n",
        "# interquartile range\n",
        "X_Test_accel['Accelerometer_X_IQR'] = pd.Series(x_list).apply(lambda x: np.percentile(x, 75) - np.percentile(x, 25))\n",
        "X_Test_accel['Accelerometer_Y_IQR'] = pd.Series(y_list).apply(lambda x: np.percentile(x, 75) - np.percentile(x, 25))\n",
        "X_Test_accel['Accelerometer_Z_IQR'] = pd.Series(z_list).apply(lambda x: np.percentile(x, 75) - np.percentile(x, 25))\n",
        "\n",
        "# negtive count\n",
        "X_Test_accel['Accelerometer_X_neg_count'] = pd.Series(x_list).apply(lambda x: np.sum(x < 0))\n",
        "X_Test_accel['Accelerometer_Y_neg_count'] = pd.Series(y_list).apply(lambda x: np.sum(x < 0))\n",
        "X_Test_accel['Accelerometer_Z_neg_count'] = pd.Series(z_list).apply(lambda x: np.sum(x < 0))\n",
        "\n",
        "# positive count\n",
        "X_Test_accel['Accelerometer_X_pos_count'] = pd.Series(x_list).apply(lambda x: np.sum(x > 0))\n",
        "X_Test_accel['Accelerometer_Y_pos_count'] = pd.Series(y_list).apply(lambda x: np.sum(x > 0))\n",
        "X_Test_accel['Accelerometer_Z_pos_count'] = pd.Series(z_list).apply(lambda x: np.sum(x > 0))\n",
        "\n",
        "# values above mean\n",
        "X_Test_accel['Accelerometer_X_above_mean'] = pd.Series(x_list).apply(lambda x: np.sum(x > x.mean()))\n",
        "X_Test_accel['Accelerometer_Y_above_mean'] = pd.Series(y_list).apply(lambda x: np.sum(x > x.mean()))\n",
        "X_Test_accel['Accelerometer_Z_above_mean'] = pd.Series(z_list).apply(lambda x: np.sum(x > x.mean()))\n",
        "\n",
        "# number of peaks\n",
        "X_Test_accel['Accelerometer_X_peak_count'] = pd.Series(x_list).apply(lambda x: len(find_peaks(x)[0]))\n",
        "X_Test_accel['Accelerometer_Y_peak_count'] = pd.Series(y_list).apply(lambda x: len(find_peaks(x)[0]))\n",
        "X_Test_accel['Accelerometer_Z_peak_count'] = pd.Series(z_list).apply(lambda x: len(find_peaks(x)[0]))\n",
        "\n",
        "# skewness\n",
        "X_Test_accel['Accelerometer_X_skewness'] = pd.Series(x_list).apply(lambda x: stats.skew(x))\n",
        "X_Test_accel['Accelerometer_Y_skewness'] = pd.Series(y_list).apply(lambda x: stats.skew(x))\n",
        "X_Test_accel['Accelerometer_Z_skewness'] = pd.Series(z_list).apply(lambda x: stats.skew(x))\n",
        "\n",
        "# kurtosis\n",
        "X_Test_accel['Accelerometer_X_kurtosis'] = pd.Series(x_list).apply(lambda x: stats.kurtosis(x))\n",
        "X_Test_accel['Accelerometer_Y_kurtosis'] = pd.Series(y_list).apply(lambda x: stats.kurtosis(x))\n",
        "X_Test_accel['Accelerometer_Z_kurtosis'] = pd.Series(z_list).apply(lambda x: stats.kurtosis(x))\n",
        "\n",
        "# energy\n",
        "X_Test_accel['Accelerometer_X_energy'] = pd.Series(x_list).apply(lambda x: np.sum(x**2)/100)\n",
        "X_Test_accel['Accelerometer_Y_energy'] = pd.Series(y_list).apply(lambda x: np.sum(x**2)/100)\n",
        "X_Test_accel['Accelerometer_Z_energy'] = pd.Series(z_list).apply(lambda x: np.sum(x**2/100))\n",
        "\n",
        "# avg resultant\n",
        "X_Test_accel['avg_result_accl'] = [i.mean() for i in ((pd.Series(x_list)**2 + pd.Series(y_list)**2 + pd.Series(z_list)**2)**0.5)]\n",
        "\n",
        "# signal magnitude area\n",
        "X_Test_accel['sma'] =    pd.Series(x_list).apply(lambda x: np.sum(abs(x)/100)) + pd.Series(y_list).apply(lambda x: np.sum(abs(x)/100)) \\\n",
        "                  + pd.Series(z_list).apply(lambda x: np.sum(abs(x)/100))\n",
        "\t\t\t\t  \n",
        "\t\t\t\t  \n",
        "# converting the signals from time domain to frequency domain using FFT\n",
        "x_list_fft = pd.Series(x_list).apply(lambda x: np.abs(np.fft.fft(x))[1:51])\n",
        "y_list_fft = pd.Series(y_list).apply(lambda x: np.abs(np.fft.fft(x))[1:51])\n",
        "z_list_fft = pd.Series(z_list).apply(lambda x: np.abs(np.fft.fft(x))[1:51])\n",
        "\n",
        "# Statistical Features on raw x, y and z in frequency domain\n",
        "# FFT mean\n",
        "X_Test_accel['x_mean_fft'] = pd.Series(x_list_fft).apply(lambda x: x.mean())\n",
        "X_Test_accel['y_mean_fft'] = pd.Series(y_list_fft).apply(lambda x: x.mean())\n",
        "X_Test_accel['z_mean_fft'] = pd.Series(z_list_fft).apply(lambda x: x.mean())\n",
        "\n",
        "# FFT std dev\n",
        "X_Test_accel['x_std_fft'] = pd.Series(x_list_fft).apply(lambda x: x.std())\n",
        "X_Test_accel['y_std_fft'] = pd.Series(y_list_fft).apply(lambda x: x.std())\n",
        "X_Test_accel['z_std_fft'] = pd.Series(z_list_fft).apply(lambda x: x.std())\n",
        "\n",
        "# FFT avg absolute diff\n",
        "X_Test_accel['x_aad_fft'] = pd.Series(x_list_fft).apply(lambda x: np.mean(np.absolute(x - np.mean(x))))\n",
        "X_Test_accel['y_aad_fft'] = pd.Series(y_list_fft).apply(lambda x: np.mean(np.absolute(x - np.mean(x))))\n",
        "X_Test_accel['z_aad_fft'] = pd.Series(z_list_fft).apply(lambda x: np.mean(np.absolute(x - np.mean(x))))\n",
        "\n",
        "# FFT min\n",
        "X_Test_accel['x_min_fft'] = pd.Series(x_list_fft).apply(lambda x: x.min())\n",
        "X_Test_accel['y_min_fft'] = pd.Series(y_list_fft).apply(lambda x: x.min())\n",
        "X_Test_accel['z_min_fft'] = pd.Series(z_list_fft).apply(lambda x: x.min())\n",
        "\n",
        "# FFT max\n",
        "X_Test_accel['x_max_fft'] = pd.Series(x_list_fft).apply(lambda x: x.max())\n",
        "X_Test_accel['y_max_fft'] = pd.Series(y_list_fft).apply(lambda x: x.max())\n",
        "X_Test_accel['z_max_fft'] = pd.Series(z_list_fft).apply(lambda x: x.max())\n",
        "\n",
        "# FFT max-min diff\n",
        "X_Test_accel['x_maxmin_diff_fft'] = X_Test_accel['x_max_fft'] - X_Test_accel['x_min_fft']\n",
        "X_Test_accel['y_maxmin_diff_fft'] = X_Test_accel['y_max_fft'] - X_Test_accel['y_min_fft']\n",
        "X_Test_accel['z_maxmin_diff_fft'] = X_Test_accel['z_max_fft'] - X_Test_accel['z_min_fft']\n",
        "\n",
        "# FFT median\n",
        "X_Test_accel['x_median_fft'] = pd.Series(x_list_fft).apply(lambda x: np.median(x))\n",
        "X_Test_accel['y_median_fft'] = pd.Series(y_list_fft).apply(lambda x: np.median(x))\n",
        "X_Test_accel['z_median_fft'] = pd.Series(z_list_fft).apply(lambda x: np.median(x))\n",
        "\n",
        "# FFT median abs dev \n",
        "X_Test_accel['x_mad_fft'] = pd.Series(x_list_fft).apply(lambda x: np.median(np.absolute(x - np.median(x))))\n",
        "X_Test_accel['y_mad_fft'] = pd.Series(y_list_fft).apply(lambda x: np.median(np.absolute(x - np.median(x))))\n",
        "X_Test_accel['z_mad_fft'] = pd.Series(z_list_fft).apply(lambda x: np.median(np.absolute(x - np.median(x))))\n",
        "\n",
        "# FFT Interquartile range\n",
        "X_Test_accel['x_IQR_fft'] = pd.Series(x_list_fft).apply(lambda x: np.percentile(x, 75) - np.percentile(x, 25))\n",
        "X_Test_accel['y_IQR_fft'] = pd.Series(y_list_fft).apply(lambda x: np.percentile(x, 75) - np.percentile(x, 25))\n",
        "X_Test_accel['z_IQR_fft'] = pd.Series(z_list_fft).apply(lambda x: np.percentile(x, 75) - np.percentile(x, 25))\n",
        "\n",
        "# FFT values above mean\n",
        "X_Test_accel['x_above_mean_fft'] = pd.Series(x_list_fft).apply(lambda x: np.sum(x > x.mean()))\n",
        "X_Test_accel['y_above_mean_fft'] = pd.Series(y_list_fft).apply(lambda x: np.sum(x > x.mean()))\n",
        "X_Test_accel['z_above_mean_fft'] = pd.Series(z_list_fft).apply(lambda x: np.sum(x > x.mean()))\n",
        "\n",
        "# FFT number of peaks\n",
        "X_Test_accel['x_peak_count_fft'] = pd.Series(x_list_fft).apply(lambda x: len(find_peaks(x)[0]))\n",
        "X_Test_accel['y_peak_count_fft'] = pd.Series(y_list_fft).apply(lambda x: len(find_peaks(x)[0]))\n",
        "X_Test_accel['z_peak_count_fft'] = pd.Series(z_list_fft).apply(lambda x: len(find_peaks(x)[0]))\n",
        "\n",
        "# FFT skewness\n",
        "X_Test_accel['x_skewness_fft'] = pd.Series(x_list_fft).apply(lambda x: stats.skew(x))\n",
        "X_Test_accel['y_skewness_fft'] = pd.Series(y_list_fft).apply(lambda x: stats.skew(x))\n",
        "X_Test_accel['z_skewness_fft'] = pd.Series(z_list_fft).apply(lambda x: stats.skew(x))\n",
        "\n",
        "# FFT kurtosis\n",
        "X_Test_accel['x_kurtosis_fft'] = pd.Series(x_list_fft).apply(lambda x: stats.kurtosis(x))\n",
        "X_Test_accel['y_kurtosis_fft'] = pd.Series(y_list_fft).apply(lambda x: stats.kurtosis(x))\n",
        "X_Test_accel['z_kurtosis_fft'] = pd.Series(z_list_fft).apply(lambda x: stats.kurtosis(x))\n",
        "\n",
        "# FFT energy\n",
        "X_Test_accel['x_energy_fft'] = pd.Series(x_list_fft).apply(lambda x: np.sum(x**2)/50)\n",
        "X_Test_accel['y_energy_fft'] = pd.Series(y_list_fft).apply(lambda x: np.sum(x**2)/50)\n",
        "X_Test_accel['z_energy_fft'] = pd.Series(z_list_fft).apply(lambda x: np.sum(x**2/50))\n",
        "\n",
        "# FFT avg resultant\n",
        "X_Test_accel['avg_result_accl_fft'] = [i.mean() for i in ((pd.Series(x_list_fft)**2 + pd.Series(y_list_fft)**2 + pd.Series(z_list_fft)**2)**0.5)]\n",
        "\n",
        "# FFT Signal magnitude area\n",
        "X_Test_accel['sma_fft'] = pd.Series(x_list_fft).apply(lambda x: np.sum(abs(x)/50)) + pd.Series(y_list_fft).apply(lambda x: np.sum(abs(x)/50)) \\\n",
        "                     + pd.Series(z_list_fft).apply(lambda x: np.sum(abs(x)/50))\n",
        "X_Test_accel"
      ]
    },
    {
      "cell_type": "code",
      "execution_count": 41,
      "metadata": {
        "colab": {
          "base_uri": "https://localhost:8080/"
        },
        "id": "5fOS0R7lK14-",
        "outputId": "3b262716-b9d5-4f51-8698-702a15f9c74a"
      },
      "outputs": [
        {
          "output_type": "stream",
          "name": "stdout",
          "text": [
            "Accuracy: 1.0\n",
            "\n",
            " -------------Classification Report-------------\n",
            "\n",
            "              precision    recall  f1-score   support\n",
            "\n",
            "           1       1.00      1.00      1.00         5\n",
            "\n",
            "    accuracy                           1.00         5\n",
            "   macro avg       1.00      1.00      1.00         5\n",
            "weighted avg       1.00      1.00      1.00         5\n",
            "\n",
            "Accuracy: 1.0\n",
            "\n",
            " -------------Classification Report-------------\n",
            "\n",
            "              precision    recall  f1-score   support\n",
            "\n",
            "           1       1.00      1.00      1.00         5\n",
            "\n",
            "    accuracy                           1.00         5\n",
            "   macro avg       1.00      1.00      1.00         5\n",
            "weighted avg       1.00      1.00      1.00         5\n",
            "\n"
          ]
        }
      ],
      "source": [
        "from sklearn.preprocessing import StandardScaler\n",
        "from sklearn.linear_model import LogisticRegression\n",
        "from sklearn.metrics import accuracy_score\n",
        "from sklearn.metrics import classification_report\n",
        "\n",
        "# transform array to numpy-array\n",
        "y_train = np.array(train_labels)\n",
        "y_test = np.array(test_labels)\n",
        "# standardization\n",
        "scaler = StandardScaler()\n",
        "scaler.fit(X_Train_accel)\n",
        "X_train_data_lr = scaler.transform(X_Train_accel)\n",
        "X_test_data_lr = scaler.transform(X_Test_accel)\n",
        "# logistic regression model\n",
        "loreg  = LogisticRegression(random_state = 21)\n",
        "loreg.fit(X_train_data_lr, y_train)\n",
        "y_pred = loreg.predict(X_test_data_lr)\n",
        "len(y_pred)\n",
        "print(\"Accuracy:\", accuracy_score(y_test, y_pred))\n",
        "print(\"\\n -------------Classification Report-------------\\n\")\n",
        "print(classification_report(y_test, y_pred))\n",
        "print(\"Accuracy:\", accuracy_score(y_test, y_pred))\n",
        "print(\"\\n -------------Classification Report-------------\\n\")\n",
        "print(classification_report(y_test, y_pred))"
      ]
    },
    {
      "cell_type": "markdown",
      "metadata": {
        "id": "NnXUQpAR7JJs"
      },
      "source": [
        "##### Test LogRe-Modell mit Illgetimer User um die Genauigkeit des Modells zu erfahren"
      ]
    },
    {
      "cell_type": "code",
      "execution_count": 42,
      "metadata": {
        "colab": {
          "base_uri": "https://localhost:8080/"
        },
        "id": "UGhsinUL7Bjh",
        "outputId": "fbf22794-344f-4e88-d730-a5ea8051f8f5"
      },
      "outputs": [
        {
          "output_type": "stream",
          "name": "stdout",
          "text": [
            "Accuracy: 1.0\n",
            "\n",
            " -------------Classification Report-------------\n",
            "\n",
            "              precision    recall  f1-score   support\n",
            "\n",
            "           1       1.00      1.00      1.00         5\n",
            "\n",
            "    accuracy                           1.00         5\n",
            "   macro avg       1.00      1.00      1.00         5\n",
            "weighted avg       1.00      1.00      1.00         5\n",
            "\n",
            "Accuracy: 1.0\n",
            "\n",
            " -------------Classification Report-------------\n",
            "\n",
            "              precision    recall  f1-score   support\n",
            "\n",
            "           1       1.00      1.00      1.00         5\n",
            "\n",
            "    accuracy                           1.00         5\n",
            "   macro avg       1.00      1.00      1.00         5\n",
            "weighted avg       1.00      1.00      1.00         5\n",
            "\n"
          ]
        }
      ],
      "source": [
        "from sklearn.preprocessing import StandardScaler\n",
        "from sklearn.linear_model import LogisticRegression\n",
        "from sklearn.metrics import accuracy_score\n",
        "from sklearn.metrics import classification_report\n",
        "\n",
        "# transform array to numpy-array\n",
        "y_train = np.array(train_labels)\n",
        "y_test = np.array(test_labels)\n",
        "# standardization\n",
        "scaler = StandardScaler()\n",
        "scaler.fit(X_Train_accel)\n",
        "X_train_data_lr = scaler.transform(X_Train_accel)\n",
        "X_test_data_lr = scaler.transform(X_Test_accel)\n",
        "# logistic regression model\n",
        "loreg  = LogisticRegression(random_state = 21)\n",
        "loreg.fit(X_train_data_lr, y_train)\n",
        "y_pred = loreg.predict(X_test_data_lr)\n",
        "len(y_pred)\n",
        "print(\"Accuracy:\", accuracy_score(y_test, y_pred))\n",
        "print(\"\\n -------------Classification Report-------------\\n\")\n",
        "print(classification_report(y_test, y_pred))\n",
        "print(\"Accuracy:\", accuracy_score(y_test, y_pred))\n",
        "print(\"\\n -------------Classification Report-------------\\n\")\n",
        "print(classification_report(y_test, y_pred))"
      ]
    },
    {
      "cell_type": "markdown",
      "metadata": {
        "id": "94sTbFNCrSHl"
      },
      "source": [
        "## SVM-Klassifikationsmodell ohne feature engineering"
      ]
    },
    {
      "cell_type": "markdown",
      "metadata": {
        "id": "QVypZ3I_2K-x"
      },
      "source": [
        "#### Hier sind y_valid die wahren Klassenbezeichnungen und y_pred die vorhergesagten Klassenbezeichnungen in der Testmenge.\n",
        "\n",
        "####SVM mit rbf-Kernel und C=1.0 ausführen\n",
        "\n",
        "Manchmal gibt es Ausreißer im Datensatz. In diesem Fall sollten wir den Wert von C erhöhen, da ein höheres C weniger Ausreißer bedeutet. Wir könnten also SVM mit Kernel=rbf und C=1.0 ausführen.\n",
        "\n"
      ]
    },
    {
      "cell_type": "code",
      "execution_count": 46,
      "metadata": {
        "colab": {
          "base_uri": "https://localhost:8080/"
        },
        "id": "dGnZxOhV2KAl",
        "outputId": "b6ce1bfb-5efe-4cc9-89a4-08ab1ef3211a"
      },
      "outputs": [
        {
          "output_type": "stream",
          "name": "stdout",
          "text": [
            "Model accuracy score with rbf kernel and C=100.0 : 0.9094\n",
            "compute time for  rbf C=100: 0.062 seconds\n"
          ]
        }
      ],
      "source": [
        "# import SVC classifier\n",
        "from sklearn.svm import SVC\n",
        "# instantiate classifier with rbf kernel and C=100\n",
        "svc_kernel = SVC(kernel=\"rbf\", C=1) \n",
        "\n",
        "start_time = time.time()\n",
        "# fit classifier to training set\n",
        "svc_kernel.fit(X_train,y_train)\n",
        "\n",
        "# make predictions on test set\n",
        "y_pred = svc_kernel.predict(X_valid)\n",
        "elapsed_time = time.time() - start_time\n",
        "\n",
        "# compute and print accuracy score\n",
        "print('Model accuracy score with rbf kernel and C=100.0 : {0:0.4f}'. format(accuracy_score(y_valid, y_pred)))\n",
        "\n",
        "# estimate time\n",
        "print(f\"compute time for  rbf C=100: {elapsed_time:.3f} seconds\")"
      ]
    },
    {
      "cell_type": "markdown",
      "metadata": {
        "id": "KQmno9Nv76vH"
      },
      "source": [
        "Wir sehen, dass wir mit C=1,0 eine höhere Genauigkeit erhalten, da ein höheres C weniger Ausreißer bedeutet. "
      ]
    },
    {
      "cell_type": "markdown",
      "metadata": {
        "id": "eYUVo1GQ2bsm"
      },
      "source": [
        "####SVM mit rbf-Kernel und C=100.0 ausführen\n",
        "\n",
        "Jetzt werde ich den Wert von C=100 weiter erhöhen und die Genauigkeit überprüfen."
      ]
    },
    {
      "cell_type": "code",
      "execution_count": 47,
      "metadata": {
        "colab": {
          "base_uri": "https://localhost:8080/"
        },
        "id": "po0ZPQF32ePI",
        "outputId": "da2ccd91-2988-401b-d737-02fd4f1308e4"
      },
      "outputs": [
        {
          "output_type": "stream",
          "name": "stdout",
          "text": [
            "Model accuracy score with rbf kernel and C=1000.0 : 0.8363\n",
            "compute time for rbf C=100: 0.058 seconds\n"
          ]
        }
      ],
      "source": [
        "# instantiate classifier with rbf kernel and C=1000\n",
        "svc_kernel=SVC(kernel=\"rbf\", C=100) \n",
        "\n",
        "start_time = time.time()\n",
        "# fit classifier to training set\n",
        "svc_kernel.fit(X_train,y_train)\n",
        "# make predictions on test set\n",
        "y_pred = svc_kernel.predict(X_valid)\n",
        "elapsed_time = time.time() - start_time\n",
        "# compute and print accuracy score\n",
        "print('Model accuracy score with rbf kernel and C=1000.0 : {0:0.4f}'. format(accuracy_score(y_valid, y_pred)))\n",
        "# estimate time\n",
        "print(f\"compute time for rbf C=100: {elapsed_time:.3f} seconds\")"
      ]
    },
    {
      "cell_type": "markdown",
      "metadata": {
        "id": "l9rzaAxzFKr7"
      },
      "source": [
        "Wir sehen, dass wir mit C=100,0 eine gute Genauigkeit erhalten."
      ]
    },
    {
      "cell_type": "markdown",
      "metadata": {
        "id": "etVppOWYE_5c"
      },
      "source": [
        "####SVM mit rbf-Kernel und C=1000.0 ausführen\n",
        "\n",
        "Jetzt werde ich den Wert von C=1000 weiter erhöhen und die Genauigkeit überprüfen."
      ]
    },
    {
      "cell_type": "code",
      "execution_count": 48,
      "metadata": {
        "colab": {
          "base_uri": "https://localhost:8080/"
        },
        "id": "NVE9SjHrE6fc",
        "outputId": "729697ec-3542-4f9c-97f8-d2eb4ca52708"
      },
      "outputs": [
        {
          "output_type": "stream",
          "name": "stdout",
          "text": [
            "Model accuracy score with rbf kernel and C=1000.0 : 0.8246\n",
            "compute time for rbf C=100: 0.088 seconds\n"
          ]
        }
      ],
      "source": [
        "# instantiate classifier with rbf kernel and C=1000\n",
        "svc=SVC(kernel=\"rbf\", C=1000) \n",
        "\n",
        "start_time = time.time()\n",
        "# fit classifier to training set\n",
        "svc.fit(X_train,y_train)\n",
        "# make predictions on test set\n",
        "y_pred = svc.predict(X_valid)\n",
        "elapsed_time = time.time() - start_time\n",
        "# compute and print accuracy score\n",
        "print('Model accuracy score with rbf kernel and C=1000.0 : {0:0.4f}'. format(accuracy_score(y_valid, y_pred)))\n",
        "# estimate time\n",
        "print(f\"compute time for rbf C=100: {elapsed_time:.3f} seconds\")"
      ]
    },
    {
      "cell_type": "markdown",
      "metadata": {
        "id": "2uXpKp7pFSVc"
      },
      "source": [
        "Wir sehen, dass wir mit C=1000,0 eine höhere Genauigkeit erhalten, da ein höheres C weniger Ausreißer bedeutet. "
      ]
    },
    {
      "cell_type": "markdown",
      "metadata": {
        "id": "NpQ3n5Fs3fWE"
      },
      "source": [
        "#### Run SVM with linear kernel \n",
        "Run SVM with linear kernel and C=1.0"
      ]
    },
    {
      "cell_type": "code",
      "execution_count": 49,
      "metadata": {
        "colab": {
          "base_uri": "https://localhost:8080/"
        },
        "id": "tUGYl-QC3h1M",
        "outputId": "0476605c-c25a-4cbe-e4df-ae35f3da8c77"
      },
      "outputs": [
        {
          "output_type": "stream",
          "name": "stdout",
          "text": [
            "Model accuracy score with linear kernel and C=1.0 : 0.9094\n",
            "compute time for linear SVM C=1: 0.136 seconds\n"
          ]
        }
      ],
      "source": [
        "# instantiate classifier with linear kernel and C=1.0\n",
        "linear_svc=SVC(kernel='linear', C=1.0) \n",
        "\n",
        "start_time = time.time()\n",
        "# fit classifier to training set\n",
        "linear_svc.fit(X_train,y_train)\n",
        "# make predictions on test set\n",
        "y_pred_test=linear_svc.predict(X_valid)\n",
        "elapsed_time = time.time() - start_time\n",
        "\n",
        "# compute and print accuracy score\n",
        "print('Model accuracy score with linear kernel and C=1.0 : {0:0.4f}'. format(accuracy_score(y_valid, y_pred_test)))\n",
        "# estimate time\n",
        "print(f\"compute time for linear SVM C=1: {elapsed_time:.3f} seconds\")"
      ]
    },
    {
      "cell_type": "markdown",
      "metadata": {
        "id": "2zcMVWLyG720"
      },
      "source": [
        "#### Run SVM with linear kernel \n",
        "Run SVM with linear kernel and C=100.0"
      ]
    },
    {
      "cell_type": "code",
      "execution_count": 50,
      "metadata": {
        "colab": {
          "base_uri": "https://localhost:8080/"
        },
        "id": "ypK-G_YD3u3P",
        "outputId": "82508c3c-a8ff-4335-a266-9d588d089d9f"
      },
      "outputs": [
        {
          "output_type": "stream",
          "name": "stdout",
          "text": [
            "Model accuracy score with linear kernel and C=100.0 : 0.8246\n",
            "compute time for linear SVM C=100: 4.230 seconds\n"
          ]
        }
      ],
      "source": [
        "# instantiate classifier with linear kernel and C=100.0\n",
        "linear_svc100=SVC(kernel='linear', C=100.0) \n",
        "\n",
        "start_time = time.time()\n",
        "# fit classifier to training set\n",
        "linear_svc100.fit(X_train, y_train)\n",
        "\n",
        "# make predictions on test set\n",
        "y_pred_test=linear_svc.predict(X_valid)\n",
        "elapsed_time = time.time() - start_time\n",
        "\n",
        "# compute and print accuracy score\n",
        "print('Model accuracy score with linear kernel and C=100.0 : {0:0.4f}'. format(accuracy_score(y_valid, y_pred)))\n",
        "# estimate time\n",
        "print(f\"compute time for linear SVM C=100: {elapsed_time:.3f} seconds\")"
      ]
    },
    {
      "cell_type": "markdown",
      "metadata": {
        "id": "vzwhPggs4Qwq"
      },
      "source": [
        "#### Run SVM with linear kernel and C=1000.0"
      ]
    },
    {
      "cell_type": "code",
      "execution_count": 51,
      "metadata": {
        "colab": {
          "base_uri": "https://localhost:8080/"
        },
        "id": "0OZ1iebsHLWw",
        "outputId": "67b0bf39-5d4c-44cf-861e-72d85de33054"
      },
      "outputs": [
        {
          "output_type": "stream",
          "name": "stdout",
          "text": [
            "Model accuracy score with linear kernel and C=100.0 : 0.8246\n",
            "compute time for linear SVM C=100: 25.854 seconds\n"
          ]
        }
      ],
      "source": [
        "# instantiate classifier with linear kernel and C=100.0\n",
        "linear_svc1000=SVC(kernel='linear', C=1000.0) \n",
        "\n",
        "start_time = time.time()\n",
        "# fit classifier to training set\n",
        "linear_svc1000.fit(X_train, y_train)\n",
        "\n",
        "# make predictions on test set\n",
        "y_pred_test=linear_svc.predict(X_valid)\n",
        "elapsed_time = time.time() - start_time\n",
        "\n",
        "# compute and print accuracy score\n",
        "print('Model accuracy score with linear kernel and C=100.0 : {0:0.4f}'. format(accuracy_score(y_valid, y_pred)))\n",
        "# estimate time\n",
        "print(f\"compute time for linear SVM C=100: {elapsed_time:.3f} seconds\")"
      ]
    },
    {
      "cell_type": "markdown",
      "metadata": {
        "id": "e4LWuv0youVT"
      },
      "source": [
        "Wir können sehen, dass wir mit C=100.0 und C=1000.0 keine höhere Genauigkeit als mit C=1.0 erzielen können."
      ]
    },
    {
      "cell_type": "markdown",
      "metadata": {
        "id": "4NeMYMvg8rXU"
      },
      "source": [
        "#### SVM mit sigmoidem Kernel ausführen\n",
        "SVM mit sigmoidem Kernel und C=1.0 ausführen"
      ]
    },
    {
      "cell_type": "code",
      "execution_count": 52,
      "metadata": {
        "colab": {
          "base_uri": "https://localhost:8080/"
        },
        "id": "N3EUeLJA8qiM",
        "outputId": "e8de6ddb-e8f8-4418-d2ea-f62fc5dd91b7"
      },
      "outputs": [
        {
          "output_type": "stream",
          "name": "stdout",
          "text": [
            "Model accuracy score with sigmoid kernel and C=1.0 : 0.8450\n",
            "compute time for sigmoid SVM C=11: 0.005 seconds\n"
          ]
        }
      ],
      "source": [
        "# instantiate classifier with sigmoid kernel and C=1.0\n",
        "sigmoid_svc=SVC(kernel='sigmoid', C=1.0) \n",
        "\n",
        "# fit classifier to training set\n",
        "sigmoid_svc.fit(X_train,y_train)\n",
        "\n",
        "# make predictions on test set\n",
        "start_time = time.time()\n",
        "y_pred=sigmoid_svc.predict(X_valid)\n",
        "elapsed_time = time.time() - start_time\n",
        "\n",
        "# compute and print accuracy score\n",
        "print('Model accuracy score with sigmoid kernel and C=1.0 : {0:0.4f}'. format(accuracy_score(y_valid, y_pred)))\n",
        "# estimate time\n",
        "print(f\"compute time for sigmoid SVM C=11: {elapsed_time:.3f} seconds\")"
      ]
    },
    {
      "cell_type": "markdown",
      "metadata": {
        "id": "ALaEzrVI75vl"
      },
      "source": [
        "#### SVM mit polynomialem Kernel ausführen\n",
        "SVM mit polynomialem Kernel und C=1.0 ausführen"
      ]
    },
    {
      "cell_type": "code",
      "execution_count": 53,
      "metadata": {
        "colab": {
          "base_uri": "https://localhost:8080/"
        },
        "id": "aBAKUmk18LW8",
        "outputId": "b2c78a0b-e47a-4cec-dfcd-01addb653819"
      },
      "outputs": [
        {
          "output_type": "stream",
          "name": "stdout",
          "text": [
            "Model accuracy score with polynomial kernel and C=1.0 : 0.8450\n",
            "compute time for poly SVM C=100: 0.004 seconds\n"
          ]
        }
      ],
      "source": [
        "# instantiate classifier with polynomial kernel and C=1.0\n",
        "poly_svc=SVC(kernel='poly', C=1.0) \n",
        "\n",
        "# fit classifier to training set\n",
        "poly_svc.fit(X_train,y_train)\n",
        "\n",
        "# make predictions on test set\n",
        "start_time = time.time()\n",
        "y_pred_test=poly_svc.predict(X_valid)\n",
        "elapsed_time = time.time() - start_time\n",
        "\n",
        "# compute and print accuracy score\n",
        "print('Model accuracy score with polynomial kernel and C=1.0 : {0:0.4f}'. format(accuracy_score(y_valid, y_pred)))\n",
        "# estimate time\n",
        "print(f\"compute time for poly SVM C=100: {elapsed_time:.3f} seconds\")"
      ]
    },
    {
      "cell_type": "markdown",
      "metadata": {
        "id": "axC60Oi88mAl"
      },
      "source": [
        "Der polynomiale Kernel liefert eine schlechte Leistung. Möglicherweise passt er sich zu stark an die Trainingsmenge an."
      ]
    },
    {
      "cell_type": "markdown",
      "metadata": {
        "id": "DFsKqqqM8X0r"
      },
      "source": [
        "#### SVM mit polynomialem Kernel und C=100.0 ausführen"
      ]
    },
    {
      "cell_type": "code",
      "execution_count": 54,
      "metadata": {
        "colab": {
          "base_uri": "https://localhost:8080/"
        },
        "id": "gnh9blia8aQc",
        "outputId": "1176b754-be99-45f9-951f-f3e1f7dcf5ce"
      },
      "outputs": [
        {
          "output_type": "stream",
          "name": "stdout",
          "text": [
            "Model accuracy score with polynomial kernel and C=1.0 : 0.8450\n",
            "compute time for poly SVM C=100: 0.003 seconds\n"
          ]
        }
      ],
      "source": [
        "# instantiate classifier with polynomial kernel and C=100.0\n",
        "poly_svc100=SVC(kernel='poly', C=100.0) \n",
        "\n",
        "# fit classifier to training set\n",
        "poly_svc100.fit(X_train, y_train)\n",
        "\n",
        "# make predictions on test set\n",
        "start_time = time.time()\n",
        "y_pred_test=poly_svc100.predict(X_valid)\n",
        "elapsed_time = time.time() - start_time\n",
        "\n",
        "# compute and print accuracy score\n",
        "print('Model accuracy score with polynomial kernel and C=1.0 : {0:0.4f}'. format(accuracy_score(y_valid, y_pred)))\n",
        "# estimate time\n",
        "print(f\"compute time for poly SVM C=100: {elapsed_time:.3f} seconds\")"
      ]
    },
    {
      "cell_type": "markdown",
      "metadata": {
        "id": "alFyE1H382vm"
      },
      "source": [
        "#### SVM mit sigmoidem Kernel und C=100.0 ausführen"
      ]
    },
    {
      "cell_type": "code",
      "execution_count": 55,
      "metadata": {
        "colab": {
          "base_uri": "https://localhost:8080/"
        },
        "id": "-47hUDxC85Xn",
        "outputId": "0946b3b8-cbe4-4a0a-da9c-c7d5c3c42d8c"
      },
      "outputs": [
        {
          "output_type": "stream",
          "name": "stdout",
          "text": [
            "Model accuracy score with sigmoid kernel and C=100.0 : 0.8450\n",
            "compute time for sigmoid SVM C=100: 0.005 seconds\n"
          ]
        }
      ],
      "source": [
        "# instantiate classifier with sigmoid kernel and C=100.0\n",
        "sigmoid_svc100=SVC(kernel='sigmoid', C=100.0) \n",
        "\n",
        "# fit classifier to training set\n",
        "sigmoid_svc100.fit(X_train,y_train)\n",
        "\n",
        "# make predictions on test set\n",
        "start_time = time.time()\n",
        "y_pred=sigmoid_svc.predict(X_valid)\n",
        "elapsed_time = time.time() - start_time\n",
        "\n",
        "# compute and print accuracy score\n",
        "print('Model accuracy score with sigmoid kernel and C=100.0 : {0:0.4f}'. format(accuracy_score(y_valid, y_pred)))\n",
        "print(f\"compute time for sigmoid SVM C=100: {elapsed_time:.3f} seconds\")"
      ]
    },
    {
      "cell_type": "markdown",
      "metadata": {
        "id": "bPGGgLUT9C5V"
      },
      "source": [
        "Es ist zu erkennen, dass der Sigmoid-Kernel genauso schlecht abschneidet wie der Polynom-Kernel."
      ]
    },
    {
      "cell_type": "markdown",
      "metadata": {
        "id": "mYort82TOJlW"
      },
      "source": [
        "#### Zusammenfassung\n",
        "Wir erhalten die höchste Genauigkeit mit`linear` Kernel mit C=1.0.  die Genauigkeit von über 90%. Aus der obigen Analyse können wir schließen, dass die Genauigkeit unseres Klassifizierungsmodells sehr gut ist. Unser Modell leistet eine sehr gute Arbeit bei der Vorhersage der Klassenbezeichnungen.\n"
      ]
    },
    {
      "cell_type": "markdown",
      "metadata": {
        "id": "SSm5Yogg8_72"
      },
      "source": [
        "#### Hyperparameter-Abstimmung mit Gittersuche und Kreuzvalidierung"
      ]
    },
    {
      "cell_type": "code",
      "execution_count": 56,
      "metadata": {
        "id": "eFnGYZDT9FUn"
      },
      "outputs": [],
      "source": [
        "# Create the parameter grid based on the results of random search \n",
        "params_grid = [{'kernel': ['rbf'], 'gamma': [1e-3, 1e-4],\n",
        "                     'C': [1, 10, 100, 1000]},\n",
        "                    {'kernel': ['linear'], 'C': [1, 10, 100, 1000]}]"
      ]
    },
    {
      "cell_type": "code",
      "execution_count": 57,
      "metadata": {
        "colab": {
          "base_uri": "https://localhost:8080/"
        },
        "id": "UF0rmCVg9Hep",
        "outputId": "f4c64a34-3f6a-4842-ee77-444520ed2888"
      },
      "outputs": [
        {
          "output_type": "stream",
          "name": "stdout",
          "text": [
            "compute time for parameters tune for best SVM : 123.610 seconds\n"
          ]
        }
      ],
      "source": [
        "# Performing CV to tune parameters for best SVM fit \n",
        "start_time = time.time()\n",
        "\n",
        "\n",
        "svm_model = GridSearchCV(SVC(), params_grid, cv=5)\n",
        "\n",
        "clf = svm_model.fit(X_train, y_train)\n",
        "elapsed_time = time.time() - start_time\n",
        "print(f\"compute time for parameters tune for best SVM : {elapsed_time:.3f} seconds\")"
      ]
    },
    {
      "cell_type": "markdown",
      "metadata": {
        "id": "ZaKncvqzQEiE"
      },
      "source": [
        "#### Nach der Anpassung kann das Modell dann verwendet werden, um label von neue Sensordaten vorherzusagen"
      ]
    },
    {
      "cell_type": "code",
      "execution_count": 58,
      "metadata": {
        "colab": {
          "base_uri": "https://localhost:8080/"
        },
        "id": "Tzt_PC6PQD6A",
        "outputId": "93f8ce0b-de09-40bf-9d01-94f17a17e7f5"
      },
      "outputs": [
        {
          "output_type": "stream",
          "name": "stdout",
          "text": [
            "[1]\n"
          ]
        }
      ],
      "source": [
        "print(clf.predict([[0.14342208, -0.03019968, -0.04442681, -0.23942335, -0.52969269,\n",
        "       -0.66097646, -0.00215101,  0.01493005, -0.03802191]]))"
      ]
    },
    {
      "cell_type": "markdown",
      "metadata": {
        "id": "imVS7XnW9K4M"
      },
      "source": [
        "#### Konfusionsmatrix und Genauigkeitswert"
      ]
    },
    {
      "cell_type": "code",
      "execution_count": 59,
      "metadata": {
        "colab": {
          "base_uri": "https://localhost:8080/"
        },
        "id": "9tXTpBga9KpD",
        "outputId": "ec5f75fc-0315-46a0-eec6-2b7c34a0a325"
      },
      "outputs": [
        {
          "output_type": "stream",
          "name": "stdout",
          "text": [
            "Best score for training data: 0.8947354348814202 \n",
            "\n",
            "Best C: 1 \n",
            "\n",
            "Best Kernel: rbf \n",
            "\n",
            "Best Gamma: 0.001 \n",
            "\n"
          ]
        }
      ],
      "source": [
        "# View the accuracy score\n",
        "print('Best score for training data:', svm_model.best_score_,\"\\n\") \n",
        "\n",
        "# View the best parameters for the model found using grid search\n",
        "print('Best C:',svm_model.best_estimator_.C,\"\\n\") \n",
        "print('Best Kernel:',svm_model.best_estimator_.kernel,\"\\n\")\n",
        "print('Best Gamma:',svm_model.best_estimator_.gamma,\"\\n\")\n",
        "\n",
        "final_model = svm_model.best_estimator_\n",
        "Y_pred = final_model.predict(X_valid)\n",
        "Y_pred_label = list(encoder.inverse_transform(Y_pred))"
      ]
    },
    {
      "cell_type": "code",
      "execution_count": 60,
      "metadata": {
        "colab": {
          "base_uri": "https://localhost:8080/"
        },
        "id": "b5kgCBHn9Q1C",
        "outputId": "6133fdca-6a69-4cb3-85c6-f48777894510"
      },
      "outputs": [
        {
          "output_type": "stream",
          "name": "stdout",
          "text": [
            "[[132   0]\n",
            " [ 31 179]]\n",
            "\n",
            "\n",
            "              precision    recall  f1-score   support\n",
            "\n",
            "           0       0.81      1.00      0.89       132\n",
            "           1       1.00      0.85      0.92       210\n",
            "\n",
            "    accuracy                           0.91       342\n",
            "   macro avg       0.90      0.93      0.91       342\n",
            "weighted avg       0.93      0.91      0.91       342\n",
            "\n",
            "Training set score for SVM: 0.894737\n",
            "Validation set score for SVM: 0.909357\n"
          ]
        }
      ],
      "source": [
        "# Making the Confusion Matrix\n",
        "#print(pd.crosstab(Y_test_label, Y_pred_label, rownames=['Actual Activity'], colnames=['Predicted Activity']))\n",
        "print(confusion_matrix(y_valid,Y_pred))\n",
        "print(\"\\n\")\n",
        "print(classification_report(y_valid,Y_pred))\n",
        "\n",
        "print(\"Training set score for SVM: %f\" % final_model.score(X_train , y_train))\n",
        "print(\"Validation set score for SVM: %f\" % final_model.score(X_valid  , y_valid ))\n",
        "\n",
        "# svm_model.score"
      ]
    },
    {
      "cell_type": "markdown",
      "metadata": {
        "id": "IkZYU78X1yX2"
      },
      "source": [
        "#### SVM model speichern Linear SVM\n",
        "speicherrun des modells und testen des Modells"
      ]
    },
    {
      "cell_type": "code",
      "execution_count": 61,
      "metadata": {
        "colab": {
          "base_uri": "https://localhost:8080/"
        },
        "id": "o10wQ0x119dE",
        "outputId": "00fc59b0-9923-42e2-dafb-feb61c850b08"
      },
      "outputs": [
        {
          "output_type": "stream",
          "name": "stdout",
          "text": [
            "compute time for  svm with standard parameter: 0.042 seconds\n",
            "Model accuracy score with default hyperparameters: 0.9094\n",
            "New  predicted score with new model:  0.9093567251461988\n"
          ]
        }
      ],
      "source": [
        "import pickle\n",
        "# instantiate classifier with default hyperparameters\n",
        "svc = SVC() \n",
        "start_time = time.time()\n",
        "# fit classifier to training set\n",
        "svc.fit(X_train,y_train)\n",
        "# save the model to disk\n",
        "filename = 'finalized_model.sav'\n",
        "pickle.dump(svc, open(filename, 'wb'))\n",
        "# make predictions on test set\n",
        "y_pred = svc.predict(X_valid)\n",
        "elapsed_time = time.time() - start_time\n",
        "print(f\"compute time for  svm with standard parameter: {elapsed_time:.3f} seconds\")\n",
        "# compute and print accuracy score\n",
        "print('Model accuracy score with default hyperparameters: {0:0.4f}'. format(accuracy_score(y_valid, y_pred)))\n",
        "# load the model from disk\n",
        "loaded_model = pickle.load(open(filename, 'rb'))\n",
        "result = loaded_model.score(X_valid, y_valid)\n",
        "print(\"New  predicted score with new model: \", result)"
      ]
    },
    {
      "cell_type": "code",
      "execution_count": 62,
      "metadata": {
        "colab": {
          "base_uri": "https://localhost:8080/"
        },
        "id": "MnIVy9n0GnxU",
        "outputId": "3fdeceb7-f149-4c43-b27e-7d9f3ce2cab9"
      },
      "outputs": [
        {
          "output_type": "stream",
          "name": "stdout",
          "text": [
            "Accuracy: 0.9093567251461988\n",
            "Precision: 1.0\n",
            "Recall: 0.8523809523809524\n"
          ]
        }
      ],
      "source": [
        "#Import scikit-learn metrics module for accuracy calculation\n",
        "from sklearn import metrics\n",
        "# Model Accuracy: how often is the classifier correct?\n",
        "print(\"Accuracy:\",metrics.accuracy_score(y_valid, y_pred))\n",
        "\n",
        "# Model Precision: what percentage of positive tuples are labeled as such?\n",
        "print(\"Precision:\",metrics.precision_score(y_valid, y_pred))\n",
        "\n",
        "# Model Recall: what percentage of positive tuples are labelled as such?\n",
        "print(\"Recall:\",metrics.recall_score(y_valid, y_pred))\n"
      ]
    },
    {
      "cell_type": "markdown",
      "metadata": {
        "id": "tN68_GhOW2z6"
      },
      "source": [
        "##### Zur weiteren Auswertung können Sie auch die Genauigkeit und den Wiedererkennungswert des Modells überprüfen."
      ]
    },
    {
      "cell_type": "markdown",
      "metadata": {
        "id": "OojTsMCT1l7T"
      },
      "source": [
        "#### Scikit-learn definiert eine einfache API zum Erstellen von Visualisierungen für maschinelles Lernen."
      ]
    },
    {
      "cell_type": "markdown",
      "metadata": {
        "id": "vtZegcdXqLH3"
      },
      "source": [
        " Das Hauptmerkmal dieser API besteht darin, schnelles Plotten und visuelle Anpassungen ohne Neuberechnung zu ermöglichen. Wir stellen DisplayKlassen bereit, die zwei Methoden zum Erstellen von Diagrammen verfügbar machen: from_estimator und from_predictions. Die from_estimatorMethode nimmt einen angepassten Schätzer und einige Daten ( X und y) und erstellt ein DisplayObjekt. Manchmal möchten wir die Vorhersagen nur einmal berechnen und sollten sie from_predictions stattdessen verwenden. wir zeichnen eine ROC-Kurve für eine angepasste Support-Vektor-Maschine:"
      ]
    },
    {
      "cell_type": "code",
      "execution_count": 63,
      "metadata": {
        "colab": {
          "base_uri": "https://localhost:8080/",
          "height": 279
        },
        "id": "vepvD1i91oZ7",
        "outputId": "5421b127-3b72-4a7c-8a3a-514d744470ee"
      },
      "outputs": [
        {
          "output_type": "display_data",
          "data": {
            "text/plain": [
              "<Figure size 432x288 with 1 Axes>"
            ],
            "image/png": "[encoded data removed]"
          },
          "metadata": {}
        }
      ],
      "source": [
        "import time\n",
        "from sklearn.model_selection import train_test_split\n",
        "from sklearn.svm import SVC\n",
        "from sklearn.metrics import RocCurveDisplay\n",
        "\n",
        "\n",
        "X_train, X_test, y_train, y_test = train_test_split(X_norm, y, random_state=42)\n",
        "svc = SVC(random_state=42)\n",
        "svc.fit(X_train, y_train)\n",
        "\n",
        "svc_disp = RocCurveDisplay.from_estimator(svc, X_test, y_test)"
      ]
    },
    {
      "cell_type": "code",
      "execution_count": 64,
      "metadata": {
        "colab": {
          "base_uri": "https://localhost:8080/"
        },
        "id": "yIpcTvj0Lsky",
        "outputId": "8d7c44db-a068-4f4b-ee2d-a1584dabcbae"
      },
      "outputs": [
        {
          "output_type": "stream",
          "name": "stdout",
          "text": [
            "Die Vorhergesate Klasse ist :  [1]\n",
            "Elapsed time to compute the importances: 0.002 seconds\n"
          ]
        }
      ],
      "source": [
        "from sklearn.neighbors import KNeighborsClassifier\n",
        "\n",
        "model = KNeighborsClassifier(n_neighbors=3)\n",
        "\n",
        "start_time = time.time()\n",
        "# Train the model using the training sets\n",
        "model.fit(X_train,y_train)\n",
        "elapsed_time = time.time() - start_time\n",
        "#Predict Output\n",
        "predicted= model.predict([[0.14342208, -0.03019968, -0.04442681, -0.23942335, -0.52969269,\n",
        "       -0.66097646, -0.00215101,  0.01493005, -0.03802191]]) # Numpay Array daten einen neuen Datensatz nicht trainiert\n",
        "print('Die Vorhergesate Klasse ist : ', predicted)\n",
        "print(f\"Elapsed time to compute the importances: {elapsed_time:.3f} seconds\")"
      ]
    },
    {
      "cell_type": "code",
      "execution_count": 65,
      "metadata": {
        "id": "l5zuTA6q9kp-"
      },
      "outputs": [],
      "source": [
        "# import matplotlib.pyplot as plt\n",
        "# from sklearn import svm\n",
        "\n",
        "# fig, ax = plt.subplots()\n",
        "# clf2 = svm.LinearSVC(C=1).fit(X_norm, y)\n",
        "\n",
        "# # get the separating hyperplane\n",
        "# w = clf2.coef_[0]\n",
        "# a = -w[0] / w[1]\n",
        "# xx = np.linspace(-5, 5)\n",
        "# yy = a * xx - (clf2.intercept_[0]) / w[1]\n",
        "\n",
        "# # create a mesh to plot in\n",
        "# x_min, x_max = X_norm[:, 0].min() - 1, X_norm[:, 0].max() + 1\n",
        "# y_min, y_max = X_norm[:, 1].min() - 1, X_norm[:, 1].max() + 1\n",
        "\n",
        "# x_min_1, x_max_1 = X_norm[:, 2].min() - 1, X_norm[:, 2].max() + 1\n",
        "# y_min_1, y_max_1 = X_norm[:, 3].min() - 1, X_norm[:, 3].max() + 1\n",
        "\n",
        "# x_min_2, x_max_2 = X_norm[:, 4].min() - 1, X_norm[:, 4].max() + 1\n",
        "# y_min_2, y_max_2 = X_norm[:, 5].min() - 1, X_norm[:, 5].max() + 1\n",
        "\n",
        "# x_min_3, x_max_3 = X_norm[:, 6].min() - 1, X_norm[:, 6].max() + 1\n",
        "# y_min_3, y_max_3 = X_norm[:, 7].min() - 1, X_norm[:, 7].max() + 1\n",
        "\n",
        "# x_min_4, x_max_4 = X_norm[:, 8].min() - 1, X_norm[:, 8].max() + 1\n",
        "# # y_min_4, y_max_4 = X_norm[:, 9].min()-1, X_norm[:, 9].max()-1\n",
        "\n",
        "# xx2, yy2, xx3, yy3, xx4, yy4, xx5, yy5  = np.meshgrid(\n",
        "                      \n",
        "#                      np.arange(x_min, x_max, .2),\n",
        "#                      np.arange(y_min, y_max, .2),\n",
        "\n",
        "#                      np.arange(x_min_1, x_max_1, .2),\n",
        "#                      np.arange(y_min_1, y_max_1, .2),\n",
        "                     \n",
        "#                      np.arange(x_min_2, x_max_2, .2),\n",
        "#                      np.arange(y_min_2, y_max_2, .2),\n",
        "                     \n",
        "#                      np.arange(x_min_3, x_max_3, .2),\n",
        "#                      np.arange(y_min_3, y_max_3, .2),\n",
        "\n",
        "#                     #  np.arange(x_min_4, x_max_4, .2),\n",
        "#                       # np.arange(y_min_4, y_max_4, .2)\n",
        "#                      )\n",
        "\n",
        "\n",
        "# Z = clf2.predict(np.c_[xx2.ravel(), yy2.ravel(),\n",
        "#                        xx3.ravel(), yy3.ravel(),\n",
        "#                        xx4.ravel(), yy4.ravel(),\n",
        "#                        xx5.ravel(), yy5.ravel()\n",
        "#                        ])\n",
        "\n",
        "# Z = Z.reshape(xx2.shape)\n",
        "# ax.contourf(xx2, yy2, xx3, yy3, xx4, yy4, xx5, yy5 , Z, cmap=plt.cm.coolwarm, alpha=0.3)\n",
        "# ax.scatter(X_norm[:, 0], X_norm[:, 1], \n",
        "#            X_norm[:, 2], X_norm[:, 3], \n",
        "#            X_norm[:, 4], X_norm[:, 5], \n",
        "#            X_norm[:, 6], X_norm[:, 7],\n",
        "#            c=y, cmap=plt.cm.coolwarm, s=25)\n",
        "# ax.plot(xx,yy)\n",
        "\n",
        "# ax.axis([x_min, x_max,y_min, y_max])\n",
        "# plt.show()"
      ]
    },
    {
      "cell_type": "markdown",
      "metadata": {
        "id": "x2V0RWxFE5hC"
      },
      "source": [
        "#### Zeichnen Sie die Entscheidungsgrenzen-Hyperebene\n",
        "In dieser Visualisierung sind alle Beobachtungen der Klasse 0 schwarz und Beobachtungen der Klasse 1 hellgrau. Die Hyperebene ist die Entscheidungsgrenze, die darüber entscheidet, wie neue Beobachtungen klassifiziert werden. Insbesondere wird jede Beobachtung oberhalb der Linie als Klasse 0 klassifiziert, während jede Beobachtung unterhalb der Linie als Klasse 1 klassifiziert wird."
      ]
    },
    {
      "cell_type": "code",
      "execution_count": 66,
      "metadata": {
        "id": "j2mhx9C5Eudm",
        "colab": {
          "base_uri": "https://localhost:8080/",
          "height": 0
        },
        "outputId": "b363b98a-d272-48bc-9e86-4b2b2e9dbb38"
      },
      "outputs": [
        {
          "output_type": "display_data",
          "data": {
            "text/plain": [
              "<Figure size 432x288 with 1 Axes>"
            ],
            "image/png": "[encoded data removed]"
          },
          "metadata": {}
        }
      ],
      "source": [
        "# Plot data points and color using their class\n",
        "color = ['black' if c == 0 else 'lightgrey' for c in y]\n",
        "plt.scatter(X_norm[:,0], X_norm[:,1], c=color)\n",
        "\n",
        "# Create the hyperplane\n",
        "w = linear_svc.coef_[0]\n",
        "a = -w[0] / w[1]\n",
        "xx = np.linspace(-2.5, 2.5)\n",
        "yy = a * xx - (linear_svc.intercept_[0]) / w[1]\n",
        "\n",
        "# Plot the hyperplane\n",
        "plt.plot(xx, yy)\n",
        "plt.axis(\"off\"), plt.show();"
      ]
    },
    {
      "cell_type": "code",
      "execution_count": 67,
      "metadata": {
        "id": "wLR_5JLgFhI_",
        "colab": {
          "base_uri": "https://localhost:8080/",
          "height": 0
        },
        "outputId": "e226566a-87a3-49b9-cf38-b01301512ab2"
      },
      "outputs": [
        {
          "output_type": "display_data",
          "data": {
            "text/plain": [
              "<Figure size 432x288 with 1 Axes>"
            ],
            "image/png": "[encoded data removed]"
          },
          "metadata": {}
        }
      ],
      "source": [
        "# Load libraries\n",
        "from sklearn.svm import LinearSVC\n",
        "from sklearn import datasets\n",
        "from sklearn.preprocessing import StandardScaler\n",
        "import numpy as np\n",
        "from matplotlib import pyplot as plt\n",
        "\n",
        "# Standarize features\n",
        "scaler = StandardScaler()\n",
        "X_std = scaler.fit_transform(X_norm)\n",
        "# Create support vector classifier\n",
        "svc = LinearSVC(C=1000)\n",
        "\n",
        "# Train model\n",
        "model = svc.fit(X_std, y)\n",
        "# Plot data points and color using their class\n",
        "color = ['black' if c == 0 else 'lightgrey' for c in y]\n",
        "plt.scatter(X_std[:,0], X_std[:,1], c=color)\n",
        "\n",
        "# Create the hyperplane\n",
        "w = svc.coef_[0]\n",
        "a = -w[0] / w[1]\n",
        "xx = np.linspace(-2.5, 2.5)\n",
        "yy = a * xx - (svc.intercept_[0]) / w[1]\n",
        "\n",
        "# Plot the hyperplane\n",
        "plt.plot(xx, yy)\n",
        "plt.axis(\"off\"), plt.show();"
      ]
    },
    {
      "cell_type": "markdown",
      "metadata": {
        "id": "zgtlwgtk7iDX"
      },
      "source": [
        "#### Wir sehen, dass die Genauigkeit des Trainingssets und des Test-Sets sehr vergleichbar sind."
      ]
    },
    {
      "cell_type": "code",
      "execution_count": 68,
      "metadata": {
        "id": "LD2XqxB27Vpr",
        "colab": {
          "base_uri": "https://localhost:8080/"
        },
        "outputId": "389ee580-e344-4f60-8014-3a7b213d76c7"
      },
      "outputs": [
        {
          "output_type": "stream",
          "name": "stdout",
          "text": [
            "Training-set accuracy score: 0.8970\n",
            "Test-set accuracy score: 0.9094\n"
          ]
        }
      ],
      "source": [
        "y_pred_train = linear_svc.predict(X_train)\n",
        "y_pred_test = linear_svc.predict(X_valid)\n",
        "\n",
        "print('Training-set accuracy score: {0:0.4f}'. format(accuracy_score(y_train, y_pred_train)))\n",
        "\n",
        "print('Test-set accuracy score: {0:0.4f}'. format(accuracy_score(y_valid, y_pred_test)))"
      ]
    },
    {
      "cell_type": "markdown",
      "metadata": {
        "id": "dedbdUfE7gKo"
      },
      "source": [
        "#### Überprüfung auf Über- und Unteranpassung"
      ]
    },
    {
      "cell_type": "code",
      "execution_count": 69,
      "metadata": {
        "id": "vc8RwJ2l7ZK9",
        "colab": {
          "base_uri": "https://localhost:8080/"
        },
        "outputId": "6bcb67ab-ff98-4ee0-cd2c-055b8659961a"
      },
      "outputs": [
        {
          "output_type": "stream",
          "name": "stdout",
          "text": [
            "Training set score: 0.8970\n",
            "Validation set score: 0.9094\n"
          ]
        }
      ],
      "source": [
        "print('Training set score: {:.4f}'.format(linear_svc.score(X_train, y_train)))\n",
        "\n",
        "print('Validation set score: {:.4f}'.format(linear_svc.score(X_valid, y_valid)))"
      ]
    },
    {
      "cell_type": "markdown",
      "metadata": {
        "id": "EptuUbvxp7oQ"
      },
      "source": [
        "#### In diesem Diagramm sehen Sie die Trainings- und Validierungsergebnisse einer SVM für verschiedene Werte des Kernelparameters Gamma."
      ]
    },
    {
      "cell_type": "markdown",
      "metadata": {
        "id": "JwKm4lRGqBXD"
      },
      "source": [
        " Bei sehr niedrigen Gammawerten können Sie sehen, dass sowohl der Trainingswert als auch der Validierungswert niedrig sind. Das nennt man Underfitting. Mittlere Gamma-Werte führen zu hohen Werten für beide Bewertungen, d. h. der Klassifikator arbeitet ziemlich gut. Wenn Gamma zu hoch ist, wird der Klassifikator überangepasst, was bedeutet, dass die Trainingspunktzahl gut, aber die Validierungspunktzahl schlecht ist."
      ]
    },
    {
      "cell_type": "code",
      "execution_count": 70,
      "metadata": {
        "id": "rC8gpEuG9X8M",
        "colab": {
          "base_uri": "https://localhost:8080/",
          "height": 0
        },
        "outputId": "e3edda3f-168e-4ab6-d484-abf693cd9ceb"
      },
      "outputs": [
        {
          "output_type": "display_data",
          "data": {
            "text/plain": [
              "<Figure size 432x288 with 1 Axes>"
            ],
            "image/png": "[encoded data removed]"
          },
          "metadata": {}
        }
      ],
      "source": [
        "from sklearn.model_selection import validation_curve\n",
        "\n",
        "param_range = np.logspace(-6, -1, 5)\n",
        "train_scores, test_scores = validation_curve(\n",
        "    SVC(),\n",
        "    X_norm,\n",
        "    y,\n",
        "    param_name=\"gamma\",\n",
        "    param_range=param_range,\n",
        "    scoring=\"accuracy\",\n",
        "    n_jobs=2,\n",
        ")\n",
        "train_scores_mean = np.mean(train_scores, axis=1)\n",
        "train_scores_std = np.std(train_scores, axis=1)\n",
        "test_scores_mean = np.mean(test_scores, axis=1)\n",
        "test_scores_std = np.std(test_scores, axis=1)\n",
        "\n",
        "plt.title(\"Validation Curve with SVM\")\n",
        "plt.xlabel(r\"$\\gamma$\")\n",
        "plt.ylabel(\"Score\")\n",
        "plt.ylim(0.0, 1.1)\n",
        "lw = 2\n",
        "plt.semilogx(\n",
        "    param_range, train_scores_mean, label=\"Training score\", color=\"darkorange\", lw=lw\n",
        ")\n",
        "plt.fill_between(\n",
        "    param_range,\n",
        "    train_scores_mean - train_scores_std,\n",
        "    train_scores_mean + train_scores_std,\n",
        "    alpha=0.2,\n",
        "    color=\"darkorange\",\n",
        "    lw=lw,\n",
        ")\n",
        "plt.semilogx(\n",
        "    param_range, test_scores_mean, label=\"Cross-validation score\", color=\"navy\", lw=lw\n",
        ")\n",
        "plt.fill_between(\n",
        "    param_range,\n",
        "    test_scores_mean - test_scores_std,\n",
        "    test_scores_mean + test_scores_std,\n",
        "    alpha=0.2,\n",
        "    color=\"navy\",\n",
        "    lw=lw,\n",
        ")\n",
        "plt.legend(loc=\"best\")\n",
        "plt.show()"
      ]
    },
    {
      "cell_type": "markdown",
      "metadata": {
        "id": "XAdyxUxM1rTQ"
      },
      "source": [
        "## Random-Forest-Klassifikator und zeichnen die zuvor berechnete Roc-Kurve erneut, indem wir die plotMethode des DisplayObjekts verwenden."
      ]
    },
    {
      "cell_type": "markdown",
      "metadata": {
        "id": "_knS0hWk9jPT"
      },
      "source": [
        "#### Plot hyperplane Linear SVM python"
      ]
    },
    {
      "cell_type": "code",
      "execution_count": 71,
      "metadata": {
        "id": "mM63NgqP1tHk",
        "colab": {
          "base_uri": "https://localhost:8080/",
          "height": 296
        },
        "outputId": "660bbd66-9553-4a72-8494-68cf5e657ecc"
      },
      "outputs": [
        {
          "output_type": "execute_result",
          "data": {
            "text/plain": [
              "<sklearn.metrics._plot.roc_curve.RocCurveDisplay at 0x7ff35d902610>"
            ]
          },
          "metadata": {},
          "execution_count": 71
        },
        {
          "output_type": "display_data",
          "data": {
            "text/plain": [
              "<Figure size 432x288 with 1 Axes>"
            ],
            "image/png": "[encoded data removed]"
          },
          "metadata": {}
        }
      ],
      "source": [
        "import matplotlib.pyplot as plt\n",
        "from sklearn.ensemble import RandomForestClassifier\n",
        "from sklearn.metrics import RocCurveDisplay\n",
        "\n",
        "\n",
        "rfc = RandomForestClassifier(n_estimators=10, random_state=42)\n",
        "rfc.fit(X_train, y_train)\n",
        "\n",
        "ax = plt.gca()\n",
        "rfc_disp = RocCurveDisplay.from_estimator(rfc, X_valid, y_valid, ax=ax, alpha=0.8)\n",
        "rfc_disp.plot(ax=ax, alpha=0.8)"
      ]
    },
    {
      "cell_type": "markdown",
      "metadata": {
        "id": "7miUmLmcLtNw"
      },
      "source": [
        "## Logistik Regession-Modell ohne featuren enginering für die sensordaten"
      ]
    },
    {
      "cell_type": "code",
      "execution_count": 72,
      "metadata": {
        "id": "dzdNv_9X8Qrp",
        "colab": {
          "base_uri": "https://localhost:8080/",
          "height": 544
        },
        "outputId": "f3dc3a4e-60c5-468c-b6b0-30a5a88b8dd6"
      },
      "outputs": [
        {
          "output_type": "stream",
          "name": "stdout",
          "text": [
            "Berechnungszeit der Logitik Regression: 0.002 seconds\n"
          ]
        },
        {
          "output_type": "display_data",
          "data": {
            "text/plain": [
              "<Figure size 432x288 with 1 Axes>"
            ],
            "image/png": "[encoded data removed]"
          },
          "metadata": {}
        },
        {
          "output_type": "display_data",
          "data": {
            "text/plain": [
              "<Figure size 432x288 with 1 Axes>"
            ],
            "image/png": "[encoded data removed]"
          },
          "metadata": {}
        }
      ],
      "source": [
        "from sklearn.datasets import make_classification\n",
        "from sklearn.linear_model import LogisticRegression\n",
        "# from sklearn.pipeline import make_pipeline\n",
        "# from sklearn.preprocessing import StandardScaler\n",
        "\n",
        "start_time = time.time()\n",
        "# pipe = LogisticRegression()\n",
        "# pipe.fit(X_train, y_train)  # apply scaling on training data\n",
        "\n",
        "\n",
        "# elapsed_time = time.time() - start_time\n",
        "# print('Model Genauigkeit score für Logistik Regression : {0:0.4f}'. format(pipe.score(X_valid, y_valid)))\n",
        "# print('Wahrscheinlickeit für Logistik Regression einen Nutzer zu erkennen : {0:0.4f}'. format(pipe.predict_proba(X_valid)))\n",
        "# \")\n",
        "# Nun trainieren wir ein logistisches Regressionsmodell:\n",
        "log_reg = LogisticRegression()\n",
        "# Modell trainieren\n",
        "log_reg.fit(X_train, y_train)\n",
        "print(f\"Berechnungszeit der Logitik Regression: {elapsed_time:.3f} seconds\")\n",
        "# geschätzten Wahrscheinlichkeiten der Nutzer ermiiteln\n",
        "X_new = [[0.14342208, -0.03019968, -0.04442681, -0.23942335, -0.52969269,\n",
        "       -0.66097646, -0.00215101,  0.01493005, -0.03802191]]\n",
        "y_proba = log_reg.predict_proba(X_new)\n",
        "plt.plot(X_new, y_proba[:, 1], \"g-\", label=\"illegitimerUser\")\n",
        "plt.plot(X_new, y_proba[:, 0], \"b--\", label=\"legitimerUser\")\n",
        "\n",
        "\n",
        "fig, ax = plt.subplots()\n",
        "RocCurveDisplay.from_estimator(\n",
        "   log_reg, X_valid, y_valid, ax = ax)\n",
        "\n",
        "logreg_y_pred = log_reg.predict(X_valid)\n",
        "metrics.RocCurveDisplay.from_predictions(y_valid,logreg_y_pred,ax=ax,name=\"logreg predictions\")\n",
        "\n",
        "plt.show()"
      ]
    },
    {
      "cell_type": "markdown",
      "metadata": {
        "id": "WQ37U9uGUbej"
      },
      "source": [
        "## KNN-Klassifikatormodell"
      ]
    },
    {
      "cell_type": "markdown",
      "source": [
        "#### Modell generieren\n",
        "Lassen Sie uns ein KNN-Klassifikator-Modell erstellen.\n",
        "\n",
        "Importieren Sie zunächst das Modul KNeighborsClassifier und erstellen Sie ein KNN-Klassifikatorobjekt, indem Sie das Argument Anzahl der Nachbarn in der Funktion KNeighborsClassifier() übergeben.\n",
        "\n",
        "Anschließend passen Sie Ihr Modell mit fit() an die Trainingsmenge an und führen mit predict() eine Vorhersage für die Testmenge durch."
      ],
      "metadata": {
        "id": "88dewngYMRuP"
      }
    },
    {
      "cell_type": "code",
      "source": [
        "from sklearn.neighbors import KNeighborsClassifier\n",
        "\n",
        "model = KNeighborsClassifier(n_neighbors=9)\n",
        "\n",
        "# Train the model using the training sets\n",
        "model.fit(X_norm,y)\n",
        "\n",
        "#Predict Output\n",
        "predicted= model.predict([[0.14342208, -0.03019968, -0.04442681, -0.23942335, -0.52969269,\n",
        "       -0.66097646, -0.00215101,  0.01493005, -0.03802191]]) # 0:Legitmer User, 2:Illegitimer User\n",
        "print(predicted)"
      ],
      "metadata": {
        "colab": {
          "base_uri": "https://localhost:8080/"
        },
        "id": "C5PGe5SZMEK4",
        "outputId": "ed49a4f2-7bc6-44a9-8721-400b9402180f"
      },
      "execution_count": 73,
      "outputs": [
        {
          "output_type": "stream",
          "name": "stdout",
          "text": [
            "[1]\n"
          ]
        }
      ]
    },
    {
      "cell_type": "markdown",
      "metadata": {
        "id": "8mWeF24jMI-c"
      },
      "source": [
        "# Unüberwaches Lernen: \n",
        "\n"
      ]
    },
    {
      "cell_type": "markdown",
      "metadata": {
        "id": "LLtVOCMS9VqT"
      },
      "source": [
        "## Clustering: KMeans mit 2 Cluster"
      ]
    },
    {
      "cell_type": "markdown",
      "metadata": {
        "id": "v-PYYqvK9uFJ"
      },
      "source": [
        "### Trainieren wir ein K-Means-Cluster mit diesem Datensatz"
      ]
    },
    {
      "cell_type": "markdown",
      "source": [
        "#### Lassen Sie uns nun das K-Means-Modell erstellen.\n",
        "\n"
      ],
      "metadata": {
        "id": "dkj7Rw-KU0iP"
      }
    },
    {
      "cell_type": "markdown",
      "source": [
        "Visualisation der Datensätzen"
      ],
      "metadata": {
        "id": "mRIG7tlCWphw"
      }
    },
    {
      "cell_type": "code",
      "source": [
        "plt.scatter(\n",
        "   X_norm[:, 0], X_norm[:, 1],\n",
        "   c='white', marker='o',\n",
        "   edgecolor='black', s=50\n",
        ")\n",
        "plt.show()"
      ],
      "metadata": {
        "colab": {
          "base_uri": "https://localhost:8080/",
          "height": 265
        },
        "id": "zBTPz1HlWWvD",
        "outputId": "5a2d95f5-ffd7-4ad6-9e63-f0fc869bd256"
      },
      "execution_count": 74,
      "outputs": [
        {
          "output_type": "display_data",
          "data": {
            "text/plain": [
              "<Figure size 432x288 with 1 Axes>"
            ],
            "image/png": "[encoded data removed]"
          },
          "metadata": {}
        }
      ]
    },
    {
      "cell_type": "code",
      "source": [
        "from sklearn.cluster import KMeans\n",
        "\n",
        "kmeans = kmeans = KMeans(n_clusters=2, max_iter=600, algorithm = 'auto') # 2 cluster illgetimer user und legitimer user\n",
        "kmeans.fit(X_norm)\n",
        "KMeans(algorithm='auto', copy_x=True, init='k-means++', max_iter=600,\n",
        "    n_clusters=2, n_init=10,\n",
        "    random_state=None, tol=0.0001, verbose=0)\n",
        "correct = 0\n",
        "for i in range(len(X)):\n",
        "    predict_me = np.array(X[i].astype(float))\n",
        "    predict_me = predict_me.reshape(-1, len(predict_me))\n",
        "    prediction = kmeans.predict(predict_me)\n",
        "    if prediction[0] == y[i]:\n",
        "        correct += 1\n",
        "\n",
        "print(correct/len(X))"
      ],
      "metadata": {
        "colab": {
          "base_uri": "https://localhost:8080/"
        },
        "id": "ERJpvwQ7UGI0",
        "outputId": "249b8a38-ad7d-4d0c-af33-bc977509afbc"
      },
      "execution_count": 75,
      "outputs": [
        {
          "output_type": "stream",
          "name": "stdout",
          "text": [
            "0.18771929824561404\n"
          ]
        }
      ]
    },
    {
      "cell_type": "markdown",
      "source": [
        "Das Modell konnte mit 81,22 % (Genauigkeit Ihres Modells) korrekt clustern. Aber um die Leistung des Modells zu verbessern, könnten Sie einige Parameter des Modells selbst optimieren"
      ],
      "metadata": {
        "id": "cRzE82OLVG0s"
      }
    },
    {
      "cell_type": "markdown",
      "metadata": {
        "id": "08TMFDIP-Iql"
      },
      "source": [
        "#### initialisierung einer prediktiver Variable"
      ]
    },
    {
      "cell_type": "code",
      "execution_count": 76,
      "metadata": {
        "id": "kfcYg3gh-IPR",
        "colab": {
          "base_uri": "https://localhost:8080/"
        },
        "outputId": "d76f1964-3de3-46c3-c1fa-41119ed5b7fb"
      },
      "outputs": [
        {
          "output_type": "execute_result",
          "data": {
            "text/plain": [
              "True"
            ]
          },
          "metadata": {},
          "execution_count": 76
        }
      ],
      "source": [
        "y_pred = kmeans.fit_predict(X_norm)\n",
        "y_pred is kmeans.labels_"
      ]
    },
    {
      "cell_type": "markdown",
      "metadata": {
        "id": "IBu4ic4E-DBA"
      },
      "source": [
        "#### Schwerpunkten anschauen"
      ]
    },
    {
      "cell_type": "code",
      "execution_count": 77,
      "metadata": {
        "id": "8nn9bpQ_-CUq",
        "colab": {
          "base_uri": "https://localhost:8080/"
        },
        "outputId": "a1a4d123-7b90-4b64-b9d2-fce6499aff70"
      },
      "outputs": [
        {
          "output_type": "execute_result",
          "data": {
            "text/plain": [
              "array([[ 0.12239436, -0.01725222, -0.05935015,  0.92742646,  0.67390952,\n",
              "        -0.85528965,  0.34613184,  0.46136537,  0.41982721],\n",
              "       [-0.14186619,  0.01999689,  0.06879222, -1.07497158, -0.7811224 ,\n",
              "         0.99135845, -0.40119827, -0.5347644 , -0.4866179 ]])"
            ]
          },
          "metadata": {},
          "execution_count": 77
        }
      ],
      "source": [
        "kmeans.cluster_centers_"
      ]
    },
    {
      "cell_type": "markdown",
      "metadata": {
        "id": "BxHcPJ5o-ctE"
      },
      "source": [
        "### Neue Features lassen sich leicht dem Cluster zuweisen  und deren Schwerpunkt"
      ]
    },
    {
      "cell_type": "code",
      "execution_count": 78,
      "metadata": {
        "id": "z--P1Otl-Xqc",
        "colab": {
          "base_uri": "https://localhost:8080/"
        },
        "outputId": "95a7d71d-c5e3-4c25-c818-f973a859f644"
      },
      "outputs": [
        {
          "output_type": "execute_result",
          "data": {
            "text/plain": [
              "array([0], dtype=int32)"
            ]
          },
          "metadata": {},
          "execution_count": 78
        }
      ],
      "source": [
        "X_new = np.array([[0.14342208, -0.03019968, -0.04442681, -0.23942335, -0.52969269,\n",
        "       -0.66097646, -0.00215101,  0.01493005, -0.03802191]])\n",
        "kmeans.predict(X_new)"
      ]
    },
    {
      "cell_type": "code",
      "execution_count": 79,
      "metadata": {
        "id": "oaU-njJtL8vf",
        "colab": {
          "base_uri": "https://localhost:8080/",
          "height": 265
        },
        "outputId": "38e0040f-7057-4e97-8fff-2839b02a7119"
      },
      "outputs": [
        {
          "output_type": "display_data",
          "data": {
            "text/plain": [
              "<Figure size 432x288 with 1 Axes>"
            ],
            "image/png": "[encoded data removed]"
          },
          "metadata": {}
        }
      ],
      "source": [
        "# plot the 6 clusters\n",
        "plt.scatter(\n",
        "    X[y_pred == 0, 0], X[y_pred == 0, 1],\n",
        "    s=50, c='blue',\n",
        "    marker='s', edgecolor='black',\n",
        "    label='cluster 1'\n",
        ")\n",
        "\n",
        "plt.scatter(\n",
        "    X[y_pred == 1, 0], X[y_pred == 1, 1],\n",
        "    s=50, c='orange',\n",
        "    marker='o', edgecolor='black',\n",
        "    label='cluster 2'\n",
        ")\n",
        "\n",
        "# plt.scatter(\n",
        "#     X[y_pred == 2, 0], X[y_pred == 2, 1],\n",
        "#     s=50, c='lightblue',\n",
        "#     marker='v', edgecolor='black',\n",
        "#     label='cluster 3'\n",
        "# )\n",
        "\n",
        "\n",
        "# plt.scatter(\n",
        "#     X[y_pred == 2, 1], X[y_pred == 2, 2],\n",
        "#     s=50, c='yellow',\n",
        "#     marker='D', edgecolor='black',\n",
        "#     label='cluster 4'\n",
        "# )\n",
        "\n",
        "# plt.scatter(\n",
        "#     X[y_pred == 3, 0], X[y_pred == 3, 1],\n",
        "#     s=50, c='black',\n",
        "#     marker='X', edgecolor='black',\n",
        "#     label='cluster 5'\n",
        "# )\n",
        "\n",
        "# plt.scatter(\n",
        "#     X[y_pred == 3, 1], X[y_pred == 3, 3],\n",
        "#     s=50, c='green',\n",
        "#     marker= 'P', edgecolor='black',\n",
        "#     label='cluster 6'\n",
        "# )\n",
        "\n",
        "# plot the centroids\n",
        "plt.scatter(\n",
        "    kmeans.cluster_centers_[:, 0], kmeans.cluster_centers_[:, 1],\n",
        "    s=250, marker='*',\n",
        "    c='red', edgecolor='black',\n",
        "    label='centroids'\n",
        ")\n",
        "plt.legend(scatterpoints=1)\n",
        "plt.grid()\n",
        "plt.show()"
      ]
    },
    {
      "cell_type": "markdown",
      "metadata": {
        "id": "RvCf4IZ8nzja"
      },
      "source": [
        "\n",
        "## KMeans-Modell Erstellung"
      ]
    },
    {
      "cell_type": "code",
      "execution_count": 80,
      "metadata": {
        "id": "7k86lSSMMIVY",
        "colab": {
          "base_uri": "https://localhost:8080/"
        },
        "outputId": "bece2f5e-5447-4dc3-945a-a6c4f7ba95be"
      },
      "outputs": [
        {
          "output_type": "stream",
          "name": "stdout",
          "text": [
            "Elapsed time to compute the importances: 0.058 seconds\n"
          ]
        }
      ],
      "source": [
        "from sklearn.cluster import KMeans\n",
        "\n",
        "start_time = time.time()\n",
        "kmeans = KMeans(\n",
        "    n_clusters=2, init='random',\n",
        "    n_init=10, max_iter=300, \n",
        "    tol=1e-04, random_state=0\n",
        ")\n",
        "y_pred = kmeans.fit_predict(X_norm[:,:9])\n",
        "elapsed_time = time.time() - start_time\n",
        "print(f\"Elapsed time to compute the importances: {elapsed_time:.3f} seconds\")"
      ]
    },
    {
      "cell_type": "code",
      "execution_count": 81,
      "metadata": {
        "id": "gz-97B--MOys",
        "colab": {
          "base_uri": "https://localhost:8080/"
        },
        "outputId": "1eb0abf6-74a5-4fad-a781-ccba52bb759b"
      },
      "outputs": [
        {
          "output_type": "execute_result",
          "data": {
            "text/plain": [
              "True"
            ]
          },
          "metadata": {},
          "execution_count": 81
        }
      ],
      "source": [
        "y_pred is kmeans.labels_"
      ]
    },
    {
      "cell_type": "markdown",
      "metadata": {
        "id": "WaOKnBQTuLw7"
      },
      "source": [
        "#### Wir können uns auch die Schwerpunkte anschauen, die der Algorithmus gefunden hat"
      ]
    },
    {
      "cell_type": "code",
      "execution_count": 82,
      "metadata": {
        "id": "_WeYVu6UbyI4",
        "colab": {
          "base_uri": "https://localhost:8080/"
        },
        "outputId": "f830499f-af96-4bdf-b94c-78fd4e7d7340"
      },
      "outputs": [
        {
          "output_type": "execute_result",
          "data": {
            "text/plain": [
              "array([[ 0.12239436, -0.01725222, -0.05935015,  0.92742646,  0.67390952,\n",
              "        -0.85528965,  0.34613184,  0.46136537,  0.41982721],\n",
              "       [-0.14186619,  0.01999689,  0.06879222, -1.07497158, -0.7811224 ,\n",
              "         0.99135845, -0.40119827, -0.5347644 , -0.4866179 ]])"
            ]
          },
          "metadata": {},
          "execution_count": 82
        }
      ],
      "source": [
        "kmeans.cluster_centers_"
      ]
    },
    {
      "cell_type": "markdown",
      "metadata": {
        "id": "XQnt-koQvNpI"
      },
      "source": [
        "#### Neue Datensätzen lassen sich leicht dem Cluster zuweisen, deren Schwerpunkt am nächsten liegt:"
      ]
    },
    {
      "cell_type": "code",
      "execution_count": 83,
      "metadata": {
        "id": "JUMcR806vNbX",
        "colab": {
          "base_uri": "https://localhost:8080/"
        },
        "outputId": "39bd166a-c2ff-4145-ac01-e306d1a361a5"
      },
      "outputs": [
        {
          "output_type": "execute_result",
          "data": {
            "text/plain": [
              "array([0], dtype=int32)"
            ]
          },
          "metadata": {},
          "execution_count": 83
        }
      ],
      "source": [
        "X_new = np.array([[0.14342208, -0.03019968, -0.04442681, -0.23942335, -0.52969269,\n",
        "       -0.66097646, -0.00215101,  0.01493005, -0.03802191]])\n",
        "kmeans.predict(X_new)"
      ]
    },
    {
      "cell_type": "markdown",
      "metadata": {
        "id": "BSeUnrqexbRs"
      },
      "source": [
        "## OneClass-SVM: Er klassifiziert neue Daten als ähnlich oder anders als die Trainingsmenge."
      ]
    },
    {
      "cell_type": "markdown",
      "metadata": {
        "id": "MTxXSh2fxZ0N"
      },
      "source": [
        "Dieser Algorithmus passt besser für die Novelty Detection. Sie erinnern sich,\n",
        "dass ein Kernel-SVM-Klassifikator zwei Klassen aufteilt, indem er zuerst (implizit)\n",
        "alle Instanzen in einem höher dimensionalen Raum abbildet und die beiden Klassen dann in diesem Raum mithilfe eines linearen SVM-Klassifikators\n",
        "unterteilt (siehe Kapitel 5). Da wir nur eine Klasse an Instanzen haben,\n",
        "versucht der One-Class-SVM-Algorithmus stattdessen, die Instanzen in einem\n",
        "höher dimensionalen Raum zu trennen"
      ]
    },
    {
      "cell_type": "code",
      "source": [
        "import numpy as np\n",
        "import matplotlib.pyplot as plt\n",
        "import matplotlib.font_manager\n",
        "from sklearn import svm\n",
        "from sklearn.pipeline import Pipeline\n",
        "from sklearn.preprocessing import StandardScaler # Die Standardisierung funktioniert deutlich anders: Bei dieser wird zuerst der Mittelwert abgezogen\n",
        "from sklearn.impute import SimpleImputer # Scikit-Learn enthält eine nützliche Klasse zum Umgang mit fehlenden Werten:SimpleImputer\n",
        "xx, yy = np.meshgrid(np.linspace(-5, 5, 500), np.linspace(-5, 5, 500))\n",
        "# Generate train data\n",
        "X_train\n",
        "# Generate some regular novel observations\n",
        "X_valid\n",
        "# Generate some abnormal novel observations\n",
        "X_outliers = df_sensordata_IU.iloc[:, :-2]\n",
        "\n",
        "\n",
        "\n",
        "num_pipeline = Pipeline([\n",
        "('imputer', SimpleImputer(strategy=\"median\")),\n",
        "('std_scaler', StandardScaler()),\n",
        "])\n",
        "\n",
        "X_outliers_norm = num_pipeline.fit_transform(X_outliers)\n",
        "# print(X_outliers)\n",
        "# fit the model\n",
        "clf = svm.OneClassSVM(nu=0.1, kernel=\"rbf\", gamma=0.1)\n",
        "clf.fit(X_train)\n",
        "y_pred_train = clf.predict(X_train)\n",
        "y_pred_test = clf.predict(X_valid)\n",
        "y_pred_outliers = clf.predict(X_outliers)\n",
        "n_error_train = y_pred_train[y_pred_train == -1].size\n",
        "n_error_test = y_pred_test[y_pred_test == -1].size\n",
        "n_error_outliers = y_pred_outliers[y_pred_outliers == 1].size\n",
        "\n",
        "# plot the line, the points, and the nearest vectors to the plane\n",
        "Z = clf.decision_function(np.c_[xx.ravel(), yy.ravel(),xx.ravel(), yy.ravel(),xx.ravel(), yy.ravel(),xx.ravel(), yy.ravel(),xx.ravel()])\n",
        "Z = Z.reshape(xx.shape)\n",
        "\n",
        "plt.title(\"Erkennung von Neuen Features\")\n",
        "plt.contourf(xx, yy, Z, levels=np.linspace(Z.min(), 0, 7), cmap=plt.cm.PuBu)\n",
        "a = plt.contour(xx, yy, Z, levels=[0], linewidths=2, colors=\"darkred\")\n",
        "plt.contourf(xx, yy, Z, levels=[0, Z.max()], colors=\"palevioletred\")\n",
        "\n",
        "s = 40\n",
        "b1 = plt.scatter(X_train[:, 0], X_train[:, 1], c=\"white\", s=s, edgecolors=\"k\")\n",
        "b2 = plt.scatter(X_valid[:, 0], X_valid[:, 1], c=\"blueviolet\", s=s, edgecolors=\"k\")\n",
        "c = plt.scatter(X_outliers_norm[:, 0], X_outliers_norm[:, 1], c=\"gold\", s=s, edgecolors=\"k\")\n",
        "plt.axis(\"tight\")\n",
        "plt.xlim((-5, 5))\n",
        "plt.ylim((-5, 5))\n",
        "plt.legend(\n",
        "    [a.collections[0], b1, b2, c],\n",
        "    [\n",
        "        \"gelernte Grenze\",\n",
        "        \"Trainingsbeobachtungen\",\n",
        "        \"neue regelmäßige Beobachtungen\",\n",
        "        \"neue auffällige Beobachtungen\",\n",
        "    ],\n",
        "    loc=\"upper left\",\n",
        "    prop=matplotlib.font_manager.FontProperties(size=11),\n",
        ")\n",
        "# plt.xlabel(\n",
        "#     \"error train: %d/200 ; errors novel regular: %d/40 ; errors novel abnormal: %d/40\"\n",
        "#     % (n_error_train, n_error_test, n_error_outliers)\n",
        "# )\n",
        "plt.show()"
      ],
      "metadata": {
        "colab": {
          "base_uri": "https://localhost:8080/",
          "height": 281
        },
        "id": "EZizPT2ZjZuO",
        "outputId": "acd1c8bc-60fc-4469-db43-b06660f20558"
      },
      "execution_count": 84,
      "outputs": [
        {
          "output_type": "display_data",
          "data": {
            "text/plain": [
              "<Figure size 432x288 with 1 Axes>"
            ],
            "image/png": "[encoded data removed]"
          },
          "metadata": {}
        }
      ]
    },
    {
      "cell_type": "markdown",
      "metadata": {
        "id": "eEhRWBRon8jO"
      },
      "source": [
        "# Deep Learning:"
      ]
    },
    {
      "cell_type": "markdown",
      "metadata": {
        "id": "9eePRvhsCTHK"
      },
      "source": [
        "## LSTM Model  Speichern und wieder verwenden"
      ]
    },
    {
      "cell_type": "markdown",
      "metadata": {
        "id": "whvJIPOFsGdK"
      },
      "source": [
        "### Einfaches LSTM für die Sequenzklassifizierung\n",
        "Die erste Schicht ist die eingebettete Schicht, die Vektoren mit 32 Längen verwendet, um jedes Wort darzustellen. Die nächste Schicht ist die LSTM-Schicht mit 100 Speichereinheiten (Smart Neurons). Da es sich um ein Klassifizierungsproblem handelt, verwenden Sie schließlich eine dichte Ausgabeschicht mit einem einzelnen Neuron und einer Sigmoid-Aktivierungsfunktion, um 0- oder 1-Vorhersagen für die beiden Klassen (gut und schlecht) im Problem zu treffen.\n",
        "\n",
        "Da es sich um ein binäres Klassifizierungsproblem handelt, wird log loss als Verlustfunktion verwendet ( binary_crossentropy in Keras). Der effiziente ADAM-Optimierungsalgorithmus wird verwendet. Das Modell ist nur für 500 Epochen geeignet, weil es das Problem schnell überpasst. Eine große Stapelgröße von 64 Bewertungen wird verwendet, um Gewichtsaktualisierungen zu verteilen."
      ]
    },
    {
      "cell_type": "markdown",
      "source": [
        "#### Erstellen der Test und Train-Datensätze für LSTM -Netz"
      ],
      "metadata": {
        "id": "kRoO8NqJ3eT0"
      }
    },
    {
      "cell_type": "code",
      "execution_count": 99,
      "metadata": {
        "id": "sX9wNsRpsRPJ"
      },
      "outputs": [],
      "source": [
        "import tensorflow as tf\n",
        "# from tensorflow.keras.datasets import imdb\n",
        "from tensorflow import keras\n",
        "from tensorflow.keras import layers\n",
        "from tensorflow.keras.models import Sequential\n",
        "from tensorflow.keras.layers import Dense\n",
        "from tensorflow.keras.layers import LSTM\n",
        "from tensorflow.keras.layers import Embedding\n",
        "from tensorflow.keras.preprocessing import sequence\n",
        "\n",
        "# fix random seed for reproducibility\n",
        "tf.random.set_seed(9)\n",
        "# load the dataset but only keep the top sensordata words, zero the rest\n",
        "sensordata_length = 2376\n",
        "# (X_train, y_train), (X_test, y_test) = imdb.load_data(num_words=top_words)\n",
        "# truncate and pad input sequences\n",
        "max_review_length = 237\n",
        "x_train = sequence.pad_sequences(X_train, maxlen=max_review_length)\n",
        "x_valid = sequence.pad_sequences(X_valid, maxlen=max_review_length)"
      ]
    },
    {
      "cell_type": "markdown",
      "source": [
        "#### Trainieren des LSTM-Modell mit Adam  und 500 Epochen"
      ],
      "metadata": {
        "id": "6ArfbuwS3mXC"
      }
    },
    {
      "cell_type": "code",
      "execution_count": 86,
      "metadata": {
        "id": "xy4iFSc2sYkJ",
        "colab": {
          "base_uri": "https://localhost:8080/"
        },
        "outputId": "c4edcd27-1d3c-4b4f-a4aa-1e91ef2fb652"
      },
      "outputs": [
        {
          "output_type": "stream",
          "name": "stdout",
          "text": [
            "Model: \"sequential\"\n",
            "_________________________________________________________________\n",
            " Layer (type)                Output Shape              Param #   \n",
            "=================================================================\n",
            " embedding (Embedding)       (None, 237, 32)           76032     \n",
            "                                                                 \n",
            " lstm (LSTM)                 (None, 100)               53200     \n",
            "                                                                 \n",
            " dense (Dense)               (None, 1)                 101       \n",
            "                                                                 \n",
            "=================================================================\n",
            "Total params: 129,333\n",
            "Trainable params: 129,333\n",
            "Non-trainable params: 0\n",
            "_________________________________________________________________\n",
            "None\n",
            "Epoch 1/200\n",
            "21/21 [==============================] - 9s 40ms/step - loss: 0.6483 - accuracy: 0.6435 - val_loss: 0.6458 - val_accuracy: 0.6140\n",
            "Epoch 2/200\n",
            "21/21 [==============================] - 0s 18ms/step - loss: 0.6113 - accuracy: 0.6466 - val_loss: 0.5990 - val_accuracy: 0.6140\n",
            "Epoch 3/200\n",
            "21/21 [==============================] - 0s 18ms/step - loss: 0.5208 - accuracy: 0.7059 - val_loss: 0.4678 - val_accuracy: 0.8129\n",
            "Epoch 4/200\n",
            "21/21 [==============================] - 0s 18ms/step - loss: 0.4292 - accuracy: 0.8198 - val_loss: 0.4069 - val_accuracy: 0.8158\n",
            "Epoch 5/200\n",
            "21/21 [==============================] - 0s 19ms/step - loss: 0.4026 - accuracy: 0.8268 - val_loss: 0.4321 - val_accuracy: 0.8129\n",
            "Epoch 6/200\n",
            "21/21 [==============================] - 0s 18ms/step - loss: 0.4318 - accuracy: 0.8112 - val_loss: 0.4226 - val_accuracy: 0.8099\n",
            "Epoch 7/200\n",
            "21/21 [==============================] - 0s 18ms/step - loss: 0.4021 - accuracy: 0.8237 - val_loss: 0.3967 - val_accuracy: 0.8655\n",
            "Epoch 8/200\n",
            "21/21 [==============================] - 0s 18ms/step - loss: 0.4244 - accuracy: 0.8432 - val_loss: 0.3969 - val_accuracy: 0.8158\n",
            "Epoch 9/200\n",
            "21/21 [==============================] - 0s 18ms/step - loss: 0.3779 - accuracy: 0.8183 - val_loss: 0.3662 - val_accuracy: 0.8216\n",
            "Epoch 10/200\n",
            "21/21 [==============================] - 0s 18ms/step - loss: 0.3457 - accuracy: 0.8339 - val_loss: 0.3254 - val_accuracy: 0.8392\n",
            "Epoch 11/200\n",
            "21/21 [==============================] - 0s 18ms/step - loss: 0.3308 - accuracy: 0.8479 - val_loss: 0.3073 - val_accuracy: 0.8684\n",
            "Epoch 12/200\n",
            "21/21 [==============================] - 0s 18ms/step - loss: 0.3126 - accuracy: 0.8541 - val_loss: 0.2967 - val_accuracy: 0.8684\n",
            "Epoch 13/200\n",
            "21/21 [==============================] - 0s 18ms/step - loss: 0.3002 - accuracy: 0.8549 - val_loss: 0.2815 - val_accuracy: 0.8713\n",
            "Epoch 14/200\n",
            "21/21 [==============================] - 0s 18ms/step - loss: 0.2917 - accuracy: 0.8635 - val_loss: 0.2892 - val_accuracy: 0.8772\n",
            "Epoch 15/200\n",
            "21/21 [==============================] - 0s 18ms/step - loss: 0.3132 - accuracy: 0.8526 - val_loss: 0.2873 - val_accuracy: 0.8713\n",
            "Epoch 16/200\n",
            "21/21 [==============================] - 0s 18ms/step - loss: 0.2913 - accuracy: 0.8697 - val_loss: 0.2682 - val_accuracy: 0.9006\n",
            "Epoch 17/200\n",
            "21/21 [==============================] - 0s 18ms/step - loss: 0.2793 - accuracy: 0.8877 - val_loss: 0.2647 - val_accuracy: 0.9006\n",
            "Epoch 18/200\n",
            "21/21 [==============================] - 0s 18ms/step - loss: 0.2682 - accuracy: 0.8924 - val_loss: 0.2682 - val_accuracy: 0.9064\n",
            "Epoch 19/200\n",
            "21/21 [==============================] - 0s 18ms/step - loss: 0.4909 - accuracy: 0.7941 - val_loss: 0.5492 - val_accuracy: 0.7251\n",
            "Epoch 20/200\n",
            "21/21 [==============================] - 0s 18ms/step - loss: 0.5098 - accuracy: 0.7676 - val_loss: 0.5119 - val_accuracy: 0.7573\n",
            "Epoch 21/200\n",
            "21/21 [==============================] - 0s 18ms/step - loss: 0.4588 - accuracy: 0.7980 - val_loss: 0.4530 - val_accuracy: 0.7982\n",
            "Epoch 22/200\n",
            "21/21 [==============================] - 0s 18ms/step - loss: 0.4152 - accuracy: 0.8105 - val_loss: 0.4104 - val_accuracy: 0.8099\n",
            "Epoch 23/200\n",
            "21/21 [==============================] - 0s 18ms/step - loss: 0.3761 - accuracy: 0.8222 - val_loss: 0.3681 - val_accuracy: 0.8275\n",
            "Epoch 24/200\n",
            "21/21 [==============================] - 0s 18ms/step - loss: 0.3419 - accuracy: 0.8370 - val_loss: 0.3298 - val_accuracy: 0.8392\n",
            "Epoch 25/200\n",
            "21/21 [==============================] - 0s 18ms/step - loss: 0.3234 - accuracy: 0.8432 - val_loss: 0.3168 - val_accuracy: 0.8392\n",
            "Epoch 26/200\n",
            "21/21 [==============================] - 0s 18ms/step - loss: 0.3122 - accuracy: 0.8448 - val_loss: 0.2997 - val_accuracy: 0.8684\n",
            "Epoch 27/200\n",
            "21/21 [==============================] - 0s 18ms/step - loss: 0.2998 - accuracy: 0.8846 - val_loss: 0.2829 - val_accuracy: 0.8684\n",
            "Epoch 28/200\n",
            "21/21 [==============================] - 0s 18ms/step - loss: 0.2898 - accuracy: 0.8736 - val_loss: 0.2775 - val_accuracy: 0.9035\n",
            "Epoch 29/200\n",
            "21/21 [==============================] - 0s 18ms/step - loss: 0.2842 - accuracy: 0.8908 - val_loss: 0.2704 - val_accuracy: 0.9035\n",
            "Epoch 30/200\n",
            "21/21 [==============================] - 0s 18ms/step - loss: 0.2783 - accuracy: 0.8869 - val_loss: 0.2718 - val_accuracy: 0.9035\n",
            "Epoch 31/200\n",
            "21/21 [==============================] - 0s 18ms/step - loss: 0.2970 - accuracy: 0.8729 - val_loss: 0.3579 - val_accuracy: 0.8275\n",
            "Epoch 32/200\n",
            "21/21 [==============================] - 0s 18ms/step - loss: 0.3758 - accuracy: 0.8136 - val_loss: 0.3881 - val_accuracy: 0.8187\n",
            "Epoch 33/200\n",
            "21/21 [==============================] - 0s 18ms/step - loss: 0.3593 - accuracy: 0.8393 - val_loss: 0.3466 - val_accuracy: 0.8304\n",
            "Epoch 34/200\n",
            "21/21 [==============================] - 0s 18ms/step - loss: 0.3246 - accuracy: 0.8393 - val_loss: 0.3170 - val_accuracy: 0.8713\n",
            "Epoch 35/200\n",
            "21/21 [==============================] - 0s 18ms/step - loss: 0.3094 - accuracy: 0.8807 - val_loss: 0.2941 - val_accuracy: 0.9006\n",
            "Epoch 36/200\n",
            "21/21 [==============================] - 0s 18ms/step - loss: 0.2931 - accuracy: 0.8908 - val_loss: 0.2832 - val_accuracy: 0.9006\n",
            "Epoch 37/200\n",
            "21/21 [==============================] - 0s 18ms/step - loss: 0.2830 - accuracy: 0.8916 - val_loss: 0.2786 - val_accuracy: 0.9006\n",
            "Epoch 38/200\n",
            "21/21 [==============================] - 0s 19ms/step - loss: 0.2764 - accuracy: 0.8916 - val_loss: 0.2685 - val_accuracy: 0.9006\n",
            "Epoch 39/200\n",
            "21/21 [==============================] - 0s 18ms/step - loss: 0.2720 - accuracy: 0.8916 - val_loss: 0.2693 - val_accuracy: 0.9006\n",
            "Epoch 40/200\n",
            "21/21 [==============================] - 0s 18ms/step - loss: 0.2691 - accuracy: 0.8916 - val_loss: 0.2656 - val_accuracy: 0.9006\n",
            "Epoch 41/200\n",
            "21/21 [==============================] - 0s 18ms/step - loss: 0.2654 - accuracy: 0.8924 - val_loss: 0.2634 - val_accuracy: 0.9006\n",
            "Epoch 42/200\n",
            "21/21 [==============================] - 0s 18ms/step - loss: 0.2628 - accuracy: 0.8924 - val_loss: 0.2621 - val_accuracy: 0.9006\n",
            "Epoch 43/200\n",
            "21/21 [==============================] - 0s 18ms/step - loss: 0.2614 - accuracy: 0.8924 - val_loss: 0.2621 - val_accuracy: 0.9035\n",
            "Epoch 44/200\n",
            "21/21 [==============================] - 0s 18ms/step - loss: 0.2592 - accuracy: 0.8924 - val_loss: 0.2622 - val_accuracy: 0.9006\n",
            "Epoch 45/200\n",
            "21/21 [==============================] - 0s 18ms/step - loss: 0.2579 - accuracy: 0.8931 - val_loss: 0.2607 - val_accuracy: 0.9006\n",
            "Epoch 46/200\n",
            "21/21 [==============================] - 0s 18ms/step - loss: 0.2568 - accuracy: 0.8931 - val_loss: 0.2624 - val_accuracy: 0.9006\n",
            "Epoch 47/200\n",
            "21/21 [==============================] - 0s 18ms/step - loss: 0.2571 - accuracy: 0.8931 - val_loss: 0.2629 - val_accuracy: 0.9006\n",
            "Epoch 48/200\n",
            "21/21 [==============================] - 0s 18ms/step - loss: 0.2545 - accuracy: 0.8931 - val_loss: 0.2613 - val_accuracy: 0.9006\n",
            "Epoch 49/200\n",
            "21/21 [==============================] - 0s 18ms/step - loss: 0.6906 - accuracy: 0.8151 - val_loss: 0.8051 - val_accuracy: 0.6140\n",
            "Epoch 50/200\n",
            "21/21 [==============================] - 0s 18ms/step - loss: 0.6635 - accuracy: 0.5803 - val_loss: 0.6610 - val_accuracy: 0.6140\n",
            "Epoch 51/200\n",
            "21/21 [==============================] - 0s 18ms/step - loss: 0.6248 - accuracy: 0.6466 - val_loss: 0.6398 - val_accuracy: 0.6140\n",
            "Epoch 52/200\n",
            "21/21 [==============================] - 0s 18ms/step - loss: 0.6143 - accuracy: 0.6466 - val_loss: 0.6236 - val_accuracy: 0.6140\n",
            "Epoch 53/200\n",
            "21/21 [==============================] - 0s 18ms/step - loss: 0.5951 - accuracy: 0.6466 - val_loss: 0.6063 - val_accuracy: 0.6140\n",
            "Epoch 54/200\n",
            "21/21 [==============================] - 0s 18ms/step - loss: 0.5698 - accuracy: 0.6638 - val_loss: 0.5701 - val_accuracy: 0.8509\n",
            "Epoch 55/200\n",
            "21/21 [==============================] - 0s 18ms/step - loss: 0.5345 - accuracy: 0.7769 - val_loss: 0.5250 - val_accuracy: 0.6871\n",
            "Epoch 56/200\n",
            "21/21 [==============================] - 0s 18ms/step - loss: 0.4558 - accuracy: 0.7886 - val_loss: 0.3892 - val_accuracy: 0.8567\n",
            "Epoch 57/200\n",
            "21/21 [==============================] - 0s 18ms/step - loss: 0.3579 - accuracy: 0.8502 - val_loss: 0.3848 - val_accuracy: 0.8246\n",
            "Epoch 58/200\n",
            "21/21 [==============================] - 0s 18ms/step - loss: 0.3477 - accuracy: 0.8565 - val_loss: 0.3357 - val_accuracy: 0.8567\n",
            "Epoch 59/200\n",
            "21/21 [==============================] - 0s 18ms/step - loss: 0.3307 - accuracy: 0.8604 - val_loss: 0.3393 - val_accuracy: 0.8246\n",
            "Epoch 60/200\n",
            "21/21 [==============================] - 0s 18ms/step - loss: 0.3328 - accuracy: 0.8674 - val_loss: 0.3263 - val_accuracy: 0.8333\n",
            "Epoch 61/200\n",
            "21/21 [==============================] - 0s 18ms/step - loss: 0.3083 - accuracy: 0.8760 - val_loss: 0.3082 - val_accuracy: 0.8567\n",
            "Epoch 62/200\n",
            "21/21 [==============================] - 0s 18ms/step - loss: 0.3054 - accuracy: 0.8612 - val_loss: 0.2942 - val_accuracy: 0.8918\n",
            "Epoch 63/200\n",
            "21/21 [==============================] - 0s 18ms/step - loss: 0.2912 - accuracy: 0.8885 - val_loss: 0.2881 - val_accuracy: 0.8860\n",
            "Epoch 64/200\n",
            "21/21 [==============================] - 0s 18ms/step - loss: 0.2792 - accuracy: 0.8892 - val_loss: 0.2740 - val_accuracy: 0.8918\n",
            "Epoch 65/200\n",
            "21/21 [==============================] - 0s 18ms/step - loss: 0.2776 - accuracy: 0.8916 - val_loss: 0.2757 - val_accuracy: 0.8918\n",
            "Epoch 66/200\n",
            "21/21 [==============================] - 0s 18ms/step - loss: 0.2739 - accuracy: 0.8931 - val_loss: 0.2693 - val_accuracy: 0.8830\n",
            "Epoch 67/200\n",
            "21/21 [==============================] - 0s 18ms/step - loss: 0.2789 - accuracy: 0.8892 - val_loss: 0.2692 - val_accuracy: 0.8889\n",
            "Epoch 68/200\n",
            "21/21 [==============================] - 0s 18ms/step - loss: 0.2695 - accuracy: 0.8939 - val_loss: 0.2652 - val_accuracy: 0.8977\n",
            "Epoch 69/200\n",
            "21/21 [==============================] - 0s 18ms/step - loss: 0.2650 - accuracy: 0.8939 - val_loss: 0.2621 - val_accuracy: 0.8977\n",
            "Epoch 70/200\n",
            "21/21 [==============================] - 0s 18ms/step - loss: 0.4280 - accuracy: 0.7621 - val_loss: 0.3497 - val_accuracy: 0.8567\n",
            "Epoch 71/200\n",
            "21/21 [==============================] - 0s 18ms/step - loss: 0.5001 - accuracy: 0.7215 - val_loss: 0.6737 - val_accuracy: 0.6345\n",
            "Epoch 72/200\n",
            "21/21 [==============================] - 0s 18ms/step - loss: 0.5665 - accuracy: 0.6942 - val_loss: 0.4149 - val_accuracy: 0.8538\n",
            "Epoch 73/200\n",
            "21/21 [==============================] - 0s 18ms/step - loss: 0.3819 - accuracy: 0.8409 - val_loss: 0.3565 - val_accuracy: 0.8509\n",
            "Epoch 74/200\n",
            "21/21 [==============================] - 0s 18ms/step - loss: 0.3473 - accuracy: 0.8495 - val_loss: 0.3285 - val_accuracy: 0.8509\n",
            "Epoch 75/200\n",
            "21/21 [==============================] - 0s 18ms/step - loss: 0.3233 - accuracy: 0.8705 - val_loss: 0.3086 - val_accuracy: 0.8596\n",
            "Epoch 76/200\n",
            "21/21 [==============================] - 0s 18ms/step - loss: 0.3121 - accuracy: 0.8619 - val_loss: 0.2977 - val_accuracy: 0.8626\n",
            "Epoch 77/200\n",
            "21/21 [==============================] - 0s 18ms/step - loss: 0.2989 - accuracy: 0.8807 - val_loss: 0.2845 - val_accuracy: 0.9006\n",
            "Epoch 78/200\n",
            "21/21 [==============================] - 0s 18ms/step - loss: 0.2953 - accuracy: 0.8604 - val_loss: 0.2853 - val_accuracy: 0.8626\n",
            "Epoch 79/200\n",
            "21/21 [==============================] - 0s 18ms/step - loss: 0.2868 - accuracy: 0.8861 - val_loss: 0.2771 - val_accuracy: 0.8713\n",
            "Epoch 80/200\n",
            "21/21 [==============================] - 0s 18ms/step - loss: 0.2845 - accuracy: 0.8853 - val_loss: 0.2723 - val_accuracy: 0.9006\n",
            "Epoch 81/200\n",
            "21/21 [==============================] - 0s 18ms/step - loss: 0.2806 - accuracy: 0.8939 - val_loss: 0.2718 - val_accuracy: 0.9006\n",
            "Epoch 82/200\n",
            "21/21 [==============================] - 0s 18ms/step - loss: 0.2899 - accuracy: 0.8635 - val_loss: 0.2705 - val_accuracy: 0.9006\n",
            "Epoch 83/200\n",
            "21/21 [==============================] - 0s 18ms/step - loss: 0.2770 - accuracy: 0.8846 - val_loss: 0.2688 - val_accuracy: 0.9006\n",
            "Epoch 84/200\n",
            "21/21 [==============================] - 0s 18ms/step - loss: 0.2733 - accuracy: 0.8947 - val_loss: 0.2684 - val_accuracy: 0.9006\n",
            "Epoch 85/200\n",
            "21/21 [==============================] - 0s 18ms/step - loss: 0.2707 - accuracy: 0.8947 - val_loss: 0.2666 - val_accuracy: 0.9006\n",
            "Epoch 86/200\n",
            "21/21 [==============================] - 0s 18ms/step - loss: 0.2693 - accuracy: 0.8947 - val_loss: 0.2653 - val_accuracy: 0.9006\n",
            "Epoch 87/200\n",
            "21/21 [==============================] - 0s 18ms/step - loss: 0.2663 - accuracy: 0.8947 - val_loss: 0.2645 - val_accuracy: 0.9006\n",
            "Epoch 88/200\n",
            "21/21 [==============================] - 0s 18ms/step - loss: 0.2656 - accuracy: 0.8947 - val_loss: 0.2635 - val_accuracy: 0.9006\n",
            "Epoch 89/200\n",
            "21/21 [==============================] - 0s 18ms/step - loss: 0.2671 - accuracy: 0.8947 - val_loss: 0.2638 - val_accuracy: 0.9035\n",
            "Epoch 90/200\n",
            "21/21 [==============================] - 0s 18ms/step - loss: 0.2644 - accuracy: 0.8955 - val_loss: 0.2635 - val_accuracy: 0.9035\n",
            "Epoch 91/200\n",
            "21/21 [==============================] - 0s 18ms/step - loss: 0.2643 - accuracy: 0.8947 - val_loss: 0.2608 - val_accuracy: 0.9064\n",
            "Epoch 92/200\n",
            "21/21 [==============================] - 0s 18ms/step - loss: 0.2634 - accuracy: 0.8939 - val_loss: 0.2632 - val_accuracy: 0.9006\n",
            "Epoch 93/200\n",
            "21/21 [==============================] - 0s 18ms/step - loss: 0.2606 - accuracy: 0.8939 - val_loss: 0.2616 - val_accuracy: 0.9035\n",
            "Epoch 94/200\n",
            "21/21 [==============================] - 0s 18ms/step - loss: 0.3881 - accuracy: 0.8253 - val_loss: 0.3168 - val_accuracy: 0.8830\n",
            "Epoch 95/200\n",
            "21/21 [==============================] - 0s 18ms/step - loss: 0.3197 - accuracy: 0.8456 - val_loss: 0.3221 - val_accuracy: 0.8304\n",
            "Epoch 96/200\n",
            "21/21 [==============================] - 0s 18ms/step - loss: 0.3076 - accuracy: 0.8674 - val_loss: 0.3082 - val_accuracy: 0.8918\n",
            "Epoch 97/200\n",
            "21/21 [==============================] - 0s 18ms/step - loss: 0.2933 - accuracy: 0.8892 - val_loss: 0.2939 - val_accuracy: 0.8918\n",
            "Epoch 98/200\n",
            "21/21 [==============================] - 0s 18ms/step - loss: 0.2832 - accuracy: 0.8916 - val_loss: 0.2858 - val_accuracy: 0.8918\n",
            "Epoch 99/200\n",
            "21/21 [==============================] - 0s 18ms/step - loss: 0.2799 - accuracy: 0.8853 - val_loss: 0.2799 - val_accuracy: 0.8889\n",
            "Epoch 100/200\n",
            "21/21 [==============================] - 0s 18ms/step - loss: 0.2732 - accuracy: 0.8924 - val_loss: 0.2741 - val_accuracy: 0.8889\n",
            "Epoch 101/200\n",
            "21/21 [==============================] - 0s 18ms/step - loss: 0.2695 - accuracy: 0.8924 - val_loss: 0.2753 - val_accuracy: 0.8889\n",
            "Epoch 102/200\n",
            "21/21 [==============================] - 0s 18ms/step - loss: 0.2672 - accuracy: 0.8924 - val_loss: 0.2732 - val_accuracy: 0.8889\n",
            "Epoch 103/200\n",
            "21/21 [==============================] - 0s 19ms/step - loss: 0.2663 - accuracy: 0.8916 - val_loss: 0.2700 - val_accuracy: 0.8918\n",
            "Epoch 104/200\n",
            "21/21 [==============================] - 0s 18ms/step - loss: 0.2662 - accuracy: 0.8924 - val_loss: 0.2672 - val_accuracy: 0.8918\n",
            "Epoch 105/200\n",
            "21/21 [==============================] - 0s 18ms/step - loss: 0.2649 - accuracy: 0.8924 - val_loss: 0.2699 - val_accuracy: 0.8889\n",
            "Epoch 106/200\n",
            "21/21 [==============================] - 0s 18ms/step - loss: 0.2620 - accuracy: 0.8924 - val_loss: 0.2685 - val_accuracy: 0.8918\n",
            "Epoch 107/200\n",
            "21/21 [==============================] - 0s 18ms/step - loss: 0.2621 - accuracy: 0.8931 - val_loss: 0.2677 - val_accuracy: 0.8889\n",
            "Epoch 108/200\n",
            "21/21 [==============================] - 0s 18ms/step - loss: 0.2613 - accuracy: 0.8916 - val_loss: 0.2708 - val_accuracy: 0.8889\n",
            "Epoch 109/200\n",
            "21/21 [==============================] - 0s 18ms/step - loss: 0.2610 - accuracy: 0.8947 - val_loss: 0.2619 - val_accuracy: 0.8977\n",
            "Epoch 110/200\n",
            "21/21 [==============================] - 0s 18ms/step - loss: 0.2588 - accuracy: 0.8947 - val_loss: 0.2677 - val_accuracy: 0.8889\n",
            "Epoch 111/200\n",
            "21/21 [==============================] - 0s 18ms/step - loss: 0.2585 - accuracy: 0.8924 - val_loss: 0.2699 - val_accuracy: 0.8889\n",
            "Epoch 112/200\n",
            "21/21 [==============================] - 0s 18ms/step - loss: 0.2576 - accuracy: 0.8931 - val_loss: 0.2643 - val_accuracy: 0.8918\n",
            "Epoch 113/200\n",
            "21/21 [==============================] - 0s 18ms/step - loss: 0.2543 - accuracy: 0.8939 - val_loss: 0.2603 - val_accuracy: 0.8977\n",
            "Epoch 114/200\n",
            "21/21 [==============================] - 0s 18ms/step - loss: 0.2561 - accuracy: 0.8939 - val_loss: 0.2627 - val_accuracy: 0.8947\n",
            "Epoch 115/200\n",
            "21/21 [==============================] - 0s 18ms/step - loss: 0.2544 - accuracy: 0.8947 - val_loss: 0.2630 - val_accuracy: 0.8918\n",
            "Epoch 116/200\n",
            "21/21 [==============================] - 0s 18ms/step - loss: 0.2551 - accuracy: 0.8955 - val_loss: 0.2628 - val_accuracy: 0.8947\n",
            "Epoch 117/200\n",
            "21/21 [==============================] - 0s 18ms/step - loss: 0.2532 - accuracy: 0.8947 - val_loss: 0.2618 - val_accuracy: 0.9006\n",
            "Epoch 118/200\n",
            "21/21 [==============================] - 0s 18ms/step - loss: 0.2513 - accuracy: 0.8963 - val_loss: 0.2598 - val_accuracy: 0.9035\n",
            "Epoch 119/200\n",
            "21/21 [==============================] - 0s 19ms/step - loss: 0.2514 - accuracy: 0.8955 - val_loss: 0.2614 - val_accuracy: 0.9006\n",
            "Epoch 120/200\n",
            "21/21 [==============================] - 0s 18ms/step - loss: 0.2512 - accuracy: 0.8963 - val_loss: 0.2605 - val_accuracy: 0.9064\n",
            "Epoch 121/200\n",
            "21/21 [==============================] - 0s 18ms/step - loss: 0.2508 - accuracy: 0.8955 - val_loss: 0.2640 - val_accuracy: 0.8977\n",
            "Epoch 122/200\n",
            "21/21 [==============================] - 0s 18ms/step - loss: 0.2761 - accuracy: 0.8814 - val_loss: 0.2704 - val_accuracy: 0.8947\n",
            "Epoch 123/200\n",
            "21/21 [==============================] - 0s 18ms/step - loss: 0.2577 - accuracy: 0.8939 - val_loss: 0.2607 - val_accuracy: 0.9006\n",
            "Epoch 124/200\n",
            "21/21 [==============================] - 0s 18ms/step - loss: 0.2577 - accuracy: 0.8939 - val_loss: 0.2649 - val_accuracy: 0.8947\n",
            "Epoch 125/200\n",
            "21/21 [==============================] - 0s 18ms/step - loss: 0.2546 - accuracy: 0.8955 - val_loss: 0.2603 - val_accuracy: 0.9064\n",
            "Epoch 126/200\n",
            "21/21 [==============================] - 0s 18ms/step - loss: 0.2516 - accuracy: 0.8955 - val_loss: 0.2624 - val_accuracy: 0.9035\n",
            "Epoch 127/200\n",
            "21/21 [==============================] - 0s 18ms/step - loss: 0.2515 - accuracy: 0.8955 - val_loss: 0.2611 - val_accuracy: 0.9064\n",
            "Epoch 128/200\n",
            "21/21 [==============================] - 0s 18ms/step - loss: 0.2513 - accuracy: 0.8970 - val_loss: 0.2613 - val_accuracy: 0.9064\n",
            "Epoch 129/200\n",
            "21/21 [==============================] - 0s 18ms/step - loss: 0.2509 - accuracy: 0.8955 - val_loss: 0.2598 - val_accuracy: 0.9064\n",
            "Epoch 130/200\n",
            "21/21 [==============================] - 0s 18ms/step - loss: 0.2501 - accuracy: 0.8955 - val_loss: 0.2615 - val_accuracy: 0.9035\n",
            "Epoch 131/200\n",
            "21/21 [==============================] - 0s 18ms/step - loss: 0.2496 - accuracy: 0.8955 - val_loss: 0.2615 - val_accuracy: 0.9064\n",
            "Epoch 132/200\n",
            "21/21 [==============================] - 0s 18ms/step - loss: 0.2498 - accuracy: 0.8955 - val_loss: 0.2609 - val_accuracy: 0.9064\n",
            "Epoch 133/200\n",
            "21/21 [==============================] - 0s 18ms/step - loss: 0.2495 - accuracy: 0.8955 - val_loss: 0.2622 - val_accuracy: 0.9035\n",
            "Epoch 134/200\n",
            "21/21 [==============================] - 0s 18ms/step - loss: 0.2492 - accuracy: 0.8955 - val_loss: 0.2649 - val_accuracy: 0.8977\n",
            "Epoch 135/200\n",
            "21/21 [==============================] - 0s 19ms/step - loss: 0.2509 - accuracy: 0.8970 - val_loss: 0.2631 - val_accuracy: 0.9035\n",
            "Epoch 136/200\n",
            "21/21 [==============================] - 0s 18ms/step - loss: 0.2483 - accuracy: 0.8963 - val_loss: 0.2628 - val_accuracy: 0.9035\n",
            "Epoch 137/200\n",
            "21/21 [==============================] - 0s 18ms/step - loss: 0.2486 - accuracy: 0.8955 - val_loss: 0.2630 - val_accuracy: 0.9035\n",
            "Epoch 138/200\n",
            "21/21 [==============================] - 0s 18ms/step - loss: 0.2480 - accuracy: 0.8947 - val_loss: 0.2668 - val_accuracy: 0.8947\n",
            "Epoch 139/200\n",
            "21/21 [==============================] - 0s 18ms/step - loss: 0.2503 - accuracy: 0.8963 - val_loss: 0.2637 - val_accuracy: 0.9006\n",
            "Epoch 140/200\n",
            "21/21 [==============================] - 0s 18ms/step - loss: 0.2515 - accuracy: 0.8963 - val_loss: 0.2614 - val_accuracy: 0.9006\n",
            "Epoch 141/200\n",
            "21/21 [==============================] - 0s 18ms/step - loss: 0.2473 - accuracy: 0.8955 - val_loss: 0.2661 - val_accuracy: 0.9006\n",
            "Epoch 142/200\n",
            "21/21 [==============================] - 0s 18ms/step - loss: 0.2482 - accuracy: 0.8970 - val_loss: 0.2626 - val_accuracy: 0.9006\n",
            "Epoch 143/200\n",
            "21/21 [==============================] - 0s 18ms/step - loss: 0.2478 - accuracy: 0.8963 - val_loss: 0.2628 - val_accuracy: 0.9006\n",
            "Epoch 144/200\n",
            "21/21 [==============================] - 0s 18ms/step - loss: 0.2482 - accuracy: 0.8955 - val_loss: 0.2639 - val_accuracy: 0.9006\n",
            "Epoch 145/200\n",
            "21/21 [==============================] - 0s 18ms/step - loss: 0.2485 - accuracy: 0.8955 - val_loss: 0.2658 - val_accuracy: 0.9006\n",
            "Epoch 146/200\n",
            "21/21 [==============================] - 0s 18ms/step - loss: 0.2531 - accuracy: 0.8963 - val_loss: 0.2656 - val_accuracy: 0.9064\n",
            "Epoch 147/200\n",
            "21/21 [==============================] - 0s 18ms/step - loss: 0.2507 - accuracy: 0.8978 - val_loss: 0.2650 - val_accuracy: 0.9064\n",
            "Epoch 148/200\n",
            "21/21 [==============================] - 0s 18ms/step - loss: 0.2482 - accuracy: 0.8955 - val_loss: 0.2618 - val_accuracy: 0.9064\n",
            "Epoch 149/200\n",
            "21/21 [==============================] - 0s 18ms/step - loss: 0.2470 - accuracy: 0.8955 - val_loss: 0.2633 - val_accuracy: 0.9064\n",
            "Epoch 150/200\n",
            "21/21 [==============================] - 0s 18ms/step - loss: 0.2480 - accuracy: 0.8955 - val_loss: 0.2639 - val_accuracy: 0.9064\n",
            "Epoch 151/200\n",
            "21/21 [==============================] - 0s 19ms/step - loss: 0.2467 - accuracy: 0.8955 - val_loss: 0.2634 - val_accuracy: 0.9064\n",
            "Epoch 152/200\n",
            "21/21 [==============================] - 0s 18ms/step - loss: 0.2484 - accuracy: 0.8955 - val_loss: 0.2646 - val_accuracy: 0.9064\n",
            "Epoch 153/200\n",
            "21/21 [==============================] - 0s 18ms/step - loss: 0.2950 - accuracy: 0.8783 - val_loss: 0.3890 - val_accuracy: 0.8772\n",
            "Epoch 154/200\n",
            "21/21 [==============================] - 0s 18ms/step - loss: 0.6283 - accuracy: 0.7605 - val_loss: 0.5443 - val_accuracy: 0.7193\n",
            "Epoch 155/200\n",
            "21/21 [==============================] - 0s 18ms/step - loss: 0.4252 - accuracy: 0.7652 - val_loss: 0.4569 - val_accuracy: 0.8012\n",
            "Epoch 156/200\n",
            "21/21 [==============================] - 0s 18ms/step - loss: 0.3816 - accuracy: 0.8261 - val_loss: 0.3418 - val_accuracy: 0.8392\n",
            "Epoch 157/200\n",
            "21/21 [==============================] - 0s 18ms/step - loss: 0.3359 - accuracy: 0.8502 - val_loss: 0.3124 - val_accuracy: 0.8655\n",
            "Epoch 158/200\n",
            "21/21 [==============================] - 0s 18ms/step - loss: 0.3117 - accuracy: 0.8526 - val_loss: 0.2965 - val_accuracy: 0.8596\n",
            "Epoch 159/200\n",
            "21/21 [==============================] - 0s 18ms/step - loss: 0.2985 - accuracy: 0.8573 - val_loss: 0.2876 - val_accuracy: 0.8918\n",
            "Epoch 160/200\n",
            "21/21 [==============================] - 0s 18ms/step - loss: 0.2926 - accuracy: 0.8807 - val_loss: 0.2815 - val_accuracy: 0.8889\n",
            "Epoch 161/200\n",
            "21/21 [==============================] - 0s 19ms/step - loss: 0.2829 - accuracy: 0.8939 - val_loss: 0.2741 - val_accuracy: 0.8889\n",
            "Epoch 162/200\n",
            "21/21 [==============================] - 0s 18ms/step - loss: 0.2730 - accuracy: 0.8939 - val_loss: 0.2822 - val_accuracy: 0.8567\n",
            "Epoch 163/200\n",
            "21/21 [==============================] - 0s 18ms/step - loss: 0.2758 - accuracy: 0.8775 - val_loss: 0.2758 - val_accuracy: 0.8889\n",
            "Epoch 164/200\n",
            "21/21 [==============================] - 0s 18ms/step - loss: 0.2693 - accuracy: 0.8931 - val_loss: 0.2690 - val_accuracy: 0.8889\n",
            "Epoch 165/200\n",
            "21/21 [==============================] - 0s 18ms/step - loss: 0.2635 - accuracy: 0.8924 - val_loss: 0.2686 - val_accuracy: 0.8947\n",
            "Epoch 166/200\n",
            "21/21 [==============================] - 0s 18ms/step - loss: 0.2628 - accuracy: 0.8939 - val_loss: 0.2778 - val_accuracy: 0.8596\n",
            "Epoch 167/200\n",
            "21/21 [==============================] - 0s 19ms/step - loss: 0.2645 - accuracy: 0.8885 - val_loss: 0.2664 - val_accuracy: 0.8918\n",
            "Epoch 168/200\n",
            "21/21 [==============================] - 0s 18ms/step - loss: 0.2583 - accuracy: 0.8939 - val_loss: 0.2679 - val_accuracy: 0.8918\n",
            "Epoch 169/200\n",
            "21/21 [==============================] - 0s 18ms/step - loss: 0.2581 - accuracy: 0.8939 - val_loss: 0.2635 - val_accuracy: 0.9006\n",
            "Epoch 170/200\n",
            "21/21 [==============================] - 0s 18ms/step - loss: 0.2543 - accuracy: 0.8947 - val_loss: 0.2654 - val_accuracy: 0.8977\n",
            "Epoch 171/200\n",
            "21/21 [==============================] - 0s 18ms/step - loss: 0.2533 - accuracy: 0.8947 - val_loss: 0.2641 - val_accuracy: 0.8977\n",
            "Epoch 172/200\n",
            "21/21 [==============================] - 0s 18ms/step - loss: 0.2523 - accuracy: 0.8963 - val_loss: 0.2636 - val_accuracy: 0.9006\n",
            "Epoch 173/200\n",
            "21/21 [==============================] - 0s 18ms/step - loss: 0.2520 - accuracy: 0.8955 - val_loss: 0.2639 - val_accuracy: 0.9006\n",
            "Epoch 174/200\n",
            "21/21 [==============================] - 0s 19ms/step - loss: 0.2521 - accuracy: 0.8955 - val_loss: 0.2701 - val_accuracy: 0.8977\n",
            "Epoch 175/200\n",
            "21/21 [==============================] - 0s 18ms/step - loss: 0.2513 - accuracy: 0.8955 - val_loss: 0.2641 - val_accuracy: 0.9006\n",
            "Epoch 176/200\n",
            "21/21 [==============================] - 0s 18ms/step - loss: 0.2536 - accuracy: 0.8963 - val_loss: 0.2618 - val_accuracy: 0.9064\n",
            "Epoch 177/200\n",
            "21/21 [==============================] - 0s 18ms/step - loss: 0.2593 - accuracy: 0.8822 - val_loss: 0.2620 - val_accuracy: 0.9064\n",
            "Epoch 178/200\n",
            "21/21 [==============================] - 0s 18ms/step - loss: 0.2516 - accuracy: 0.8947 - val_loss: 0.2643 - val_accuracy: 0.9064\n",
            "Epoch 179/200\n",
            "21/21 [==============================] - 0s 18ms/step - loss: 0.2497 - accuracy: 0.8963 - val_loss: 0.2670 - val_accuracy: 0.8977\n",
            "Epoch 180/200\n",
            "21/21 [==============================] - 0s 18ms/step - loss: 0.2489 - accuracy: 0.8947 - val_loss: 0.2629 - val_accuracy: 0.9064\n",
            "Epoch 181/200\n",
            "21/21 [==============================] - 0s 18ms/step - loss: 0.2487 - accuracy: 0.8955 - val_loss: 0.2626 - val_accuracy: 0.9064\n",
            "Epoch 182/200\n",
            "21/21 [==============================] - 0s 18ms/step - loss: 0.2482 - accuracy: 0.8955 - val_loss: 0.2644 - val_accuracy: 0.9064\n",
            "Epoch 183/200\n",
            "21/21 [==============================] - 0s 19ms/step - loss: 0.2477 - accuracy: 0.8955 - val_loss: 0.2645 - val_accuracy: 0.9064\n",
            "Epoch 184/200\n",
            "21/21 [==============================] - 0s 18ms/step - loss: 0.2492 - accuracy: 0.8955 - val_loss: 0.2656 - val_accuracy: 0.9064\n",
            "Epoch 185/200\n",
            "21/21 [==============================] - 0s 18ms/step - loss: 0.2506 - accuracy: 0.8947 - val_loss: 0.2689 - val_accuracy: 0.9006\n",
            "Epoch 186/200\n",
            "21/21 [==============================] - 0s 18ms/step - loss: 0.2481 - accuracy: 0.8963 - val_loss: 0.2648 - val_accuracy: 0.9064\n",
            "Epoch 187/200\n",
            "21/21 [==============================] - 0s 18ms/step - loss: 0.2471 - accuracy: 0.8955 - val_loss: 0.2636 - val_accuracy: 0.9064\n",
            "Epoch 188/200\n",
            "21/21 [==============================] - 0s 18ms/step - loss: 0.2525 - accuracy: 0.8963 - val_loss: 0.2683 - val_accuracy: 0.9006\n",
            "Epoch 189/200\n",
            "21/21 [==============================] - 0s 19ms/step - loss: 0.2512 - accuracy: 0.8963 - val_loss: 0.2628 - val_accuracy: 0.9035\n",
            "Epoch 190/200\n",
            "21/21 [==============================] - 0s 18ms/step - loss: 0.2495 - accuracy: 0.8955 - val_loss: 0.2691 - val_accuracy: 0.9006\n",
            "Epoch 191/200\n",
            "21/21 [==============================] - 0s 18ms/step - loss: 0.2461 - accuracy: 0.8963 - val_loss: 0.2609 - val_accuracy: 0.9035\n",
            "Epoch 192/200\n",
            "21/21 [==============================] - 0s 18ms/step - loss: 0.2484 - accuracy: 0.8963 - val_loss: 0.2644 - val_accuracy: 0.9035\n",
            "Epoch 193/200\n",
            "21/21 [==============================] - 0s 18ms/step - loss: 0.2465 - accuracy: 0.8963 - val_loss: 0.2617 - val_accuracy: 0.9064\n",
            "Epoch 194/200\n",
            "21/21 [==============================] - 0s 18ms/step - loss: 0.2476 - accuracy: 0.8955 - val_loss: 0.2616 - val_accuracy: 0.9064\n",
            "Epoch 195/200\n",
            "21/21 [==============================] - 0s 18ms/step - loss: 0.2462 - accuracy: 0.8963 - val_loss: 0.2637 - val_accuracy: 0.9035\n",
            "Epoch 196/200\n",
            "21/21 [==============================] - 0s 18ms/step - loss: 0.2463 - accuracy: 0.8963 - val_loss: 0.2628 - val_accuracy: 0.9064\n",
            "Epoch 197/200\n",
            "21/21 [==============================] - 0s 18ms/step - loss: 0.2464 - accuracy: 0.8955 - val_loss: 0.2635 - val_accuracy: 0.9035\n",
            "Epoch 198/200\n",
            "21/21 [==============================] - 0s 18ms/step - loss: 0.2462 - accuracy: 0.8955 - val_loss: 0.2633 - val_accuracy: 0.9035\n",
            "Epoch 199/200\n",
            "21/21 [==============================] - 0s 19ms/step - loss: 0.2464 - accuracy: 0.8963 - val_loss: 0.2650 - val_accuracy: 0.9035\n",
            "Epoch 200/200\n",
            "21/21 [==============================] - 0s 18ms/step - loss: 0.2461 - accuracy: 0.8955 - val_loss: 0.2625 - val_accuracy: 0.9064\n",
            "Accuracy: 90.64%\n"
          ]
        }
      ],
      "source": [
        "# create the model\n",
        "import time\n",
        "start = time.perf_counter()\n",
        "embedding_vecor_length = 32\n",
        "model = Sequential()\n",
        "model.add(Embedding(sensordata_length, embedding_vecor_length, input_length=max_review_length))\n",
        "model.add(LSTM(100))\n",
        "model.add(Dense(1, activation='sigmoid'))\n",
        "model.compile(loss='binary_crossentropy', optimizer='adam', metrics=['accuracy'])\n",
        "print(model.summary())\n",
        "#history = model.fit(x_train, y_train, epochs=5, batch_size=64)\n",
        "history = model.fit(x_train, y_train, validation_data=(x_valid, y_valid), epochs=200, batch_size=64)\n",
        "\n",
        "elapsed = time.perf_counter() - start\n",
        "print('Abgelaufene Zeit in %.3f seconds.' % elapsed)\n",
        "# evaluate the model with the test data \n",
        "scores = model.evaluate(x_valid, y_valid, verbose=0)\n",
        "\n",
        "model.save(\"report_exec_times_model.h5\")\n",
        "print(\"Accuracy: %.2f%%\" % (scores[1]*100))"
      ]
    },
    {
      "cell_type": "markdown",
      "metadata": {
        "id": "CRJD2mMHsnvl"
      },
      "source": [
        "### Plot das Ergebnis des Training mit 100 Smart Neuron ohne Dropout"
      ]
    },
    {
      "cell_type": "code",
      "execution_count": 87,
      "metadata": {
        "id": "X1doGtEGstCR",
        "colab": {
          "base_uri": "https://localhost:8080/",
          "height": 573
        },
        "outputId": "79793f1d-ee7e-47a9-d976-07abf90c3941"
      },
      "outputs": [
        {
          "output_type": "display_data",
          "data": {
            "text/plain": [
              "<Figure size 432x288 with 1 Axes>"
            ],
            "image/png": "[encoded data removed]"
          },
          "metadata": {}
        },
        {
          "output_type": "display_data",
          "data": {
            "text/plain": [
              "<Figure size 432x288 with 1 Axes>"
            ],
            "image/png": "[encoded data removed]"
          },
          "metadata": {}
        }
      ],
      "source": [
        "activation = 'sigmoid'\n",
        "loss = 'binary_crossentropy'\n",
        "optimizer = 'Adam'\n",
        "metrics = 'accuracy'\n",
        "titledetails =  optimizer, loss, activation\n",
        "titledetails = (', '.join(titledetails))\n",
        "\n",
        "# Plot training & validation accuracy values\n",
        "plt.plot(history.history['accuracy'])\n",
        "plt.plot(history.history['val_accuracy'])\n",
        "plt.title('accuracy - '+ titledetails)\n",
        "plt.ylabel('Accuracy')\n",
        "plt.xlabel('Epoch')\n",
        "plt.legend(['Train', 'Val'], loc='lower left')\n",
        "plt.show()\n",
        "\n",
        "# Plot training & validation loss values\n",
        "plt.plot(history.history['loss'])\n",
        "plt.plot(history.history['val_loss'])\n",
        "plt.title('Model loss - ' + titledetails)\n",
        "plt.ylabel('Loss')\n",
        "plt.xlabel('Epoch')\n",
        "plt.legend(['Train', 'Val'], loc='upper left')\n",
        "plt.show()"
      ]
    },
    {
      "cell_type": "markdown",
      "metadata": {
        "id": "y6FBRNoes59d"
      },
      "source": [
        "### Einfaches LSTM für die Sequenzklassifizierung mit Dropout mit dem LSTM präzise und separat auf die Eingangs- und Rekurrentverbindungen der Speichereinheiten angewendet werden.\n",
        "\n",
        "Keras bietet diese Funktion mit Parametern auf der LSTM-Schicht, dem Dropout zum Konfigurieren des Eingabe-Dropouts und recurrent_dropout zum Konfigurieren des wiederkehrenden Dropouts."
      ]
    },
    {
      "cell_type": "code",
      "execution_count": 100,
      "metadata": {
        "id": "hhVUFyHys5Ut",
        "colab": {
          "base_uri": "https://localhost:8080/"
        },
        "outputId": "bccb2015-8888-45a1-bf78-f9ea00be5175"
      },
      "outputs": [
        {
          "output_type": "stream",
          "name": "stderr",
          "text": [
            "WARNING:tensorflow:Layer lstm will not use cuDNN kernels since it doesn't meet the criteria. It will use a generic GPU kernel as fallback when running on GPU.\n"
          ]
        },
        {
          "output_type": "stream",
          "name": "stdout",
          "text": [
            "Model: \"sequential\"\n",
            "_________________________________________________________________\n",
            " Layer (type)                Output Shape              Param #   \n",
            "=================================================================\n",
            " embedding (Embedding)       (None, 237, 32)           76032     \n",
            "                                                                 \n",
            " lstm (LSTM)                 (None, 100)               53200     \n",
            "                                                                 \n",
            " dense (Dense)               (None, 1)                 101       \n",
            "                                                                 \n",
            "=================================================================\n",
            "Total params: 129,333\n",
            "Trainable params: 129,333\n",
            "Non-trainable params: 0\n",
            "_________________________________________________________________\n",
            "None\n",
            "Epoch 1/200\n",
            "22/22 [==============================] - 22s 695ms/step - loss: 0.6563 - accuracy: 0.6287 - val_loss: 0.6514 - val_accuracy: 0.6140\n",
            "Epoch 2/200\n",
            "22/22 [==============================] - 15s 691ms/step - loss: 0.6217 - accuracy: 0.6455 - val_loss: 0.6187 - val_accuracy: 0.6140\n",
            "Epoch 3/200\n",
            "22/22 [==============================] - 15s 669ms/step - loss: 0.5374 - accuracy: 0.6981 - val_loss: 0.5100 - val_accuracy: 0.7076\n",
            "Epoch 4/200\n",
            "22/22 [==============================] - 15s 672ms/step - loss: 0.4575 - accuracy: 0.7792 - val_loss: 0.4298 - val_accuracy: 0.8129\n",
            "Epoch 5/200\n",
            "22/22 [==============================] - 15s 693ms/step - loss: 0.4023 - accuracy: 0.8289 - val_loss: 0.3525 - val_accuracy: 0.8392\n",
            "Epoch 6/200\n",
            "22/22 [==============================] - 15s 675ms/step - loss: 0.4161 - accuracy: 0.8319 - val_loss: 0.4025 - val_accuracy: 0.8275\n",
            "Epoch 7/200\n",
            "22/22 [==============================] - 15s 688ms/step - loss: 0.3849 - accuracy: 0.8260 - val_loss: 0.3560 - val_accuracy: 0.8304\n",
            "Epoch 8/200\n",
            "22/22 [==============================] - 15s 678ms/step - loss: 0.3727 - accuracy: 0.8377 - val_loss: 0.3345 - val_accuracy: 0.8450\n",
            "Epoch 9/200\n",
            "22/22 [==============================] - 15s 669ms/step - loss: 0.3404 - accuracy: 0.8458 - val_loss: 0.3101 - val_accuracy: 0.8743\n",
            "Epoch 10/200\n",
            "22/22 [==============================] - 15s 679ms/step - loss: 0.3259 - accuracy: 0.8575 - val_loss: 0.2945 - val_accuracy: 0.8684\n",
            "Epoch 11/200\n",
            "22/22 [==============================] - 15s 676ms/step - loss: 0.3207 - accuracy: 0.8567 - val_loss: 0.2899 - val_accuracy: 0.8684\n",
            "Epoch 12/200\n",
            "22/22 [==============================] - 15s 674ms/step - loss: 0.3039 - accuracy: 0.8560 - val_loss: 0.2720 - val_accuracy: 0.9035\n",
            "Epoch 13/200\n",
            "22/22 [==============================] - 15s 665ms/step - loss: 0.2964 - accuracy: 0.8670 - val_loss: 0.2684 - val_accuracy: 0.9035\n",
            "Epoch 14/200\n",
            "22/22 [==============================] - 15s 669ms/step - loss: 0.2994 - accuracy: 0.8728 - val_loss: 0.2811 - val_accuracy: 0.8684\n",
            "Epoch 15/200\n",
            "22/22 [==============================] - 15s 669ms/step - loss: 0.2949 - accuracy: 0.8684 - val_loss: 0.2621 - val_accuracy: 0.9006\n",
            "Epoch 16/200\n",
            "22/22 [==============================] - 15s 676ms/step - loss: 0.2775 - accuracy: 0.8794 - val_loss: 0.2616 - val_accuracy: 0.9006\n",
            "Epoch 17/200\n",
            "22/22 [==============================] - 15s 673ms/step - loss: 0.2755 - accuracy: 0.8779 - val_loss: 0.2608 - val_accuracy: 0.9006\n",
            "Epoch 18/200\n",
            "22/22 [==============================] - 15s 674ms/step - loss: 0.2718 - accuracy: 0.8845 - val_loss: 0.2608 - val_accuracy: 0.9064\n",
            "Epoch 19/200\n",
            "22/22 [==============================] - 15s 676ms/step - loss: 0.2639 - accuracy: 0.8896 - val_loss: 0.2592 - val_accuracy: 0.9064\n",
            "Epoch 20/200\n",
            "22/22 [==============================] - 15s 685ms/step - loss: 0.2615 - accuracy: 0.8860 - val_loss: 0.2620 - val_accuracy: 0.9064\n",
            "Epoch 21/200\n",
            "22/22 [==============================] - 15s 686ms/step - loss: 0.2664 - accuracy: 0.8882 - val_loss: 0.2583 - val_accuracy: 0.9064\n",
            "Epoch 22/200\n",
            "22/22 [==============================] - 16s 723ms/step - loss: 0.2614 - accuracy: 0.8889 - val_loss: 0.2641 - val_accuracy: 0.9064\n",
            "Epoch 23/200\n",
            "22/22 [==============================] - 15s 685ms/step - loss: 0.2558 - accuracy: 0.8911 - val_loss: 0.2621 - val_accuracy: 0.9064\n",
            "Epoch 24/200\n",
            "22/22 [==============================] - 15s 682ms/step - loss: 0.2555 - accuracy: 0.8904 - val_loss: 0.2611 - val_accuracy: 0.9064\n",
            "Epoch 25/200\n",
            "22/22 [==============================] - 15s 679ms/step - loss: 0.2559 - accuracy: 0.8882 - val_loss: 0.2625 - val_accuracy: 0.9064\n",
            "Epoch 26/200\n",
            "22/22 [==============================] - 15s 682ms/step - loss: 0.2532 - accuracy: 0.8925 - val_loss: 0.2628 - val_accuracy: 0.9064\n",
            "Epoch 27/200\n",
            "22/22 [==============================] - 15s 675ms/step - loss: 0.2540 - accuracy: 0.8904 - val_loss: 0.2602 - val_accuracy: 0.9064\n",
            "Epoch 28/200\n",
            "22/22 [==============================] - 15s 671ms/step - loss: 0.2549 - accuracy: 0.8918 - val_loss: 0.2618 - val_accuracy: 0.9064\n",
            "Epoch 29/200\n",
            "22/22 [==============================] - 15s 677ms/step - loss: 0.2540 - accuracy: 0.8911 - val_loss: 0.2641 - val_accuracy: 0.9064\n",
            "Epoch 30/200\n",
            "22/22 [==============================] - 15s 674ms/step - loss: 0.2521 - accuracy: 0.8925 - val_loss: 0.2626 - val_accuracy: 0.9064\n",
            "Epoch 31/200\n",
            "22/22 [==============================] - 15s 699ms/step - loss: 0.2491 - accuracy: 0.8904 - val_loss: 0.2613 - val_accuracy: 0.9064\n",
            "Epoch 32/200\n",
            "22/22 [==============================] - 16s 712ms/step - loss: 0.2537 - accuracy: 0.8911 - val_loss: 0.2619 - val_accuracy: 0.9064\n",
            "Epoch 33/200\n",
            "22/22 [==============================] - 15s 687ms/step - loss: 0.2528 - accuracy: 0.8918 - val_loss: 0.2608 - val_accuracy: 0.9064\n",
            "Epoch 34/200\n",
            "22/22 [==============================] - 15s 687ms/step - loss: 0.2506 - accuracy: 0.8933 - val_loss: 0.2614 - val_accuracy: 0.9064\n",
            "Epoch 35/200\n",
            "22/22 [==============================] - 15s 673ms/step - loss: 0.2507 - accuracy: 0.8940 - val_loss: 0.2613 - val_accuracy: 0.9064\n",
            "Epoch 36/200\n",
            "22/22 [==============================] - 15s 679ms/step - loss: 0.2549 - accuracy: 0.8896 - val_loss: 0.2599 - val_accuracy: 0.9064\n",
            "Epoch 37/200\n",
            "22/22 [==============================] - 15s 677ms/step - loss: 0.2480 - accuracy: 0.8925 - val_loss: 0.2645 - val_accuracy: 0.9064\n",
            "Epoch 38/200\n",
            "22/22 [==============================] - 15s 682ms/step - loss: 0.2463 - accuracy: 0.8940 - val_loss: 0.2652 - val_accuracy: 0.9064\n",
            "Epoch 39/200\n",
            "22/22 [==============================] - 15s 684ms/step - loss: 0.2504 - accuracy: 0.8918 - val_loss: 0.2629 - val_accuracy: 0.9064\n",
            "Epoch 40/200\n",
            "22/22 [==============================] - 15s 666ms/step - loss: 0.2465 - accuracy: 0.8918 - val_loss: 0.2639 - val_accuracy: 0.9064\n",
            "Epoch 41/200\n",
            "22/22 [==============================] - 15s 673ms/step - loss: 0.2504 - accuracy: 0.8918 - val_loss: 0.2622 - val_accuracy: 0.9064\n",
            "Epoch 42/200\n",
            "22/22 [==============================] - 15s 684ms/step - loss: 0.2500 - accuracy: 0.8925 - val_loss: 0.2597 - val_accuracy: 0.9064\n",
            "Epoch 43/200\n",
            "22/22 [==============================] - 15s 683ms/step - loss: 0.2496 - accuracy: 0.8918 - val_loss: 0.2620 - val_accuracy: 0.9064\n",
            "Epoch 44/200\n",
            "22/22 [==============================] - 15s 677ms/step - loss: 0.2491 - accuracy: 0.8933 - val_loss: 0.2619 - val_accuracy: 0.9064\n",
            "Epoch 45/200\n",
            "22/22 [==============================] - 15s 674ms/step - loss: 0.2484 - accuracy: 0.8918 - val_loss: 0.2653 - val_accuracy: 0.9064\n",
            "Epoch 46/200\n",
            "22/22 [==============================] - 15s 680ms/step - loss: 0.2481 - accuracy: 0.8925 - val_loss: 0.2680 - val_accuracy: 0.9064\n",
            "Epoch 47/200\n",
            "22/22 [==============================] - 15s 681ms/step - loss: 0.2471 - accuracy: 0.8940 - val_loss: 0.2655 - val_accuracy: 0.9064\n",
            "Epoch 48/200\n",
            "22/22 [==============================] - 15s 670ms/step - loss: 0.2467 - accuracy: 0.8925 - val_loss: 0.2640 - val_accuracy: 0.9006\n",
            "Epoch 49/200\n",
            "22/22 [==============================] - 15s 684ms/step - loss: 0.2480 - accuracy: 0.8933 - val_loss: 0.2647 - val_accuracy: 0.9064\n",
            "Epoch 50/200\n",
            "22/22 [==============================] - 15s 688ms/step - loss: 0.2459 - accuracy: 0.8940 - val_loss: 0.2672 - val_accuracy: 0.9064\n",
            "Epoch 51/200\n",
            "22/22 [==============================] - 15s 674ms/step - loss: 0.2433 - accuracy: 0.8940 - val_loss: 0.2633 - val_accuracy: 0.9064\n",
            "Epoch 52/200\n",
            "22/22 [==============================] - 15s 674ms/step - loss: 0.2463 - accuracy: 0.8940 - val_loss: 0.2647 - val_accuracy: 0.9064\n",
            "Epoch 53/200\n",
            "22/22 [==============================] - 15s 682ms/step - loss: 0.2443 - accuracy: 0.8933 - val_loss: 0.2682 - val_accuracy: 0.9035\n",
            "Epoch 54/200\n",
            "22/22 [==============================] - 15s 692ms/step - loss: 0.2425 - accuracy: 0.8940 - val_loss: 0.2658 - val_accuracy: 0.9035\n",
            "Epoch 55/200\n",
            "22/22 [==============================] - 15s 674ms/step - loss: 0.2467 - accuracy: 0.8933 - val_loss: 0.2676 - val_accuracy: 0.9035\n",
            "Epoch 56/200\n",
            "22/22 [==============================] - 15s 676ms/step - loss: 0.2458 - accuracy: 0.8918 - val_loss: 0.2660 - val_accuracy: 0.9064\n",
            "Epoch 57/200\n",
            "22/22 [==============================] - 15s 675ms/step - loss: 0.2436 - accuracy: 0.8940 - val_loss: 0.2656 - val_accuracy: 0.9064\n",
            "Epoch 58/200\n",
            "22/22 [==============================] - 15s 673ms/step - loss: 0.2471 - accuracy: 0.8918 - val_loss: 0.2650 - val_accuracy: 0.9064\n",
            "Epoch 59/200\n",
            "22/22 [==============================] - 15s 674ms/step - loss: 0.2440 - accuracy: 0.8933 - val_loss: 0.2668 - val_accuracy: 0.9064\n",
            "Epoch 60/200\n",
            "22/22 [==============================] - 15s 669ms/step - loss: 0.2432 - accuracy: 0.8933 - val_loss: 0.2652 - val_accuracy: 0.9006\n",
            "Epoch 61/200\n",
            "22/22 [==============================] - 15s 675ms/step - loss: 0.2490 - accuracy: 0.8918 - val_loss: 0.2684 - val_accuracy: 0.9064\n",
            "Epoch 62/200\n",
            "22/22 [==============================] - 15s 676ms/step - loss: 0.2506 - accuracy: 0.8918 - val_loss: 0.2615 - val_accuracy: 0.9064\n",
            "Epoch 63/200\n",
            "22/22 [==============================] - 15s 686ms/step - loss: 0.2481 - accuracy: 0.8933 - val_loss: 0.2686 - val_accuracy: 0.9064\n",
            "Epoch 64/200\n",
            "22/22 [==============================] - 15s 685ms/step - loss: 0.2450 - accuracy: 0.8933 - val_loss: 0.2663 - val_accuracy: 0.9035\n",
            "Epoch 65/200\n",
            "22/22 [==============================] - 15s 672ms/step - loss: 0.2431 - accuracy: 0.8940 - val_loss: 0.2664 - val_accuracy: 0.9035\n",
            "Epoch 66/200\n",
            "22/22 [==============================] - 15s 684ms/step - loss: 0.2452 - accuracy: 0.8933 - val_loss: 0.2653 - val_accuracy: 0.9064\n",
            "Epoch 67/200\n",
            "22/22 [==============================] - 15s 672ms/step - loss: 0.2434 - accuracy: 0.8940 - val_loss: 0.2663 - val_accuracy: 0.9035\n",
            "Epoch 68/200\n",
            "22/22 [==============================] - 15s 672ms/step - loss: 0.2429 - accuracy: 0.8940 - val_loss: 0.2660 - val_accuracy: 0.9035\n",
            "Epoch 69/200\n",
            "22/22 [==============================] - 15s 675ms/step - loss: 0.2424 - accuracy: 0.8933 - val_loss: 0.2677 - val_accuracy: 0.9035\n",
            "Epoch 70/200\n",
            "22/22 [==============================] - 15s 679ms/step - loss: 0.2459 - accuracy: 0.8940 - val_loss: 0.2635 - val_accuracy: 0.9006\n",
            "Epoch 71/200\n",
            "22/22 [==============================] - 15s 674ms/step - loss: 0.2444 - accuracy: 0.8933 - val_loss: 0.2710 - val_accuracy: 0.9006\n",
            "Epoch 72/200\n",
            "22/22 [==============================] - 15s 679ms/step - loss: 0.2417 - accuracy: 0.8947 - val_loss: 0.2675 - val_accuracy: 0.9064\n",
            "Epoch 73/200\n",
            "22/22 [==============================] - 15s 686ms/step - loss: 0.2422 - accuracy: 0.8940 - val_loss: 0.2695 - val_accuracy: 0.9006\n",
            "Epoch 74/200\n",
            "22/22 [==============================] - 15s 688ms/step - loss: 0.2387 - accuracy: 0.8947 - val_loss: 0.2701 - val_accuracy: 0.8977\n",
            "Epoch 75/200\n",
            "22/22 [==============================] - 15s 674ms/step - loss: 0.2435 - accuracy: 0.8940 - val_loss: 0.2707 - val_accuracy: 0.9006\n",
            "Epoch 76/200\n",
            "22/22 [==============================] - 15s 676ms/step - loss: 0.2440 - accuracy: 0.8940 - val_loss: 0.2717 - val_accuracy: 0.8977\n",
            "Epoch 77/200\n",
            "22/22 [==============================] - 15s 673ms/step - loss: 0.2410 - accuracy: 0.8918 - val_loss: 0.2744 - val_accuracy: 0.8977\n",
            "Epoch 78/200\n",
            "22/22 [==============================] - 15s 672ms/step - loss: 0.2420 - accuracy: 0.8933 - val_loss: 0.2660 - val_accuracy: 0.9064\n",
            "Epoch 79/200\n",
            "22/22 [==============================] - 15s 675ms/step - loss: 0.2430 - accuracy: 0.8940 - val_loss: 0.2716 - val_accuracy: 0.9006\n",
            "Epoch 80/200\n",
            "22/22 [==============================] - 15s 673ms/step - loss: 0.2456 - accuracy: 0.8933 - val_loss: 0.2716 - val_accuracy: 0.8977\n",
            "Epoch 81/200\n",
            "22/22 [==============================] - 15s 672ms/step - loss: 0.2472 - accuracy: 0.8933 - val_loss: 0.2721 - val_accuracy: 0.8977\n",
            "Epoch 82/200\n",
            "22/22 [==============================] - 15s 675ms/step - loss: 0.2418 - accuracy: 0.8940 - val_loss: 0.2690 - val_accuracy: 0.8977\n",
            "Epoch 83/200\n",
            "22/22 [==============================] - 15s 670ms/step - loss: 0.2420 - accuracy: 0.8940 - val_loss: 0.2729 - val_accuracy: 0.8977\n",
            "Epoch 84/200\n",
            "22/22 [==============================] - 15s 680ms/step - loss: 0.2391 - accuracy: 0.8940 - val_loss: 0.2706 - val_accuracy: 0.8977\n",
            "Epoch 85/200\n",
            "22/22 [==============================] - 15s 677ms/step - loss: 0.2426 - accuracy: 0.8955 - val_loss: 0.2688 - val_accuracy: 0.8977\n",
            "Epoch 86/200\n",
            "22/22 [==============================] - 15s 672ms/step - loss: 0.2396 - accuracy: 0.8933 - val_loss: 0.2729 - val_accuracy: 0.8977\n",
            "Epoch 87/200\n",
            "22/22 [==============================] - 15s 677ms/step - loss: 0.2389 - accuracy: 0.8940 - val_loss: 0.2722 - val_accuracy: 0.8977\n",
            "Epoch 88/200\n",
            "22/22 [==============================] - 15s 670ms/step - loss: 0.2400 - accuracy: 0.8925 - val_loss: 0.2724 - val_accuracy: 0.8977\n",
            "Epoch 89/200\n",
            "22/22 [==============================] - 15s 676ms/step - loss: 0.2394 - accuracy: 0.8955 - val_loss: 0.2770 - val_accuracy: 0.8977\n",
            "Epoch 90/200\n",
            "22/22 [==============================] - 15s 662ms/step - loss: 0.2398 - accuracy: 0.8940 - val_loss: 0.2738 - val_accuracy: 0.8977\n",
            "Epoch 91/200\n",
            "22/22 [==============================] - 15s 682ms/step - loss: 0.2390 - accuracy: 0.8940 - val_loss: 0.2749 - val_accuracy: 0.8977\n",
            "Epoch 92/200\n",
            "22/22 [==============================] - 15s 676ms/step - loss: 0.2396 - accuracy: 0.8933 - val_loss: 0.2782 - val_accuracy: 0.8977\n",
            "Epoch 93/200\n",
            "22/22 [==============================] - 15s 674ms/step - loss: 0.2409 - accuracy: 0.8933 - val_loss: 0.2722 - val_accuracy: 0.9006\n",
            "Epoch 94/200\n",
            "22/22 [==============================] - 15s 680ms/step - loss: 0.2379 - accuracy: 0.8955 - val_loss: 0.2774 - val_accuracy: 0.9064\n",
            "Epoch 95/200\n",
            "22/22 [==============================] - 15s 674ms/step - loss: 0.2419 - accuracy: 0.8947 - val_loss: 0.2765 - val_accuracy: 0.8977\n",
            "Epoch 96/200\n",
            "22/22 [==============================] - 15s 673ms/step - loss: 0.2400 - accuracy: 0.8947 - val_loss: 0.2813 - val_accuracy: 0.8977\n",
            "Epoch 97/200\n",
            "22/22 [==============================] - 15s 686ms/step - loss: 0.2350 - accuracy: 0.8940 - val_loss: 0.2766 - val_accuracy: 0.8977\n",
            "Epoch 98/200\n",
            "22/22 [==============================] - 15s 673ms/step - loss: 0.2381 - accuracy: 0.8933 - val_loss: 0.2778 - val_accuracy: 0.8977\n",
            "Epoch 99/200\n",
            "22/22 [==============================] - 15s 679ms/step - loss: 0.2426 - accuracy: 0.8911 - val_loss: 0.2758 - val_accuracy: 0.8977\n",
            "Epoch 100/200\n",
            "22/22 [==============================] - 15s 670ms/step - loss: 0.2407 - accuracy: 0.8955 - val_loss: 0.2749 - val_accuracy: 0.9006\n",
            "Epoch 101/200\n",
            "22/22 [==============================] - 15s 672ms/step - loss: 0.2387 - accuracy: 0.8947 - val_loss: 0.2781 - val_accuracy: 0.8977\n",
            "Epoch 102/200\n",
            "22/22 [==============================] - 15s 673ms/step - loss: 0.2382 - accuracy: 0.8933 - val_loss: 0.2726 - val_accuracy: 0.8977\n",
            "Epoch 103/200\n",
            "22/22 [==============================] - 15s 691ms/step - loss: 0.2371 - accuracy: 0.8955 - val_loss: 0.2761 - val_accuracy: 0.8977\n",
            "Epoch 104/200\n",
            "22/22 [==============================] - 15s 681ms/step - loss: 0.2390 - accuracy: 0.8933 - val_loss: 0.2796 - val_accuracy: 0.8977\n",
            "Epoch 105/200\n",
            "22/22 [==============================] - 15s 676ms/step - loss: 0.2388 - accuracy: 0.8940 - val_loss: 0.2798 - val_accuracy: 0.8977\n",
            "Epoch 106/200\n",
            "22/22 [==============================] - 15s 667ms/step - loss: 0.2375 - accuracy: 0.8947 - val_loss: 0.2789 - val_accuracy: 0.8977\n",
            "Epoch 107/200\n",
            "22/22 [==============================] - 15s 671ms/step - loss: 0.2366 - accuracy: 0.8940 - val_loss: 0.2752 - val_accuracy: 0.9006\n",
            "Epoch 108/200\n",
            "22/22 [==============================] - 15s 679ms/step - loss: 0.2349 - accuracy: 0.8940 - val_loss: 0.2847 - val_accuracy: 0.8947\n",
            "Epoch 109/200\n",
            "22/22 [==============================] - 15s 677ms/step - loss: 0.2385 - accuracy: 0.8933 - val_loss: 0.2763 - val_accuracy: 0.8977\n",
            "Epoch 110/200\n",
            "22/22 [==============================] - 15s 678ms/step - loss: 0.2400 - accuracy: 0.8918 - val_loss: 0.2788 - val_accuracy: 0.8977\n",
            "Epoch 111/200\n",
            "22/22 [==============================] - 15s 670ms/step - loss: 0.2383 - accuracy: 0.8947 - val_loss: 0.2752 - val_accuracy: 0.8977\n",
            "Epoch 112/200\n",
            "22/22 [==============================] - 15s 674ms/step - loss: 0.2395 - accuracy: 0.8940 - val_loss: 0.2772 - val_accuracy: 0.8977\n",
            "Epoch 113/200\n",
            "22/22 [==============================] - 15s 670ms/step - loss: 0.2402 - accuracy: 0.8940 - val_loss: 0.2741 - val_accuracy: 0.8977\n",
            "Epoch 114/200\n",
            "22/22 [==============================] - 15s 676ms/step - loss: 0.2399 - accuracy: 0.8947 - val_loss: 0.2789 - val_accuracy: 0.8977\n",
            "Epoch 115/200\n",
            "22/22 [==============================] - 15s 670ms/step - loss: 0.2375 - accuracy: 0.8947 - val_loss: 0.2807 - val_accuracy: 0.8977\n",
            "Epoch 116/200\n",
            "22/22 [==============================] - 15s 676ms/step - loss: 0.2381 - accuracy: 0.8947 - val_loss: 0.2738 - val_accuracy: 0.8977\n",
            "Epoch 117/200\n",
            "22/22 [==============================] - 15s 678ms/step - loss: 0.2371 - accuracy: 0.8947 - val_loss: 0.2755 - val_accuracy: 0.8977\n",
            "Epoch 118/200\n",
            "22/22 [==============================] - 15s 686ms/step - loss: 0.2335 - accuracy: 0.8947 - val_loss: 0.2776 - val_accuracy: 0.8977\n",
            "Epoch 119/200\n",
            "22/22 [==============================] - 15s 679ms/step - loss: 0.2356 - accuracy: 0.8955 - val_loss: 0.2765 - val_accuracy: 0.9006\n",
            "Epoch 120/200\n",
            "22/22 [==============================] - 15s 680ms/step - loss: 0.2359 - accuracy: 0.8940 - val_loss: 0.2857 - val_accuracy: 0.8977\n",
            "Epoch 121/200\n",
            "22/22 [==============================] - 15s 664ms/step - loss: 0.2345 - accuracy: 0.8940 - val_loss: 0.2801 - val_accuracy: 0.8977\n",
            "Epoch 122/200\n",
            "22/22 [==============================] - 15s 670ms/step - loss: 0.2370 - accuracy: 0.8933 - val_loss: 0.2805 - val_accuracy: 0.8977\n",
            "Epoch 123/200\n",
            "22/22 [==============================] - 15s 666ms/step - loss: 0.2305 - accuracy: 0.8947 - val_loss: 0.2824 - val_accuracy: 0.8947\n",
            "Epoch 124/200\n",
            "22/22 [==============================] - 15s 683ms/step - loss: 0.2352 - accuracy: 0.8962 - val_loss: 0.2787 - val_accuracy: 0.8977\n",
            "Epoch 125/200\n",
            "22/22 [==============================] - 15s 679ms/step - loss: 0.2341 - accuracy: 0.8940 - val_loss: 0.2812 - val_accuracy: 0.8977\n",
            "Epoch 126/200\n",
            "22/22 [==============================] - 15s 685ms/step - loss: 0.2324 - accuracy: 0.8933 - val_loss: 0.2781 - val_accuracy: 0.8977\n",
            "Epoch 127/200\n",
            "22/22 [==============================] - 15s 674ms/step - loss: 0.2384 - accuracy: 0.8940 - val_loss: 0.2744 - val_accuracy: 0.8977\n",
            "Epoch 128/200\n",
            "22/22 [==============================] - 15s 683ms/step - loss: 0.2343 - accuracy: 0.8940 - val_loss: 0.2790 - val_accuracy: 0.8977\n",
            "Epoch 129/200\n",
            "22/22 [==============================] - 15s 670ms/step - loss: 0.2360 - accuracy: 0.8925 - val_loss: 0.2786 - val_accuracy: 0.8977\n",
            "Epoch 130/200\n",
            "22/22 [==============================] - 15s 670ms/step - loss: 0.2345 - accuracy: 0.8947 - val_loss: 0.2824 - val_accuracy: 0.8977\n",
            "Epoch 131/200\n",
            "22/22 [==============================] - 15s 677ms/step - loss: 0.2363 - accuracy: 0.8940 - val_loss: 0.2792 - val_accuracy: 0.8977\n",
            "Epoch 132/200\n",
            "22/22 [==============================] - 15s 684ms/step - loss: 0.2359 - accuracy: 0.8947 - val_loss: 0.2787 - val_accuracy: 0.8977\n",
            "Epoch 133/200\n",
            "22/22 [==============================] - 15s 673ms/step - loss: 0.2328 - accuracy: 0.8940 - val_loss: 0.2813 - val_accuracy: 0.8977\n",
            "Epoch 134/200\n",
            "22/22 [==============================] - 15s 683ms/step - loss: 0.2338 - accuracy: 0.8947 - val_loss: 0.2856 - val_accuracy: 0.8918\n",
            "Epoch 135/200\n",
            "22/22 [==============================] - 15s 673ms/step - loss: 0.2307 - accuracy: 0.8933 - val_loss: 0.2790 - val_accuracy: 0.8977\n",
            "Epoch 136/200\n",
            "22/22 [==============================] - 15s 674ms/step - loss: 0.2337 - accuracy: 0.8933 - val_loss: 0.2835 - val_accuracy: 0.8918\n",
            "Epoch 137/200\n",
            "22/22 [==============================] - 15s 673ms/step - loss: 0.2356 - accuracy: 0.8955 - val_loss: 0.2718 - val_accuracy: 0.8977\n",
            "Epoch 138/200\n",
            "22/22 [==============================] - 15s 673ms/step - loss: 0.2300 - accuracy: 0.8918 - val_loss: 0.2796 - val_accuracy: 0.8977\n",
            "Epoch 139/200\n",
            "22/22 [==============================] - 15s 683ms/step - loss: 0.2323 - accuracy: 0.8933 - val_loss: 0.2845 - val_accuracy: 0.8918\n",
            "Epoch 140/200\n",
            "22/22 [==============================] - 15s 669ms/step - loss: 0.2336 - accuracy: 0.8962 - val_loss: 0.2815 - val_accuracy: 0.8977\n",
            "Epoch 141/200\n",
            "22/22 [==============================] - 15s 675ms/step - loss: 0.2346 - accuracy: 0.8925 - val_loss: 0.2794 - val_accuracy: 0.8977\n",
            "Epoch 142/200\n",
            "22/22 [==============================] - 15s 668ms/step - loss: 0.2343 - accuracy: 0.8955 - val_loss: 0.2775 - val_accuracy: 0.8977\n",
            "Epoch 143/200\n",
            "22/22 [==============================] - 15s 675ms/step - loss: 0.2311 - accuracy: 0.8955 - val_loss: 0.2828 - val_accuracy: 0.8947\n",
            "Epoch 144/200\n",
            "22/22 [==============================] - 15s 684ms/step - loss: 0.2289 - accuracy: 0.8947 - val_loss: 0.2826 - val_accuracy: 0.8977\n",
            "Epoch 145/200\n",
            "22/22 [==============================] - 15s 673ms/step - loss: 0.2253 - accuracy: 0.8925 - val_loss: 0.2834 - val_accuracy: 0.8918\n",
            "Epoch 146/200\n",
            "22/22 [==============================] - 15s 679ms/step - loss: 0.2324 - accuracy: 0.8962 - val_loss: 0.2863 - val_accuracy: 0.8918\n",
            "Epoch 147/200\n",
            "22/22 [==============================] - 15s 676ms/step - loss: 0.2338 - accuracy: 0.8940 - val_loss: 0.2805 - val_accuracy: 0.8947\n",
            "Epoch 148/200\n",
            "22/22 [==============================] - 15s 676ms/step - loss: 0.2346 - accuracy: 0.8918 - val_loss: 0.2786 - val_accuracy: 0.8977\n",
            "Epoch 149/200\n",
            "22/22 [==============================] - 15s 668ms/step - loss: 0.2367 - accuracy: 0.8940 - val_loss: 0.2747 - val_accuracy: 0.8977\n",
            "Epoch 150/200\n",
            "22/22 [==============================] - 15s 669ms/step - loss: 0.2303 - accuracy: 0.8947 - val_loss: 0.2790 - val_accuracy: 0.8977\n",
            "Epoch 151/200\n",
            "22/22 [==============================] - 15s 669ms/step - loss: 0.2308 - accuracy: 0.8955 - val_loss: 0.2806 - val_accuracy: 0.8947\n",
            "Epoch 152/200\n",
            "22/22 [==============================] - 15s 674ms/step - loss: 0.2287 - accuracy: 0.8955 - val_loss: 0.2831 - val_accuracy: 0.8947\n",
            "Epoch 153/200\n",
            "22/22 [==============================] - 15s 689ms/step - loss: 0.2293 - accuracy: 0.8918 - val_loss: 0.2840 - val_accuracy: 0.8947\n",
            "Epoch 154/200\n",
            "22/22 [==============================] - 15s 665ms/step - loss: 0.2281 - accuracy: 0.8962 - val_loss: 0.2809 - val_accuracy: 0.8977\n",
            "Epoch 155/200\n",
            "22/22 [==============================] - 15s 682ms/step - loss: 0.2356 - accuracy: 0.8940 - val_loss: 0.2841 - val_accuracy: 0.8918\n",
            "Epoch 156/200\n",
            "22/22 [==============================] - 15s 679ms/step - loss: 0.2335 - accuracy: 0.8911 - val_loss: 0.2813 - val_accuracy: 0.8947\n",
            "Epoch 157/200\n",
            "22/22 [==============================] - 15s 669ms/step - loss: 0.2276 - accuracy: 0.8962 - val_loss: 0.2864 - val_accuracy: 0.8889\n",
            "Epoch 158/200\n",
            "22/22 [==============================] - 15s 681ms/step - loss: 0.2286 - accuracy: 0.8955 - val_loss: 0.2872 - val_accuracy: 0.8947\n",
            "Epoch 159/200\n",
            "22/22 [==============================] - 15s 681ms/step - loss: 0.2270 - accuracy: 0.8933 - val_loss: 0.2842 - val_accuracy: 0.8947\n",
            "Epoch 160/200\n",
            "22/22 [==============================] - 15s 679ms/step - loss: 0.2277 - accuracy: 0.8955 - val_loss: 0.2889 - val_accuracy: 0.8918\n",
            "Epoch 161/200\n",
            "22/22 [==============================] - 15s 674ms/step - loss: 0.2290 - accuracy: 0.8969 - val_loss: 0.2856 - val_accuracy: 0.8947\n",
            "Epoch 162/200\n",
            "22/22 [==============================] - 15s 683ms/step - loss: 0.2330 - accuracy: 0.8933 - val_loss: 0.2827 - val_accuracy: 0.8918\n",
            "Epoch 163/200\n",
            "22/22 [==============================] - 15s 679ms/step - loss: 0.2274 - accuracy: 0.8933 - val_loss: 0.2857 - val_accuracy: 0.8918\n",
            "Epoch 164/200\n",
            "22/22 [==============================] - 15s 690ms/step - loss: 0.2296 - accuracy: 0.8947 - val_loss: 0.2893 - val_accuracy: 0.8947\n",
            "Epoch 165/200\n",
            "22/22 [==============================] - 15s 674ms/step - loss: 0.2291 - accuracy: 0.8933 - val_loss: 0.2831 - val_accuracy: 0.8918\n",
            "Epoch 166/200\n",
            "22/22 [==============================] - 15s 681ms/step - loss: 0.2303 - accuracy: 0.8947 - val_loss: 0.2843 - val_accuracy: 0.8918\n",
            "Epoch 167/200\n",
            "22/22 [==============================] - 15s 682ms/step - loss: 0.2245 - accuracy: 0.8991 - val_loss: 0.2828 - val_accuracy: 0.8918\n",
            "Epoch 168/200\n",
            "22/22 [==============================] - 15s 679ms/step - loss: 0.2329 - accuracy: 0.8911 - val_loss: 0.2849 - val_accuracy: 0.8860\n",
            "Epoch 169/200\n",
            "22/22 [==============================] - 15s 675ms/step - loss: 0.2278 - accuracy: 0.8904 - val_loss: 0.2859 - val_accuracy: 0.8918\n",
            "Epoch 170/200\n",
            "22/22 [==============================] - 15s 680ms/step - loss: 0.2277 - accuracy: 0.8933 - val_loss: 0.2921 - val_accuracy: 0.8918\n",
            "Epoch 171/200\n",
            "22/22 [==============================] - 15s 674ms/step - loss: 0.2249 - accuracy: 0.8955 - val_loss: 0.2909 - val_accuracy: 0.8918\n",
            "Epoch 172/200\n",
            "22/22 [==============================] - 15s 674ms/step - loss: 0.2276 - accuracy: 0.8969 - val_loss: 0.2914 - val_accuracy: 0.8830\n",
            "Epoch 173/200\n",
            "22/22 [==============================] - 15s 668ms/step - loss: 0.2237 - accuracy: 0.8991 - val_loss: 0.2901 - val_accuracy: 0.8889\n",
            "Epoch 174/200\n",
            "22/22 [==============================] - 15s 664ms/step - loss: 0.2285 - accuracy: 0.8969 - val_loss: 0.2880 - val_accuracy: 0.8889\n",
            "Epoch 175/200\n",
            "22/22 [==============================] - 15s 675ms/step - loss: 0.2261 - accuracy: 0.8955 - val_loss: 0.2834 - val_accuracy: 0.8918\n",
            "Epoch 176/200\n",
            "22/22 [==============================] - 15s 679ms/step - loss: 0.2261 - accuracy: 0.8977 - val_loss: 0.2965 - val_accuracy: 0.8743\n",
            "Epoch 177/200\n",
            "22/22 [==============================] - 15s 669ms/step - loss: 0.2312 - accuracy: 0.8882 - val_loss: 0.2892 - val_accuracy: 0.8918\n",
            "Epoch 178/200\n",
            "22/22 [==============================] - 15s 676ms/step - loss: 0.2273 - accuracy: 0.8977 - val_loss: 0.2911 - val_accuracy: 0.8860\n",
            "Epoch 179/200\n",
            "22/22 [==============================] - 15s 670ms/step - loss: 0.2265 - accuracy: 0.8918 - val_loss: 0.2966 - val_accuracy: 0.8830\n",
            "Epoch 180/200\n",
            "22/22 [==============================] - 15s 675ms/step - loss: 0.2287 - accuracy: 0.8933 - val_loss: 0.2867 - val_accuracy: 0.8860\n",
            "Epoch 181/200\n",
            "22/22 [==============================] - 15s 675ms/step - loss: 0.2237 - accuracy: 0.8955 - val_loss: 0.2878 - val_accuracy: 0.8889\n",
            "Epoch 182/200\n",
            "22/22 [==============================] - 15s 666ms/step - loss: 0.2249 - accuracy: 0.8977 - val_loss: 0.2905 - val_accuracy: 0.8860\n",
            "Epoch 183/200\n",
            "22/22 [==============================] - 15s 669ms/step - loss: 0.2311 - accuracy: 0.8955 - val_loss: 0.2911 - val_accuracy: 0.8860\n",
            "Epoch 184/200\n",
            "22/22 [==============================] - 15s 662ms/step - loss: 0.2274 - accuracy: 0.8896 - val_loss: 0.2858 - val_accuracy: 0.8947\n",
            "Epoch 185/200\n",
            "22/22 [==============================] - 15s 677ms/step - loss: 0.2268 - accuracy: 0.8947 - val_loss: 0.2899 - val_accuracy: 0.8918\n",
            "Epoch 186/200\n",
            "22/22 [==============================] - 15s 679ms/step - loss: 0.2269 - accuracy: 0.8940 - val_loss: 0.2851 - val_accuracy: 0.8918\n",
            "Epoch 187/200\n",
            "22/22 [==============================] - 15s 677ms/step - loss: 0.2248 - accuracy: 0.8969 - val_loss: 0.2867 - val_accuracy: 0.8918\n",
            "Epoch 188/200\n",
            "22/22 [==============================] - 15s 678ms/step - loss: 0.2282 - accuracy: 0.8933 - val_loss: 0.2868 - val_accuracy: 0.8860\n",
            "Epoch 189/200\n",
            "22/22 [==============================] - 15s 682ms/step - loss: 0.2232 - accuracy: 0.8955 - val_loss: 0.2894 - val_accuracy: 0.8860\n",
            "Epoch 190/200\n",
            "22/22 [==============================] - 15s 671ms/step - loss: 0.2262 - accuracy: 0.8925 - val_loss: 0.2893 - val_accuracy: 0.8918\n",
            "Epoch 191/200\n",
            "22/22 [==============================] - 15s 670ms/step - loss: 0.2271 - accuracy: 0.8940 - val_loss: 0.2916 - val_accuracy: 0.8918\n",
            "Epoch 192/200\n",
            "22/22 [==============================] - 15s 679ms/step - loss: 0.2232 - accuracy: 0.8969 - val_loss: 0.2849 - val_accuracy: 0.8947\n",
            "Epoch 193/200\n",
            "22/22 [==============================] - 15s 667ms/step - loss: 0.2288 - accuracy: 0.8955 - val_loss: 0.2879 - val_accuracy: 0.8830\n",
            "Epoch 194/200\n",
            "22/22 [==============================] - 15s 674ms/step - loss: 0.2268 - accuracy: 0.8969 - val_loss: 0.2890 - val_accuracy: 0.8918\n",
            "Epoch 195/200\n",
            "22/22 [==============================] - 15s 681ms/step - loss: 0.2263 - accuracy: 0.8969 - val_loss: 0.2899 - val_accuracy: 0.8918\n",
            "Epoch 196/200\n",
            "22/22 [==============================] - 15s 665ms/step - loss: 0.2245 - accuracy: 0.8969 - val_loss: 0.2929 - val_accuracy: 0.8889\n",
            "Epoch 197/200\n",
            "22/22 [==============================] - 15s 681ms/step - loss: 0.2224 - accuracy: 0.8984 - val_loss: 0.2982 - val_accuracy: 0.8889\n",
            "Epoch 198/200\n",
            "22/22 [==============================] - 15s 667ms/step - loss: 0.2251 - accuracy: 0.8933 - val_loss: 0.2890 - val_accuracy: 0.8918\n",
            "Epoch 199/200\n",
            "22/22 [==============================] - 15s 677ms/step - loss: 0.2249 - accuracy: 0.8940 - val_loss: 0.2946 - val_accuracy: 0.8772\n",
            "Epoch 200/200\n",
            "22/22 [==============================] - 15s 668ms/step - loss: 0.2227 - accuracy: 0.8977 - val_loss: 0.2951 - val_accuracy: 0.8889\n",
            "Accuracy: 88.89%\n"
          ]
        }
      ],
      "source": [
        "import tensorflow as tf\n",
        "# from tensorflow.keras.datasets import imdb\n",
        "from tensorflow.keras.models import Sequential\n",
        "from tensorflow.keras.layers import Dense\n",
        "from tensorflow.keras.layers import LSTM\n",
        "from tensorflow.keras.layers import Embedding\n",
        "from tensorflow.keras.preprocessing import sequence\n",
        "# fix random seed for reproducibility\n",
        "tf.random.set_seed(9)\n",
        "# load the dataset but only keep the top sensordata words, zero the rest\n",
        "sensordata_length = 2376\n",
        "# (X_train, y_train), (X_test, y_test) = imdb.load_data(num_words=top_words)\n",
        "# truncate and pad input sequences\n",
        "max_review_length = 237\n",
        "X_train = sequence.pad_sequences(X_train, maxlen=max_review_length)\n",
        "X_valid = sequence.pad_sequences(X_valid, maxlen=max_review_length)\n",
        "# create the model\n",
        "embedding_vecor_length = 32\n",
        "model = Sequential()\n",
        "model.add(Embedding(sensordata_length, embedding_vecor_length, input_length=max_review_length))\n",
        "model.add(LSTM(100, dropout=0.2, recurrent_dropout=0.2)) #Reduce Overfitting With Dropout Regularization \n",
        "model.add(Dense(1, activation='sigmoid'))\n",
        "model.compile(loss='binary_crossentropy', optimizer='adam', metrics=['accuracy'])\n",
        "print(model.summary())\n",
        "history = model.fit(X_train, y_train, validation_data=(X_valid, y_valid), epochs=200, batch_size=64)\n",
        "# print accuracy \n",
        "scores = model.evaluate(X_valid, y_valid, verbose=0)\n",
        "print(\"Accuracy: %.2f%%\" % (scores[1]*100))"
      ]
    },
    {
      "cell_type": "markdown",
      "metadata": {
        "id": "iXntwkEPtuc6"
      },
      "source": [
        "### Plot das Ergebnis des Training mit 100 Smart Neuron mit Dropout und reccurent Dropout"
      ]
    },
    {
      "cell_type": "code",
      "execution_count": 102,
      "metadata": {
        "id": "Hww-dQauttv8",
        "colab": {
          "base_uri": "https://localhost:8080/",
          "height": 573
        },
        "outputId": "9647900a-020d-4b71-e4ab-4f1081d20143"
      },
      "outputs": [
        {
          "output_type": "display_data",
          "data": {
            "text/plain": [
              "<Figure size 432x288 with 1 Axes>"
            ],
            "image/png": "[encoded data removed]"
          },
          "metadata": {
            "needs_background": "light"
          }
        },
        {
          "output_type": "display_data",
          "data": {
            "text/plain": [
              "<Figure size 432x288 with 1 Axes>"
            ],
            "image/png": "[encoded data removed]"
          },
          "metadata": {
            "needs_background": "light"
          }
        }
      ],
      "source": [
        "activation = 'sigmoid'\n",
        "loss = 'binary_crossentropy'\n",
        "optimizer = 'Adam'\n",
        "metrics = 'accuracy'\n",
        "regularization = \"dropout, reccurent_dropout\"\n",
        "titledetails =  optimizer, loss, activation, regularization\n",
        "titledetails = (', '.join(titledetails))\n",
        "\n",
        "# Plot training & validation accuracy values\n",
        "plt.plot(history.history['accuracy'])\n",
        "plt.plot(history.history['val_accuracy'])\n",
        "plt.title('accuracy - '+ titledetails)\n",
        "plt.ylabel('Accuracy')\n",
        "plt.xlabel('Epoch')\n",
        "plt.legend(['Train', 'Val'], loc='lower left')\n",
        "plt.show()\n",
        "\n",
        "# Plot training & validation loss values\n",
        "plt.plot(history.history['loss'])\n",
        "plt.plot(history.history['val_loss'])\n",
        "plt.title('Model loss - ' + titledetails)\n",
        "plt.ylabel('Loss')\n",
        "plt.xlabel('Epoch')\n",
        "plt.legend(['Train', 'Val'], loc='upper left')\n",
        "plt.show()"
      ]
    },
    {
      "cell_type": "markdown",
      "metadata": {
        "id": "waR01JkcH6dJ"
      },
      "source": [
        "## Speicherung trainnietes Model"
      ]
    },
    {
      "cell_type": "code",
      "execution_count": 159,
      "metadata": {
        "id": "xnNR3uU6-1tG",
        "colab": {
          "base_uri": "https://localhost:8080/"
        },
        "outputId": "2262e936-7f9b-4f5a-b201-237179abd0d2"
      },
      "outputs": [
        {
          "output_type": "stream",
          "name": "stdout",
          "text": [
            "Saved model to disk\n"
          ]
        }
      ],
      "source": [
        "from tensorflow.keras.models import model_from_yaml, model_from_json\n",
        "\n",
        "#model.save('my_model.h5')  # creates a HDF5 file 'my_model.h5\n",
        "\n",
        "# MODEDL_PATH = '/content/drive/MyDrive/Masterarbeit_2021-2022/models/userRecognitionSensordata.h5'\n",
        "# tf.keras.models.save_model(\n",
        "# model,\n",
        "# MODEDL_PATH,\n",
        "# overwrite=True,\n",
        "# include_optimizer=True,\n",
        "# save_format=None\n",
        "# )\n",
        "\n",
        "\n",
        "# serialize model to JSON\n",
        "model_json = model.to_json()\n",
        "with open(\"model.json\", \"w\") as json_file:\n",
        "    json_file.write(model_json)\n",
        "# serialize weights to HDF5\n",
        "model.save_weights(\"model.h5\")\n",
        "print(\"Saved model to disk\")\n",
        " \n",
        "# load json and create model\n",
        "json_file = open('model.json', 'r')\n",
        "loaded_model_json = json_file.read()\n",
        "json_file.close()\n",
        "# loaded_model = model_from_json(loaded_model_json)\n",
        "# # load weights into new model\n",
        "# loaded_model.load_weights(\"model.h5\")\n",
        "# print(\"Loaded model from disk\")"
      ]
    },
    {
      "cell_type": "code",
      "source": [
        "# # serialize model to YAML\n",
        "# model_yaml = model.to_yaml()\n",
        "# with open(\"model.yaml\", \"w\") as yaml_file:\n",
        "#     yaml_file.write(model_yaml)\n",
        "# # serialize weights to HDF5\n",
        "# model.save_weights(\"model.h5\")\n",
        "# print(\"Saved model to disk\")\n",
        "\n",
        " \n",
        "# # load YAML and create model\n",
        "# yaml_file = open('model.yaml', 'r')\n",
        "# loaded_model_yaml = yaml_file.read()\n",
        "# yaml_file.close()\n",
        "# loaded_model = model_from_yaml(loaded_model_yaml)\n",
        "# # load weights into new model\n",
        "# loaded_model.load_weights(\"model.h5\")\n",
        "# print(\"Loaded model from disk\")\n"
      ],
      "metadata": {
        "id": "aES2N7cNBq-A"
      },
      "execution_count": 120,
      "outputs": []
    },
    {
      "cell_type": "markdown",
      "metadata": {
        "id": "wtD0JB8VrJsc"
      },
      "source": [
        "## Laden trainertes Modell und Ermiitlung des Nutzers"
      ]
    },
    {
      "cell_type": "markdown",
      "metadata": {
        "id": "CgzdgQ3sFTi9"
      },
      "source": [
        "#### Importieren neue Daten untrainieten Datensätze\n",
        "\n",
        "\n",
        "\n"
      ]
    },
    {
      "cell_type": "code",
      "execution_count": 190,
      "metadata": {
        "id": "9ZEUJg3FFSm9"
      },
      "outputs": [],
      "source": [
        "# New_Data_normalUser_RH = \"/content/drive/MyDrive/Masterarbeit_2021-2022/datasets/TestDatasets/SensorTestDatasets.csv\" # Rechte Hand\n",
        "New_Data_normalUser_LH = \"/content/drive/MyDrive/Masterarbeit_2021-2022/datasets/TestDatasets/SensorsDatasets_Test.csv\"  # Linke Hand"
      ]
    },
    {
      "cell_type": "markdown",
      "source": [
        "####So laden Sie ein Keras-Modell.\n",
        "In diesem Fall laden Sie das Modell, fassen die Architektur zusammen und werten es auf demselben Datensatz aus, um zu bestätigen, dass die Gewichte und die Architektur identisch sind."
      ],
      "metadata": {
        "id": "aXbbJY-eNGQJ"
      }
    },
    {
      "cell_type": "code",
      "execution_count": 162,
      "metadata": {
        "id": "usXv4JZECSXU",
        "colab": {
          "base_uri": "https://localhost:8080/"
        },
        "outputId": "ff429b9f-4290-42d9-cf44-1c53ead5d7dd"
      },
      "outputs": [
        {
          "output_type": "stream",
          "name": "stderr",
          "text": [
            "WARNING:tensorflow:Layer lstm will not use cuDNN kernels since it doesn't meet the criteria. It will use a generic GPU kernel as fallback when running on GPU.\n"
          ]
        },
        {
          "output_type": "stream",
          "name": "stdout",
          "text": [
            "[[0 0 0 ... 0 0 0]\n",
            " [0 0 0 ... 1 1 1]\n",
            " [0 0 0 ... 0 0 0]\n",
            " ...\n",
            " [0 0 0 ... 0 0 0]\n",
            " [0 0 0 ... 0 0 0]\n",
            " [0 0 0 ... 0 0 0]]\n",
            "[1 1 1 0 1 1 1 0 1 1 0 1 0 1 1 1 1 0 1 0 1 1 1 0 0 0 1 0 0 1 0 1 0 1 1 0 1\n",
            " 1 0 1 1 1 1 1 1 0 0 1 0 1 0 1 1 0 0 1 0 1 0 0 0 1 1 1 1 1 1 1 1 0 0 0 0 0\n",
            " 0 0 1 0 1 0 1 1 1 0 1 1 1 1 1 1 1 0 0 0 0 0 0 0 0 1 1 0 0 0 1 1 1 0 1 0 1\n",
            " 1 0 1 0 1 1 1 0 1 0 0 0 0 0 0 0 1 1 1 1 1 1 0 1 1 1 0 1 0 1 1 0 1 1 1 1 1\n",
            " 0 1 0 1 0 1 1 0 1 0 1 1 1 1 1 0 0 1 1 1 0 1 1 1 1 1 0 1 0 1 1 0 1 1 0 1 1\n",
            " 1 1 1 1 1 1 0 1 1 0 0 1 1 0 1 0 1 1 1 0 0 1 0 1 1 1 1 0 0 1 1 0 1 1 1 0 1\n",
            " 1 1 0 0 1 0 1 1 1 1 1 1 1 0 0 0 1 0 1 1 1 0 1 0 1 1 1 0 1 1 0 1 1 0 0 1 0\n",
            " 1 0 1 1 0 1 0 1 1 1 0 1 1 1 0 1 1 1 0 0 0 0 1 1 1 0 1 1 1 1 1 0 0 0 1 1 0\n",
            " 1 0 0 0 0 0 1 1 1 1 0 1 1 0 1 1 1 1 1 1 1 1 0 1 0 0 0 1 0 0 0 1 0 1 0 1 1\n",
            " 1 1 1 1 1 1 1 0 0]\n",
            "Loaded model from disk\n",
            "Model: \"sequential\"\n",
            "_________________________________________________________________\n",
            " Layer (type)                Output Shape              Param #   \n",
            "=================================================================\n",
            " embedding (Embedding)       (None, 237, 32)           76032     \n",
            "                                                                 \n",
            " lstm (LSTM)                 (None, 100)               53200     \n",
            "                                                                 \n",
            " dense (Dense)               (None, 1)                 101       \n",
            "                                                                 \n",
            "=================================================================\n",
            "Total params: 129,333\n",
            "Trainable params: 129,333\n",
            "Non-trainable params: 0\n",
            "_________________________________________________________________\n",
            "accuracy: 88.89%\n"
          ]
        }
      ],
      "source": [
        "from sklearn.pipeline import Pipeline\n",
        "from sklearn.preprocessing import StandardScaler\n",
        "from sklearn import preprocessing\n",
        "from sklearn.impute import SimpleImputer\n",
        "\n",
        "\n",
        "print(X_valid)\n",
        "print(y_valid)\n",
        "# # fix random seed for reproducibility\n",
        "tf.random.set_seed(9)\n",
        "# load the dataset but only keep the top sensordata words, zero the rest\n",
        "sensordata_length = 2376\n",
        "# truncate and pad input sequences\n",
        "max_review_length = 237\n",
        "X_valid = sequence.pad_sequences(X_valid, maxlen=max_review_length)\n",
        "\n",
        "loaded_model = model_from_json(loaded_model_json)\n",
        "# load weights into new model\n",
        "loaded_model.load_weights(\"model.h5\")\n",
        "print(\"Loaded model from disk\")\n",
        "\n",
        "# evaluate loaded model on test data# summarize model.\n",
        "model.summary()\n",
        "loaded_model.compile(loss='binary_crossentropy', optimizer='adam', metrics=['accuracy'])\n",
        "score = loaded_model.evaluate(X_valid, y_valid, verbose=0)\n",
        "print(\"%s: %.2f%%\" % (loaded_model.metrics_names[1], score[1]*100))"
      ]
    },
    {
      "cell_type": "markdown",
      "source": [
        "#### Modell auf neue datensätzen evaluieren"
      ],
      "metadata": {
        "id": "x_hj9WQVLwzx"
      }
    },
    {
      "cell_type": "code",
      "source": [
        "# split into input (X) and output (Y) variables\n",
        "dataset = pd.read_csv(New_Data_normalUser_LH)\n",
        "\n",
        "X = dataset.iloc[:,:9]\n",
        "Y = dataset.iloc[:,-1]\n",
        "print(Y)\n",
        "encoder = preprocessing.LabelEncoder()\n",
        "scaler = preprocessing.StandardScaler().fit(X)\n",
        "# encoding train labels \n",
        "encoder.fit(Y)\n",
        "X_new = scaler.transform(X)\n",
        "Y_new = encoder.transform(Y)\n",
        "# # fix random seed for reproducibility\n",
        "tf.random.set_seed(9)\n",
        "# load the dataset but only keep the top sensordata words, zero the rest\n",
        "sensordata_length = 2376\n",
        "# truncate and pad input sequences\n",
        "max_review_length = 237\n",
        "X_new = sequence.pad_sequences(X_new, maxlen=max_review_length)\n",
        "print(Y_new)\n",
        "loaded_model = model_from_json(loaded_model_json)\n",
        "# load weights into new model\n",
        "loaded_model.load_weights(\"model.h5\")\n",
        "print(\"Loaded model from disk\")\n",
        "\n",
        "# evaluate loaded model on test data# summarize model.\n",
        "model.summary()\n",
        "loaded_model.compile(loss='binary_crossentropy', optimizer='adam', metrics=['accuracy'])\n",
        "score = loaded_model.evaluate(X_new, Y_new, verbose=0)\n",
        "print(\"%s: %.2f%%\" % (loaded_model.metrics_names[1], score[1]*100))"
      ],
      "metadata": {
        "colab": {
          "base_uri": "https://localhost:8080/"
        },
        "id": "MJBrRVgfLwMT",
        "outputId": "142cec67-9049-4975-dbb3-d4bf69779ff2"
      },
      "execution_count": 192,
      "outputs": [
        {
          "output_type": "stream",
          "name": "stderr",
          "text": [
            "WARNING:tensorflow:Layer lstm will not use cuDNN kernels since it doesn't meet the criteria. It will use a generic GPU kernel as fallback when running on GPU.\n"
          ]
        },
        {
          "output_type": "stream",
          "name": "stdout",
          "text": [
            "0         legitimeruser\n",
            "1         legitimeruser\n",
            "2         legitimeruser\n",
            "3         legitimeruser\n",
            "4         legitimeruser\n",
            "             ...       \n",
            "1185    illegitimeruser\n",
            "1186    illegitimeruser\n",
            "1187    illegitimeruser\n",
            "1188    illegitimeruser\n",
            "1189    illegitimeruser\n",
            "Name: classes, Length: 1190, dtype: object\n",
            "[1 1 1 ... 0 0 0]\n",
            "Loaded model from disk\n",
            "Model: \"sequential\"\n",
            "_________________________________________________________________\n",
            " Layer (type)                Output Shape              Param #   \n",
            "=================================================================\n",
            " embedding (Embedding)       (None, 237, 32)           76032     \n",
            "                                                                 \n",
            " lstm (LSTM)                 (None, 100)               53200     \n",
            "                                                                 \n",
            " dense (Dense)               (None, 1)                 101       \n",
            "                                                                 \n",
            "=================================================================\n",
            "Total params: 129,333\n",
            "Trainable params: 129,333\n",
            "Non-trainable params: 0\n",
            "_________________________________________________________________\n",
            "accuracy: 53.19%\n"
          ]
        }
      ]
    },
    {
      "cell_type": "markdown",
      "metadata": {
        "id": "KaGMhqCQwHcL"
      },
      "source": [
        "### Verkettung von untrainieten Daten "
      ]
    },
    {
      "cell_type": "markdown",
      "metadata": {
        "id": "TSSdkXF2DULD"
      },
      "source": [
        "#### Daten vorverarbeiten"
      ]
    },
    {
      "cell_type": "code",
      "execution_count": null,
      "metadata": {
        "id": "5H8PiNn9DH8o"
      },
      "outputs": [],
      "source": [
        "# # Extraktion der Sensordaten Normal User\n",
        "# X_NU = df_sensordata_new\n",
        "# X_NU = pd.DataFrame(X_NU)\n",
        "# # Konvertierung der Datensätze in float\n",
        "# X_NU = X_NU.astype(float)\n",
        "# # Scaling the feature \n",
        "# # from sklearn.preprocessing import StandardScaler\n",
        "# # scaler = StandardScaler()\n",
        "# # X_NU = scaler.fit_transform(X_NU)\n",
        "# X_NU\n",
        "# # Convert all columns to floats"
      ]
    },
    {
      "cell_type": "code",
      "execution_count": null,
      "metadata": {
        "id": "XW2c3NQ64o7t"
      },
      "outputs": [],
      "source": [
        "# fix random seed for reproducibility\n",
        "tf.random.set_seed(9)\n",
        "# load the dataset but only keep the top sensordata words, zero the rest\n",
        "sensordata_length = 2376\n",
        "# (X_train, y_train), (X_test, y_test) = imdb.load_data(num_words=top_words)\n",
        "# truncate and pad input sequences\n",
        "max_review_length = 237\n",
        "x_train = sequence.pad_sequences(X_train, maxlen=max_review_length)\n",
        "x_valid = sequence.pad_sequences(X_valid, maxlen=max_review_length)"
      ]
    },
    {
      "cell_type": "markdown",
      "metadata": {
        "id": "6oTmJa-hwZCP"
      },
      "source": [
        "#### Import untrainnieten Datensätze legitimer User"
      ]
    },
    {
      "cell_type": "code",
      "execution_count": null,
      "metadata": {
        "id": "MCIDvq6Mxsn7"
      },
      "outputs": [],
      "source": [
        "def concatenateSensorsData_nU(dataPath):\n",
        "    #global df_GyroSensors\n",
        "    sensors_files = glob.glob(dataPath + \"*.csv\")\n",
        "    for filename in os.listdir(dataPath):\n",
        "        sensor_file = os.sep.join([dataPath, filename])\n",
        "        basename = os.path.basename(sensor_file)\n",
        "        if  basename == \"SensorDataAccel.csv\":\n",
        "            headers = ['Accelerometer_X', 'Accelerometer_Y', 'Accelerometer_Z', 'Timestamps']\n",
        "            # read_csv as pandas data frame\n",
        "            df_AccelSensors = pd.read_csv(sensor_file, names=headers)\n",
        "            #  add the features classes of the sensors_files\n",
        "            #df_AccelSensors['classes'] = pd.Series([classes for x in range(len(df_AccelSensors.index))])\n",
        "            # print(df_AccelSensors.head(10))\n",
        "\n",
        "        if  basename == \"SensorDataGrav.csv\":\n",
        "            #print(sensor_file)\n",
        "            headers = ['Gravity_X', 'Gravity_Y', 'Gravity_Z', 'Timestamps']\n",
        "            # read_csv as pandas data frame\n",
        "            df_GravSensors = pd.read_csv( sensor_file, names=headers)\n",
        "            #  add the features classes of the sensors_files\n",
        "            #df_GravSensors['classes'] = pd.Series([classes for x in range(len(df_GravSensors.index))])\n",
        "            #print(df_GravSensors.head(10))\n",
        "\n",
        "        if  basename == \"SensorDataGyros.csv\":\n",
        "            #print(sensor_file)\n",
        "            headers = ['Gyroscope_X', 'Gyroscope_Y', 'Gyroscope_Z', 'Timestamps']\n",
        "            # read_csv as pandas data frame\n",
        "            df_GyroSensors = pd.read_csv( sensor_file, names=headers)\n",
        "            #  add the features classes of the sensors_files\n",
        "            #df_GyroSensors['classes'] = pd.Series([classes for x in range(len(df_GyroSensors.index))])\n",
        "            #print(df_GyroSensors)\n",
        "    df = pd.concat([df_GyroSensors, df_GravSensors, df_AccelSensors], axis=1)\n",
        "    # # Drop duplicate columns\n",
        "    # # Use groupby() to drop duplicate columns\n",
        "    df = df.T.groupby(level=0).first().T\n",
        "    # print(df)\n",
        "    # print(\"len of Data: {}\".format(df.shape))\n",
        "    return  df\n",
        "    #df.to_csv('df_highRiskUsers.csv')\n",
        "    #df.to_csv('df_mediumRiskUsers.csv')\n",
        "    #df.to_csv('df_normalUsers.csv')\n",
        "    \n",
        "df_LH = concatenateSensorsData_nU(New_Data_normalUser_LH)\n",
        "df_RH = concatenateSensorsData_nU(New_Data_normalUser_RH)\n",
        "# Verkettung der Datensätze\n",
        "df_sensordata_new = pd.concat([df_LH, df_RH])\n",
        "df_sensordata_new = df_sensordata_new.iloc[:, :9]\n",
        "df_sensordata_new\n",
        "# X_new = df_sensordata_new.to_numpy()\n",
        "# print(\"Shape zu Beginn:\\t\",X.shape)\n",
        "\n",
        "# im_cols = 9\n",
        "# im_rows = int(X.shape[1] / im_cols)\n",
        "# im_shape = (im_rows, im_cols)\n",
        "# X = X.reshape(X.shape[0], *im_shape)\n",
        "\n",
        "# print(\"Shape nach Umformung:\\t\",X.shape)\n",
        "\n",
        "# # Multiplying arrays\n",
        "# X_new"
      ]
    },
    {
      "cell_type": "markdown",
      "metadata": {
        "id": "596UCtyZL7IP"
      },
      "source": [
        "#### old-Code"
      ]
    },
    {
      "cell_type": "code",
      "execution_count": null,
      "metadata": {
        "id": "76z3drE2K3I-"
      },
      "outputs": [],
      "source": [
        "# # Extraktion der Featuren/Merkmalen aus den Raws daten\n",
        "# all_files_1 = glob.glob(os.path.join(New_Data_normalUser_LH , \"*.csv\"))\n",
        "# li_nU = []\n",
        "# for filename in all_files_1:\n",
        "#     df = pd.read_csv(filename, index_col=None, header=0)\n",
        "#     li_nU.append(df)       \n",
        "# li_nU[0]\n",
        "\n",
        "# all_files_2 = glob.glob(os.path.join(New_Data_normalUser_RH , \"*.csv\"))\n",
        "# re_nU = []\n",
        "# for filename in all_files_2:\n",
        "#     df = pd.read_csv(filename, index_col=None, header=0)\n",
        "#     re_nU.append(df)       \n",
        "# re_nU[1]"
      ]
    },
    {
      "cell_type": "code",
      "execution_count": null,
      "metadata": {
        "id": "QZBxvB_gwFku"
      },
      "outputs": [],
      "source": [
        "# pickled_model = pickle.load(open('model.pkl', 'rb'))\n",
        "# pickled_model.predict(df_sensordata_new)\n",
        "# #  Move Timestamps Column To Be The Last In Pandas\n",
        "# df_nU = df.reindex(columns = [col for col in df.columns if col != 'Timestamps'] + ['Timestamps'])\n",
        "\n",
        "# # Entfernen alle NaN-Werten\n",
        "# df_sensordata_new = df_sensordata_new.fillna(0)\n",
        "# df_sensordata_new.isnull().sum()\n",
        "\n",
        "# # Entfernen unötigen Spalten und reoganisation der Daten satz\n",
        "# df_sensordata_new = df_sensordata_nU.iloc[:, 9:]\n",
        "# df_sensordata_nU\n",
        "# new_cols = ['Accelerometer_X', 'Accelerometer_Y', ' Accelerometer_Z', \n",
        "#        'Gravity_X', 'Gravity_Y', 'Gravity_Z', 'Gyroscope_X', ' Gyroscope_Y',\n",
        "#        'Gyroscope_Z', ' Timestamps']\n",
        "# df_sensordata_nU=df_sensordata_nU.reindex(columns=new_cols)\n"
      ]
    }
  ],
  "metadata": {
    "accelerator": "GPU",
    "colab": {
      "collapsed_sections": [
        "c8_dtEiejJwH",
        "uUePMZK9ALei",
        "tUphymv1Dll9",
        "7iXhLTyGDyVO",
        "HZBcf70qtKF0",
        "EYq1fLMZtc8l",
        "MGN75VhdvZuM",
        "2r-PfeS5LZpj",
        "RM8clvO3erZn",
        "npJ6gD3_i6tB",
        "H_WYODAPfZfd",
        "VFvNzUOI52c8",
        "Tr0fa08Q00Zb",
        "M4qxSTMpxflw",
        "AdEBZqCg70J6",
        "PVFCFc_d6Cqt",
        "OaWREpNL8i-A",
        "ODB8I8dziVjN",
        "Wi9HYIWtiJFk",
        "Xwq2n-TrZ6aT",
        "Mrqqu6k-yzU2",
        "S_WB-rBdWWwM",
        "svNXXOwPzG-M",
        "4Q8x7rjc1fC7",
        "sMJPOKybeQFS",
        "GeosXUYQ8-sR",
        "WyYpQ5S0CubV",
        "lyFsC15KGHv1",
        "AImjQ4ANGsXE",
        "8wWd_6xjHEt0",
        "FfNa2E5Vt2J3",
        "NnXUQpAR7JJs",
        "94sTbFNCrSHl",
        "QVypZ3I_2K-x",
        "eYUVo1GQ2bsm",
        "etVppOWYE_5c",
        "NpQ3n5Fs3fWE",
        "2zcMVWLyG720",
        "vzwhPggs4Qwq",
        "4NeMYMvg8rXU",
        "ALaEzrVI75vl",
        "DFsKqqqM8X0r",
        "alFyE1H382vm",
        "mYort82TOJlW",
        "SSm5Yogg8_72",
        "ZaKncvqzQEiE",
        "imVS7XnW9K4M",
        "IkZYU78X1yX2",
        "OojTsMCT1l7T",
        "x2V0RWxFE5hC",
        "zgtlwgtk7iDX",
        "dedbdUfE7gKo",
        "EptuUbvxp7oQ",
        "XAdyxUxM1rTQ",
        "7miUmLmcLtNw",
        "8mWeF24jMI-c",
        "LLtVOCMS9VqT",
        "v-PYYqvK9uFJ",
        "dkj7Rw-KU0iP",
        "08TMFDIP-Iql",
        "BxHcPJ5o-ctE",
        "RvCf4IZ8nzja",
        "BSeUnrqexbRs",
        "9eePRvhsCTHK",
        "whvJIPOFsGdK",
        "kRoO8NqJ3eT0",
        "6ArfbuwS3mXC",
        "CRJD2mMHsnvl",
        "y6FBRNoes59d",
        "KaGMhqCQwHcL",
        "TSSdkXF2DULD",
        "6oTmJa-hwZCP",
        "596UCtyZL7IP"
      ],
      "provenance": [],
      "mount_file_id": "1W3Eqb6Tw47zmQvdoEMFCDUpFtWDUrgWp",
      "authorship_tag": "ABX9TyM4JXRBR11upsPVVUA5LW3N",
      "include_colab_link": true
    },
    "gpuClass": "premium",
    "kernelspec": {
      "display_name": "Python 3",
      "name": "python3"
    },
    "language_info": {
      "name": "python"
    }
  },
  "nbformat": 4,
  "nbformat_minor": 0
}